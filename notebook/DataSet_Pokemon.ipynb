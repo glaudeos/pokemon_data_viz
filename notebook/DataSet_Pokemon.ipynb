{
 "cells": [
  {
   "cell_type": "markdown",
   "metadata": {
    "slideshow": {
     "slide_type": "slide"
    }
   },
   "source": [
    "<table border=\"0\">\n",
    "    <tr>\n",
    "        <td>\n",
    "            <img src=\"pokemon_logo.png\" style=\"height:300px\">\n",
    "        </td>\n",
    "    </tr>\n",
    "    <tr>\n",
    "        <td style=\"text-align:center;font-weight:bold;\">\n",
    "            BRUNO CESAR DA SILVA - 191214<br/>\n",
    "            LEANDRO DOS SANTOS SCARAZZATO - 191222<br/>\n",
    "            RAFAEL SOUTO RODRIGUES - 080409<br/>\n",
    "        </td>\n",
    "    </tr>\n",
    "</table>"
   ]
  },
  {
   "cell_type": "code",
   "execution_count": 3,
   "metadata": {
    "slideshow": {
     "slide_type": "slide"
    }
   },
   "outputs": [
    {
     "data": {
      "text/html": [
       "        <script type=\"text/javascript\">\n",
       "        window.PlotlyConfig = {MathJaxConfig: 'local'};\n",
       "        if (window.MathJax) {MathJax.Hub.Config({SVG: {font: \"STIX-Web\"}});}\n",
       "        if (typeof require !== 'undefined') {\n",
       "        require.undef(\"plotly\");\n",
       "        requirejs.config({\n",
       "            paths: {\n",
       "                'plotly': ['https://cdn.plot.ly/plotly-latest.min']\n",
       "            }\n",
       "        });\n",
       "        require(['plotly'], function(Plotly) {\n",
       "            window._Plotly = Plotly;\n",
       "        });\n",
       "        }\n",
       "        </script>\n",
       "        "
      ]
     },
     "metadata": {},
     "output_type": "display_data"
    }
   ],
   "source": [
    "# Imports do projeto\n",
    "import os\n",
    "import numpy as np\n",
    "import pandas as pd\n",
    "import matplotlib.pyplot as plt\n",
    "import plotly\n",
    "import plotly.figure_factory as ff\n",
    "import plotly.graph_objs as go\n",
    "import seaborn as sns\n",
    "from IPython.display import HTML\n",
    "from plotly.offline import init_notebook_mode, iplot\n",
    "from multiprocessing import Pool, cpu_count\n",
    "init_notebook_mode(connected=True)"
   ]
  },
  {
   "cell_type": "markdown",
   "metadata": {
    "slideshow": {
     "slide_type": "slide"
    }
   },
   "source": [
    "<table border=\"0\">\n",
    "    <tr>\n",
    "        <td rowspan=\"6\">\n",
    "            <img src=\"pika.gif\">\n",
    "        </td>\n",
    "    </tr>\n",
    "    <tr>\n",
    "        <td style=\"text-align:left\">\n",
    "            <b>O que é Pokémon?</b>\n",
    "        </td>\n",
    "    </tr>\n",
    "    <tr>\n",
    "        <td style=\"text-align:left\">\n",
    "            <ul>\n",
    "                <li>Pokémon (Pocket Monster, Monstros de bolso), franquia de mídia criada por Satoshi Tajiri em 1995.</li>\n",
    "            </ul>    \n",
    "        </td>\n",
    "    </tr>\n",
    "    <tr>\n",
    "        <td style=\"text-align:left\">\n",
    "            <ul>\n",
    "                <li>Começou como um jogo para Game Boy.</li> \n",
    "                <li>Cartas colecionáveis, séries de televisão, filmes, mangás e brinquedos.</li>\n",
    "                <li>Já mandou centenas de crianças e adultos para o hospital com sintomas de convulsão.</li>\n",
    "            </ul>\n",
    "        </td>\n",
    "    </tr>\n",
    "    <tr>\n",
    "        <td style=\"text-align:left\">\n",
    "            <ul>\n",
    "                <li>Segunda franquia de jogos mais lucrativa do mundo.</li>\n",
    "                <li>2013 já tinha acumulado mais de 40 bilhões de dólares ao redor do mundo.</li>\n",
    "            </ul>\n",
    "        </td>\n",
    "    </tr>\n",
    "    <tr>\n",
    "        <td style=\"text-align:left\">\n",
    "            <ul>\n",
    "                <li>O conceito do Pokémon.</li>\n",
    "            </ul>\n",
    "        </td>\n",
    "    </tr>\n",
    "</table>"
   ]
  },
  {
   "cell_type": "markdown",
   "metadata": {
    "slideshow": {
     "slide_type": "slide"
    }
   },
   "source": [
    "<table border=\"0\">\n",
    "    <tr>\n",
    "        <td rowspan=\"6\">\n",
    "            <img src=\"poke_battle.gif\" >\n",
    "        </td>\n",
    "    </tr>\n",
    "    <tr>\n",
    "        <td style=\"text-align:left\">\n",
    "            <b>O campeonato de Pokémon</b>\n",
    "        </td>\n",
    "    </tr>\n",
    "    <tr>\n",
    "        <td style=\"text-align:left\">\n",
    "            <ul>\n",
    "                <li>VGC (Video Game Championship) e TCG (Trading Card Game)</li>\n",
    "            </ul>    \n",
    "        </td>\n",
    "    </tr>\n",
    "    <tr>\n",
    "        <td style=\"text-align:left\">\n",
    "            <ul>\n",
    "                <li><b>VGC</b></li> \n",
    "                <li>Equipe de 6 Pokémon.</li>\n",
    "                <li>Apenas 4 Pokémon na partida.</li>\n",
    "                <li>Melhor de três.</li>\n",
    "            </ul>\n",
    "        </td>\n",
    "    </tr>\n",
    "    <tr>\n",
    "        <td style=\"text-align:left\">\n",
    "            <ul>\n",
    "                <li><b>TCG</b></li> \n",
    "                <li>Deck com 60 cards.</li>\n",
    "                <li>Uma partida.</li>\n",
    "            </ul>\n",
    "        </td>\n",
    "    </tr>\n",
    "    <tr>\n",
    "        <td style=\"text-align:left\">\n",
    "            <ul>\n",
    "                <li>Formato de emparceiramento suíço.</li>\n",
    "            </ul>\n",
    "        </td>\n",
    "    </tr>\n",
    "</table>"
   ]
  },
  {
   "cell_type": "markdown",
   "metadata": {
    "slideshow": {
     "slide_type": "slide"
    }
   },
   "source": [
    "<table border=\"0\">\n",
    "    <tr>\n",
    "        <td rowspan=\"6\">\n",
    "            <img src=\"pokemons.jpg\" >\n",
    "        </td>\n",
    "    </tr>\n",
    "    <tr>\n",
    "        <td colspan=\"2\" style=\"text-align:left\">\n",
    "            <b>O DATASET</b>\n",
    "        </td>\n",
    "    </tr>\n",
    "    <tr>\n",
    "        <td colspan=\"2\" style=\"text-align:left\">\n",
    "            <ul>\n",
    "                <li>O universo Pokémon possui hoje 808 criaturas.</li>\n",
    "                <li>Nosso dataset possui 151 dessas criaturas que são da primeira geração de Pokémon.</li>\n",
    "            </ul>    \n",
    "        </td>\n",
    "    </tr>\n",
    "    <tr>\n",
    "        <td colspan=\"2\" style=\"text-align:left\">\n",
    "            <b>Colunas do dataset</b>\n",
    "        </td>\n",
    "    </tr>\n",
    "    <tr>\n",
    "        <td style=\"text-align:left\">\n",
    "            <ul>\n",
    "                <li>13 colunas</li>\n",
    "                <li>#</li>\n",
    "                <li>Type 1</li>\n",
    "                <li>Type 2</li>\n",
    "                <li>Total</li>\n",
    "                <li>HP</li>\n",
    "                <li>Atack</li>\n",
    "            </ul>\n",
    "            <td style=\"text-align:left\">\n",
    "            <ul>\n",
    "                <li>Defense</li>\n",
    "                <li>Sp. Atk</li>\n",
    "                <li>Sp. Def</li>\n",
    "                <li>Speed</li>\n",
    "                <li>Stage</li>\n",
    "                <li>Legendary</li>\n",
    "            </ul>\n",
    "        </td>\n",
    "    </tr>\n",
    "</table>"
   ]
  },
  {
   "cell_type": "code",
   "execution_count": 12,
   "metadata": {
    "slideshow": {
     "slide_type": "slide"
    }
   },
   "outputs": [
    {
     "data": {
      "text/html": [
       "<div>\n",
       "<style scoped>\n",
       "    .dataframe tbody tr th:only-of-type {\n",
       "        vertical-align: middle;\n",
       "    }\n",
       "\n",
       "    .dataframe tbody tr th {\n",
       "        vertical-align: top;\n",
       "    }\n",
       "\n",
       "    .dataframe thead th {\n",
       "        text-align: right;\n",
       "    }\n",
       "</style>\n",
       "<table border=\"1\" class=\"dataframe\">\n",
       "  <thead>\n",
       "    <tr style=\"text-align: right;\">\n",
       "      <th></th>\n",
       "      <th>#</th>\n",
       "      <th>Name</th>\n",
       "      <th>Type 1</th>\n",
       "      <th>Type 2</th>\n",
       "      <th>Total</th>\n",
       "      <th>HP</th>\n",
       "      <th>Attack</th>\n",
       "      <th>Defense</th>\n",
       "      <th>Sp. Atk</th>\n",
       "      <th>Sp. Def</th>\n",
       "      <th>Speed</th>\n",
       "      <th>Stage</th>\n",
       "      <th>Legendary</th>\n",
       "    </tr>\n",
       "  </thead>\n",
       "  <tbody>\n",
       "    <tr>\n",
       "      <th>0</th>\n",
       "      <td>1</td>\n",
       "      <td>Bulbasaur</td>\n",
       "      <td>Grass</td>\n",
       "      <td>Poison</td>\n",
       "      <td>318</td>\n",
       "      <td>45</td>\n",
       "      <td>49</td>\n",
       "      <td>49</td>\n",
       "      <td>65</td>\n",
       "      <td>65</td>\n",
       "      <td>45</td>\n",
       "      <td>1</td>\n",
       "      <td>False</td>\n",
       "    </tr>\n",
       "    <tr>\n",
       "      <th>1</th>\n",
       "      <td>2</td>\n",
       "      <td>Ivysaur</td>\n",
       "      <td>Grass</td>\n",
       "      <td>Poison</td>\n",
       "      <td>405</td>\n",
       "      <td>60</td>\n",
       "      <td>62</td>\n",
       "      <td>63</td>\n",
       "      <td>80</td>\n",
       "      <td>80</td>\n",
       "      <td>60</td>\n",
       "      <td>2</td>\n",
       "      <td>False</td>\n",
       "    </tr>\n",
       "    <tr>\n",
       "      <th>2</th>\n",
       "      <td>3</td>\n",
       "      <td>Venusaur</td>\n",
       "      <td>Grass</td>\n",
       "      <td>Poison</td>\n",
       "      <td>525</td>\n",
       "      <td>80</td>\n",
       "      <td>82</td>\n",
       "      <td>83</td>\n",
       "      <td>100</td>\n",
       "      <td>100</td>\n",
       "      <td>80</td>\n",
       "      <td>3</td>\n",
       "      <td>False</td>\n",
       "    </tr>\n",
       "    <tr>\n",
       "      <th>3</th>\n",
       "      <td>4</td>\n",
       "      <td>Charmander</td>\n",
       "      <td>Fire</td>\n",
       "      <td>NaN</td>\n",
       "      <td>309</td>\n",
       "      <td>39</td>\n",
       "      <td>52</td>\n",
       "      <td>43</td>\n",
       "      <td>60</td>\n",
       "      <td>50</td>\n",
       "      <td>65</td>\n",
       "      <td>1</td>\n",
       "      <td>False</td>\n",
       "    </tr>\n",
       "    <tr>\n",
       "      <th>4</th>\n",
       "      <td>5</td>\n",
       "      <td>Charmeleon</td>\n",
       "      <td>Fire</td>\n",
       "      <td>NaN</td>\n",
       "      <td>405</td>\n",
       "      <td>58</td>\n",
       "      <td>64</td>\n",
       "      <td>58</td>\n",
       "      <td>80</td>\n",
       "      <td>65</td>\n",
       "      <td>80</td>\n",
       "      <td>2</td>\n",
       "      <td>False</td>\n",
       "    </tr>\n",
       "  </tbody>\n",
       "</table>\n",
       "</div>"
      ],
      "text/plain": [
       "   #        Name Type 1  Type 2  Total  HP  Attack  Defense  Sp. Atk  Sp. Def  \\\n",
       "0  1   Bulbasaur  Grass  Poison    318  45      49       49       65       65   \n",
       "1  2     Ivysaur  Grass  Poison    405  60      62       63       80       80   \n",
       "2  3    Venusaur  Grass  Poison    525  80      82       83      100      100   \n",
       "3  4  Charmander   Fire     NaN    309  39      52       43       60       50   \n",
       "4  5  Charmeleon   Fire     NaN    405  58      64       58       80       65   \n",
       "\n",
       "   Speed  Stage  Legendary  \n",
       "0     45      1      False  \n",
       "1     60      2      False  \n",
       "2     80      3      False  \n",
       "3     65      1      False  \n",
       "4     80      2      False  "
      ]
     },
     "execution_count": 12,
     "metadata": {},
     "output_type": "execute_result"
    }
   ],
   "source": [
    "# Leitura do arquivo de Dataset\n",
    "pokemon = pd.read_csv(r\"C:\\Users\\saorafro\\Desktop\\Pós Graduação\\Visualização de Dados\\pokemon.csv\")\n",
    "pokemon.head()"
   ]
  },
  {
   "cell_type": "markdown",
   "metadata": {
    "slideshow": {
     "slide_type": "slide"
    }
   },
   "source": [
    "<table border=\"0\">\n",
    "    <tr>\n",
    "        <td style=\"text-align:left\">\n",
    "            <b>DATASET DE MOVIMENTOS</b>\n",
    "        </td>\n",
    "    </tr>\n",
    "    <tr>\n",
    "        <td colspan=\"3\" style=\"text-align:left\">\n",
    "            <ul>\n",
    "                <li>Descrição dos movimentos de batalha dos Pokémons</li>\n",
    "                <li>Existem 1090 tipos de movimentos que os Pokémons podem realizar</li>\n",
    "            </ul>    \n",
    "        </td>\n",
    "    </tr>\n",
    "    <tr>\n",
    "        <td colspan=\"3\" style=\"text-align:left\">\n",
    "            <b>Colunas do dataset</b>\n",
    "        </td>\n",
    "    </tr>\n",
    "    <tr>\n",
    "        <td style=\"text-align:left\">\n",
    "            <ul>\n",
    "                <li>move_name</li>\n",
    "                <li>move_url</li>\n",
    "                <li>pokemon</li>\n",
    "                <li>move_accuracy</li>\n",
    "                <li>move_category</li>\n",
    "                <li>move_crit_rate</li>\n",
    "                <li>move_damage_class</li>\n",
    "                <li>move_drain</li>\n",
    "            </ul>\n",
    "        </td>\n",
    "        <td style=\"text-align:left\">\n",
    "            <ul>\n",
    "                <li>move_effect</li>\n",
    "                <li>move_effect_chance</li>\n",
    "                <li>move_flinch_chance</li>\n",
    "                <li>move_healing</li>\n",
    "                <li>move_max_hits</li>\n",
    "                <li>move_max_turns</li>\n",
    "                <li>move_min_hits</li>\n",
    "                <li>move_min_turns</li>\n",
    "            </ul>\n",
    "        </td>\n",
    "        <td style=\"text-align:left\">\n",
    "            <ul>\n",
    "                <li>move_power</li>\n",
    "                <li>move_pp</li>\n",
    "                <li>move_priority</li>\n",
    "                <li>move_stat_chance</li>\n",
    "                <li>move_stat_change</li>\n",
    "                <li>move_stat_change_amount</li>\n",
    "                <li>move_target</li>\n",
    "                <li>move_type</li>\n",
    "            </ul>\n",
    "        </td>\n",
    "    </tr>\n",
    "</table>"
   ]
  },
  {
   "cell_type": "code",
   "execution_count": 13,
   "metadata": {
    "slideshow": {
     "slide_type": "slide"
    }
   },
   "outputs": [
    {
     "data": {
      "text/html": [
       "<div>\n",
       "<style scoped>\n",
       "    .dataframe tbody tr th:only-of-type {\n",
       "        vertical-align: middle;\n",
       "    }\n",
       "\n",
       "    .dataframe tbody tr th {\n",
       "        vertical-align: top;\n",
       "    }\n",
       "\n",
       "    .dataframe thead th {\n",
       "        text-align: right;\n",
       "    }\n",
       "</style>\n",
       "<table border=\"1\" class=\"dataframe\">\n",
       "  <thead>\n",
       "    <tr style=\"text-align: right;\">\n",
       "      <th></th>\n",
       "      <th>move_name</th>\n",
       "      <th>move_url</th>\n",
       "      <th>pokemon</th>\n",
       "      <th>move_accuracy</th>\n",
       "      <th>move_category</th>\n",
       "      <th>move_crit_rate</th>\n",
       "      <th>move_damage_class</th>\n",
       "      <th>move_drain</th>\n",
       "      <th>move_effect</th>\n",
       "      <th>move_effect_chance</th>\n",
       "      <th>...</th>\n",
       "      <th>move_min_hits</th>\n",
       "      <th>move_min_turns</th>\n",
       "      <th>move_power</th>\n",
       "      <th>move_pp</th>\n",
       "      <th>move_priority</th>\n",
       "      <th>move_stat_chance</th>\n",
       "      <th>move_stat_change</th>\n",
       "      <th>move_stat_change_amount</th>\n",
       "      <th>move_target</th>\n",
       "      <th>move_type</th>\n",
       "    </tr>\n",
       "  </thead>\n",
       "  <tbody>\n",
       "    <tr>\n",
       "      <th>0</th>\n",
       "      <td>swords-dance</td>\n",
       "      <td>https://pokeapi.co/api/v2/move/14/</td>\n",
       "      <td>farfetchd</td>\n",
       "      <td>NaN</td>\n",
       "      <td>net-good-stats</td>\n",
       "      <td>0</td>\n",
       "      <td>status</td>\n",
       "      <td>0</td>\n",
       "      <td>Raises the user's Attack by two stages.</td>\n",
       "      <td>NaN</td>\n",
       "      <td>...</td>\n",
       "      <td>NaN</td>\n",
       "      <td>NaN</td>\n",
       "      <td>NaN</td>\n",
       "      <td>20</td>\n",
       "      <td>0</td>\n",
       "      <td>0</td>\n",
       "      <td>attack</td>\n",
       "      <td>2.0</td>\n",
       "      <td>user</td>\n",
       "      <td>normal</td>\n",
       "    </tr>\n",
       "    <tr>\n",
       "      <th>1</th>\n",
       "      <td>swords-dance</td>\n",
       "      <td>https://pokeapi.co/api/v2/move/14/</td>\n",
       "      <td>scyther</td>\n",
       "      <td>NaN</td>\n",
       "      <td>net-good-stats</td>\n",
       "      <td>0</td>\n",
       "      <td>status</td>\n",
       "      <td>0</td>\n",
       "      <td>Raises the user's Attack by two stages.</td>\n",
       "      <td>NaN</td>\n",
       "      <td>...</td>\n",
       "      <td>NaN</td>\n",
       "      <td>NaN</td>\n",
       "      <td>NaN</td>\n",
       "      <td>20</td>\n",
       "      <td>0</td>\n",
       "      <td>0</td>\n",
       "      <td>attack</td>\n",
       "      <td>2.0</td>\n",
       "      <td>user</td>\n",
       "      <td>normal</td>\n",
       "    </tr>\n",
       "    <tr>\n",
       "      <th>2</th>\n",
       "      <td>swords-dance</td>\n",
       "      <td>https://pokeapi.co/api/v2/move/14/</td>\n",
       "      <td>pinsir</td>\n",
       "      <td>NaN</td>\n",
       "      <td>net-good-stats</td>\n",
       "      <td>0</td>\n",
       "      <td>status</td>\n",
       "      <td>0</td>\n",
       "      <td>Raises the user's Attack by two stages.</td>\n",
       "      <td>NaN</td>\n",
       "      <td>...</td>\n",
       "      <td>NaN</td>\n",
       "      <td>NaN</td>\n",
       "      <td>NaN</td>\n",
       "      <td>20</td>\n",
       "      <td>0</td>\n",
       "      <td>0</td>\n",
       "      <td>attack</td>\n",
       "      <td>2.0</td>\n",
       "      <td>user</td>\n",
       "      <td>normal</td>\n",
       "    </tr>\n",
       "    <tr>\n",
       "      <th>3</th>\n",
       "      <td>sand-attack</td>\n",
       "      <td>https://pokeapi.co/api/v2/move/28/</td>\n",
       "      <td>farfetchd</td>\n",
       "      <td>100.0</td>\n",
       "      <td>net-good-stats</td>\n",
       "      <td>0</td>\n",
       "      <td>status</td>\n",
       "      <td>0</td>\n",
       "      <td>Lowers the target's accuracy by one stage.</td>\n",
       "      <td>NaN</td>\n",
       "      <td>...</td>\n",
       "      <td>NaN</td>\n",
       "      <td>NaN</td>\n",
       "      <td>NaN</td>\n",
       "      <td>15</td>\n",
       "      <td>0</td>\n",
       "      <td>0</td>\n",
       "      <td>accuracy</td>\n",
       "      <td>-1.0</td>\n",
       "      <td>selected-pokemon</td>\n",
       "      <td>ground</td>\n",
       "    </tr>\n",
       "    <tr>\n",
       "      <th>4</th>\n",
       "      <td>sand-attack</td>\n",
       "      <td>https://pokeapi.co/api/v2/move/28/</td>\n",
       "      <td>pidgeot</td>\n",
       "      <td>100.0</td>\n",
       "      <td>net-good-stats</td>\n",
       "      <td>0</td>\n",
       "      <td>status</td>\n",
       "      <td>0</td>\n",
       "      <td>Lowers the target's accuracy by one stage.</td>\n",
       "      <td>NaN</td>\n",
       "      <td>...</td>\n",
       "      <td>NaN</td>\n",
       "      <td>NaN</td>\n",
       "      <td>NaN</td>\n",
       "      <td>15</td>\n",
       "      <td>0</td>\n",
       "      <td>0</td>\n",
       "      <td>accuracy</td>\n",
       "      <td>-1.0</td>\n",
       "      <td>selected-pokemon</td>\n",
       "      <td>ground</td>\n",
       "    </tr>\n",
       "  </tbody>\n",
       "</table>\n",
       "<p>5 rows × 24 columns</p>\n",
       "</div>"
      ],
      "text/plain": [
       "      move_name                            move_url    pokemon  move_accuracy  \\\n",
       "0  swords-dance  https://pokeapi.co/api/v2/move/14/  farfetchd            NaN   \n",
       "1  swords-dance  https://pokeapi.co/api/v2/move/14/    scyther            NaN   \n",
       "2  swords-dance  https://pokeapi.co/api/v2/move/14/     pinsir            NaN   \n",
       "3   sand-attack  https://pokeapi.co/api/v2/move/28/  farfetchd          100.0   \n",
       "4   sand-attack  https://pokeapi.co/api/v2/move/28/    pidgeot          100.0   \n",
       "\n",
       "    move_category  move_crit_rate move_damage_class  move_drain  \\\n",
       "0  net-good-stats               0            status           0   \n",
       "1  net-good-stats               0            status           0   \n",
       "2  net-good-stats               0            status           0   \n",
       "3  net-good-stats               0            status           0   \n",
       "4  net-good-stats               0            status           0   \n",
       "\n",
       "                                  move_effect  move_effect_chance  ...  \\\n",
       "0     Raises the user's Attack by two stages.                 NaN  ...   \n",
       "1     Raises the user's Attack by two stages.                 NaN  ...   \n",
       "2     Raises the user's Attack by two stages.                 NaN  ...   \n",
       "3  Lowers the target's accuracy by one stage.                 NaN  ...   \n",
       "4  Lowers the target's accuracy by one stage.                 NaN  ...   \n",
       "\n",
       "   move_min_hits  move_min_turns  move_power  move_pp  move_priority  \\\n",
       "0            NaN             NaN         NaN       20              0   \n",
       "1            NaN             NaN         NaN       20              0   \n",
       "2            NaN             NaN         NaN       20              0   \n",
       "3            NaN             NaN         NaN       15              0   \n",
       "4            NaN             NaN         NaN       15              0   \n",
       "\n",
       "   move_stat_chance  move_stat_change  move_stat_change_amount  \\\n",
       "0                 0            attack                      2.0   \n",
       "1                 0            attack                      2.0   \n",
       "2                 0            attack                      2.0   \n",
       "3                 0          accuracy                     -1.0   \n",
       "4                 0          accuracy                     -1.0   \n",
       "\n",
       "        move_target  move_type  \n",
       "0              user     normal  \n",
       "1              user     normal  \n",
       "2              user     normal  \n",
       "3  selected-pokemon     ground  \n",
       "4  selected-pokemon     ground  \n",
       "\n",
       "[5 rows x 24 columns]"
      ]
     },
     "execution_count": 13,
     "metadata": {},
     "output_type": "execute_result"
    }
   ],
   "source": [
    "moves_df = pd.read_csv(r'C:\\Users\\saorafro\\Desktop\\Pós Graduação\\Visualização de Dados\\data\\pokemon_moves_detailed.csv', encoding='unicode_escape')\n",
    "moves_df.head()"
   ]
  },
  {
   "cell_type": "code",
   "execution_count": 14,
   "metadata": {
    "slideshow": {
     "slide_type": "skip"
    }
   },
   "outputs": [],
   "source": [
    "# Defição das cores dos gráficos por tipo de Pokemon\n",
    "colors = {\n",
    "    \"Bug\": \"#A6B91A\",\n",
    "    \"Dragon\": \"#6F35FC\",\n",
    "    \"Electric\": \"#F7D02C\",\n",
    "    \"Fairy\": \"#D685AD\",\n",
    "    \"Fighting\": \"#C22E28\",\n",
    "    \"Fire\": \"#EE8130\",\n",
    "    \"Flying\": \"#A98FF3\",\n",
    "    \"Ghost\": \"#735797\",\n",
    "    \"Grass\": \"#7AC74C\",\n",
    "    \"Ground\": \"#E2BF65\",\n",
    "    \"Ice\": \"#96D9D6\",\n",
    "    \"Normal\": \"#A8A77A\",\n",
    "    \"Poison\": \"#A33EA1\",\n",
    "    \"Psychic\": \"#F95587\",\n",
    "    \"Rock\": \"#B6A136\",\n",
    "    \"Steel\": \"#B7B7CE\",\n",
    "    \"Water\": \"#6390F0\",\n",
    "}"
   ]
  },
  {
   "cell_type": "markdown",
   "metadata": {
    "slideshow": {
     "slide_type": "slide"
    }
   },
   "source": [
    "# Quantos tipos de Pokémons existem?\n",
    "\n",
    "# Entre todos os tipos, quais tem mais Pokémons?"
   ]
  },
  {
   "cell_type": "code",
   "execution_count": 15,
   "metadata": {
    "scrolled": false,
    "slideshow": {
     "slide_type": "slide"
    }
   },
   "outputs": [],
   "source": [
    "# Visualizar número de pokemons por tipo.\n",
    "def quant_poke_tipo():    \n",
    "    types1 = pokemon.groupby(['Type 1'])['#'].count()\n",
    "    types2 = pokemon.groupby(['Type 2'])['#'].count()\n",
    "    types = types1.add(types2, fill_value=0)\n",
    "    types_name = list(types.keys())\n",
    "    sortx = [x for _,x in sorted(zip(types.values, types_name))]\n",
    "    sorty = sorted(types.values)\n",
    "    cor_tipo = []\n",
    "    for tipo in sortx:\n",
    "        cor_tipo.append(colors[tipo])\n",
    "    data = go.Bar(x=sortx, y=sorty, marker=dict(color=cor_tipo), name=\"{}\".format(types_name))\n",
    "    layout = go.Layout(title='Quantidade de Pokémons por Tipo', xaxis=dict(title='Tipo'), yaxis=dict(title='Número de Pokémons'))\n",
    "    fig = go.Figure(data=[data], layout=layout)\n",
    "    iplot(fig, filename='Quantidade_Pokemons_por_Tipos')"
   ]
  },
  {
   "cell_type": "code",
   "execution_count": 16,
   "metadata": {
    "slideshow": {
     "slide_type": "subslide"
    }
   },
   "outputs": [
    {
     "data": {
      "application/vnd.plotly.v1+json": {
       "config": {
        "linkText": "Export to plot.ly",
        "plotlyServerURL": "https://plot.ly",
        "showLink": false
       },
       "data": [
        {
         "marker": {
          "color": [
           "#B7B7CE",
           "#6F35FC",
           "#735797",
           "#D685AD",
           "#96D9D6",
           "#C22E28",
           "#F7D02C",
           "#B6A136",
           "#A6B91A",
           "#EE8130",
           "#7AC74C",
           "#E2BF65",
           "#F95587",
           "#A98FF3",
           "#A8A77A",
           "#6390F0",
           "#A33EA1"
          ]
         },
         "name": "['Bug', 'Dragon', 'Electric', 'Fairy', 'Fighting', 'Fire', 'Flying', 'Ghost', 'Grass', 'Ground', 'Ice', 'Normal', 'Poison', 'Psychic', 'Rock', 'Steel', 'Water']",
         "type": "bar",
         "x": [
          "Steel",
          "Dragon",
          "Ghost",
          "Fairy",
          "Ice",
          "Fighting",
          "Electric",
          "Rock",
          "Bug",
          "Fire",
          "Grass",
          "Ground",
          "Psychic",
          "Flying",
          "Normal",
          "Water",
          "Poison"
         ],
         "y": [
          2,
          3,
          3,
          5,
          5,
          8,
          9,
          11,
          12,
          12,
          14,
          14,
          14,
          19,
          22,
          32,
          33
         ]
        }
       ],
       "layout": {
        "template": {
         "data": {
          "bar": [
           {
            "error_x": {
             "color": "#2a3f5f"
            },
            "error_y": {
             "color": "#2a3f5f"
            },
            "marker": {
             "line": {
              "color": "#E5ECF6",
              "width": 0.5
             }
            },
            "type": "bar"
           }
          ],
          "barpolar": [
           {
            "marker": {
             "line": {
              "color": "#E5ECF6",
              "width": 0.5
             }
            },
            "type": "barpolar"
           }
          ],
          "carpet": [
           {
            "aaxis": {
             "endlinecolor": "#2a3f5f",
             "gridcolor": "white",
             "linecolor": "white",
             "minorgridcolor": "white",
             "startlinecolor": "#2a3f5f"
            },
            "baxis": {
             "endlinecolor": "#2a3f5f",
             "gridcolor": "white",
             "linecolor": "white",
             "minorgridcolor": "white",
             "startlinecolor": "#2a3f5f"
            },
            "type": "carpet"
           }
          ],
          "choropleth": [
           {
            "colorbar": {
             "outlinewidth": 0,
             "ticks": ""
            },
            "type": "choropleth"
           }
          ],
          "contour": [
           {
            "colorbar": {
             "outlinewidth": 0,
             "ticks": ""
            },
            "colorscale": [
             [
              0,
              "#0d0887"
             ],
             [
              0.1111111111111111,
              "#46039f"
             ],
             [
              0.2222222222222222,
              "#7201a8"
             ],
             [
              0.3333333333333333,
              "#9c179e"
             ],
             [
              0.4444444444444444,
              "#bd3786"
             ],
             [
              0.5555555555555556,
              "#d8576b"
             ],
             [
              0.6666666666666666,
              "#ed7953"
             ],
             [
              0.7777777777777778,
              "#fb9f3a"
             ],
             [
              0.8888888888888888,
              "#fdca26"
             ],
             [
              1,
              "#f0f921"
             ]
            ],
            "type": "contour"
           }
          ],
          "contourcarpet": [
           {
            "colorbar": {
             "outlinewidth": 0,
             "ticks": ""
            },
            "type": "contourcarpet"
           }
          ],
          "heatmap": [
           {
            "colorbar": {
             "outlinewidth": 0,
             "ticks": ""
            },
            "colorscale": [
             [
              0,
              "#0d0887"
             ],
             [
              0.1111111111111111,
              "#46039f"
             ],
             [
              0.2222222222222222,
              "#7201a8"
             ],
             [
              0.3333333333333333,
              "#9c179e"
             ],
             [
              0.4444444444444444,
              "#bd3786"
             ],
             [
              0.5555555555555556,
              "#d8576b"
             ],
             [
              0.6666666666666666,
              "#ed7953"
             ],
             [
              0.7777777777777778,
              "#fb9f3a"
             ],
             [
              0.8888888888888888,
              "#fdca26"
             ],
             [
              1,
              "#f0f921"
             ]
            ],
            "type": "heatmap"
           }
          ],
          "heatmapgl": [
           {
            "colorbar": {
             "outlinewidth": 0,
             "ticks": ""
            },
            "colorscale": [
             [
              0,
              "#0d0887"
             ],
             [
              0.1111111111111111,
              "#46039f"
             ],
             [
              0.2222222222222222,
              "#7201a8"
             ],
             [
              0.3333333333333333,
              "#9c179e"
             ],
             [
              0.4444444444444444,
              "#bd3786"
             ],
             [
              0.5555555555555556,
              "#d8576b"
             ],
             [
              0.6666666666666666,
              "#ed7953"
             ],
             [
              0.7777777777777778,
              "#fb9f3a"
             ],
             [
              0.8888888888888888,
              "#fdca26"
             ],
             [
              1,
              "#f0f921"
             ]
            ],
            "type": "heatmapgl"
           }
          ],
          "histogram": [
           {
            "marker": {
             "colorbar": {
              "outlinewidth": 0,
              "ticks": ""
             }
            },
            "type": "histogram"
           }
          ],
          "histogram2d": [
           {
            "colorbar": {
             "outlinewidth": 0,
             "ticks": ""
            },
            "colorscale": [
             [
              0,
              "#0d0887"
             ],
             [
              0.1111111111111111,
              "#46039f"
             ],
             [
              0.2222222222222222,
              "#7201a8"
             ],
             [
              0.3333333333333333,
              "#9c179e"
             ],
             [
              0.4444444444444444,
              "#bd3786"
             ],
             [
              0.5555555555555556,
              "#d8576b"
             ],
             [
              0.6666666666666666,
              "#ed7953"
             ],
             [
              0.7777777777777778,
              "#fb9f3a"
             ],
             [
              0.8888888888888888,
              "#fdca26"
             ],
             [
              1,
              "#f0f921"
             ]
            ],
            "type": "histogram2d"
           }
          ],
          "histogram2dcontour": [
           {
            "colorbar": {
             "outlinewidth": 0,
             "ticks": ""
            },
            "colorscale": [
             [
              0,
              "#0d0887"
             ],
             [
              0.1111111111111111,
              "#46039f"
             ],
             [
              0.2222222222222222,
              "#7201a8"
             ],
             [
              0.3333333333333333,
              "#9c179e"
             ],
             [
              0.4444444444444444,
              "#bd3786"
             ],
             [
              0.5555555555555556,
              "#d8576b"
             ],
             [
              0.6666666666666666,
              "#ed7953"
             ],
             [
              0.7777777777777778,
              "#fb9f3a"
             ],
             [
              0.8888888888888888,
              "#fdca26"
             ],
             [
              1,
              "#f0f921"
             ]
            ],
            "type": "histogram2dcontour"
           }
          ],
          "mesh3d": [
           {
            "colorbar": {
             "outlinewidth": 0,
             "ticks": ""
            },
            "type": "mesh3d"
           }
          ],
          "parcoords": [
           {
            "line": {
             "colorbar": {
              "outlinewidth": 0,
              "ticks": ""
             }
            },
            "type": "parcoords"
           }
          ],
          "pie": [
           {
            "automargin": true,
            "type": "pie"
           }
          ],
          "scatter": [
           {
            "marker": {
             "colorbar": {
              "outlinewidth": 0,
              "ticks": ""
             }
            },
            "type": "scatter"
           }
          ],
          "scatter3d": [
           {
            "line": {
             "colorbar": {
              "outlinewidth": 0,
              "ticks": ""
             }
            },
            "marker": {
             "colorbar": {
              "outlinewidth": 0,
              "ticks": ""
             }
            },
            "type": "scatter3d"
           }
          ],
          "scattercarpet": [
           {
            "marker": {
             "colorbar": {
              "outlinewidth": 0,
              "ticks": ""
             }
            },
            "type": "scattercarpet"
           }
          ],
          "scattergeo": [
           {
            "marker": {
             "colorbar": {
              "outlinewidth": 0,
              "ticks": ""
             }
            },
            "type": "scattergeo"
           }
          ],
          "scattergl": [
           {
            "marker": {
             "colorbar": {
              "outlinewidth": 0,
              "ticks": ""
             }
            },
            "type": "scattergl"
           }
          ],
          "scattermapbox": [
           {
            "marker": {
             "colorbar": {
              "outlinewidth": 0,
              "ticks": ""
             }
            },
            "type": "scattermapbox"
           }
          ],
          "scatterpolar": [
           {
            "marker": {
             "colorbar": {
              "outlinewidth": 0,
              "ticks": ""
             }
            },
            "type": "scatterpolar"
           }
          ],
          "scatterpolargl": [
           {
            "marker": {
             "colorbar": {
              "outlinewidth": 0,
              "ticks": ""
             }
            },
            "type": "scatterpolargl"
           }
          ],
          "scatterternary": [
           {
            "marker": {
             "colorbar": {
              "outlinewidth": 0,
              "ticks": ""
             }
            },
            "type": "scatterternary"
           }
          ],
          "surface": [
           {
            "colorbar": {
             "outlinewidth": 0,
             "ticks": ""
            },
            "colorscale": [
             [
              0,
              "#0d0887"
             ],
             [
              0.1111111111111111,
              "#46039f"
             ],
             [
              0.2222222222222222,
              "#7201a8"
             ],
             [
              0.3333333333333333,
              "#9c179e"
             ],
             [
              0.4444444444444444,
              "#bd3786"
             ],
             [
              0.5555555555555556,
              "#d8576b"
             ],
             [
              0.6666666666666666,
              "#ed7953"
             ],
             [
              0.7777777777777778,
              "#fb9f3a"
             ],
             [
              0.8888888888888888,
              "#fdca26"
             ],
             [
              1,
              "#f0f921"
             ]
            ],
            "type": "surface"
           }
          ],
          "table": [
           {
            "cells": {
             "fill": {
              "color": "#EBF0F8"
             },
             "line": {
              "color": "white"
             }
            },
            "header": {
             "fill": {
              "color": "#C8D4E3"
             },
             "line": {
              "color": "white"
             }
            },
            "type": "table"
           }
          ]
         },
         "layout": {
          "annotationdefaults": {
           "arrowcolor": "#2a3f5f",
           "arrowhead": 0,
           "arrowwidth": 1
          },
          "coloraxis": {
           "colorbar": {
            "outlinewidth": 0,
            "ticks": ""
           }
          },
          "colorscale": {
           "diverging": [
            [
             0,
             "#8e0152"
            ],
            [
             0.1,
             "#c51b7d"
            ],
            [
             0.2,
             "#de77ae"
            ],
            [
             0.3,
             "#f1b6da"
            ],
            [
             0.4,
             "#fde0ef"
            ],
            [
             0.5,
             "#f7f7f7"
            ],
            [
             0.6,
             "#e6f5d0"
            ],
            [
             0.7,
             "#b8e186"
            ],
            [
             0.8,
             "#7fbc41"
            ],
            [
             0.9,
             "#4d9221"
            ],
            [
             1,
             "#276419"
            ]
           ],
           "sequential": [
            [
             0,
             "#0d0887"
            ],
            [
             0.1111111111111111,
             "#46039f"
            ],
            [
             0.2222222222222222,
             "#7201a8"
            ],
            [
             0.3333333333333333,
             "#9c179e"
            ],
            [
             0.4444444444444444,
             "#bd3786"
            ],
            [
             0.5555555555555556,
             "#d8576b"
            ],
            [
             0.6666666666666666,
             "#ed7953"
            ],
            [
             0.7777777777777778,
             "#fb9f3a"
            ],
            [
             0.8888888888888888,
             "#fdca26"
            ],
            [
             1,
             "#f0f921"
            ]
           ],
           "sequentialminus": [
            [
             0,
             "#0d0887"
            ],
            [
             0.1111111111111111,
             "#46039f"
            ],
            [
             0.2222222222222222,
             "#7201a8"
            ],
            [
             0.3333333333333333,
             "#9c179e"
            ],
            [
             0.4444444444444444,
             "#bd3786"
            ],
            [
             0.5555555555555556,
             "#d8576b"
            ],
            [
             0.6666666666666666,
             "#ed7953"
            ],
            [
             0.7777777777777778,
             "#fb9f3a"
            ],
            [
             0.8888888888888888,
             "#fdca26"
            ],
            [
             1,
             "#f0f921"
            ]
           ]
          },
          "colorway": [
           "#636efa",
           "#EF553B",
           "#00cc96",
           "#ab63fa",
           "#FFA15A",
           "#19d3f3",
           "#FF6692",
           "#B6E880",
           "#FF97FF",
           "#FECB52"
          ],
          "font": {
           "color": "#2a3f5f"
          },
          "geo": {
           "bgcolor": "white",
           "lakecolor": "white",
           "landcolor": "#E5ECF6",
           "showlakes": true,
           "showland": true,
           "subunitcolor": "white"
          },
          "hoverlabel": {
           "align": "left"
          },
          "hovermode": "closest",
          "mapbox": {
           "style": "light"
          },
          "paper_bgcolor": "white",
          "plot_bgcolor": "#E5ECF6",
          "polar": {
           "angularaxis": {
            "gridcolor": "white",
            "linecolor": "white",
            "ticks": ""
           },
           "bgcolor": "#E5ECF6",
           "radialaxis": {
            "gridcolor": "white",
            "linecolor": "white",
            "ticks": ""
           }
          },
          "scene": {
           "xaxis": {
            "backgroundcolor": "#E5ECF6",
            "gridcolor": "white",
            "gridwidth": 2,
            "linecolor": "white",
            "showbackground": true,
            "ticks": "",
            "zerolinecolor": "white"
           },
           "yaxis": {
            "backgroundcolor": "#E5ECF6",
            "gridcolor": "white",
            "gridwidth": 2,
            "linecolor": "white",
            "showbackground": true,
            "ticks": "",
            "zerolinecolor": "white"
           },
           "zaxis": {
            "backgroundcolor": "#E5ECF6",
            "gridcolor": "white",
            "gridwidth": 2,
            "linecolor": "white",
            "showbackground": true,
            "ticks": "",
            "zerolinecolor": "white"
           }
          },
          "shapedefaults": {
           "line": {
            "color": "#2a3f5f"
           }
          },
          "ternary": {
           "aaxis": {
            "gridcolor": "white",
            "linecolor": "white",
            "ticks": ""
           },
           "baxis": {
            "gridcolor": "white",
            "linecolor": "white",
            "ticks": ""
           },
           "bgcolor": "#E5ECF6",
           "caxis": {
            "gridcolor": "white",
            "linecolor": "white",
            "ticks": ""
           }
          },
          "title": {
           "x": 0.05
          },
          "xaxis": {
           "automargin": true,
           "gridcolor": "white",
           "linecolor": "white",
           "ticks": "",
           "title": {
            "standoff": 15
           },
           "zerolinecolor": "white",
           "zerolinewidth": 2
          },
          "yaxis": {
           "automargin": true,
           "gridcolor": "white",
           "linecolor": "white",
           "ticks": "",
           "title": {
            "standoff": 15
           },
           "zerolinecolor": "white",
           "zerolinewidth": 2
          }
         }
        },
        "title": {
         "text": "Quantidade de Pokémons por Tipo"
        },
        "xaxis": {
         "title": {
          "text": "Tipo"
         }
        },
        "yaxis": {
         "title": {
          "text": "Número de Pokémons"
         }
        }
       }
      },
      "text/html": [
       "<div>\n",
       "        \n",
       "        \n",
       "            <div id=\"d17e9266-8699-4f1c-bd8b-f5953931557c\" class=\"plotly-graph-div\" style=\"height:525px; width:100%;\"></div>\n",
       "            <script type=\"text/javascript\">\n",
       "                require([\"plotly\"], function(Plotly) {\n",
       "                    window.PLOTLYENV=window.PLOTLYENV || {};\n",
       "                    \n",
       "                if (document.getElementById(\"d17e9266-8699-4f1c-bd8b-f5953931557c\")) {\n",
       "                    Plotly.newPlot(\n",
       "                        'd17e9266-8699-4f1c-bd8b-f5953931557c',\n",
       "                        [{\"marker\": {\"color\": [\"#B7B7CE\", \"#6F35FC\", \"#735797\", \"#D685AD\", \"#96D9D6\", \"#C22E28\", \"#F7D02C\", \"#B6A136\", \"#A6B91A\", \"#EE8130\", \"#7AC74C\", \"#E2BF65\", \"#F95587\", \"#A98FF3\", \"#A8A77A\", \"#6390F0\", \"#A33EA1\"]}, \"name\": \"['Bug', 'Dragon', 'Electric', 'Fairy', 'Fighting', 'Fire', 'Flying', 'Ghost', 'Grass', 'Ground', 'Ice', 'Normal', 'Poison', 'Psychic', 'Rock', 'Steel', 'Water']\", \"type\": \"bar\", \"x\": [\"Steel\", \"Dragon\", \"Ghost\", \"Fairy\", \"Ice\", \"Fighting\", \"Electric\", \"Rock\", \"Bug\", \"Fire\", \"Grass\", \"Ground\", \"Psychic\", \"Flying\", \"Normal\", \"Water\", \"Poison\"], \"y\": [2.0, 3.0, 3.0, 5.0, 5.0, 8.0, 9.0, 11.0, 12.0, 12.0, 14.0, 14.0, 14.0, 19.0, 22.0, 32.0, 33.0]}],\n",
       "                        {\"template\": {\"data\": {\"bar\": [{\"error_x\": {\"color\": \"#2a3f5f\"}, \"error_y\": {\"color\": \"#2a3f5f\"}, \"marker\": {\"line\": {\"color\": \"#E5ECF6\", \"width\": 0.5}}, \"type\": \"bar\"}], \"barpolar\": [{\"marker\": {\"line\": {\"color\": \"#E5ECF6\", \"width\": 0.5}}, \"type\": \"barpolar\"}], \"carpet\": [{\"aaxis\": {\"endlinecolor\": \"#2a3f5f\", \"gridcolor\": \"white\", \"linecolor\": \"white\", \"minorgridcolor\": \"white\", \"startlinecolor\": \"#2a3f5f\"}, \"baxis\": {\"endlinecolor\": \"#2a3f5f\", \"gridcolor\": \"white\", \"linecolor\": \"white\", \"minorgridcolor\": \"white\", \"startlinecolor\": \"#2a3f5f\"}, \"type\": \"carpet\"}], \"choropleth\": [{\"colorbar\": {\"outlinewidth\": 0, \"ticks\": \"\"}, \"type\": \"choropleth\"}], \"contour\": [{\"colorbar\": {\"outlinewidth\": 0, \"ticks\": \"\"}, \"colorscale\": [[0.0, \"#0d0887\"], [0.1111111111111111, \"#46039f\"], [0.2222222222222222, \"#7201a8\"], [0.3333333333333333, \"#9c179e\"], [0.4444444444444444, \"#bd3786\"], [0.5555555555555556, \"#d8576b\"], [0.6666666666666666, \"#ed7953\"], [0.7777777777777778, \"#fb9f3a\"], [0.8888888888888888, \"#fdca26\"], [1.0, \"#f0f921\"]], \"type\": \"contour\"}], \"contourcarpet\": [{\"colorbar\": {\"outlinewidth\": 0, \"ticks\": \"\"}, \"type\": \"contourcarpet\"}], \"heatmap\": [{\"colorbar\": {\"outlinewidth\": 0, \"ticks\": \"\"}, \"colorscale\": [[0.0, \"#0d0887\"], [0.1111111111111111, \"#46039f\"], [0.2222222222222222, \"#7201a8\"], [0.3333333333333333, \"#9c179e\"], [0.4444444444444444, \"#bd3786\"], [0.5555555555555556, \"#d8576b\"], [0.6666666666666666, \"#ed7953\"], [0.7777777777777778, \"#fb9f3a\"], [0.8888888888888888, \"#fdca26\"], [1.0, \"#f0f921\"]], \"type\": \"heatmap\"}], \"heatmapgl\": [{\"colorbar\": {\"outlinewidth\": 0, \"ticks\": \"\"}, \"colorscale\": [[0.0, \"#0d0887\"], [0.1111111111111111, \"#46039f\"], [0.2222222222222222, \"#7201a8\"], [0.3333333333333333, \"#9c179e\"], [0.4444444444444444, \"#bd3786\"], [0.5555555555555556, \"#d8576b\"], [0.6666666666666666, \"#ed7953\"], [0.7777777777777778, \"#fb9f3a\"], [0.8888888888888888, \"#fdca26\"], [1.0, \"#f0f921\"]], \"type\": \"heatmapgl\"}], \"histogram\": [{\"marker\": {\"colorbar\": {\"outlinewidth\": 0, \"ticks\": \"\"}}, \"type\": \"histogram\"}], \"histogram2d\": [{\"colorbar\": {\"outlinewidth\": 0, \"ticks\": \"\"}, \"colorscale\": [[0.0, \"#0d0887\"], [0.1111111111111111, \"#46039f\"], [0.2222222222222222, \"#7201a8\"], [0.3333333333333333, \"#9c179e\"], [0.4444444444444444, \"#bd3786\"], [0.5555555555555556, \"#d8576b\"], [0.6666666666666666, \"#ed7953\"], [0.7777777777777778, \"#fb9f3a\"], [0.8888888888888888, \"#fdca26\"], [1.0, \"#f0f921\"]], \"type\": \"histogram2d\"}], \"histogram2dcontour\": [{\"colorbar\": {\"outlinewidth\": 0, \"ticks\": \"\"}, \"colorscale\": [[0.0, \"#0d0887\"], [0.1111111111111111, \"#46039f\"], [0.2222222222222222, \"#7201a8\"], [0.3333333333333333, \"#9c179e\"], [0.4444444444444444, \"#bd3786\"], [0.5555555555555556, \"#d8576b\"], [0.6666666666666666, \"#ed7953\"], [0.7777777777777778, \"#fb9f3a\"], [0.8888888888888888, \"#fdca26\"], [1.0, \"#f0f921\"]], \"type\": \"histogram2dcontour\"}], \"mesh3d\": [{\"colorbar\": {\"outlinewidth\": 0, \"ticks\": \"\"}, \"type\": \"mesh3d\"}], \"parcoords\": [{\"line\": {\"colorbar\": {\"outlinewidth\": 0, \"ticks\": \"\"}}, \"type\": \"parcoords\"}], \"pie\": [{\"automargin\": true, \"type\": \"pie\"}], \"scatter\": [{\"marker\": {\"colorbar\": {\"outlinewidth\": 0, \"ticks\": \"\"}}, \"type\": \"scatter\"}], \"scatter3d\": [{\"line\": {\"colorbar\": {\"outlinewidth\": 0, \"ticks\": \"\"}}, \"marker\": {\"colorbar\": {\"outlinewidth\": 0, \"ticks\": \"\"}}, \"type\": \"scatter3d\"}], \"scattercarpet\": [{\"marker\": {\"colorbar\": {\"outlinewidth\": 0, \"ticks\": \"\"}}, \"type\": \"scattercarpet\"}], \"scattergeo\": [{\"marker\": {\"colorbar\": {\"outlinewidth\": 0, \"ticks\": \"\"}}, \"type\": \"scattergeo\"}], \"scattergl\": [{\"marker\": {\"colorbar\": {\"outlinewidth\": 0, \"ticks\": \"\"}}, \"type\": \"scattergl\"}], \"scattermapbox\": [{\"marker\": {\"colorbar\": {\"outlinewidth\": 0, \"ticks\": \"\"}}, \"type\": \"scattermapbox\"}], \"scatterpolar\": [{\"marker\": {\"colorbar\": {\"outlinewidth\": 0, \"ticks\": \"\"}}, \"type\": \"scatterpolar\"}], \"scatterpolargl\": [{\"marker\": {\"colorbar\": {\"outlinewidth\": 0, \"ticks\": \"\"}}, \"type\": \"scatterpolargl\"}], \"scatterternary\": [{\"marker\": {\"colorbar\": {\"outlinewidth\": 0, \"ticks\": \"\"}}, \"type\": \"scatterternary\"}], \"surface\": [{\"colorbar\": {\"outlinewidth\": 0, \"ticks\": \"\"}, \"colorscale\": [[0.0, \"#0d0887\"], [0.1111111111111111, \"#46039f\"], [0.2222222222222222, \"#7201a8\"], [0.3333333333333333, \"#9c179e\"], [0.4444444444444444, \"#bd3786\"], [0.5555555555555556, \"#d8576b\"], [0.6666666666666666, \"#ed7953\"], [0.7777777777777778, \"#fb9f3a\"], [0.8888888888888888, \"#fdca26\"], [1.0, \"#f0f921\"]], \"type\": \"surface\"}], \"table\": [{\"cells\": {\"fill\": {\"color\": \"#EBF0F8\"}, \"line\": {\"color\": \"white\"}}, \"header\": {\"fill\": {\"color\": \"#C8D4E3\"}, \"line\": {\"color\": \"white\"}}, \"type\": \"table\"}]}, \"layout\": {\"annotationdefaults\": {\"arrowcolor\": \"#2a3f5f\", \"arrowhead\": 0, \"arrowwidth\": 1}, \"coloraxis\": {\"colorbar\": {\"outlinewidth\": 0, \"ticks\": \"\"}}, \"colorscale\": {\"diverging\": [[0, \"#8e0152\"], [0.1, \"#c51b7d\"], [0.2, \"#de77ae\"], [0.3, \"#f1b6da\"], [0.4, \"#fde0ef\"], [0.5, \"#f7f7f7\"], [0.6, \"#e6f5d0\"], [0.7, \"#b8e186\"], [0.8, \"#7fbc41\"], [0.9, \"#4d9221\"], [1, \"#276419\"]], \"sequential\": [[0.0, \"#0d0887\"], [0.1111111111111111, \"#46039f\"], [0.2222222222222222, \"#7201a8\"], [0.3333333333333333, \"#9c179e\"], [0.4444444444444444, \"#bd3786\"], [0.5555555555555556, \"#d8576b\"], [0.6666666666666666, \"#ed7953\"], [0.7777777777777778, \"#fb9f3a\"], [0.8888888888888888, \"#fdca26\"], [1.0, \"#f0f921\"]], \"sequentialminus\": [[0.0, \"#0d0887\"], [0.1111111111111111, \"#46039f\"], [0.2222222222222222, \"#7201a8\"], [0.3333333333333333, \"#9c179e\"], [0.4444444444444444, \"#bd3786\"], [0.5555555555555556, \"#d8576b\"], [0.6666666666666666, \"#ed7953\"], [0.7777777777777778, \"#fb9f3a\"], [0.8888888888888888, \"#fdca26\"], [1.0, \"#f0f921\"]]}, \"colorway\": [\"#636efa\", \"#EF553B\", \"#00cc96\", \"#ab63fa\", \"#FFA15A\", \"#19d3f3\", \"#FF6692\", \"#B6E880\", \"#FF97FF\", \"#FECB52\"], \"font\": {\"color\": \"#2a3f5f\"}, \"geo\": {\"bgcolor\": \"white\", \"lakecolor\": \"white\", \"landcolor\": \"#E5ECF6\", \"showlakes\": true, \"showland\": true, \"subunitcolor\": \"white\"}, \"hoverlabel\": {\"align\": \"left\"}, \"hovermode\": \"closest\", \"mapbox\": {\"style\": \"light\"}, \"paper_bgcolor\": \"white\", \"plot_bgcolor\": \"#E5ECF6\", \"polar\": {\"angularaxis\": {\"gridcolor\": \"white\", \"linecolor\": \"white\", \"ticks\": \"\"}, \"bgcolor\": \"#E5ECF6\", \"radialaxis\": {\"gridcolor\": \"white\", \"linecolor\": \"white\", \"ticks\": \"\"}}, \"scene\": {\"xaxis\": {\"backgroundcolor\": \"#E5ECF6\", \"gridcolor\": \"white\", \"gridwidth\": 2, \"linecolor\": \"white\", \"showbackground\": true, \"ticks\": \"\", \"zerolinecolor\": \"white\"}, \"yaxis\": {\"backgroundcolor\": \"#E5ECF6\", \"gridcolor\": \"white\", \"gridwidth\": 2, \"linecolor\": \"white\", \"showbackground\": true, \"ticks\": \"\", \"zerolinecolor\": \"white\"}, \"zaxis\": {\"backgroundcolor\": \"#E5ECF6\", \"gridcolor\": \"white\", \"gridwidth\": 2, \"linecolor\": \"white\", \"showbackground\": true, \"ticks\": \"\", \"zerolinecolor\": \"white\"}}, \"shapedefaults\": {\"line\": {\"color\": \"#2a3f5f\"}}, \"ternary\": {\"aaxis\": {\"gridcolor\": \"white\", \"linecolor\": \"white\", \"ticks\": \"\"}, \"baxis\": {\"gridcolor\": \"white\", \"linecolor\": \"white\", \"ticks\": \"\"}, \"bgcolor\": \"#E5ECF6\", \"caxis\": {\"gridcolor\": \"white\", \"linecolor\": \"white\", \"ticks\": \"\"}}, \"title\": {\"x\": 0.05}, \"xaxis\": {\"automargin\": true, \"gridcolor\": \"white\", \"linecolor\": \"white\", \"ticks\": \"\", \"title\": {\"standoff\": 15}, \"zerolinecolor\": \"white\", \"zerolinewidth\": 2}, \"yaxis\": {\"automargin\": true, \"gridcolor\": \"white\", \"linecolor\": \"white\", \"ticks\": \"\", \"title\": {\"standoff\": 15}, \"zerolinecolor\": \"white\", \"zerolinewidth\": 2}}}, \"title\": {\"text\": \"Quantidade de Pok\\u00e9mons por Tipo\"}, \"xaxis\": {\"title\": {\"text\": \"Tipo\"}}, \"yaxis\": {\"title\": {\"text\": \"N\\u00famero de Pok\\u00e9mons\"}}},\n",
       "                        {\"responsive\": true}\n",
       "                    ).then(function(){\n",
       "                            \n",
       "var gd = document.getElementById('d17e9266-8699-4f1c-bd8b-f5953931557c');\n",
       "var x = new MutationObserver(function (mutations, observer) {{\n",
       "        var display = window.getComputedStyle(gd).display;\n",
       "        if (!display || display === 'none') {{\n",
       "            console.log([gd, 'removed!']);\n",
       "            Plotly.purge(gd);\n",
       "            observer.disconnect();\n",
       "        }}\n",
       "}});\n",
       "\n",
       "// Listen for the removal of the full notebook cells\n",
       "var notebookContainer = gd.closest('#notebook-container');\n",
       "if (notebookContainer) {{\n",
       "    x.observe(notebookContainer, {childList: true});\n",
       "}}\n",
       "\n",
       "// Listen for the clearing of the current output cell\n",
       "var outputEl = gd.closest('.output');\n",
       "if (outputEl) {{\n",
       "    x.observe(outputEl, {childList: true});\n",
       "}}\n",
       "\n",
       "                        })\n",
       "                };\n",
       "                });\n",
       "            </script>\n",
       "        </div>"
      ]
     },
     "metadata": {},
     "output_type": "display_data"
    }
   ],
   "source": [
    "quant_poke_tipo()"
   ]
  },
  {
   "cell_type": "markdown",
   "metadata": {
    "slideshow": {
     "slide_type": "slide"
    }
   },
   "source": [
    "# Entre todos esses tipos de Pokémons, qual é o tipo mais poderoso?"
   ]
  },
  {
   "cell_type": "code",
   "execution_count": 17,
   "metadata": {
    "slideshow": {
     "slide_type": "slide"
    }
   },
   "outputs": [],
   "source": [
    "# Visualizar Total de Poder por Tipo de Pokemon\n",
    "def poder_por_tipo():\n",
    "    types1 = pokemon.groupby(['Type 1'])['Total'].max()\n",
    "    types2 = pokemon.groupby(['Type 2'])['Total'].max()\n",
    "    types = types1.add(types2, fill_value=0)\n",
    "    types_name = list(types.keys())\n",
    "    sortx = [x for _,x in sorted(zip(types.values, types_name))]\n",
    "    sorty = sorted(types.values)\n",
    "    cor_tipo = []\n",
    "    for tipo in sortx:\n",
    "        cor_tipo.append(colors[tipo])\n",
    "    data = go.Bar(x=sortx, y=sorty, marker=dict(color=cor_tipo), name=\"{}\".format(types_name))\n",
    "    layout = go.Layout(title='Total de Poder por Tipo de Pokémon',\n",
    "                       xaxis=dict(title='Tipo'),\n",
    "                       yaxis=dict(title='Total Poder'))\n",
    "    fig = go.Figure(data=[data], layout=layout)\n",
    "    iplot(fig, filename='Total_Poder_por_Tipo_Pokemon')"
   ]
  },
  {
   "cell_type": "code",
   "execution_count": 18,
   "metadata": {
    "slideshow": {
     "slide_type": "subslide"
    }
   },
   "outputs": [
    {
     "data": {
      "application/vnd.plotly.v1+json": {
       "config": {
        "linkText": "Export to plot.ly",
        "plotlyServerURL": "https://plot.ly",
        "showLink": false
       },
       "data": [
        {
         "marker": {
          "color": [
           "#B7B7CE",
           "#A6B91A",
           "#735797",
           "#A8A77A",
           "#F7D02C",
           "#EE8130",
           "#6F35FC",
           "#A98FF3",
           "#7AC74C",
           "#D685AD",
           "#E2BF65",
           "#B6A136",
           "#C22E28",
           "#A33EA1",
           "#6390F0",
           "#96D9D6",
           "#F95587"
          ]
         },
         "name": "['Bug', 'Dragon', 'Electric', 'Fairy', 'Fighting', 'Fire', 'Flying', 'Ghost', 'Grass', 'Ground', 'Ice', 'Normal', 'Poison', 'Psychic', 'Rock', 'Steel', 'Water']",
         "type": "bar",
         "x": [
          "Steel",
          "Bug",
          "Ghost",
          "Normal",
          "Electric",
          "Fire",
          "Dragon",
          "Flying",
          "Grass",
          "Fairy",
          "Ground",
          "Rock",
          "Fighting",
          "Poison",
          "Water",
          "Ice",
          "Psychic"
         ],
         "y": [
          465,
          500,
          500,
          540,
          580,
          580,
          600,
          600,
          930,
          943,
          990,
          1000,
          1015,
          1030,
          1035,
          1115,
          1200
         ]
        }
       ],
       "layout": {
        "template": {
         "data": {
          "bar": [
           {
            "error_x": {
             "color": "#2a3f5f"
            },
            "error_y": {
             "color": "#2a3f5f"
            },
            "marker": {
             "line": {
              "color": "#E5ECF6",
              "width": 0.5
             }
            },
            "type": "bar"
           }
          ],
          "barpolar": [
           {
            "marker": {
             "line": {
              "color": "#E5ECF6",
              "width": 0.5
             }
            },
            "type": "barpolar"
           }
          ],
          "carpet": [
           {
            "aaxis": {
             "endlinecolor": "#2a3f5f",
             "gridcolor": "white",
             "linecolor": "white",
             "minorgridcolor": "white",
             "startlinecolor": "#2a3f5f"
            },
            "baxis": {
             "endlinecolor": "#2a3f5f",
             "gridcolor": "white",
             "linecolor": "white",
             "minorgridcolor": "white",
             "startlinecolor": "#2a3f5f"
            },
            "type": "carpet"
           }
          ],
          "choropleth": [
           {
            "colorbar": {
             "outlinewidth": 0,
             "ticks": ""
            },
            "type": "choropleth"
           }
          ],
          "contour": [
           {
            "colorbar": {
             "outlinewidth": 0,
             "ticks": ""
            },
            "colorscale": [
             [
              0,
              "#0d0887"
             ],
             [
              0.1111111111111111,
              "#46039f"
             ],
             [
              0.2222222222222222,
              "#7201a8"
             ],
             [
              0.3333333333333333,
              "#9c179e"
             ],
             [
              0.4444444444444444,
              "#bd3786"
             ],
             [
              0.5555555555555556,
              "#d8576b"
             ],
             [
              0.6666666666666666,
              "#ed7953"
             ],
             [
              0.7777777777777778,
              "#fb9f3a"
             ],
             [
              0.8888888888888888,
              "#fdca26"
             ],
             [
              1,
              "#f0f921"
             ]
            ],
            "type": "contour"
           }
          ],
          "contourcarpet": [
           {
            "colorbar": {
             "outlinewidth": 0,
             "ticks": ""
            },
            "type": "contourcarpet"
           }
          ],
          "heatmap": [
           {
            "colorbar": {
             "outlinewidth": 0,
             "ticks": ""
            },
            "colorscale": [
             [
              0,
              "#0d0887"
             ],
             [
              0.1111111111111111,
              "#46039f"
             ],
             [
              0.2222222222222222,
              "#7201a8"
             ],
             [
              0.3333333333333333,
              "#9c179e"
             ],
             [
              0.4444444444444444,
              "#bd3786"
             ],
             [
              0.5555555555555556,
              "#d8576b"
             ],
             [
              0.6666666666666666,
              "#ed7953"
             ],
             [
              0.7777777777777778,
              "#fb9f3a"
             ],
             [
              0.8888888888888888,
              "#fdca26"
             ],
             [
              1,
              "#f0f921"
             ]
            ],
            "type": "heatmap"
           }
          ],
          "heatmapgl": [
           {
            "colorbar": {
             "outlinewidth": 0,
             "ticks": ""
            },
            "colorscale": [
             [
              0,
              "#0d0887"
             ],
             [
              0.1111111111111111,
              "#46039f"
             ],
             [
              0.2222222222222222,
              "#7201a8"
             ],
             [
              0.3333333333333333,
              "#9c179e"
             ],
             [
              0.4444444444444444,
              "#bd3786"
             ],
             [
              0.5555555555555556,
              "#d8576b"
             ],
             [
              0.6666666666666666,
              "#ed7953"
             ],
             [
              0.7777777777777778,
              "#fb9f3a"
             ],
             [
              0.8888888888888888,
              "#fdca26"
             ],
             [
              1,
              "#f0f921"
             ]
            ],
            "type": "heatmapgl"
           }
          ],
          "histogram": [
           {
            "marker": {
             "colorbar": {
              "outlinewidth": 0,
              "ticks": ""
             }
            },
            "type": "histogram"
           }
          ],
          "histogram2d": [
           {
            "colorbar": {
             "outlinewidth": 0,
             "ticks": ""
            },
            "colorscale": [
             [
              0,
              "#0d0887"
             ],
             [
              0.1111111111111111,
              "#46039f"
             ],
             [
              0.2222222222222222,
              "#7201a8"
             ],
             [
              0.3333333333333333,
              "#9c179e"
             ],
             [
              0.4444444444444444,
              "#bd3786"
             ],
             [
              0.5555555555555556,
              "#d8576b"
             ],
             [
              0.6666666666666666,
              "#ed7953"
             ],
             [
              0.7777777777777778,
              "#fb9f3a"
             ],
             [
              0.8888888888888888,
              "#fdca26"
             ],
             [
              1,
              "#f0f921"
             ]
            ],
            "type": "histogram2d"
           }
          ],
          "histogram2dcontour": [
           {
            "colorbar": {
             "outlinewidth": 0,
             "ticks": ""
            },
            "colorscale": [
             [
              0,
              "#0d0887"
             ],
             [
              0.1111111111111111,
              "#46039f"
             ],
             [
              0.2222222222222222,
              "#7201a8"
             ],
             [
              0.3333333333333333,
              "#9c179e"
             ],
             [
              0.4444444444444444,
              "#bd3786"
             ],
             [
              0.5555555555555556,
              "#d8576b"
             ],
             [
              0.6666666666666666,
              "#ed7953"
             ],
             [
              0.7777777777777778,
              "#fb9f3a"
             ],
             [
              0.8888888888888888,
              "#fdca26"
             ],
             [
              1,
              "#f0f921"
             ]
            ],
            "type": "histogram2dcontour"
           }
          ],
          "mesh3d": [
           {
            "colorbar": {
             "outlinewidth": 0,
             "ticks": ""
            },
            "type": "mesh3d"
           }
          ],
          "parcoords": [
           {
            "line": {
             "colorbar": {
              "outlinewidth": 0,
              "ticks": ""
             }
            },
            "type": "parcoords"
           }
          ],
          "pie": [
           {
            "automargin": true,
            "type": "pie"
           }
          ],
          "scatter": [
           {
            "marker": {
             "colorbar": {
              "outlinewidth": 0,
              "ticks": ""
             }
            },
            "type": "scatter"
           }
          ],
          "scatter3d": [
           {
            "line": {
             "colorbar": {
              "outlinewidth": 0,
              "ticks": ""
             }
            },
            "marker": {
             "colorbar": {
              "outlinewidth": 0,
              "ticks": ""
             }
            },
            "type": "scatter3d"
           }
          ],
          "scattercarpet": [
           {
            "marker": {
             "colorbar": {
              "outlinewidth": 0,
              "ticks": ""
             }
            },
            "type": "scattercarpet"
           }
          ],
          "scattergeo": [
           {
            "marker": {
             "colorbar": {
              "outlinewidth": 0,
              "ticks": ""
             }
            },
            "type": "scattergeo"
           }
          ],
          "scattergl": [
           {
            "marker": {
             "colorbar": {
              "outlinewidth": 0,
              "ticks": ""
             }
            },
            "type": "scattergl"
           }
          ],
          "scattermapbox": [
           {
            "marker": {
             "colorbar": {
              "outlinewidth": 0,
              "ticks": ""
             }
            },
            "type": "scattermapbox"
           }
          ],
          "scatterpolar": [
           {
            "marker": {
             "colorbar": {
              "outlinewidth": 0,
              "ticks": ""
             }
            },
            "type": "scatterpolar"
           }
          ],
          "scatterpolargl": [
           {
            "marker": {
             "colorbar": {
              "outlinewidth": 0,
              "ticks": ""
             }
            },
            "type": "scatterpolargl"
           }
          ],
          "scatterternary": [
           {
            "marker": {
             "colorbar": {
              "outlinewidth": 0,
              "ticks": ""
             }
            },
            "type": "scatterternary"
           }
          ],
          "surface": [
           {
            "colorbar": {
             "outlinewidth": 0,
             "ticks": ""
            },
            "colorscale": [
             [
              0,
              "#0d0887"
             ],
             [
              0.1111111111111111,
              "#46039f"
             ],
             [
              0.2222222222222222,
              "#7201a8"
             ],
             [
              0.3333333333333333,
              "#9c179e"
             ],
             [
              0.4444444444444444,
              "#bd3786"
             ],
             [
              0.5555555555555556,
              "#d8576b"
             ],
             [
              0.6666666666666666,
              "#ed7953"
             ],
             [
              0.7777777777777778,
              "#fb9f3a"
             ],
             [
              0.8888888888888888,
              "#fdca26"
             ],
             [
              1,
              "#f0f921"
             ]
            ],
            "type": "surface"
           }
          ],
          "table": [
           {
            "cells": {
             "fill": {
              "color": "#EBF0F8"
             },
             "line": {
              "color": "white"
             }
            },
            "header": {
             "fill": {
              "color": "#C8D4E3"
             },
             "line": {
              "color": "white"
             }
            },
            "type": "table"
           }
          ]
         },
         "layout": {
          "annotationdefaults": {
           "arrowcolor": "#2a3f5f",
           "arrowhead": 0,
           "arrowwidth": 1
          },
          "coloraxis": {
           "colorbar": {
            "outlinewidth": 0,
            "ticks": ""
           }
          },
          "colorscale": {
           "diverging": [
            [
             0,
             "#8e0152"
            ],
            [
             0.1,
             "#c51b7d"
            ],
            [
             0.2,
             "#de77ae"
            ],
            [
             0.3,
             "#f1b6da"
            ],
            [
             0.4,
             "#fde0ef"
            ],
            [
             0.5,
             "#f7f7f7"
            ],
            [
             0.6,
             "#e6f5d0"
            ],
            [
             0.7,
             "#b8e186"
            ],
            [
             0.8,
             "#7fbc41"
            ],
            [
             0.9,
             "#4d9221"
            ],
            [
             1,
             "#276419"
            ]
           ],
           "sequential": [
            [
             0,
             "#0d0887"
            ],
            [
             0.1111111111111111,
             "#46039f"
            ],
            [
             0.2222222222222222,
             "#7201a8"
            ],
            [
             0.3333333333333333,
             "#9c179e"
            ],
            [
             0.4444444444444444,
             "#bd3786"
            ],
            [
             0.5555555555555556,
             "#d8576b"
            ],
            [
             0.6666666666666666,
             "#ed7953"
            ],
            [
             0.7777777777777778,
             "#fb9f3a"
            ],
            [
             0.8888888888888888,
             "#fdca26"
            ],
            [
             1,
             "#f0f921"
            ]
           ],
           "sequentialminus": [
            [
             0,
             "#0d0887"
            ],
            [
             0.1111111111111111,
             "#46039f"
            ],
            [
             0.2222222222222222,
             "#7201a8"
            ],
            [
             0.3333333333333333,
             "#9c179e"
            ],
            [
             0.4444444444444444,
             "#bd3786"
            ],
            [
             0.5555555555555556,
             "#d8576b"
            ],
            [
             0.6666666666666666,
             "#ed7953"
            ],
            [
             0.7777777777777778,
             "#fb9f3a"
            ],
            [
             0.8888888888888888,
             "#fdca26"
            ],
            [
             1,
             "#f0f921"
            ]
           ]
          },
          "colorway": [
           "#636efa",
           "#EF553B",
           "#00cc96",
           "#ab63fa",
           "#FFA15A",
           "#19d3f3",
           "#FF6692",
           "#B6E880",
           "#FF97FF",
           "#FECB52"
          ],
          "font": {
           "color": "#2a3f5f"
          },
          "geo": {
           "bgcolor": "white",
           "lakecolor": "white",
           "landcolor": "#E5ECF6",
           "showlakes": true,
           "showland": true,
           "subunitcolor": "white"
          },
          "hoverlabel": {
           "align": "left"
          },
          "hovermode": "closest",
          "mapbox": {
           "style": "light"
          },
          "paper_bgcolor": "white",
          "plot_bgcolor": "#E5ECF6",
          "polar": {
           "angularaxis": {
            "gridcolor": "white",
            "linecolor": "white",
            "ticks": ""
           },
           "bgcolor": "#E5ECF6",
           "radialaxis": {
            "gridcolor": "white",
            "linecolor": "white",
            "ticks": ""
           }
          },
          "scene": {
           "xaxis": {
            "backgroundcolor": "#E5ECF6",
            "gridcolor": "white",
            "gridwidth": 2,
            "linecolor": "white",
            "showbackground": true,
            "ticks": "",
            "zerolinecolor": "white"
           },
           "yaxis": {
            "backgroundcolor": "#E5ECF6",
            "gridcolor": "white",
            "gridwidth": 2,
            "linecolor": "white",
            "showbackground": true,
            "ticks": "",
            "zerolinecolor": "white"
           },
           "zaxis": {
            "backgroundcolor": "#E5ECF6",
            "gridcolor": "white",
            "gridwidth": 2,
            "linecolor": "white",
            "showbackground": true,
            "ticks": "",
            "zerolinecolor": "white"
           }
          },
          "shapedefaults": {
           "line": {
            "color": "#2a3f5f"
           }
          },
          "ternary": {
           "aaxis": {
            "gridcolor": "white",
            "linecolor": "white",
            "ticks": ""
           },
           "baxis": {
            "gridcolor": "white",
            "linecolor": "white",
            "ticks": ""
           },
           "bgcolor": "#E5ECF6",
           "caxis": {
            "gridcolor": "white",
            "linecolor": "white",
            "ticks": ""
           }
          },
          "title": {
           "x": 0.05
          },
          "xaxis": {
           "automargin": true,
           "gridcolor": "white",
           "linecolor": "white",
           "ticks": "",
           "title": {
            "standoff": 15
           },
           "zerolinecolor": "white",
           "zerolinewidth": 2
          },
          "yaxis": {
           "automargin": true,
           "gridcolor": "white",
           "linecolor": "white",
           "ticks": "",
           "title": {
            "standoff": 15
           },
           "zerolinecolor": "white",
           "zerolinewidth": 2
          }
         }
        },
        "title": {
         "text": "Total de Poder por Tipo de Pokémon"
        },
        "xaxis": {
         "title": {
          "text": "Tipo"
         }
        },
        "yaxis": {
         "title": {
          "text": "Total Poder"
         }
        }
       }
      },
      "text/html": [
       "<div>\n",
       "        \n",
       "        \n",
       "            <div id=\"4b29d194-f294-4cdc-bed4-301666e9bf0d\" class=\"plotly-graph-div\" style=\"height:525px; width:100%;\"></div>\n",
       "            <script type=\"text/javascript\">\n",
       "                require([\"plotly\"], function(Plotly) {\n",
       "                    window.PLOTLYENV=window.PLOTLYENV || {};\n",
       "                    \n",
       "                if (document.getElementById(\"4b29d194-f294-4cdc-bed4-301666e9bf0d\")) {\n",
       "                    Plotly.newPlot(\n",
       "                        '4b29d194-f294-4cdc-bed4-301666e9bf0d',\n",
       "                        [{\"marker\": {\"color\": [\"#B7B7CE\", \"#A6B91A\", \"#735797\", \"#A8A77A\", \"#F7D02C\", \"#EE8130\", \"#6F35FC\", \"#A98FF3\", \"#7AC74C\", \"#D685AD\", \"#E2BF65\", \"#B6A136\", \"#C22E28\", \"#A33EA1\", \"#6390F0\", \"#96D9D6\", \"#F95587\"]}, \"name\": \"['Bug', 'Dragon', 'Electric', 'Fairy', 'Fighting', 'Fire', 'Flying', 'Ghost', 'Grass', 'Ground', 'Ice', 'Normal', 'Poison', 'Psychic', 'Rock', 'Steel', 'Water']\", \"type\": \"bar\", \"x\": [\"Steel\", \"Bug\", \"Ghost\", \"Normal\", \"Electric\", \"Fire\", \"Dragon\", \"Flying\", \"Grass\", \"Fairy\", \"Ground\", \"Rock\", \"Fighting\", \"Poison\", \"Water\", \"Ice\", \"Psychic\"], \"y\": [465.0, 500.0, 500.0, 540.0, 580.0, 580.0, 600.0, 600.0, 930.0, 943.0, 990.0, 1000.0, 1015.0, 1030.0, 1035.0, 1115.0, 1200.0]}],\n",
       "                        {\"template\": {\"data\": {\"bar\": [{\"error_x\": {\"color\": \"#2a3f5f\"}, \"error_y\": {\"color\": \"#2a3f5f\"}, \"marker\": {\"line\": {\"color\": \"#E5ECF6\", \"width\": 0.5}}, \"type\": \"bar\"}], \"barpolar\": [{\"marker\": {\"line\": {\"color\": \"#E5ECF6\", \"width\": 0.5}}, \"type\": \"barpolar\"}], \"carpet\": [{\"aaxis\": {\"endlinecolor\": \"#2a3f5f\", \"gridcolor\": \"white\", \"linecolor\": \"white\", \"minorgridcolor\": \"white\", \"startlinecolor\": \"#2a3f5f\"}, \"baxis\": {\"endlinecolor\": \"#2a3f5f\", \"gridcolor\": \"white\", \"linecolor\": \"white\", \"minorgridcolor\": \"white\", \"startlinecolor\": \"#2a3f5f\"}, \"type\": \"carpet\"}], \"choropleth\": [{\"colorbar\": {\"outlinewidth\": 0, \"ticks\": \"\"}, \"type\": \"choropleth\"}], \"contour\": [{\"colorbar\": {\"outlinewidth\": 0, \"ticks\": \"\"}, \"colorscale\": [[0.0, \"#0d0887\"], [0.1111111111111111, \"#46039f\"], [0.2222222222222222, \"#7201a8\"], [0.3333333333333333, \"#9c179e\"], [0.4444444444444444, \"#bd3786\"], [0.5555555555555556, \"#d8576b\"], [0.6666666666666666, \"#ed7953\"], [0.7777777777777778, \"#fb9f3a\"], [0.8888888888888888, \"#fdca26\"], [1.0, \"#f0f921\"]], \"type\": \"contour\"}], \"contourcarpet\": [{\"colorbar\": {\"outlinewidth\": 0, \"ticks\": \"\"}, \"type\": \"contourcarpet\"}], \"heatmap\": [{\"colorbar\": {\"outlinewidth\": 0, \"ticks\": \"\"}, \"colorscale\": [[0.0, \"#0d0887\"], [0.1111111111111111, \"#46039f\"], [0.2222222222222222, \"#7201a8\"], [0.3333333333333333, \"#9c179e\"], [0.4444444444444444, \"#bd3786\"], [0.5555555555555556, \"#d8576b\"], [0.6666666666666666, \"#ed7953\"], [0.7777777777777778, \"#fb9f3a\"], [0.8888888888888888, \"#fdca26\"], [1.0, \"#f0f921\"]], \"type\": \"heatmap\"}], \"heatmapgl\": [{\"colorbar\": {\"outlinewidth\": 0, \"ticks\": \"\"}, \"colorscale\": [[0.0, \"#0d0887\"], [0.1111111111111111, \"#46039f\"], [0.2222222222222222, \"#7201a8\"], [0.3333333333333333, \"#9c179e\"], [0.4444444444444444, \"#bd3786\"], [0.5555555555555556, \"#d8576b\"], [0.6666666666666666, \"#ed7953\"], [0.7777777777777778, \"#fb9f3a\"], [0.8888888888888888, \"#fdca26\"], [1.0, \"#f0f921\"]], \"type\": \"heatmapgl\"}], \"histogram\": [{\"marker\": {\"colorbar\": {\"outlinewidth\": 0, \"ticks\": \"\"}}, \"type\": \"histogram\"}], \"histogram2d\": [{\"colorbar\": {\"outlinewidth\": 0, \"ticks\": \"\"}, \"colorscale\": [[0.0, \"#0d0887\"], [0.1111111111111111, \"#46039f\"], [0.2222222222222222, \"#7201a8\"], [0.3333333333333333, \"#9c179e\"], [0.4444444444444444, \"#bd3786\"], [0.5555555555555556, \"#d8576b\"], [0.6666666666666666, \"#ed7953\"], [0.7777777777777778, \"#fb9f3a\"], [0.8888888888888888, \"#fdca26\"], [1.0, \"#f0f921\"]], \"type\": \"histogram2d\"}], \"histogram2dcontour\": [{\"colorbar\": {\"outlinewidth\": 0, \"ticks\": \"\"}, \"colorscale\": [[0.0, \"#0d0887\"], [0.1111111111111111, \"#46039f\"], [0.2222222222222222, \"#7201a8\"], [0.3333333333333333, \"#9c179e\"], [0.4444444444444444, \"#bd3786\"], [0.5555555555555556, \"#d8576b\"], [0.6666666666666666, \"#ed7953\"], [0.7777777777777778, \"#fb9f3a\"], [0.8888888888888888, \"#fdca26\"], [1.0, \"#f0f921\"]], \"type\": \"histogram2dcontour\"}], \"mesh3d\": [{\"colorbar\": {\"outlinewidth\": 0, \"ticks\": \"\"}, \"type\": \"mesh3d\"}], \"parcoords\": [{\"line\": {\"colorbar\": {\"outlinewidth\": 0, \"ticks\": \"\"}}, \"type\": \"parcoords\"}], \"pie\": [{\"automargin\": true, \"type\": \"pie\"}], \"scatter\": [{\"marker\": {\"colorbar\": {\"outlinewidth\": 0, \"ticks\": \"\"}}, \"type\": \"scatter\"}], \"scatter3d\": [{\"line\": {\"colorbar\": {\"outlinewidth\": 0, \"ticks\": \"\"}}, \"marker\": {\"colorbar\": {\"outlinewidth\": 0, \"ticks\": \"\"}}, \"type\": \"scatter3d\"}], \"scattercarpet\": [{\"marker\": {\"colorbar\": {\"outlinewidth\": 0, \"ticks\": \"\"}}, \"type\": \"scattercarpet\"}], \"scattergeo\": [{\"marker\": {\"colorbar\": {\"outlinewidth\": 0, \"ticks\": \"\"}}, \"type\": \"scattergeo\"}], \"scattergl\": [{\"marker\": {\"colorbar\": {\"outlinewidth\": 0, \"ticks\": \"\"}}, \"type\": \"scattergl\"}], \"scattermapbox\": [{\"marker\": {\"colorbar\": {\"outlinewidth\": 0, \"ticks\": \"\"}}, \"type\": \"scattermapbox\"}], \"scatterpolar\": [{\"marker\": {\"colorbar\": {\"outlinewidth\": 0, \"ticks\": \"\"}}, \"type\": \"scatterpolar\"}], \"scatterpolargl\": [{\"marker\": {\"colorbar\": {\"outlinewidth\": 0, \"ticks\": \"\"}}, \"type\": \"scatterpolargl\"}], \"scatterternary\": [{\"marker\": {\"colorbar\": {\"outlinewidth\": 0, \"ticks\": \"\"}}, \"type\": \"scatterternary\"}], \"surface\": [{\"colorbar\": {\"outlinewidth\": 0, \"ticks\": \"\"}, \"colorscale\": [[0.0, \"#0d0887\"], [0.1111111111111111, \"#46039f\"], [0.2222222222222222, \"#7201a8\"], [0.3333333333333333, \"#9c179e\"], [0.4444444444444444, \"#bd3786\"], [0.5555555555555556, \"#d8576b\"], [0.6666666666666666, \"#ed7953\"], [0.7777777777777778, \"#fb9f3a\"], [0.8888888888888888, \"#fdca26\"], [1.0, \"#f0f921\"]], \"type\": \"surface\"}], \"table\": [{\"cells\": {\"fill\": {\"color\": \"#EBF0F8\"}, \"line\": {\"color\": \"white\"}}, \"header\": {\"fill\": {\"color\": \"#C8D4E3\"}, \"line\": {\"color\": \"white\"}}, \"type\": \"table\"}]}, \"layout\": {\"annotationdefaults\": {\"arrowcolor\": \"#2a3f5f\", \"arrowhead\": 0, \"arrowwidth\": 1}, \"coloraxis\": {\"colorbar\": {\"outlinewidth\": 0, \"ticks\": \"\"}}, \"colorscale\": {\"diverging\": [[0, \"#8e0152\"], [0.1, \"#c51b7d\"], [0.2, \"#de77ae\"], [0.3, \"#f1b6da\"], [0.4, \"#fde0ef\"], [0.5, \"#f7f7f7\"], [0.6, \"#e6f5d0\"], [0.7, \"#b8e186\"], [0.8, \"#7fbc41\"], [0.9, \"#4d9221\"], [1, \"#276419\"]], \"sequential\": [[0.0, \"#0d0887\"], [0.1111111111111111, \"#46039f\"], [0.2222222222222222, \"#7201a8\"], [0.3333333333333333, \"#9c179e\"], [0.4444444444444444, \"#bd3786\"], [0.5555555555555556, \"#d8576b\"], [0.6666666666666666, \"#ed7953\"], [0.7777777777777778, \"#fb9f3a\"], [0.8888888888888888, \"#fdca26\"], [1.0, \"#f0f921\"]], \"sequentialminus\": [[0.0, \"#0d0887\"], [0.1111111111111111, \"#46039f\"], [0.2222222222222222, \"#7201a8\"], [0.3333333333333333, \"#9c179e\"], [0.4444444444444444, \"#bd3786\"], [0.5555555555555556, \"#d8576b\"], [0.6666666666666666, \"#ed7953\"], [0.7777777777777778, \"#fb9f3a\"], [0.8888888888888888, \"#fdca26\"], [1.0, \"#f0f921\"]]}, \"colorway\": [\"#636efa\", \"#EF553B\", \"#00cc96\", \"#ab63fa\", \"#FFA15A\", \"#19d3f3\", \"#FF6692\", \"#B6E880\", \"#FF97FF\", \"#FECB52\"], \"font\": {\"color\": \"#2a3f5f\"}, \"geo\": {\"bgcolor\": \"white\", \"lakecolor\": \"white\", \"landcolor\": \"#E5ECF6\", \"showlakes\": true, \"showland\": true, \"subunitcolor\": \"white\"}, \"hoverlabel\": {\"align\": \"left\"}, \"hovermode\": \"closest\", \"mapbox\": {\"style\": \"light\"}, \"paper_bgcolor\": \"white\", \"plot_bgcolor\": \"#E5ECF6\", \"polar\": {\"angularaxis\": {\"gridcolor\": \"white\", \"linecolor\": \"white\", \"ticks\": \"\"}, \"bgcolor\": \"#E5ECF6\", \"radialaxis\": {\"gridcolor\": \"white\", \"linecolor\": \"white\", \"ticks\": \"\"}}, \"scene\": {\"xaxis\": {\"backgroundcolor\": \"#E5ECF6\", \"gridcolor\": \"white\", \"gridwidth\": 2, \"linecolor\": \"white\", \"showbackground\": true, \"ticks\": \"\", \"zerolinecolor\": \"white\"}, \"yaxis\": {\"backgroundcolor\": \"#E5ECF6\", \"gridcolor\": \"white\", \"gridwidth\": 2, \"linecolor\": \"white\", \"showbackground\": true, \"ticks\": \"\", \"zerolinecolor\": \"white\"}, \"zaxis\": {\"backgroundcolor\": \"#E5ECF6\", \"gridcolor\": \"white\", \"gridwidth\": 2, \"linecolor\": \"white\", \"showbackground\": true, \"ticks\": \"\", \"zerolinecolor\": \"white\"}}, \"shapedefaults\": {\"line\": {\"color\": \"#2a3f5f\"}}, \"ternary\": {\"aaxis\": {\"gridcolor\": \"white\", \"linecolor\": \"white\", \"ticks\": \"\"}, \"baxis\": {\"gridcolor\": \"white\", \"linecolor\": \"white\", \"ticks\": \"\"}, \"bgcolor\": \"#E5ECF6\", \"caxis\": {\"gridcolor\": \"white\", \"linecolor\": \"white\", \"ticks\": \"\"}}, \"title\": {\"x\": 0.05}, \"xaxis\": {\"automargin\": true, \"gridcolor\": \"white\", \"linecolor\": \"white\", \"ticks\": \"\", \"title\": {\"standoff\": 15}, \"zerolinecolor\": \"white\", \"zerolinewidth\": 2}, \"yaxis\": {\"automargin\": true, \"gridcolor\": \"white\", \"linecolor\": \"white\", \"ticks\": \"\", \"title\": {\"standoff\": 15}, \"zerolinecolor\": \"white\", \"zerolinewidth\": 2}}}, \"title\": {\"text\": \"Total de Poder por Tipo de Pok\\u00e9mon\"}, \"xaxis\": {\"title\": {\"text\": \"Tipo\"}}, \"yaxis\": {\"title\": {\"text\": \"Total Poder\"}}},\n",
       "                        {\"responsive\": true}\n",
       "                    ).then(function(){\n",
       "                            \n",
       "var gd = document.getElementById('4b29d194-f294-4cdc-bed4-301666e9bf0d');\n",
       "var x = new MutationObserver(function (mutations, observer) {{\n",
       "        var display = window.getComputedStyle(gd).display;\n",
       "        if (!display || display === 'none') {{\n",
       "            console.log([gd, 'removed!']);\n",
       "            Plotly.purge(gd);\n",
       "            observer.disconnect();\n",
       "        }}\n",
       "}});\n",
       "\n",
       "// Listen for the removal of the full notebook cells\n",
       "var notebookContainer = gd.closest('#notebook-container');\n",
       "if (notebookContainer) {{\n",
       "    x.observe(notebookContainer, {childList: true});\n",
       "}}\n",
       "\n",
       "// Listen for the clearing of the current output cell\n",
       "var outputEl = gd.closest('.output');\n",
       "if (outputEl) {{\n",
       "    x.observe(outputEl, {childList: true});\n",
       "}}\n",
       "\n",
       "                        })\n",
       "                };\n",
       "                });\n",
       "            </script>\n",
       "        </div>"
      ]
     },
     "metadata": {},
     "output_type": "display_data"
    }
   ],
   "source": [
    "poder_por_tipo()"
   ]
  },
  {
   "cell_type": "markdown",
   "metadata": {
    "slideshow": {
     "slide_type": "slide"
    }
   },
   "source": [
    "# Quanto poder cada Pokémon adquire com uma evolução?"
   ]
  },
  {
   "cell_type": "code",
   "execution_count": 26,
   "metadata": {
    "slideshow": {
     "slide_type": "skip"
    }
   },
   "outputs": [],
   "source": [
    "def evolucao_poder_2():\n",
    "    pokemon_evolu = pd.read_csv(r\"C:\\Users\\saorafro\\Desktop\\Pós Graduação\\Visualização de Dados\\data\\pokemon_evolu_2.csv\", encoding='unicode_escape')\n",
    "    poke_atual = \"\"\n",
    "    x = []\n",
    "    y1 = []\n",
    "    y2 = []\n",
    "    y3 = []\n",
    "    for index, poke in pokemon_evolu.iterrows():\n",
    "        if poke_atual != str(poke['First Stage']):\n",
    "            poke_atual = str(poke['First Stage'])\n",
    "            x.append(poke_atual)\n",
    "            count = 1\n",
    "            for index, poke2 in pokemon_evolu.iterrows():\n",
    "                if poke_atual == str(poke2['First Stage']):\n",
    "                    if count == 1:\n",
    "                        y1.append(int(poke2['Total']))\n",
    "                        count +=1\n",
    "                    elif count == 2:\n",
    "                        y2.append(int(poke2['Total']))\n",
    "                        count +=1\n",
    "                    else:\n",
    "                        y3.append(int(poke2['Total']))\n",
    "                        count +=1\n",
    "\n",
    "    y3 = [a_i - b_i for a_i, b_i in zip(y3, y2)]\n",
    "    y2 = [a_i - b_i for a_i, b_i in zip(y2, y1)]\n",
    "\n",
    "    layout = go.Layout(\n",
    "        yaxis=dict(title='Total Poder')\n",
    "    )\n",
    "\n",
    "    fig = go.Figure(data=[\n",
    "        go.Bar(name='Stage 1', x=x, y=y1),\n",
    "        go.Bar(name='Stage 2', x=x, y=y2),\n",
    "        go.Bar(name='Stage 3', x=x, y=y3)\n",
    "    ], layout=layout)\n",
    "    fig.update_layout(barmode='stack', xaxis={'categoryorder':'total ascending'}, title_text='Total Poder por Evolução (2 Estágios)')\n",
    "    fig.show()"
   ]
  },
  {
   "cell_type": "code",
   "execution_count": 27,
   "metadata": {
    "slideshow": {
     "slide_type": "subslide"
    }
   },
   "outputs": [
    {
     "data": {
      "application/vnd.plotly.v1+json": {
       "config": {
        "plotlyServerURL": "https://plot.ly"
       },
       "data": [
        {
         "name": "Stage 1",
         "type": "bar",
         "x": [
          "Rattata",
          "Spearow",
          "Ekans",
          "Pikachu",
          "Sandshrew",
          "Clefairy",
          "Vulpix",
          "Jigglypuff",
          "Zubat",
          "Paras",
          "Venonat",
          "Diglett",
          "Meowth",
          "Psyduck",
          "Mankey",
          "Growlithe",
          "Tentacool",
          "Ponyta",
          "Slowpoke",
          "Magnemite",
          "Doduo",
          "Seel",
          "Grimer",
          "Shellder",
          "Drowzee",
          "Krabby",
          "Voltorb",
          "Exeggcute",
          "Cubone",
          "Koffing",
          "Rhyhorn",
          "Horsea",
          "Goldeen",
          "Staryu",
          "Magikarp",
          "Eevee",
          "Omanyte",
          "Kabuto"
         ],
         "y": [
          253,
          262,
          288,
          320,
          300,
          323,
          299,
          270,
          245,
          285,
          305,
          265,
          290,
          320,
          305,
          350,
          335,
          410,
          315,
          325,
          310,
          325,
          325,
          305,
          328,
          325,
          330,
          325,
          320,
          340,
          345,
          295,
          320,
          340,
          200,
          325,
          355,
          355
         ]
        },
        {
         "name": "Stage 2",
         "type": "bar",
         "x": [
          "Rattata",
          "Spearow",
          "Ekans",
          "Pikachu",
          "Sandshrew",
          "Clefairy",
          "Vulpix",
          "Jigglypuff",
          "Zubat",
          "Paras",
          "Venonat",
          "Diglett",
          "Meowth",
          "Psyduck",
          "Mankey",
          "Growlithe",
          "Tentacool",
          "Ponyta",
          "Slowpoke",
          "Magnemite",
          "Doduo",
          "Seel",
          "Grimer",
          "Shellder",
          "Drowzee",
          "Krabby",
          "Voltorb",
          "Exeggcute",
          "Cubone",
          "Koffing",
          "Rhyhorn",
          "Horsea",
          "Goldeen",
          "Staryu",
          "Magikarp",
          "Eevee",
          "Omanyte",
          "Kabuto"
         ],
         "y": [
          160,
          180,
          150,
          165,
          150,
          160,
          206,
          165,
          210,
          120,
          145,
          140,
          150,
          180,
          150,
          205,
          180,
          90,
          175,
          140,
          150,
          150,
          175,
          220,
          155,
          150,
          150,
          195,
          105,
          150,
          140,
          145,
          130,
          180,
          340,
          200,
          140,
          140
         ]
        },
        {
         "name": "Stage 3",
         "type": "bar",
         "x": [
          "Rattata",
          "Spearow",
          "Ekans",
          "Pikachu",
          "Sandshrew",
          "Clefairy",
          "Vulpix",
          "Jigglypuff",
          "Zubat",
          "Paras",
          "Venonat",
          "Diglett",
          "Meowth",
          "Psyduck",
          "Mankey",
          "Growlithe",
          "Tentacool",
          "Ponyta",
          "Slowpoke",
          "Magnemite",
          "Doduo",
          "Seel",
          "Grimer",
          "Shellder",
          "Drowzee",
          "Krabby",
          "Voltorb",
          "Exeggcute",
          "Cubone",
          "Koffing",
          "Rhyhorn",
          "Horsea",
          "Goldeen",
          "Staryu",
          "Magikarp",
          "Eevee",
          "Omanyte",
          "Kabuto"
         ],
         "y": []
        }
       ],
       "layout": {
        "barmode": "stack",
        "template": {
         "data": {
          "bar": [
           {
            "error_x": {
             "color": "#2a3f5f"
            },
            "error_y": {
             "color": "#2a3f5f"
            },
            "marker": {
             "line": {
              "color": "#E5ECF6",
              "width": 0.5
             }
            },
            "type": "bar"
           }
          ],
          "barpolar": [
           {
            "marker": {
             "line": {
              "color": "#E5ECF6",
              "width": 0.5
             }
            },
            "type": "barpolar"
           }
          ],
          "carpet": [
           {
            "aaxis": {
             "endlinecolor": "#2a3f5f",
             "gridcolor": "white",
             "linecolor": "white",
             "minorgridcolor": "white",
             "startlinecolor": "#2a3f5f"
            },
            "baxis": {
             "endlinecolor": "#2a3f5f",
             "gridcolor": "white",
             "linecolor": "white",
             "minorgridcolor": "white",
             "startlinecolor": "#2a3f5f"
            },
            "type": "carpet"
           }
          ],
          "choropleth": [
           {
            "colorbar": {
             "outlinewidth": 0,
             "ticks": ""
            },
            "type": "choropleth"
           }
          ],
          "contour": [
           {
            "colorbar": {
             "outlinewidth": 0,
             "ticks": ""
            },
            "colorscale": [
             [
              0,
              "#0d0887"
             ],
             [
              0.1111111111111111,
              "#46039f"
             ],
             [
              0.2222222222222222,
              "#7201a8"
             ],
             [
              0.3333333333333333,
              "#9c179e"
             ],
             [
              0.4444444444444444,
              "#bd3786"
             ],
             [
              0.5555555555555556,
              "#d8576b"
             ],
             [
              0.6666666666666666,
              "#ed7953"
             ],
             [
              0.7777777777777778,
              "#fb9f3a"
             ],
             [
              0.8888888888888888,
              "#fdca26"
             ],
             [
              1,
              "#f0f921"
             ]
            ],
            "type": "contour"
           }
          ],
          "contourcarpet": [
           {
            "colorbar": {
             "outlinewidth": 0,
             "ticks": ""
            },
            "type": "contourcarpet"
           }
          ],
          "heatmap": [
           {
            "colorbar": {
             "outlinewidth": 0,
             "ticks": ""
            },
            "colorscale": [
             [
              0,
              "#0d0887"
             ],
             [
              0.1111111111111111,
              "#46039f"
             ],
             [
              0.2222222222222222,
              "#7201a8"
             ],
             [
              0.3333333333333333,
              "#9c179e"
             ],
             [
              0.4444444444444444,
              "#bd3786"
             ],
             [
              0.5555555555555556,
              "#d8576b"
             ],
             [
              0.6666666666666666,
              "#ed7953"
             ],
             [
              0.7777777777777778,
              "#fb9f3a"
             ],
             [
              0.8888888888888888,
              "#fdca26"
             ],
             [
              1,
              "#f0f921"
             ]
            ],
            "type": "heatmap"
           }
          ],
          "heatmapgl": [
           {
            "colorbar": {
             "outlinewidth": 0,
             "ticks": ""
            },
            "colorscale": [
             [
              0,
              "#0d0887"
             ],
             [
              0.1111111111111111,
              "#46039f"
             ],
             [
              0.2222222222222222,
              "#7201a8"
             ],
             [
              0.3333333333333333,
              "#9c179e"
             ],
             [
              0.4444444444444444,
              "#bd3786"
             ],
             [
              0.5555555555555556,
              "#d8576b"
             ],
             [
              0.6666666666666666,
              "#ed7953"
             ],
             [
              0.7777777777777778,
              "#fb9f3a"
             ],
             [
              0.8888888888888888,
              "#fdca26"
             ],
             [
              1,
              "#f0f921"
             ]
            ],
            "type": "heatmapgl"
           }
          ],
          "histogram": [
           {
            "marker": {
             "colorbar": {
              "outlinewidth": 0,
              "ticks": ""
             }
            },
            "type": "histogram"
           }
          ],
          "histogram2d": [
           {
            "colorbar": {
             "outlinewidth": 0,
             "ticks": ""
            },
            "colorscale": [
             [
              0,
              "#0d0887"
             ],
             [
              0.1111111111111111,
              "#46039f"
             ],
             [
              0.2222222222222222,
              "#7201a8"
             ],
             [
              0.3333333333333333,
              "#9c179e"
             ],
             [
              0.4444444444444444,
              "#bd3786"
             ],
             [
              0.5555555555555556,
              "#d8576b"
             ],
             [
              0.6666666666666666,
              "#ed7953"
             ],
             [
              0.7777777777777778,
              "#fb9f3a"
             ],
             [
              0.8888888888888888,
              "#fdca26"
             ],
             [
              1,
              "#f0f921"
             ]
            ],
            "type": "histogram2d"
           }
          ],
          "histogram2dcontour": [
           {
            "colorbar": {
             "outlinewidth": 0,
             "ticks": ""
            },
            "colorscale": [
             [
              0,
              "#0d0887"
             ],
             [
              0.1111111111111111,
              "#46039f"
             ],
             [
              0.2222222222222222,
              "#7201a8"
             ],
             [
              0.3333333333333333,
              "#9c179e"
             ],
             [
              0.4444444444444444,
              "#bd3786"
             ],
             [
              0.5555555555555556,
              "#d8576b"
             ],
             [
              0.6666666666666666,
              "#ed7953"
             ],
             [
              0.7777777777777778,
              "#fb9f3a"
             ],
             [
              0.8888888888888888,
              "#fdca26"
             ],
             [
              1,
              "#f0f921"
             ]
            ],
            "type": "histogram2dcontour"
           }
          ],
          "mesh3d": [
           {
            "colorbar": {
             "outlinewidth": 0,
             "ticks": ""
            },
            "type": "mesh3d"
           }
          ],
          "parcoords": [
           {
            "line": {
             "colorbar": {
              "outlinewidth": 0,
              "ticks": ""
             }
            },
            "type": "parcoords"
           }
          ],
          "pie": [
           {
            "automargin": true,
            "type": "pie"
           }
          ],
          "scatter": [
           {
            "marker": {
             "colorbar": {
              "outlinewidth": 0,
              "ticks": ""
             }
            },
            "type": "scatter"
           }
          ],
          "scatter3d": [
           {
            "line": {
             "colorbar": {
              "outlinewidth": 0,
              "ticks": ""
             }
            },
            "marker": {
             "colorbar": {
              "outlinewidth": 0,
              "ticks": ""
             }
            },
            "type": "scatter3d"
           }
          ],
          "scattercarpet": [
           {
            "marker": {
             "colorbar": {
              "outlinewidth": 0,
              "ticks": ""
             }
            },
            "type": "scattercarpet"
           }
          ],
          "scattergeo": [
           {
            "marker": {
             "colorbar": {
              "outlinewidth": 0,
              "ticks": ""
             }
            },
            "type": "scattergeo"
           }
          ],
          "scattergl": [
           {
            "marker": {
             "colorbar": {
              "outlinewidth": 0,
              "ticks": ""
             }
            },
            "type": "scattergl"
           }
          ],
          "scattermapbox": [
           {
            "marker": {
             "colorbar": {
              "outlinewidth": 0,
              "ticks": ""
             }
            },
            "type": "scattermapbox"
           }
          ],
          "scatterpolar": [
           {
            "marker": {
             "colorbar": {
              "outlinewidth": 0,
              "ticks": ""
             }
            },
            "type": "scatterpolar"
           }
          ],
          "scatterpolargl": [
           {
            "marker": {
             "colorbar": {
              "outlinewidth": 0,
              "ticks": ""
             }
            },
            "type": "scatterpolargl"
           }
          ],
          "scatterternary": [
           {
            "marker": {
             "colorbar": {
              "outlinewidth": 0,
              "ticks": ""
             }
            },
            "type": "scatterternary"
           }
          ],
          "surface": [
           {
            "colorbar": {
             "outlinewidth": 0,
             "ticks": ""
            },
            "colorscale": [
             [
              0,
              "#0d0887"
             ],
             [
              0.1111111111111111,
              "#46039f"
             ],
             [
              0.2222222222222222,
              "#7201a8"
             ],
             [
              0.3333333333333333,
              "#9c179e"
             ],
             [
              0.4444444444444444,
              "#bd3786"
             ],
             [
              0.5555555555555556,
              "#d8576b"
             ],
             [
              0.6666666666666666,
              "#ed7953"
             ],
             [
              0.7777777777777778,
              "#fb9f3a"
             ],
             [
              0.8888888888888888,
              "#fdca26"
             ],
             [
              1,
              "#f0f921"
             ]
            ],
            "type": "surface"
           }
          ],
          "table": [
           {
            "cells": {
             "fill": {
              "color": "#EBF0F8"
             },
             "line": {
              "color": "white"
             }
            },
            "header": {
             "fill": {
              "color": "#C8D4E3"
             },
             "line": {
              "color": "white"
             }
            },
            "type": "table"
           }
          ]
         },
         "layout": {
          "annotationdefaults": {
           "arrowcolor": "#2a3f5f",
           "arrowhead": 0,
           "arrowwidth": 1
          },
          "coloraxis": {
           "colorbar": {
            "outlinewidth": 0,
            "ticks": ""
           }
          },
          "colorscale": {
           "diverging": [
            [
             0,
             "#8e0152"
            ],
            [
             0.1,
             "#c51b7d"
            ],
            [
             0.2,
             "#de77ae"
            ],
            [
             0.3,
             "#f1b6da"
            ],
            [
             0.4,
             "#fde0ef"
            ],
            [
             0.5,
             "#f7f7f7"
            ],
            [
             0.6,
             "#e6f5d0"
            ],
            [
             0.7,
             "#b8e186"
            ],
            [
             0.8,
             "#7fbc41"
            ],
            [
             0.9,
             "#4d9221"
            ],
            [
             1,
             "#276419"
            ]
           ],
           "sequential": [
            [
             0,
             "#0d0887"
            ],
            [
             0.1111111111111111,
             "#46039f"
            ],
            [
             0.2222222222222222,
             "#7201a8"
            ],
            [
             0.3333333333333333,
             "#9c179e"
            ],
            [
             0.4444444444444444,
             "#bd3786"
            ],
            [
             0.5555555555555556,
             "#d8576b"
            ],
            [
             0.6666666666666666,
             "#ed7953"
            ],
            [
             0.7777777777777778,
             "#fb9f3a"
            ],
            [
             0.8888888888888888,
             "#fdca26"
            ],
            [
             1,
             "#f0f921"
            ]
           ],
           "sequentialminus": [
            [
             0,
             "#0d0887"
            ],
            [
             0.1111111111111111,
             "#46039f"
            ],
            [
             0.2222222222222222,
             "#7201a8"
            ],
            [
             0.3333333333333333,
             "#9c179e"
            ],
            [
             0.4444444444444444,
             "#bd3786"
            ],
            [
             0.5555555555555556,
             "#d8576b"
            ],
            [
             0.6666666666666666,
             "#ed7953"
            ],
            [
             0.7777777777777778,
             "#fb9f3a"
            ],
            [
             0.8888888888888888,
             "#fdca26"
            ],
            [
             1,
             "#f0f921"
            ]
           ]
          },
          "colorway": [
           "#636efa",
           "#EF553B",
           "#00cc96",
           "#ab63fa",
           "#FFA15A",
           "#19d3f3",
           "#FF6692",
           "#B6E880",
           "#FF97FF",
           "#FECB52"
          ],
          "font": {
           "color": "#2a3f5f"
          },
          "geo": {
           "bgcolor": "white",
           "lakecolor": "white",
           "landcolor": "#E5ECF6",
           "showlakes": true,
           "showland": true,
           "subunitcolor": "white"
          },
          "hoverlabel": {
           "align": "left"
          },
          "hovermode": "closest",
          "mapbox": {
           "style": "light"
          },
          "paper_bgcolor": "white",
          "plot_bgcolor": "#E5ECF6",
          "polar": {
           "angularaxis": {
            "gridcolor": "white",
            "linecolor": "white",
            "ticks": ""
           },
           "bgcolor": "#E5ECF6",
           "radialaxis": {
            "gridcolor": "white",
            "linecolor": "white",
            "ticks": ""
           }
          },
          "scene": {
           "xaxis": {
            "backgroundcolor": "#E5ECF6",
            "gridcolor": "white",
            "gridwidth": 2,
            "linecolor": "white",
            "showbackground": true,
            "ticks": "",
            "zerolinecolor": "white"
           },
           "yaxis": {
            "backgroundcolor": "#E5ECF6",
            "gridcolor": "white",
            "gridwidth": 2,
            "linecolor": "white",
            "showbackground": true,
            "ticks": "",
            "zerolinecolor": "white"
           },
           "zaxis": {
            "backgroundcolor": "#E5ECF6",
            "gridcolor": "white",
            "gridwidth": 2,
            "linecolor": "white",
            "showbackground": true,
            "ticks": "",
            "zerolinecolor": "white"
           }
          },
          "shapedefaults": {
           "line": {
            "color": "#2a3f5f"
           }
          },
          "ternary": {
           "aaxis": {
            "gridcolor": "white",
            "linecolor": "white",
            "ticks": ""
           },
           "baxis": {
            "gridcolor": "white",
            "linecolor": "white",
            "ticks": ""
           },
           "bgcolor": "#E5ECF6",
           "caxis": {
            "gridcolor": "white",
            "linecolor": "white",
            "ticks": ""
           }
          },
          "title": {
           "x": 0.05
          },
          "xaxis": {
           "automargin": true,
           "gridcolor": "white",
           "linecolor": "white",
           "ticks": "",
           "title": {
            "standoff": 15
           },
           "zerolinecolor": "white",
           "zerolinewidth": 2
          },
          "yaxis": {
           "automargin": true,
           "gridcolor": "white",
           "linecolor": "white",
           "ticks": "",
           "title": {
            "standoff": 15
           },
           "zerolinecolor": "white",
           "zerolinewidth": 2
          }
         }
        },
        "title": {
         "text": "Total Poder por Evolução (2 Estágios)"
        },
        "xaxis": {
         "categoryorder": "total ascending"
        },
        "yaxis": {
         "title": {
          "text": "Total Poder"
         }
        }
       }
      },
      "text/html": [
       "<div>\n",
       "        \n",
       "        \n",
       "            <div id=\"63a9f102-580b-4624-adfa-272b80878802\" class=\"plotly-graph-div\" style=\"height:525px; width:100%;\"></div>\n",
       "            <script type=\"text/javascript\">\n",
       "                require([\"plotly\"], function(Plotly) {\n",
       "                    window.PLOTLYENV=window.PLOTLYENV || {};\n",
       "                    \n",
       "                if (document.getElementById(\"63a9f102-580b-4624-adfa-272b80878802\")) {\n",
       "                    Plotly.newPlot(\n",
       "                        '63a9f102-580b-4624-adfa-272b80878802',\n",
       "                        [{\"name\": \"Stage 1\", \"type\": \"bar\", \"x\": [\"Rattata\", \"Spearow\", \"Ekans\", \"Pikachu\", \"Sandshrew\", \"Clefairy\", \"Vulpix\", \"Jigglypuff\", \"Zubat\", \"Paras\", \"Venonat\", \"Diglett\", \"Meowth\", \"Psyduck\", \"Mankey\", \"Growlithe\", \"Tentacool\", \"Ponyta\", \"Slowpoke\", \"Magnemite\", \"Doduo\", \"Seel\", \"Grimer\", \"Shellder\", \"Drowzee\", \"Krabby\", \"Voltorb\", \"Exeggcute\", \"Cubone\", \"Koffing\", \"Rhyhorn\", \"Horsea\", \"Goldeen\", \"Staryu\", \"Magikarp\", \"Eevee\", \"Omanyte\", \"Kabuto\"], \"y\": [253, 262, 288, 320, 300, 323, 299, 270, 245, 285, 305, 265, 290, 320, 305, 350, 335, 410, 315, 325, 310, 325, 325, 305, 328, 325, 330, 325, 320, 340, 345, 295, 320, 340, 200, 325, 355, 355]}, {\"name\": \"Stage 2\", \"type\": \"bar\", \"x\": [\"Rattata\", \"Spearow\", \"Ekans\", \"Pikachu\", \"Sandshrew\", \"Clefairy\", \"Vulpix\", \"Jigglypuff\", \"Zubat\", \"Paras\", \"Venonat\", \"Diglett\", \"Meowth\", \"Psyduck\", \"Mankey\", \"Growlithe\", \"Tentacool\", \"Ponyta\", \"Slowpoke\", \"Magnemite\", \"Doduo\", \"Seel\", \"Grimer\", \"Shellder\", \"Drowzee\", \"Krabby\", \"Voltorb\", \"Exeggcute\", \"Cubone\", \"Koffing\", \"Rhyhorn\", \"Horsea\", \"Goldeen\", \"Staryu\", \"Magikarp\", \"Eevee\", \"Omanyte\", \"Kabuto\"], \"y\": [160, 180, 150, 165, 150, 160, 206, 165, 210, 120, 145, 140, 150, 180, 150, 205, 180, 90, 175, 140, 150, 150, 175, 220, 155, 150, 150, 195, 105, 150, 140, 145, 130, 180, 340, 200, 140, 140]}, {\"name\": \"Stage 3\", \"type\": \"bar\", \"x\": [\"Rattata\", \"Spearow\", \"Ekans\", \"Pikachu\", \"Sandshrew\", \"Clefairy\", \"Vulpix\", \"Jigglypuff\", \"Zubat\", \"Paras\", \"Venonat\", \"Diglett\", \"Meowth\", \"Psyduck\", \"Mankey\", \"Growlithe\", \"Tentacool\", \"Ponyta\", \"Slowpoke\", \"Magnemite\", \"Doduo\", \"Seel\", \"Grimer\", \"Shellder\", \"Drowzee\", \"Krabby\", \"Voltorb\", \"Exeggcute\", \"Cubone\", \"Koffing\", \"Rhyhorn\", \"Horsea\", \"Goldeen\", \"Staryu\", \"Magikarp\", \"Eevee\", \"Omanyte\", \"Kabuto\"], \"y\": []}],\n",
       "                        {\"barmode\": \"stack\", \"template\": {\"data\": {\"bar\": [{\"error_x\": {\"color\": \"#2a3f5f\"}, \"error_y\": {\"color\": \"#2a3f5f\"}, \"marker\": {\"line\": {\"color\": \"#E5ECF6\", \"width\": 0.5}}, \"type\": \"bar\"}], \"barpolar\": [{\"marker\": {\"line\": {\"color\": \"#E5ECF6\", \"width\": 0.5}}, \"type\": \"barpolar\"}], \"carpet\": [{\"aaxis\": {\"endlinecolor\": \"#2a3f5f\", \"gridcolor\": \"white\", \"linecolor\": \"white\", \"minorgridcolor\": \"white\", \"startlinecolor\": \"#2a3f5f\"}, \"baxis\": {\"endlinecolor\": \"#2a3f5f\", \"gridcolor\": \"white\", \"linecolor\": \"white\", \"minorgridcolor\": \"white\", \"startlinecolor\": \"#2a3f5f\"}, \"type\": \"carpet\"}], \"choropleth\": [{\"colorbar\": {\"outlinewidth\": 0, \"ticks\": \"\"}, \"type\": \"choropleth\"}], \"contour\": [{\"colorbar\": {\"outlinewidth\": 0, \"ticks\": \"\"}, \"colorscale\": [[0.0, \"#0d0887\"], [0.1111111111111111, \"#46039f\"], [0.2222222222222222, \"#7201a8\"], [0.3333333333333333, \"#9c179e\"], [0.4444444444444444, \"#bd3786\"], [0.5555555555555556, \"#d8576b\"], [0.6666666666666666, \"#ed7953\"], [0.7777777777777778, \"#fb9f3a\"], [0.8888888888888888, \"#fdca26\"], [1.0, \"#f0f921\"]], \"type\": \"contour\"}], \"contourcarpet\": [{\"colorbar\": {\"outlinewidth\": 0, \"ticks\": \"\"}, \"type\": \"contourcarpet\"}], \"heatmap\": [{\"colorbar\": {\"outlinewidth\": 0, \"ticks\": \"\"}, \"colorscale\": [[0.0, \"#0d0887\"], [0.1111111111111111, \"#46039f\"], [0.2222222222222222, \"#7201a8\"], [0.3333333333333333, \"#9c179e\"], [0.4444444444444444, \"#bd3786\"], [0.5555555555555556, \"#d8576b\"], [0.6666666666666666, \"#ed7953\"], [0.7777777777777778, \"#fb9f3a\"], [0.8888888888888888, \"#fdca26\"], [1.0, \"#f0f921\"]], \"type\": \"heatmap\"}], \"heatmapgl\": [{\"colorbar\": {\"outlinewidth\": 0, \"ticks\": \"\"}, \"colorscale\": [[0.0, \"#0d0887\"], [0.1111111111111111, \"#46039f\"], [0.2222222222222222, \"#7201a8\"], [0.3333333333333333, \"#9c179e\"], [0.4444444444444444, \"#bd3786\"], [0.5555555555555556, \"#d8576b\"], [0.6666666666666666, \"#ed7953\"], [0.7777777777777778, \"#fb9f3a\"], [0.8888888888888888, \"#fdca26\"], [1.0, \"#f0f921\"]], \"type\": \"heatmapgl\"}], \"histogram\": [{\"marker\": {\"colorbar\": {\"outlinewidth\": 0, \"ticks\": \"\"}}, \"type\": \"histogram\"}], \"histogram2d\": [{\"colorbar\": {\"outlinewidth\": 0, \"ticks\": \"\"}, \"colorscale\": [[0.0, \"#0d0887\"], [0.1111111111111111, \"#46039f\"], [0.2222222222222222, \"#7201a8\"], [0.3333333333333333, \"#9c179e\"], [0.4444444444444444, \"#bd3786\"], [0.5555555555555556, \"#d8576b\"], [0.6666666666666666, \"#ed7953\"], [0.7777777777777778, \"#fb9f3a\"], [0.8888888888888888, \"#fdca26\"], [1.0, \"#f0f921\"]], \"type\": \"histogram2d\"}], \"histogram2dcontour\": [{\"colorbar\": {\"outlinewidth\": 0, \"ticks\": \"\"}, \"colorscale\": [[0.0, \"#0d0887\"], [0.1111111111111111, \"#46039f\"], [0.2222222222222222, \"#7201a8\"], [0.3333333333333333, \"#9c179e\"], [0.4444444444444444, \"#bd3786\"], [0.5555555555555556, \"#d8576b\"], [0.6666666666666666, \"#ed7953\"], [0.7777777777777778, \"#fb9f3a\"], [0.8888888888888888, \"#fdca26\"], [1.0, \"#f0f921\"]], \"type\": \"histogram2dcontour\"}], \"mesh3d\": [{\"colorbar\": {\"outlinewidth\": 0, \"ticks\": \"\"}, \"type\": \"mesh3d\"}], \"parcoords\": [{\"line\": {\"colorbar\": {\"outlinewidth\": 0, \"ticks\": \"\"}}, \"type\": \"parcoords\"}], \"pie\": [{\"automargin\": true, \"type\": \"pie\"}], \"scatter\": [{\"marker\": {\"colorbar\": {\"outlinewidth\": 0, \"ticks\": \"\"}}, \"type\": \"scatter\"}], \"scatter3d\": [{\"line\": {\"colorbar\": {\"outlinewidth\": 0, \"ticks\": \"\"}}, \"marker\": {\"colorbar\": {\"outlinewidth\": 0, \"ticks\": \"\"}}, \"type\": \"scatter3d\"}], \"scattercarpet\": [{\"marker\": {\"colorbar\": {\"outlinewidth\": 0, \"ticks\": \"\"}}, \"type\": \"scattercarpet\"}], \"scattergeo\": [{\"marker\": {\"colorbar\": {\"outlinewidth\": 0, \"ticks\": \"\"}}, \"type\": \"scattergeo\"}], \"scattergl\": [{\"marker\": {\"colorbar\": {\"outlinewidth\": 0, \"ticks\": \"\"}}, \"type\": \"scattergl\"}], \"scattermapbox\": [{\"marker\": {\"colorbar\": {\"outlinewidth\": 0, \"ticks\": \"\"}}, \"type\": \"scattermapbox\"}], \"scatterpolar\": [{\"marker\": {\"colorbar\": {\"outlinewidth\": 0, \"ticks\": \"\"}}, \"type\": \"scatterpolar\"}], \"scatterpolargl\": [{\"marker\": {\"colorbar\": {\"outlinewidth\": 0, \"ticks\": \"\"}}, \"type\": \"scatterpolargl\"}], \"scatterternary\": [{\"marker\": {\"colorbar\": {\"outlinewidth\": 0, \"ticks\": \"\"}}, \"type\": \"scatterternary\"}], \"surface\": [{\"colorbar\": {\"outlinewidth\": 0, \"ticks\": \"\"}, \"colorscale\": [[0.0, \"#0d0887\"], [0.1111111111111111, \"#46039f\"], [0.2222222222222222, \"#7201a8\"], [0.3333333333333333, \"#9c179e\"], [0.4444444444444444, \"#bd3786\"], [0.5555555555555556, \"#d8576b\"], [0.6666666666666666, \"#ed7953\"], [0.7777777777777778, \"#fb9f3a\"], [0.8888888888888888, \"#fdca26\"], [1.0, \"#f0f921\"]], \"type\": \"surface\"}], \"table\": [{\"cells\": {\"fill\": {\"color\": \"#EBF0F8\"}, \"line\": {\"color\": \"white\"}}, \"header\": {\"fill\": {\"color\": \"#C8D4E3\"}, \"line\": {\"color\": \"white\"}}, \"type\": \"table\"}]}, \"layout\": {\"annotationdefaults\": {\"arrowcolor\": \"#2a3f5f\", \"arrowhead\": 0, \"arrowwidth\": 1}, \"coloraxis\": {\"colorbar\": {\"outlinewidth\": 0, \"ticks\": \"\"}}, \"colorscale\": {\"diverging\": [[0, \"#8e0152\"], [0.1, \"#c51b7d\"], [0.2, \"#de77ae\"], [0.3, \"#f1b6da\"], [0.4, \"#fde0ef\"], [0.5, \"#f7f7f7\"], [0.6, \"#e6f5d0\"], [0.7, \"#b8e186\"], [0.8, \"#7fbc41\"], [0.9, \"#4d9221\"], [1, \"#276419\"]], \"sequential\": [[0.0, \"#0d0887\"], [0.1111111111111111, \"#46039f\"], [0.2222222222222222, \"#7201a8\"], [0.3333333333333333, \"#9c179e\"], [0.4444444444444444, \"#bd3786\"], [0.5555555555555556, \"#d8576b\"], [0.6666666666666666, \"#ed7953\"], [0.7777777777777778, \"#fb9f3a\"], [0.8888888888888888, \"#fdca26\"], [1.0, \"#f0f921\"]], \"sequentialminus\": [[0.0, \"#0d0887\"], [0.1111111111111111, \"#46039f\"], [0.2222222222222222, \"#7201a8\"], [0.3333333333333333, \"#9c179e\"], [0.4444444444444444, \"#bd3786\"], [0.5555555555555556, \"#d8576b\"], [0.6666666666666666, \"#ed7953\"], [0.7777777777777778, \"#fb9f3a\"], [0.8888888888888888, \"#fdca26\"], [1.0, \"#f0f921\"]]}, \"colorway\": [\"#636efa\", \"#EF553B\", \"#00cc96\", \"#ab63fa\", \"#FFA15A\", \"#19d3f3\", \"#FF6692\", \"#B6E880\", \"#FF97FF\", \"#FECB52\"], \"font\": {\"color\": \"#2a3f5f\"}, \"geo\": {\"bgcolor\": \"white\", \"lakecolor\": \"white\", \"landcolor\": \"#E5ECF6\", \"showlakes\": true, \"showland\": true, \"subunitcolor\": \"white\"}, \"hoverlabel\": {\"align\": \"left\"}, \"hovermode\": \"closest\", \"mapbox\": {\"style\": \"light\"}, \"paper_bgcolor\": \"white\", \"plot_bgcolor\": \"#E5ECF6\", \"polar\": {\"angularaxis\": {\"gridcolor\": \"white\", \"linecolor\": \"white\", \"ticks\": \"\"}, \"bgcolor\": \"#E5ECF6\", \"radialaxis\": {\"gridcolor\": \"white\", \"linecolor\": \"white\", \"ticks\": \"\"}}, \"scene\": {\"xaxis\": {\"backgroundcolor\": \"#E5ECF6\", \"gridcolor\": \"white\", \"gridwidth\": 2, \"linecolor\": \"white\", \"showbackground\": true, \"ticks\": \"\", \"zerolinecolor\": \"white\"}, \"yaxis\": {\"backgroundcolor\": \"#E5ECF6\", \"gridcolor\": \"white\", \"gridwidth\": 2, \"linecolor\": \"white\", \"showbackground\": true, \"ticks\": \"\", \"zerolinecolor\": \"white\"}, \"zaxis\": {\"backgroundcolor\": \"#E5ECF6\", \"gridcolor\": \"white\", \"gridwidth\": 2, \"linecolor\": \"white\", \"showbackground\": true, \"ticks\": \"\", \"zerolinecolor\": \"white\"}}, \"shapedefaults\": {\"line\": {\"color\": \"#2a3f5f\"}}, \"ternary\": {\"aaxis\": {\"gridcolor\": \"white\", \"linecolor\": \"white\", \"ticks\": \"\"}, \"baxis\": {\"gridcolor\": \"white\", \"linecolor\": \"white\", \"ticks\": \"\"}, \"bgcolor\": \"#E5ECF6\", \"caxis\": {\"gridcolor\": \"white\", \"linecolor\": \"white\", \"ticks\": \"\"}}, \"title\": {\"x\": 0.05}, \"xaxis\": {\"automargin\": true, \"gridcolor\": \"white\", \"linecolor\": \"white\", \"ticks\": \"\", \"title\": {\"standoff\": 15}, \"zerolinecolor\": \"white\", \"zerolinewidth\": 2}, \"yaxis\": {\"automargin\": true, \"gridcolor\": \"white\", \"linecolor\": \"white\", \"ticks\": \"\", \"title\": {\"standoff\": 15}, \"zerolinecolor\": \"white\", \"zerolinewidth\": 2}}}, \"title\": {\"text\": \"Total Poder por Evolu\\u00e7\\u00e3o (2 Est\\u00e1gios)\"}, \"xaxis\": {\"categoryorder\": \"total ascending\"}, \"yaxis\": {\"title\": {\"text\": \"Total Poder\"}}},\n",
       "                        {\"responsive\": true}\n",
       "                    ).then(function(){\n",
       "                            \n",
       "var gd = document.getElementById('63a9f102-580b-4624-adfa-272b80878802');\n",
       "var x = new MutationObserver(function (mutations, observer) {{\n",
       "        var display = window.getComputedStyle(gd).display;\n",
       "        if (!display || display === 'none') {{\n",
       "            console.log([gd, 'removed!']);\n",
       "            Plotly.purge(gd);\n",
       "            observer.disconnect();\n",
       "        }}\n",
       "}});\n",
       "\n",
       "// Listen for the removal of the full notebook cells\n",
       "var notebookContainer = gd.closest('#notebook-container');\n",
       "if (notebookContainer) {{\n",
       "    x.observe(notebookContainer, {childList: true});\n",
       "}}\n",
       "\n",
       "// Listen for the clearing of the current output cell\n",
       "var outputEl = gd.closest('.output');\n",
       "if (outputEl) {{\n",
       "    x.observe(outputEl, {childList: true});\n",
       "}}\n",
       "\n",
       "                        })\n",
       "                };\n",
       "                });\n",
       "            </script>\n",
       "        </div>"
      ]
     },
     "metadata": {},
     "output_type": "display_data"
    }
   ],
   "source": [
    " evolucao_poder_2()"
   ]
  },
  {
   "cell_type": "code",
   "execution_count": 32,
   "metadata": {
    "slideshow": {
     "slide_type": "skip"
    }
   },
   "outputs": [],
   "source": [
    "def evolucao_poder_3():\n",
    "    pokemon_evolu = pd.read_csv(r\"C:\\Users\\saorafro\\Desktop\\Pós Graduação\\Visualização de Dados\\data\\pokemon_evolu_3.csv\", encoding='unicode_escape')\n",
    "    poke_atual = \"\"\n",
    "    x = []\n",
    "    y1 = []\n",
    "    y2 = []\n",
    "    y3 = []\n",
    "    for index, poke in pokemon_evolu.iterrows():\n",
    "        if poke_atual != str(poke['First Stage']):\n",
    "            poke_atual = str(poke['First Stage'])\n",
    "            x.append(poke_atual)\n",
    "            count = 1\n",
    "            for index, poke2 in pokemon_evolu.iterrows():\n",
    "                if poke_atual == str(poke2['First Stage']):\n",
    "                    if count == 1:\n",
    "                        y1.append(int(poke2['Total']))\n",
    "                        count +=1\n",
    "                    elif count == 2:\n",
    "                        y2.append(int(poke2['Total']))\n",
    "                        count +=1\n",
    "                    else:\n",
    "                        y3.append(int(poke2['Total']))\n",
    "                        count +=1\n",
    "\n",
    "    y3 = [a_i - b_i for a_i, b_i in zip(y3, y2)]\n",
    "    y2 = [a_i - b_i for a_i, b_i in zip(y2, y1)]\n",
    "\n",
    "    layout = go.Layout(\n",
    "        yaxis=dict(title='Total Poder')\n",
    "    )\n",
    "\n",
    "    fig = go.Figure(data=[\n",
    "        go.Bar(name='Stage 1', x=x, y=y1),\n",
    "        go.Bar(name='Stage 2', x=x, y=y2),\n",
    "        go.Bar(name='Stage 3', x=x, y=y3)\n",
    "    ], layout=layout)\n",
    "    fig.update_layout(barmode='stack', xaxis={'categoryorder':'total ascending'}, title_text='Total Poder por Evolução (3 Estágios)')\n",
    "    fig.show()"
   ]
  },
  {
   "cell_type": "code",
   "execution_count": 33,
   "metadata": {
    "slideshow": {
     "slide_type": "subslide"
    }
   },
   "outputs": [
    {
     "data": {
      "application/vnd.plotly.v1+json": {
       "config": {
        "plotlyServerURL": "https://plot.ly"
       },
       "data": [
        {
         "name": "Stage 1",
         "type": "bar",
         "x": [
          "Bulbasaur",
          "Charmander",
          "Squirtle",
          "Caterpie",
          "Weedle",
          "Pidgey",
          "Nidoran F",
          "Nidoran M",
          "Oddish",
          "Poliwag",
          "Abra",
          "Machop",
          "Bellsprout",
          "Geodude",
          "Gastly",
          "Dratini"
         ],
         "y": [
          318,
          309,
          314,
          195,
          195,
          251,
          275,
          273,
          320,
          300,
          310,
          305,
          300,
          300,
          310,
          300
         ]
        },
        {
         "name": "Stage 2",
         "type": "bar",
         "x": [
          "Bulbasaur",
          "Charmander",
          "Squirtle",
          "Caterpie",
          "Weedle",
          "Pidgey",
          "Nidoran F",
          "Nidoran M",
          "Oddish",
          "Poliwag",
          "Abra",
          "Machop",
          "Bellsprout",
          "Geodude",
          "Gastly",
          "Dratini"
         ],
         "y": [
          87,
          96,
          91,
          10,
          10,
          98,
          90,
          92,
          75,
          85,
          90,
          100,
          90,
          90,
          95,
          120
         ]
        },
        {
         "name": "Stage 3",
         "type": "bar",
         "x": [
          "Bulbasaur",
          "Charmander",
          "Squirtle",
          "Caterpie",
          "Weedle",
          "Pidgey",
          "Nidoran F",
          "Nidoran M",
          "Oddish",
          "Poliwag",
          "Abra",
          "Machop",
          "Bellsprout",
          "Geodude",
          "Gastly",
          "Dratini"
         ],
         "y": [
          120,
          129,
          125,
          190,
          190,
          130,
          140,
          140,
          95,
          125,
          100,
          100,
          100,
          105,
          95,
          180
         ]
        }
       ],
       "layout": {
        "barmode": "stack",
        "template": {
         "data": {
          "bar": [
           {
            "error_x": {
             "color": "#2a3f5f"
            },
            "error_y": {
             "color": "#2a3f5f"
            },
            "marker": {
             "line": {
              "color": "#E5ECF6",
              "width": 0.5
             }
            },
            "type": "bar"
           }
          ],
          "barpolar": [
           {
            "marker": {
             "line": {
              "color": "#E5ECF6",
              "width": 0.5
             }
            },
            "type": "barpolar"
           }
          ],
          "carpet": [
           {
            "aaxis": {
             "endlinecolor": "#2a3f5f",
             "gridcolor": "white",
             "linecolor": "white",
             "minorgridcolor": "white",
             "startlinecolor": "#2a3f5f"
            },
            "baxis": {
             "endlinecolor": "#2a3f5f",
             "gridcolor": "white",
             "linecolor": "white",
             "minorgridcolor": "white",
             "startlinecolor": "#2a3f5f"
            },
            "type": "carpet"
           }
          ],
          "choropleth": [
           {
            "colorbar": {
             "outlinewidth": 0,
             "ticks": ""
            },
            "type": "choropleth"
           }
          ],
          "contour": [
           {
            "colorbar": {
             "outlinewidth": 0,
             "ticks": ""
            },
            "colorscale": [
             [
              0,
              "#0d0887"
             ],
             [
              0.1111111111111111,
              "#46039f"
             ],
             [
              0.2222222222222222,
              "#7201a8"
             ],
             [
              0.3333333333333333,
              "#9c179e"
             ],
             [
              0.4444444444444444,
              "#bd3786"
             ],
             [
              0.5555555555555556,
              "#d8576b"
             ],
             [
              0.6666666666666666,
              "#ed7953"
             ],
             [
              0.7777777777777778,
              "#fb9f3a"
             ],
             [
              0.8888888888888888,
              "#fdca26"
             ],
             [
              1,
              "#f0f921"
             ]
            ],
            "type": "contour"
           }
          ],
          "contourcarpet": [
           {
            "colorbar": {
             "outlinewidth": 0,
             "ticks": ""
            },
            "type": "contourcarpet"
           }
          ],
          "heatmap": [
           {
            "colorbar": {
             "outlinewidth": 0,
             "ticks": ""
            },
            "colorscale": [
             [
              0,
              "#0d0887"
             ],
             [
              0.1111111111111111,
              "#46039f"
             ],
             [
              0.2222222222222222,
              "#7201a8"
             ],
             [
              0.3333333333333333,
              "#9c179e"
             ],
             [
              0.4444444444444444,
              "#bd3786"
             ],
             [
              0.5555555555555556,
              "#d8576b"
             ],
             [
              0.6666666666666666,
              "#ed7953"
             ],
             [
              0.7777777777777778,
              "#fb9f3a"
             ],
             [
              0.8888888888888888,
              "#fdca26"
             ],
             [
              1,
              "#f0f921"
             ]
            ],
            "type": "heatmap"
           }
          ],
          "heatmapgl": [
           {
            "colorbar": {
             "outlinewidth": 0,
             "ticks": ""
            },
            "colorscale": [
             [
              0,
              "#0d0887"
             ],
             [
              0.1111111111111111,
              "#46039f"
             ],
             [
              0.2222222222222222,
              "#7201a8"
             ],
             [
              0.3333333333333333,
              "#9c179e"
             ],
             [
              0.4444444444444444,
              "#bd3786"
             ],
             [
              0.5555555555555556,
              "#d8576b"
             ],
             [
              0.6666666666666666,
              "#ed7953"
             ],
             [
              0.7777777777777778,
              "#fb9f3a"
             ],
             [
              0.8888888888888888,
              "#fdca26"
             ],
             [
              1,
              "#f0f921"
             ]
            ],
            "type": "heatmapgl"
           }
          ],
          "histogram": [
           {
            "marker": {
             "colorbar": {
              "outlinewidth": 0,
              "ticks": ""
             }
            },
            "type": "histogram"
           }
          ],
          "histogram2d": [
           {
            "colorbar": {
             "outlinewidth": 0,
             "ticks": ""
            },
            "colorscale": [
             [
              0,
              "#0d0887"
             ],
             [
              0.1111111111111111,
              "#46039f"
             ],
             [
              0.2222222222222222,
              "#7201a8"
             ],
             [
              0.3333333333333333,
              "#9c179e"
             ],
             [
              0.4444444444444444,
              "#bd3786"
             ],
             [
              0.5555555555555556,
              "#d8576b"
             ],
             [
              0.6666666666666666,
              "#ed7953"
             ],
             [
              0.7777777777777778,
              "#fb9f3a"
             ],
             [
              0.8888888888888888,
              "#fdca26"
             ],
             [
              1,
              "#f0f921"
             ]
            ],
            "type": "histogram2d"
           }
          ],
          "histogram2dcontour": [
           {
            "colorbar": {
             "outlinewidth": 0,
             "ticks": ""
            },
            "colorscale": [
             [
              0,
              "#0d0887"
             ],
             [
              0.1111111111111111,
              "#46039f"
             ],
             [
              0.2222222222222222,
              "#7201a8"
             ],
             [
              0.3333333333333333,
              "#9c179e"
             ],
             [
              0.4444444444444444,
              "#bd3786"
             ],
             [
              0.5555555555555556,
              "#d8576b"
             ],
             [
              0.6666666666666666,
              "#ed7953"
             ],
             [
              0.7777777777777778,
              "#fb9f3a"
             ],
             [
              0.8888888888888888,
              "#fdca26"
             ],
             [
              1,
              "#f0f921"
             ]
            ],
            "type": "histogram2dcontour"
           }
          ],
          "mesh3d": [
           {
            "colorbar": {
             "outlinewidth": 0,
             "ticks": ""
            },
            "type": "mesh3d"
           }
          ],
          "parcoords": [
           {
            "line": {
             "colorbar": {
              "outlinewidth": 0,
              "ticks": ""
             }
            },
            "type": "parcoords"
           }
          ],
          "pie": [
           {
            "automargin": true,
            "type": "pie"
           }
          ],
          "scatter": [
           {
            "marker": {
             "colorbar": {
              "outlinewidth": 0,
              "ticks": ""
             }
            },
            "type": "scatter"
           }
          ],
          "scatter3d": [
           {
            "line": {
             "colorbar": {
              "outlinewidth": 0,
              "ticks": ""
             }
            },
            "marker": {
             "colorbar": {
              "outlinewidth": 0,
              "ticks": ""
             }
            },
            "type": "scatter3d"
           }
          ],
          "scattercarpet": [
           {
            "marker": {
             "colorbar": {
              "outlinewidth": 0,
              "ticks": ""
             }
            },
            "type": "scattercarpet"
           }
          ],
          "scattergeo": [
           {
            "marker": {
             "colorbar": {
              "outlinewidth": 0,
              "ticks": ""
             }
            },
            "type": "scattergeo"
           }
          ],
          "scattergl": [
           {
            "marker": {
             "colorbar": {
              "outlinewidth": 0,
              "ticks": ""
             }
            },
            "type": "scattergl"
           }
          ],
          "scattermapbox": [
           {
            "marker": {
             "colorbar": {
              "outlinewidth": 0,
              "ticks": ""
             }
            },
            "type": "scattermapbox"
           }
          ],
          "scatterpolar": [
           {
            "marker": {
             "colorbar": {
              "outlinewidth": 0,
              "ticks": ""
             }
            },
            "type": "scatterpolar"
           }
          ],
          "scatterpolargl": [
           {
            "marker": {
             "colorbar": {
              "outlinewidth": 0,
              "ticks": ""
             }
            },
            "type": "scatterpolargl"
           }
          ],
          "scatterternary": [
           {
            "marker": {
             "colorbar": {
              "outlinewidth": 0,
              "ticks": ""
             }
            },
            "type": "scatterternary"
           }
          ],
          "surface": [
           {
            "colorbar": {
             "outlinewidth": 0,
             "ticks": ""
            },
            "colorscale": [
             [
              0,
              "#0d0887"
             ],
             [
              0.1111111111111111,
              "#46039f"
             ],
             [
              0.2222222222222222,
              "#7201a8"
             ],
             [
              0.3333333333333333,
              "#9c179e"
             ],
             [
              0.4444444444444444,
              "#bd3786"
             ],
             [
              0.5555555555555556,
              "#d8576b"
             ],
             [
              0.6666666666666666,
              "#ed7953"
             ],
             [
              0.7777777777777778,
              "#fb9f3a"
             ],
             [
              0.8888888888888888,
              "#fdca26"
             ],
             [
              1,
              "#f0f921"
             ]
            ],
            "type": "surface"
           }
          ],
          "table": [
           {
            "cells": {
             "fill": {
              "color": "#EBF0F8"
             },
             "line": {
              "color": "white"
             }
            },
            "header": {
             "fill": {
              "color": "#C8D4E3"
             },
             "line": {
              "color": "white"
             }
            },
            "type": "table"
           }
          ]
         },
         "layout": {
          "annotationdefaults": {
           "arrowcolor": "#2a3f5f",
           "arrowhead": 0,
           "arrowwidth": 1
          },
          "coloraxis": {
           "colorbar": {
            "outlinewidth": 0,
            "ticks": ""
           }
          },
          "colorscale": {
           "diverging": [
            [
             0,
             "#8e0152"
            ],
            [
             0.1,
             "#c51b7d"
            ],
            [
             0.2,
             "#de77ae"
            ],
            [
             0.3,
             "#f1b6da"
            ],
            [
             0.4,
             "#fde0ef"
            ],
            [
             0.5,
             "#f7f7f7"
            ],
            [
             0.6,
             "#e6f5d0"
            ],
            [
             0.7,
             "#b8e186"
            ],
            [
             0.8,
             "#7fbc41"
            ],
            [
             0.9,
             "#4d9221"
            ],
            [
             1,
             "#276419"
            ]
           ],
           "sequential": [
            [
             0,
             "#0d0887"
            ],
            [
             0.1111111111111111,
             "#46039f"
            ],
            [
             0.2222222222222222,
             "#7201a8"
            ],
            [
             0.3333333333333333,
             "#9c179e"
            ],
            [
             0.4444444444444444,
             "#bd3786"
            ],
            [
             0.5555555555555556,
             "#d8576b"
            ],
            [
             0.6666666666666666,
             "#ed7953"
            ],
            [
             0.7777777777777778,
             "#fb9f3a"
            ],
            [
             0.8888888888888888,
             "#fdca26"
            ],
            [
             1,
             "#f0f921"
            ]
           ],
           "sequentialminus": [
            [
             0,
             "#0d0887"
            ],
            [
             0.1111111111111111,
             "#46039f"
            ],
            [
             0.2222222222222222,
             "#7201a8"
            ],
            [
             0.3333333333333333,
             "#9c179e"
            ],
            [
             0.4444444444444444,
             "#bd3786"
            ],
            [
             0.5555555555555556,
             "#d8576b"
            ],
            [
             0.6666666666666666,
             "#ed7953"
            ],
            [
             0.7777777777777778,
             "#fb9f3a"
            ],
            [
             0.8888888888888888,
             "#fdca26"
            ],
            [
             1,
             "#f0f921"
            ]
           ]
          },
          "colorway": [
           "#636efa",
           "#EF553B",
           "#00cc96",
           "#ab63fa",
           "#FFA15A",
           "#19d3f3",
           "#FF6692",
           "#B6E880",
           "#FF97FF",
           "#FECB52"
          ],
          "font": {
           "color": "#2a3f5f"
          },
          "geo": {
           "bgcolor": "white",
           "lakecolor": "white",
           "landcolor": "#E5ECF6",
           "showlakes": true,
           "showland": true,
           "subunitcolor": "white"
          },
          "hoverlabel": {
           "align": "left"
          },
          "hovermode": "closest",
          "mapbox": {
           "style": "light"
          },
          "paper_bgcolor": "white",
          "plot_bgcolor": "#E5ECF6",
          "polar": {
           "angularaxis": {
            "gridcolor": "white",
            "linecolor": "white",
            "ticks": ""
           },
           "bgcolor": "#E5ECF6",
           "radialaxis": {
            "gridcolor": "white",
            "linecolor": "white",
            "ticks": ""
           }
          },
          "scene": {
           "xaxis": {
            "backgroundcolor": "#E5ECF6",
            "gridcolor": "white",
            "gridwidth": 2,
            "linecolor": "white",
            "showbackground": true,
            "ticks": "",
            "zerolinecolor": "white"
           },
           "yaxis": {
            "backgroundcolor": "#E5ECF6",
            "gridcolor": "white",
            "gridwidth": 2,
            "linecolor": "white",
            "showbackground": true,
            "ticks": "",
            "zerolinecolor": "white"
           },
           "zaxis": {
            "backgroundcolor": "#E5ECF6",
            "gridcolor": "white",
            "gridwidth": 2,
            "linecolor": "white",
            "showbackground": true,
            "ticks": "",
            "zerolinecolor": "white"
           }
          },
          "shapedefaults": {
           "line": {
            "color": "#2a3f5f"
           }
          },
          "ternary": {
           "aaxis": {
            "gridcolor": "white",
            "linecolor": "white",
            "ticks": ""
           },
           "baxis": {
            "gridcolor": "white",
            "linecolor": "white",
            "ticks": ""
           },
           "bgcolor": "#E5ECF6",
           "caxis": {
            "gridcolor": "white",
            "linecolor": "white",
            "ticks": ""
           }
          },
          "title": {
           "x": 0.05
          },
          "xaxis": {
           "automargin": true,
           "gridcolor": "white",
           "linecolor": "white",
           "ticks": "",
           "title": {
            "standoff": 15
           },
           "zerolinecolor": "white",
           "zerolinewidth": 2
          },
          "yaxis": {
           "automargin": true,
           "gridcolor": "white",
           "linecolor": "white",
           "ticks": "",
           "title": {
            "standoff": 15
           },
           "zerolinecolor": "white",
           "zerolinewidth": 2
          }
         }
        },
        "title": {
         "text": "Total Poder por Evolução (3 Estágios)"
        },
        "xaxis": {
         "categoryorder": "total ascending"
        },
        "yaxis": {
         "title": {
          "text": "Total Poder"
         }
        }
       }
      },
      "text/html": [
       "<div>\n",
       "        \n",
       "        \n",
       "            <div id=\"8d7e149d-f3c9-4502-a645-acd96521eebd\" class=\"plotly-graph-div\" style=\"height:525px; width:100%;\"></div>\n",
       "            <script type=\"text/javascript\">\n",
       "                require([\"plotly\"], function(Plotly) {\n",
       "                    window.PLOTLYENV=window.PLOTLYENV || {};\n",
       "                    \n",
       "                if (document.getElementById(\"8d7e149d-f3c9-4502-a645-acd96521eebd\")) {\n",
       "                    Plotly.newPlot(\n",
       "                        '8d7e149d-f3c9-4502-a645-acd96521eebd',\n",
       "                        [{\"name\": \"Stage 1\", \"type\": \"bar\", \"x\": [\"Bulbasaur\", \"Charmander\", \"Squirtle\", \"Caterpie\", \"Weedle\", \"Pidgey\", \"Nidoran F\", \"Nidoran M\", \"Oddish\", \"Poliwag\", \"Abra\", \"Machop\", \"Bellsprout\", \"Geodude\", \"Gastly\", \"Dratini\"], \"y\": [318, 309, 314, 195, 195, 251, 275, 273, 320, 300, 310, 305, 300, 300, 310, 300]}, {\"name\": \"Stage 2\", \"type\": \"bar\", \"x\": [\"Bulbasaur\", \"Charmander\", \"Squirtle\", \"Caterpie\", \"Weedle\", \"Pidgey\", \"Nidoran F\", \"Nidoran M\", \"Oddish\", \"Poliwag\", \"Abra\", \"Machop\", \"Bellsprout\", \"Geodude\", \"Gastly\", \"Dratini\"], \"y\": [87, 96, 91, 10, 10, 98, 90, 92, 75, 85, 90, 100, 90, 90, 95, 120]}, {\"name\": \"Stage 3\", \"type\": \"bar\", \"x\": [\"Bulbasaur\", \"Charmander\", \"Squirtle\", \"Caterpie\", \"Weedle\", \"Pidgey\", \"Nidoran F\", \"Nidoran M\", \"Oddish\", \"Poliwag\", \"Abra\", \"Machop\", \"Bellsprout\", \"Geodude\", \"Gastly\", \"Dratini\"], \"y\": [120, 129, 125, 190, 190, 130, 140, 140, 95, 125, 100, 100, 100, 105, 95, 180]}],\n",
       "                        {\"barmode\": \"stack\", \"template\": {\"data\": {\"bar\": [{\"error_x\": {\"color\": \"#2a3f5f\"}, \"error_y\": {\"color\": \"#2a3f5f\"}, \"marker\": {\"line\": {\"color\": \"#E5ECF6\", \"width\": 0.5}}, \"type\": \"bar\"}], \"barpolar\": [{\"marker\": {\"line\": {\"color\": \"#E5ECF6\", \"width\": 0.5}}, \"type\": \"barpolar\"}], \"carpet\": [{\"aaxis\": {\"endlinecolor\": \"#2a3f5f\", \"gridcolor\": \"white\", \"linecolor\": \"white\", \"minorgridcolor\": \"white\", \"startlinecolor\": \"#2a3f5f\"}, \"baxis\": {\"endlinecolor\": \"#2a3f5f\", \"gridcolor\": \"white\", \"linecolor\": \"white\", \"minorgridcolor\": \"white\", \"startlinecolor\": \"#2a3f5f\"}, \"type\": \"carpet\"}], \"choropleth\": [{\"colorbar\": {\"outlinewidth\": 0, \"ticks\": \"\"}, \"type\": \"choropleth\"}], \"contour\": [{\"colorbar\": {\"outlinewidth\": 0, \"ticks\": \"\"}, \"colorscale\": [[0.0, \"#0d0887\"], [0.1111111111111111, \"#46039f\"], [0.2222222222222222, \"#7201a8\"], [0.3333333333333333, \"#9c179e\"], [0.4444444444444444, \"#bd3786\"], [0.5555555555555556, \"#d8576b\"], [0.6666666666666666, \"#ed7953\"], [0.7777777777777778, \"#fb9f3a\"], [0.8888888888888888, \"#fdca26\"], [1.0, \"#f0f921\"]], \"type\": \"contour\"}], \"contourcarpet\": [{\"colorbar\": {\"outlinewidth\": 0, \"ticks\": \"\"}, \"type\": \"contourcarpet\"}], \"heatmap\": [{\"colorbar\": {\"outlinewidth\": 0, \"ticks\": \"\"}, \"colorscale\": [[0.0, \"#0d0887\"], [0.1111111111111111, \"#46039f\"], [0.2222222222222222, \"#7201a8\"], [0.3333333333333333, \"#9c179e\"], [0.4444444444444444, \"#bd3786\"], [0.5555555555555556, \"#d8576b\"], [0.6666666666666666, \"#ed7953\"], [0.7777777777777778, \"#fb9f3a\"], [0.8888888888888888, \"#fdca26\"], [1.0, \"#f0f921\"]], \"type\": \"heatmap\"}], \"heatmapgl\": [{\"colorbar\": {\"outlinewidth\": 0, \"ticks\": \"\"}, \"colorscale\": [[0.0, \"#0d0887\"], [0.1111111111111111, \"#46039f\"], [0.2222222222222222, \"#7201a8\"], [0.3333333333333333, \"#9c179e\"], [0.4444444444444444, \"#bd3786\"], [0.5555555555555556, \"#d8576b\"], [0.6666666666666666, \"#ed7953\"], [0.7777777777777778, \"#fb9f3a\"], [0.8888888888888888, \"#fdca26\"], [1.0, \"#f0f921\"]], \"type\": \"heatmapgl\"}], \"histogram\": [{\"marker\": {\"colorbar\": {\"outlinewidth\": 0, \"ticks\": \"\"}}, \"type\": \"histogram\"}], \"histogram2d\": [{\"colorbar\": {\"outlinewidth\": 0, \"ticks\": \"\"}, \"colorscale\": [[0.0, \"#0d0887\"], [0.1111111111111111, \"#46039f\"], [0.2222222222222222, \"#7201a8\"], [0.3333333333333333, \"#9c179e\"], [0.4444444444444444, \"#bd3786\"], [0.5555555555555556, \"#d8576b\"], [0.6666666666666666, \"#ed7953\"], [0.7777777777777778, \"#fb9f3a\"], [0.8888888888888888, \"#fdca26\"], [1.0, \"#f0f921\"]], \"type\": \"histogram2d\"}], \"histogram2dcontour\": [{\"colorbar\": {\"outlinewidth\": 0, \"ticks\": \"\"}, \"colorscale\": [[0.0, \"#0d0887\"], [0.1111111111111111, \"#46039f\"], [0.2222222222222222, \"#7201a8\"], [0.3333333333333333, \"#9c179e\"], [0.4444444444444444, \"#bd3786\"], [0.5555555555555556, \"#d8576b\"], [0.6666666666666666, \"#ed7953\"], [0.7777777777777778, \"#fb9f3a\"], [0.8888888888888888, \"#fdca26\"], [1.0, \"#f0f921\"]], \"type\": \"histogram2dcontour\"}], \"mesh3d\": [{\"colorbar\": {\"outlinewidth\": 0, \"ticks\": \"\"}, \"type\": \"mesh3d\"}], \"parcoords\": [{\"line\": {\"colorbar\": {\"outlinewidth\": 0, \"ticks\": \"\"}}, \"type\": \"parcoords\"}], \"pie\": [{\"automargin\": true, \"type\": \"pie\"}], \"scatter\": [{\"marker\": {\"colorbar\": {\"outlinewidth\": 0, \"ticks\": \"\"}}, \"type\": \"scatter\"}], \"scatter3d\": [{\"line\": {\"colorbar\": {\"outlinewidth\": 0, \"ticks\": \"\"}}, \"marker\": {\"colorbar\": {\"outlinewidth\": 0, \"ticks\": \"\"}}, \"type\": \"scatter3d\"}], \"scattercarpet\": [{\"marker\": {\"colorbar\": {\"outlinewidth\": 0, \"ticks\": \"\"}}, \"type\": \"scattercarpet\"}], \"scattergeo\": [{\"marker\": {\"colorbar\": {\"outlinewidth\": 0, \"ticks\": \"\"}}, \"type\": \"scattergeo\"}], \"scattergl\": [{\"marker\": {\"colorbar\": {\"outlinewidth\": 0, \"ticks\": \"\"}}, \"type\": \"scattergl\"}], \"scattermapbox\": [{\"marker\": {\"colorbar\": {\"outlinewidth\": 0, \"ticks\": \"\"}}, \"type\": \"scattermapbox\"}], \"scatterpolar\": [{\"marker\": {\"colorbar\": {\"outlinewidth\": 0, \"ticks\": \"\"}}, \"type\": \"scatterpolar\"}], \"scatterpolargl\": [{\"marker\": {\"colorbar\": {\"outlinewidth\": 0, \"ticks\": \"\"}}, \"type\": \"scatterpolargl\"}], \"scatterternary\": [{\"marker\": {\"colorbar\": {\"outlinewidth\": 0, \"ticks\": \"\"}}, \"type\": \"scatterternary\"}], \"surface\": [{\"colorbar\": {\"outlinewidth\": 0, \"ticks\": \"\"}, \"colorscale\": [[0.0, \"#0d0887\"], [0.1111111111111111, \"#46039f\"], [0.2222222222222222, \"#7201a8\"], [0.3333333333333333, \"#9c179e\"], [0.4444444444444444, \"#bd3786\"], [0.5555555555555556, \"#d8576b\"], [0.6666666666666666, \"#ed7953\"], [0.7777777777777778, \"#fb9f3a\"], [0.8888888888888888, \"#fdca26\"], [1.0, \"#f0f921\"]], \"type\": \"surface\"}], \"table\": [{\"cells\": {\"fill\": {\"color\": \"#EBF0F8\"}, \"line\": {\"color\": \"white\"}}, \"header\": {\"fill\": {\"color\": \"#C8D4E3\"}, \"line\": {\"color\": \"white\"}}, \"type\": \"table\"}]}, \"layout\": {\"annotationdefaults\": {\"arrowcolor\": \"#2a3f5f\", \"arrowhead\": 0, \"arrowwidth\": 1}, \"coloraxis\": {\"colorbar\": {\"outlinewidth\": 0, \"ticks\": \"\"}}, \"colorscale\": {\"diverging\": [[0, \"#8e0152\"], [0.1, \"#c51b7d\"], [0.2, \"#de77ae\"], [0.3, \"#f1b6da\"], [0.4, \"#fde0ef\"], [0.5, \"#f7f7f7\"], [0.6, \"#e6f5d0\"], [0.7, \"#b8e186\"], [0.8, \"#7fbc41\"], [0.9, \"#4d9221\"], [1, \"#276419\"]], \"sequential\": [[0.0, \"#0d0887\"], [0.1111111111111111, \"#46039f\"], [0.2222222222222222, \"#7201a8\"], [0.3333333333333333, \"#9c179e\"], [0.4444444444444444, \"#bd3786\"], [0.5555555555555556, \"#d8576b\"], [0.6666666666666666, \"#ed7953\"], [0.7777777777777778, \"#fb9f3a\"], [0.8888888888888888, \"#fdca26\"], [1.0, \"#f0f921\"]], \"sequentialminus\": [[0.0, \"#0d0887\"], [0.1111111111111111, \"#46039f\"], [0.2222222222222222, \"#7201a8\"], [0.3333333333333333, \"#9c179e\"], [0.4444444444444444, \"#bd3786\"], [0.5555555555555556, \"#d8576b\"], [0.6666666666666666, \"#ed7953\"], [0.7777777777777778, \"#fb9f3a\"], [0.8888888888888888, \"#fdca26\"], [1.0, \"#f0f921\"]]}, \"colorway\": [\"#636efa\", \"#EF553B\", \"#00cc96\", \"#ab63fa\", \"#FFA15A\", \"#19d3f3\", \"#FF6692\", \"#B6E880\", \"#FF97FF\", \"#FECB52\"], \"font\": {\"color\": \"#2a3f5f\"}, \"geo\": {\"bgcolor\": \"white\", \"lakecolor\": \"white\", \"landcolor\": \"#E5ECF6\", \"showlakes\": true, \"showland\": true, \"subunitcolor\": \"white\"}, \"hoverlabel\": {\"align\": \"left\"}, \"hovermode\": \"closest\", \"mapbox\": {\"style\": \"light\"}, \"paper_bgcolor\": \"white\", \"plot_bgcolor\": \"#E5ECF6\", \"polar\": {\"angularaxis\": {\"gridcolor\": \"white\", \"linecolor\": \"white\", \"ticks\": \"\"}, \"bgcolor\": \"#E5ECF6\", \"radialaxis\": {\"gridcolor\": \"white\", \"linecolor\": \"white\", \"ticks\": \"\"}}, \"scene\": {\"xaxis\": {\"backgroundcolor\": \"#E5ECF6\", \"gridcolor\": \"white\", \"gridwidth\": 2, \"linecolor\": \"white\", \"showbackground\": true, \"ticks\": \"\", \"zerolinecolor\": \"white\"}, \"yaxis\": {\"backgroundcolor\": \"#E5ECF6\", \"gridcolor\": \"white\", \"gridwidth\": 2, \"linecolor\": \"white\", \"showbackground\": true, \"ticks\": \"\", \"zerolinecolor\": \"white\"}, \"zaxis\": {\"backgroundcolor\": \"#E5ECF6\", \"gridcolor\": \"white\", \"gridwidth\": 2, \"linecolor\": \"white\", \"showbackground\": true, \"ticks\": \"\", \"zerolinecolor\": \"white\"}}, \"shapedefaults\": {\"line\": {\"color\": \"#2a3f5f\"}}, \"ternary\": {\"aaxis\": {\"gridcolor\": \"white\", \"linecolor\": \"white\", \"ticks\": \"\"}, \"baxis\": {\"gridcolor\": \"white\", \"linecolor\": \"white\", \"ticks\": \"\"}, \"bgcolor\": \"#E5ECF6\", \"caxis\": {\"gridcolor\": \"white\", \"linecolor\": \"white\", \"ticks\": \"\"}}, \"title\": {\"x\": 0.05}, \"xaxis\": {\"automargin\": true, \"gridcolor\": \"white\", \"linecolor\": \"white\", \"ticks\": \"\", \"title\": {\"standoff\": 15}, \"zerolinecolor\": \"white\", \"zerolinewidth\": 2}, \"yaxis\": {\"automargin\": true, \"gridcolor\": \"white\", \"linecolor\": \"white\", \"ticks\": \"\", \"title\": {\"standoff\": 15}, \"zerolinecolor\": \"white\", \"zerolinewidth\": 2}}}, \"title\": {\"text\": \"Total Poder por Evolu\\u00e7\\u00e3o (3 Est\\u00e1gios)\"}, \"xaxis\": {\"categoryorder\": \"total ascending\"}, \"yaxis\": {\"title\": {\"text\": \"Total Poder\"}}},\n",
       "                        {\"responsive\": true}\n",
       "                    ).then(function(){\n",
       "                            \n",
       "var gd = document.getElementById('8d7e149d-f3c9-4502-a645-acd96521eebd');\n",
       "var x = new MutationObserver(function (mutations, observer) {{\n",
       "        var display = window.getComputedStyle(gd).display;\n",
       "        if (!display || display === 'none') {{\n",
       "            console.log([gd, 'removed!']);\n",
       "            Plotly.purge(gd);\n",
       "            observer.disconnect();\n",
       "        }}\n",
       "}});\n",
       "\n",
       "// Listen for the removal of the full notebook cells\n",
       "var notebookContainer = gd.closest('#notebook-container');\n",
       "if (notebookContainer) {{\n",
       "    x.observe(notebookContainer, {childList: true});\n",
       "}}\n",
       "\n",
       "// Listen for the clearing of the current output cell\n",
       "var outputEl = gd.closest('.output');\n",
       "if (outputEl) {{\n",
       "    x.observe(outputEl, {childList: true});\n",
       "}}\n",
       "\n",
       "                        })\n",
       "                };\n",
       "                });\n",
       "            </script>\n",
       "        </div>"
      ]
     },
     "metadata": {},
     "output_type": "display_data"
    }
   ],
   "source": [
    " evolucao_poder_3()"
   ]
  },
  {
   "cell_type": "markdown",
   "metadata": {
    "slideshow": {
     "slide_type": "slide"
    }
   },
   "source": [
    "# Verificando os atributos de um Pokémon"
   ]
  },
  {
   "cell_type": "code",
   "execution_count": 34,
   "metadata": {
    "slideshow": {
     "slide_type": "slide"
    }
   },
   "outputs": [],
   "source": [
    "# Visualizar Status do Pokemon\n",
    "def polar_pokemon_stats(pkmn_name):\n",
    "    pkmn = pokemon[pokemon.Name == pkmn_name]\n",
    "    obj = go.Scatterpolar(\n",
    "        r=[pkmn['HP'].values[0], pkmn['Attack'].values[0], pkmn['Defense'].values[0], pkmn['Sp. Atk'].values[0],\n",
    "            pkmn['Sp. Def'].values[0], pkmn['Speed'].values[0], pkmn['HP'].values[0]],\n",
    "        theta=['HP', 'Attack', 'Defense', 'Sp. Atk', 'Sp. Def', 'Speed', 'HP'],\n",
    "        fill='toself',\n",
    "        marker=dict(color=colors[pkmn['Type 1'].values[0]]),\n",
    "        name=pkmn['Name'].values[0])\n",
    "    return obj\n",
    "def plot_single_pokemon(name):\n",
    "    layout = go.Layout(\n",
    "        polar=dict(radialaxis=dict(visible=True,range=[0, 250])), showlegend=False, title=\"Atributos do Pokémon {}\".format(name))\n",
    "    pokemon_figure = go.Figure(data=[polar_pokemon_stats(name)], layout=layout)\n",
    "    iplot(pokemon_figure, filename='Atributos_Pokemon')"
   ]
  },
  {
   "cell_type": "code",
   "execution_count": 35,
   "metadata": {
    "slideshow": {
     "slide_type": "subslide"
    }
   },
   "outputs": [
    {
     "data": {
      "application/vnd.plotly.v1+json": {
       "config": {
        "linkText": "Export to plot.ly",
        "plotlyServerURL": "https://plot.ly",
        "showLink": false
       },
       "data": [
        {
         "fill": "toself",
         "marker": {
          "color": "#EE8130"
         },
         "name": "Charizard",
         "r": [
          78,
          84,
          78,
          109,
          85,
          100,
          78
         ],
         "theta": [
          "HP",
          "Attack",
          "Defense",
          "Sp. Atk",
          "Sp. Def",
          "Speed",
          "HP"
         ],
         "type": "scatterpolar"
        }
       ],
       "layout": {
        "polar": {
         "radialaxis": {
          "range": [
           0,
           250
          ],
          "visible": true
         }
        },
        "showlegend": false,
        "template": {
         "data": {
          "bar": [
           {
            "error_x": {
             "color": "#2a3f5f"
            },
            "error_y": {
             "color": "#2a3f5f"
            },
            "marker": {
             "line": {
              "color": "#E5ECF6",
              "width": 0.5
             }
            },
            "type": "bar"
           }
          ],
          "barpolar": [
           {
            "marker": {
             "line": {
              "color": "#E5ECF6",
              "width": 0.5
             }
            },
            "type": "barpolar"
           }
          ],
          "carpet": [
           {
            "aaxis": {
             "endlinecolor": "#2a3f5f",
             "gridcolor": "white",
             "linecolor": "white",
             "minorgridcolor": "white",
             "startlinecolor": "#2a3f5f"
            },
            "baxis": {
             "endlinecolor": "#2a3f5f",
             "gridcolor": "white",
             "linecolor": "white",
             "minorgridcolor": "white",
             "startlinecolor": "#2a3f5f"
            },
            "type": "carpet"
           }
          ],
          "choropleth": [
           {
            "colorbar": {
             "outlinewidth": 0,
             "ticks": ""
            },
            "type": "choropleth"
           }
          ],
          "contour": [
           {
            "colorbar": {
             "outlinewidth": 0,
             "ticks": ""
            },
            "colorscale": [
             [
              0,
              "#0d0887"
             ],
             [
              0.1111111111111111,
              "#46039f"
             ],
             [
              0.2222222222222222,
              "#7201a8"
             ],
             [
              0.3333333333333333,
              "#9c179e"
             ],
             [
              0.4444444444444444,
              "#bd3786"
             ],
             [
              0.5555555555555556,
              "#d8576b"
             ],
             [
              0.6666666666666666,
              "#ed7953"
             ],
             [
              0.7777777777777778,
              "#fb9f3a"
             ],
             [
              0.8888888888888888,
              "#fdca26"
             ],
             [
              1,
              "#f0f921"
             ]
            ],
            "type": "contour"
           }
          ],
          "contourcarpet": [
           {
            "colorbar": {
             "outlinewidth": 0,
             "ticks": ""
            },
            "type": "contourcarpet"
           }
          ],
          "heatmap": [
           {
            "colorbar": {
             "outlinewidth": 0,
             "ticks": ""
            },
            "colorscale": [
             [
              0,
              "#0d0887"
             ],
             [
              0.1111111111111111,
              "#46039f"
             ],
             [
              0.2222222222222222,
              "#7201a8"
             ],
             [
              0.3333333333333333,
              "#9c179e"
             ],
             [
              0.4444444444444444,
              "#bd3786"
             ],
             [
              0.5555555555555556,
              "#d8576b"
             ],
             [
              0.6666666666666666,
              "#ed7953"
             ],
             [
              0.7777777777777778,
              "#fb9f3a"
             ],
             [
              0.8888888888888888,
              "#fdca26"
             ],
             [
              1,
              "#f0f921"
             ]
            ],
            "type": "heatmap"
           }
          ],
          "heatmapgl": [
           {
            "colorbar": {
             "outlinewidth": 0,
             "ticks": ""
            },
            "colorscale": [
             [
              0,
              "#0d0887"
             ],
             [
              0.1111111111111111,
              "#46039f"
             ],
             [
              0.2222222222222222,
              "#7201a8"
             ],
             [
              0.3333333333333333,
              "#9c179e"
             ],
             [
              0.4444444444444444,
              "#bd3786"
             ],
             [
              0.5555555555555556,
              "#d8576b"
             ],
             [
              0.6666666666666666,
              "#ed7953"
             ],
             [
              0.7777777777777778,
              "#fb9f3a"
             ],
             [
              0.8888888888888888,
              "#fdca26"
             ],
             [
              1,
              "#f0f921"
             ]
            ],
            "type": "heatmapgl"
           }
          ],
          "histogram": [
           {
            "marker": {
             "colorbar": {
              "outlinewidth": 0,
              "ticks": ""
             }
            },
            "type": "histogram"
           }
          ],
          "histogram2d": [
           {
            "colorbar": {
             "outlinewidth": 0,
             "ticks": ""
            },
            "colorscale": [
             [
              0,
              "#0d0887"
             ],
             [
              0.1111111111111111,
              "#46039f"
             ],
             [
              0.2222222222222222,
              "#7201a8"
             ],
             [
              0.3333333333333333,
              "#9c179e"
             ],
             [
              0.4444444444444444,
              "#bd3786"
             ],
             [
              0.5555555555555556,
              "#d8576b"
             ],
             [
              0.6666666666666666,
              "#ed7953"
             ],
             [
              0.7777777777777778,
              "#fb9f3a"
             ],
             [
              0.8888888888888888,
              "#fdca26"
             ],
             [
              1,
              "#f0f921"
             ]
            ],
            "type": "histogram2d"
           }
          ],
          "histogram2dcontour": [
           {
            "colorbar": {
             "outlinewidth": 0,
             "ticks": ""
            },
            "colorscale": [
             [
              0,
              "#0d0887"
             ],
             [
              0.1111111111111111,
              "#46039f"
             ],
             [
              0.2222222222222222,
              "#7201a8"
             ],
             [
              0.3333333333333333,
              "#9c179e"
             ],
             [
              0.4444444444444444,
              "#bd3786"
             ],
             [
              0.5555555555555556,
              "#d8576b"
             ],
             [
              0.6666666666666666,
              "#ed7953"
             ],
             [
              0.7777777777777778,
              "#fb9f3a"
             ],
             [
              0.8888888888888888,
              "#fdca26"
             ],
             [
              1,
              "#f0f921"
             ]
            ],
            "type": "histogram2dcontour"
           }
          ],
          "mesh3d": [
           {
            "colorbar": {
             "outlinewidth": 0,
             "ticks": ""
            },
            "type": "mesh3d"
           }
          ],
          "parcoords": [
           {
            "line": {
             "colorbar": {
              "outlinewidth": 0,
              "ticks": ""
             }
            },
            "type": "parcoords"
           }
          ],
          "pie": [
           {
            "automargin": true,
            "type": "pie"
           }
          ],
          "scatter": [
           {
            "marker": {
             "colorbar": {
              "outlinewidth": 0,
              "ticks": ""
             }
            },
            "type": "scatter"
           }
          ],
          "scatter3d": [
           {
            "line": {
             "colorbar": {
              "outlinewidth": 0,
              "ticks": ""
             }
            },
            "marker": {
             "colorbar": {
              "outlinewidth": 0,
              "ticks": ""
             }
            },
            "type": "scatter3d"
           }
          ],
          "scattercarpet": [
           {
            "marker": {
             "colorbar": {
              "outlinewidth": 0,
              "ticks": ""
             }
            },
            "type": "scattercarpet"
           }
          ],
          "scattergeo": [
           {
            "marker": {
             "colorbar": {
              "outlinewidth": 0,
              "ticks": ""
             }
            },
            "type": "scattergeo"
           }
          ],
          "scattergl": [
           {
            "marker": {
             "colorbar": {
              "outlinewidth": 0,
              "ticks": ""
             }
            },
            "type": "scattergl"
           }
          ],
          "scattermapbox": [
           {
            "marker": {
             "colorbar": {
              "outlinewidth": 0,
              "ticks": ""
             }
            },
            "type": "scattermapbox"
           }
          ],
          "scatterpolar": [
           {
            "marker": {
             "colorbar": {
              "outlinewidth": 0,
              "ticks": ""
             }
            },
            "type": "scatterpolar"
           }
          ],
          "scatterpolargl": [
           {
            "marker": {
             "colorbar": {
              "outlinewidth": 0,
              "ticks": ""
             }
            },
            "type": "scatterpolargl"
           }
          ],
          "scatterternary": [
           {
            "marker": {
             "colorbar": {
              "outlinewidth": 0,
              "ticks": ""
             }
            },
            "type": "scatterternary"
           }
          ],
          "surface": [
           {
            "colorbar": {
             "outlinewidth": 0,
             "ticks": ""
            },
            "colorscale": [
             [
              0,
              "#0d0887"
             ],
             [
              0.1111111111111111,
              "#46039f"
             ],
             [
              0.2222222222222222,
              "#7201a8"
             ],
             [
              0.3333333333333333,
              "#9c179e"
             ],
             [
              0.4444444444444444,
              "#bd3786"
             ],
             [
              0.5555555555555556,
              "#d8576b"
             ],
             [
              0.6666666666666666,
              "#ed7953"
             ],
             [
              0.7777777777777778,
              "#fb9f3a"
             ],
             [
              0.8888888888888888,
              "#fdca26"
             ],
             [
              1,
              "#f0f921"
             ]
            ],
            "type": "surface"
           }
          ],
          "table": [
           {
            "cells": {
             "fill": {
              "color": "#EBF0F8"
             },
             "line": {
              "color": "white"
             }
            },
            "header": {
             "fill": {
              "color": "#C8D4E3"
             },
             "line": {
              "color": "white"
             }
            },
            "type": "table"
           }
          ]
         },
         "layout": {
          "annotationdefaults": {
           "arrowcolor": "#2a3f5f",
           "arrowhead": 0,
           "arrowwidth": 1
          },
          "coloraxis": {
           "colorbar": {
            "outlinewidth": 0,
            "ticks": ""
           }
          },
          "colorscale": {
           "diverging": [
            [
             0,
             "#8e0152"
            ],
            [
             0.1,
             "#c51b7d"
            ],
            [
             0.2,
             "#de77ae"
            ],
            [
             0.3,
             "#f1b6da"
            ],
            [
             0.4,
             "#fde0ef"
            ],
            [
             0.5,
             "#f7f7f7"
            ],
            [
             0.6,
             "#e6f5d0"
            ],
            [
             0.7,
             "#b8e186"
            ],
            [
             0.8,
             "#7fbc41"
            ],
            [
             0.9,
             "#4d9221"
            ],
            [
             1,
             "#276419"
            ]
           ],
           "sequential": [
            [
             0,
             "#0d0887"
            ],
            [
             0.1111111111111111,
             "#46039f"
            ],
            [
             0.2222222222222222,
             "#7201a8"
            ],
            [
             0.3333333333333333,
             "#9c179e"
            ],
            [
             0.4444444444444444,
             "#bd3786"
            ],
            [
             0.5555555555555556,
             "#d8576b"
            ],
            [
             0.6666666666666666,
             "#ed7953"
            ],
            [
             0.7777777777777778,
             "#fb9f3a"
            ],
            [
             0.8888888888888888,
             "#fdca26"
            ],
            [
             1,
             "#f0f921"
            ]
           ],
           "sequentialminus": [
            [
             0,
             "#0d0887"
            ],
            [
             0.1111111111111111,
             "#46039f"
            ],
            [
             0.2222222222222222,
             "#7201a8"
            ],
            [
             0.3333333333333333,
             "#9c179e"
            ],
            [
             0.4444444444444444,
             "#bd3786"
            ],
            [
             0.5555555555555556,
             "#d8576b"
            ],
            [
             0.6666666666666666,
             "#ed7953"
            ],
            [
             0.7777777777777778,
             "#fb9f3a"
            ],
            [
             0.8888888888888888,
             "#fdca26"
            ],
            [
             1,
             "#f0f921"
            ]
           ]
          },
          "colorway": [
           "#636efa",
           "#EF553B",
           "#00cc96",
           "#ab63fa",
           "#FFA15A",
           "#19d3f3",
           "#FF6692",
           "#B6E880",
           "#FF97FF",
           "#FECB52"
          ],
          "font": {
           "color": "#2a3f5f"
          },
          "geo": {
           "bgcolor": "white",
           "lakecolor": "white",
           "landcolor": "#E5ECF6",
           "showlakes": true,
           "showland": true,
           "subunitcolor": "white"
          },
          "hoverlabel": {
           "align": "left"
          },
          "hovermode": "closest",
          "mapbox": {
           "style": "light"
          },
          "paper_bgcolor": "white",
          "plot_bgcolor": "#E5ECF6",
          "polar": {
           "angularaxis": {
            "gridcolor": "white",
            "linecolor": "white",
            "ticks": ""
           },
           "bgcolor": "#E5ECF6",
           "radialaxis": {
            "gridcolor": "white",
            "linecolor": "white",
            "ticks": ""
           }
          },
          "scene": {
           "xaxis": {
            "backgroundcolor": "#E5ECF6",
            "gridcolor": "white",
            "gridwidth": 2,
            "linecolor": "white",
            "showbackground": true,
            "ticks": "",
            "zerolinecolor": "white"
           },
           "yaxis": {
            "backgroundcolor": "#E5ECF6",
            "gridcolor": "white",
            "gridwidth": 2,
            "linecolor": "white",
            "showbackground": true,
            "ticks": "",
            "zerolinecolor": "white"
           },
           "zaxis": {
            "backgroundcolor": "#E5ECF6",
            "gridcolor": "white",
            "gridwidth": 2,
            "linecolor": "white",
            "showbackground": true,
            "ticks": "",
            "zerolinecolor": "white"
           }
          },
          "shapedefaults": {
           "line": {
            "color": "#2a3f5f"
           }
          },
          "ternary": {
           "aaxis": {
            "gridcolor": "white",
            "linecolor": "white",
            "ticks": ""
           },
           "baxis": {
            "gridcolor": "white",
            "linecolor": "white",
            "ticks": ""
           },
           "bgcolor": "#E5ECF6",
           "caxis": {
            "gridcolor": "white",
            "linecolor": "white",
            "ticks": ""
           }
          },
          "title": {
           "x": 0.05
          },
          "xaxis": {
           "automargin": true,
           "gridcolor": "white",
           "linecolor": "white",
           "ticks": "",
           "title": {
            "standoff": 15
           },
           "zerolinecolor": "white",
           "zerolinewidth": 2
          },
          "yaxis": {
           "automargin": true,
           "gridcolor": "white",
           "linecolor": "white",
           "ticks": "",
           "title": {
            "standoff": 15
           },
           "zerolinecolor": "white",
           "zerolinewidth": 2
          }
         }
        },
        "title": {
         "text": "Atributos do Pokémon Charizard"
        }
       }
      },
      "text/html": [
       "<div>\n",
       "        \n",
       "        \n",
       "            <div id=\"61d7e316-92ca-4f19-85e1-d891e3f48f67\" class=\"plotly-graph-div\" style=\"height:525px; width:100%;\"></div>\n",
       "            <script type=\"text/javascript\">\n",
       "                require([\"plotly\"], function(Plotly) {\n",
       "                    window.PLOTLYENV=window.PLOTLYENV || {};\n",
       "                    \n",
       "                if (document.getElementById(\"61d7e316-92ca-4f19-85e1-d891e3f48f67\")) {\n",
       "                    Plotly.newPlot(\n",
       "                        '61d7e316-92ca-4f19-85e1-d891e3f48f67',\n",
       "                        [{\"fill\": \"toself\", \"marker\": {\"color\": \"#EE8130\"}, \"name\": \"Charizard\", \"r\": [78, 84, 78, 109, 85, 100, 78], \"theta\": [\"HP\", \"Attack\", \"Defense\", \"Sp. Atk\", \"Sp. Def\", \"Speed\", \"HP\"], \"type\": \"scatterpolar\"}],\n",
       "                        {\"polar\": {\"radialaxis\": {\"range\": [0, 250], \"visible\": true}}, \"showlegend\": false, \"template\": {\"data\": {\"bar\": [{\"error_x\": {\"color\": \"#2a3f5f\"}, \"error_y\": {\"color\": \"#2a3f5f\"}, \"marker\": {\"line\": {\"color\": \"#E5ECF6\", \"width\": 0.5}}, \"type\": \"bar\"}], \"barpolar\": [{\"marker\": {\"line\": {\"color\": \"#E5ECF6\", \"width\": 0.5}}, \"type\": \"barpolar\"}], \"carpet\": [{\"aaxis\": {\"endlinecolor\": \"#2a3f5f\", \"gridcolor\": \"white\", \"linecolor\": \"white\", \"minorgridcolor\": \"white\", \"startlinecolor\": \"#2a3f5f\"}, \"baxis\": {\"endlinecolor\": \"#2a3f5f\", \"gridcolor\": \"white\", \"linecolor\": \"white\", \"minorgridcolor\": \"white\", \"startlinecolor\": \"#2a3f5f\"}, \"type\": \"carpet\"}], \"choropleth\": [{\"colorbar\": {\"outlinewidth\": 0, \"ticks\": \"\"}, \"type\": \"choropleth\"}], \"contour\": [{\"colorbar\": {\"outlinewidth\": 0, \"ticks\": \"\"}, \"colorscale\": [[0.0, \"#0d0887\"], [0.1111111111111111, \"#46039f\"], [0.2222222222222222, \"#7201a8\"], [0.3333333333333333, \"#9c179e\"], [0.4444444444444444, \"#bd3786\"], [0.5555555555555556, \"#d8576b\"], [0.6666666666666666, \"#ed7953\"], [0.7777777777777778, \"#fb9f3a\"], [0.8888888888888888, \"#fdca26\"], [1.0, \"#f0f921\"]], \"type\": \"contour\"}], \"contourcarpet\": [{\"colorbar\": {\"outlinewidth\": 0, \"ticks\": \"\"}, \"type\": \"contourcarpet\"}], \"heatmap\": [{\"colorbar\": {\"outlinewidth\": 0, \"ticks\": \"\"}, \"colorscale\": [[0.0, \"#0d0887\"], [0.1111111111111111, \"#46039f\"], [0.2222222222222222, \"#7201a8\"], [0.3333333333333333, \"#9c179e\"], [0.4444444444444444, \"#bd3786\"], [0.5555555555555556, \"#d8576b\"], [0.6666666666666666, \"#ed7953\"], [0.7777777777777778, \"#fb9f3a\"], [0.8888888888888888, \"#fdca26\"], [1.0, \"#f0f921\"]], \"type\": \"heatmap\"}], \"heatmapgl\": [{\"colorbar\": {\"outlinewidth\": 0, \"ticks\": \"\"}, \"colorscale\": [[0.0, \"#0d0887\"], [0.1111111111111111, \"#46039f\"], [0.2222222222222222, \"#7201a8\"], [0.3333333333333333, \"#9c179e\"], [0.4444444444444444, \"#bd3786\"], [0.5555555555555556, \"#d8576b\"], [0.6666666666666666, \"#ed7953\"], [0.7777777777777778, \"#fb9f3a\"], [0.8888888888888888, \"#fdca26\"], [1.0, \"#f0f921\"]], \"type\": \"heatmapgl\"}], \"histogram\": [{\"marker\": {\"colorbar\": {\"outlinewidth\": 0, \"ticks\": \"\"}}, \"type\": \"histogram\"}], \"histogram2d\": [{\"colorbar\": {\"outlinewidth\": 0, \"ticks\": \"\"}, \"colorscale\": [[0.0, \"#0d0887\"], [0.1111111111111111, \"#46039f\"], [0.2222222222222222, \"#7201a8\"], [0.3333333333333333, \"#9c179e\"], [0.4444444444444444, \"#bd3786\"], [0.5555555555555556, \"#d8576b\"], [0.6666666666666666, \"#ed7953\"], [0.7777777777777778, \"#fb9f3a\"], [0.8888888888888888, \"#fdca26\"], [1.0, \"#f0f921\"]], \"type\": \"histogram2d\"}], \"histogram2dcontour\": [{\"colorbar\": {\"outlinewidth\": 0, \"ticks\": \"\"}, \"colorscale\": [[0.0, \"#0d0887\"], [0.1111111111111111, \"#46039f\"], [0.2222222222222222, \"#7201a8\"], [0.3333333333333333, \"#9c179e\"], [0.4444444444444444, \"#bd3786\"], [0.5555555555555556, \"#d8576b\"], [0.6666666666666666, \"#ed7953\"], [0.7777777777777778, \"#fb9f3a\"], [0.8888888888888888, \"#fdca26\"], [1.0, \"#f0f921\"]], \"type\": \"histogram2dcontour\"}], \"mesh3d\": [{\"colorbar\": {\"outlinewidth\": 0, \"ticks\": \"\"}, \"type\": \"mesh3d\"}], \"parcoords\": [{\"line\": {\"colorbar\": {\"outlinewidth\": 0, \"ticks\": \"\"}}, \"type\": \"parcoords\"}], \"pie\": [{\"automargin\": true, \"type\": \"pie\"}], \"scatter\": [{\"marker\": {\"colorbar\": {\"outlinewidth\": 0, \"ticks\": \"\"}}, \"type\": \"scatter\"}], \"scatter3d\": [{\"line\": {\"colorbar\": {\"outlinewidth\": 0, \"ticks\": \"\"}}, \"marker\": {\"colorbar\": {\"outlinewidth\": 0, \"ticks\": \"\"}}, \"type\": \"scatter3d\"}], \"scattercarpet\": [{\"marker\": {\"colorbar\": {\"outlinewidth\": 0, \"ticks\": \"\"}}, \"type\": \"scattercarpet\"}], \"scattergeo\": [{\"marker\": {\"colorbar\": {\"outlinewidth\": 0, \"ticks\": \"\"}}, \"type\": \"scattergeo\"}], \"scattergl\": [{\"marker\": {\"colorbar\": {\"outlinewidth\": 0, \"ticks\": \"\"}}, \"type\": \"scattergl\"}], \"scattermapbox\": [{\"marker\": {\"colorbar\": {\"outlinewidth\": 0, \"ticks\": \"\"}}, \"type\": \"scattermapbox\"}], \"scatterpolar\": [{\"marker\": {\"colorbar\": {\"outlinewidth\": 0, \"ticks\": \"\"}}, \"type\": \"scatterpolar\"}], \"scatterpolargl\": [{\"marker\": {\"colorbar\": {\"outlinewidth\": 0, \"ticks\": \"\"}}, \"type\": \"scatterpolargl\"}], \"scatterternary\": [{\"marker\": {\"colorbar\": {\"outlinewidth\": 0, \"ticks\": \"\"}}, \"type\": \"scatterternary\"}], \"surface\": [{\"colorbar\": {\"outlinewidth\": 0, \"ticks\": \"\"}, \"colorscale\": [[0.0, \"#0d0887\"], [0.1111111111111111, \"#46039f\"], [0.2222222222222222, \"#7201a8\"], [0.3333333333333333, \"#9c179e\"], [0.4444444444444444, \"#bd3786\"], [0.5555555555555556, \"#d8576b\"], [0.6666666666666666, \"#ed7953\"], [0.7777777777777778, \"#fb9f3a\"], [0.8888888888888888, \"#fdca26\"], [1.0, \"#f0f921\"]], \"type\": \"surface\"}], \"table\": [{\"cells\": {\"fill\": {\"color\": \"#EBF0F8\"}, \"line\": {\"color\": \"white\"}}, \"header\": {\"fill\": {\"color\": \"#C8D4E3\"}, \"line\": {\"color\": \"white\"}}, \"type\": \"table\"}]}, \"layout\": {\"annotationdefaults\": {\"arrowcolor\": \"#2a3f5f\", \"arrowhead\": 0, \"arrowwidth\": 1}, \"coloraxis\": {\"colorbar\": {\"outlinewidth\": 0, \"ticks\": \"\"}}, \"colorscale\": {\"diverging\": [[0, \"#8e0152\"], [0.1, \"#c51b7d\"], [0.2, \"#de77ae\"], [0.3, \"#f1b6da\"], [0.4, \"#fde0ef\"], [0.5, \"#f7f7f7\"], [0.6, \"#e6f5d0\"], [0.7, \"#b8e186\"], [0.8, \"#7fbc41\"], [0.9, \"#4d9221\"], [1, \"#276419\"]], \"sequential\": [[0.0, \"#0d0887\"], [0.1111111111111111, \"#46039f\"], [0.2222222222222222, \"#7201a8\"], [0.3333333333333333, \"#9c179e\"], [0.4444444444444444, \"#bd3786\"], [0.5555555555555556, \"#d8576b\"], [0.6666666666666666, \"#ed7953\"], [0.7777777777777778, \"#fb9f3a\"], [0.8888888888888888, \"#fdca26\"], [1.0, \"#f0f921\"]], \"sequentialminus\": [[0.0, \"#0d0887\"], [0.1111111111111111, \"#46039f\"], [0.2222222222222222, \"#7201a8\"], [0.3333333333333333, \"#9c179e\"], [0.4444444444444444, \"#bd3786\"], [0.5555555555555556, \"#d8576b\"], [0.6666666666666666, \"#ed7953\"], [0.7777777777777778, \"#fb9f3a\"], [0.8888888888888888, \"#fdca26\"], [1.0, \"#f0f921\"]]}, \"colorway\": [\"#636efa\", \"#EF553B\", \"#00cc96\", \"#ab63fa\", \"#FFA15A\", \"#19d3f3\", \"#FF6692\", \"#B6E880\", \"#FF97FF\", \"#FECB52\"], \"font\": {\"color\": \"#2a3f5f\"}, \"geo\": {\"bgcolor\": \"white\", \"lakecolor\": \"white\", \"landcolor\": \"#E5ECF6\", \"showlakes\": true, \"showland\": true, \"subunitcolor\": \"white\"}, \"hoverlabel\": {\"align\": \"left\"}, \"hovermode\": \"closest\", \"mapbox\": {\"style\": \"light\"}, \"paper_bgcolor\": \"white\", \"plot_bgcolor\": \"#E5ECF6\", \"polar\": {\"angularaxis\": {\"gridcolor\": \"white\", \"linecolor\": \"white\", \"ticks\": \"\"}, \"bgcolor\": \"#E5ECF6\", \"radialaxis\": {\"gridcolor\": \"white\", \"linecolor\": \"white\", \"ticks\": \"\"}}, \"scene\": {\"xaxis\": {\"backgroundcolor\": \"#E5ECF6\", \"gridcolor\": \"white\", \"gridwidth\": 2, \"linecolor\": \"white\", \"showbackground\": true, \"ticks\": \"\", \"zerolinecolor\": \"white\"}, \"yaxis\": {\"backgroundcolor\": \"#E5ECF6\", \"gridcolor\": \"white\", \"gridwidth\": 2, \"linecolor\": \"white\", \"showbackground\": true, \"ticks\": \"\", \"zerolinecolor\": \"white\"}, \"zaxis\": {\"backgroundcolor\": \"#E5ECF6\", \"gridcolor\": \"white\", \"gridwidth\": 2, \"linecolor\": \"white\", \"showbackground\": true, \"ticks\": \"\", \"zerolinecolor\": \"white\"}}, \"shapedefaults\": {\"line\": {\"color\": \"#2a3f5f\"}}, \"ternary\": {\"aaxis\": {\"gridcolor\": \"white\", \"linecolor\": \"white\", \"ticks\": \"\"}, \"baxis\": {\"gridcolor\": \"white\", \"linecolor\": \"white\", \"ticks\": \"\"}, \"bgcolor\": \"#E5ECF6\", \"caxis\": {\"gridcolor\": \"white\", \"linecolor\": \"white\", \"ticks\": \"\"}}, \"title\": {\"x\": 0.05}, \"xaxis\": {\"automargin\": true, \"gridcolor\": \"white\", \"linecolor\": \"white\", \"ticks\": \"\", \"title\": {\"standoff\": 15}, \"zerolinecolor\": \"white\", \"zerolinewidth\": 2}, \"yaxis\": {\"automargin\": true, \"gridcolor\": \"white\", \"linecolor\": \"white\", \"ticks\": \"\", \"title\": {\"standoff\": 15}, \"zerolinecolor\": \"white\", \"zerolinewidth\": 2}}}, \"title\": {\"text\": \"Atributos do Pok\\u00e9mon Charizard\"}},\n",
       "                        {\"responsive\": true}\n",
       "                    ).then(function(){\n",
       "                            \n",
       "var gd = document.getElementById('61d7e316-92ca-4f19-85e1-d891e3f48f67');\n",
       "var x = new MutationObserver(function (mutations, observer) {{\n",
       "        var display = window.getComputedStyle(gd).display;\n",
       "        if (!display || display === 'none') {{\n",
       "            console.log([gd, 'removed!']);\n",
       "            Plotly.purge(gd);\n",
       "            observer.disconnect();\n",
       "        }}\n",
       "}});\n",
       "\n",
       "// Listen for the removal of the full notebook cells\n",
       "var notebookContainer = gd.closest('#notebook-container');\n",
       "if (notebookContainer) {{\n",
       "    x.observe(notebookContainer, {childList: true});\n",
       "}}\n",
       "\n",
       "// Listen for the clearing of the current output cell\n",
       "var outputEl = gd.closest('.output');\n",
       "if (outputEl) {{\n",
       "    x.observe(outputEl, {childList: true});\n",
       "}}\n",
       "\n",
       "                        })\n",
       "                };\n",
       "                });\n",
       "            </script>\n",
       "        </div>"
      ]
     },
     "metadata": {},
     "output_type": "display_data"
    }
   ],
   "source": [
    "plot_single_pokemon('Charizard')"
   ]
  },
  {
   "cell_type": "markdown",
   "metadata": {
    "slideshow": {
     "slide_type": "slide"
    }
   },
   "source": [
    "# Comparando atributos entre o mais poderoso Pokémon Lendário e não Lendário"
   ]
  },
  {
   "cell_type": "code",
   "execution_count": 36,
   "metadata": {
    "slideshow": {
     "slide_type": "slide"
    }
   },
   "outputs": [],
   "source": [
    "# Comparar Atributos de 2 Pokemons\n",
    "def poke_vs_poke_att(pkmn_1_name, pkmn_2_name):\n",
    "    layout = go.Layout(\n",
    "        polar=dict(radialaxis=dict(visible=True, range=[0, 250])),\n",
    "        showlegend=True,\n",
    "        title=\"{} vs. {}\".format(pkmn_1_name, pkmn_2_name))\n",
    "    pkmn_1 = polar_pokemon_stats(pkmn_1_name)\n",
    "    pkmn_2 = polar_pokemon_stats(pkmn_2_name)\n",
    "    compare_2_pokemon = go.Figure(data=[pkmn_1, pkmn_2], layout=layout)\n",
    "    iplot(compare_2_pokemon, filename='Compare_2_Pokemon')"
   ]
  },
  {
   "cell_type": "code",
   "execution_count": 37,
   "metadata": {
    "slideshow": {
     "slide_type": "subslide"
    }
   },
   "outputs": [
    {
     "data": {
      "application/vnd.plotly.v1+json": {
       "config": {
        "linkText": "Export to plot.ly",
        "plotlyServerURL": "https://plot.ly",
        "showLink": false
       },
       "data": [
        {
         "fill": "toself",
         "marker": {
          "color": "#F95587"
         },
         "name": "Mewtwo",
         "r": [
          106,
          110,
          90,
          154,
          90,
          130,
          106
         ],
         "theta": [
          "HP",
          "Attack",
          "Defense",
          "Sp. Atk",
          "Sp. Def",
          "Speed",
          "HP"
         ],
         "type": "scatterpolar"
        },
        {
         "fill": "toself",
         "marker": {
          "color": "#6F35FC"
         },
         "name": "Dragonite",
         "r": [
          91,
          134,
          95,
          100,
          100,
          80,
          91
         ],
         "theta": [
          "HP",
          "Attack",
          "Defense",
          "Sp. Atk",
          "Sp. Def",
          "Speed",
          "HP"
         ],
         "type": "scatterpolar"
        }
       ],
       "layout": {
        "polar": {
         "radialaxis": {
          "range": [
           0,
           250
          ],
          "visible": true
         }
        },
        "showlegend": true,
        "template": {
         "data": {
          "bar": [
           {
            "error_x": {
             "color": "#2a3f5f"
            },
            "error_y": {
             "color": "#2a3f5f"
            },
            "marker": {
             "line": {
              "color": "#E5ECF6",
              "width": 0.5
             }
            },
            "type": "bar"
           }
          ],
          "barpolar": [
           {
            "marker": {
             "line": {
              "color": "#E5ECF6",
              "width": 0.5
             }
            },
            "type": "barpolar"
           }
          ],
          "carpet": [
           {
            "aaxis": {
             "endlinecolor": "#2a3f5f",
             "gridcolor": "white",
             "linecolor": "white",
             "minorgridcolor": "white",
             "startlinecolor": "#2a3f5f"
            },
            "baxis": {
             "endlinecolor": "#2a3f5f",
             "gridcolor": "white",
             "linecolor": "white",
             "minorgridcolor": "white",
             "startlinecolor": "#2a3f5f"
            },
            "type": "carpet"
           }
          ],
          "choropleth": [
           {
            "colorbar": {
             "outlinewidth": 0,
             "ticks": ""
            },
            "type": "choropleth"
           }
          ],
          "contour": [
           {
            "colorbar": {
             "outlinewidth": 0,
             "ticks": ""
            },
            "colorscale": [
             [
              0,
              "#0d0887"
             ],
             [
              0.1111111111111111,
              "#46039f"
             ],
             [
              0.2222222222222222,
              "#7201a8"
             ],
             [
              0.3333333333333333,
              "#9c179e"
             ],
             [
              0.4444444444444444,
              "#bd3786"
             ],
             [
              0.5555555555555556,
              "#d8576b"
             ],
             [
              0.6666666666666666,
              "#ed7953"
             ],
             [
              0.7777777777777778,
              "#fb9f3a"
             ],
             [
              0.8888888888888888,
              "#fdca26"
             ],
             [
              1,
              "#f0f921"
             ]
            ],
            "type": "contour"
           }
          ],
          "contourcarpet": [
           {
            "colorbar": {
             "outlinewidth": 0,
             "ticks": ""
            },
            "type": "contourcarpet"
           }
          ],
          "heatmap": [
           {
            "colorbar": {
             "outlinewidth": 0,
             "ticks": ""
            },
            "colorscale": [
             [
              0,
              "#0d0887"
             ],
             [
              0.1111111111111111,
              "#46039f"
             ],
             [
              0.2222222222222222,
              "#7201a8"
             ],
             [
              0.3333333333333333,
              "#9c179e"
             ],
             [
              0.4444444444444444,
              "#bd3786"
             ],
             [
              0.5555555555555556,
              "#d8576b"
             ],
             [
              0.6666666666666666,
              "#ed7953"
             ],
             [
              0.7777777777777778,
              "#fb9f3a"
             ],
             [
              0.8888888888888888,
              "#fdca26"
             ],
             [
              1,
              "#f0f921"
             ]
            ],
            "type": "heatmap"
           }
          ],
          "heatmapgl": [
           {
            "colorbar": {
             "outlinewidth": 0,
             "ticks": ""
            },
            "colorscale": [
             [
              0,
              "#0d0887"
             ],
             [
              0.1111111111111111,
              "#46039f"
             ],
             [
              0.2222222222222222,
              "#7201a8"
             ],
             [
              0.3333333333333333,
              "#9c179e"
             ],
             [
              0.4444444444444444,
              "#bd3786"
             ],
             [
              0.5555555555555556,
              "#d8576b"
             ],
             [
              0.6666666666666666,
              "#ed7953"
             ],
             [
              0.7777777777777778,
              "#fb9f3a"
             ],
             [
              0.8888888888888888,
              "#fdca26"
             ],
             [
              1,
              "#f0f921"
             ]
            ],
            "type": "heatmapgl"
           }
          ],
          "histogram": [
           {
            "marker": {
             "colorbar": {
              "outlinewidth": 0,
              "ticks": ""
             }
            },
            "type": "histogram"
           }
          ],
          "histogram2d": [
           {
            "colorbar": {
             "outlinewidth": 0,
             "ticks": ""
            },
            "colorscale": [
             [
              0,
              "#0d0887"
             ],
             [
              0.1111111111111111,
              "#46039f"
             ],
             [
              0.2222222222222222,
              "#7201a8"
             ],
             [
              0.3333333333333333,
              "#9c179e"
             ],
             [
              0.4444444444444444,
              "#bd3786"
             ],
             [
              0.5555555555555556,
              "#d8576b"
             ],
             [
              0.6666666666666666,
              "#ed7953"
             ],
             [
              0.7777777777777778,
              "#fb9f3a"
             ],
             [
              0.8888888888888888,
              "#fdca26"
             ],
             [
              1,
              "#f0f921"
             ]
            ],
            "type": "histogram2d"
           }
          ],
          "histogram2dcontour": [
           {
            "colorbar": {
             "outlinewidth": 0,
             "ticks": ""
            },
            "colorscale": [
             [
              0,
              "#0d0887"
             ],
             [
              0.1111111111111111,
              "#46039f"
             ],
             [
              0.2222222222222222,
              "#7201a8"
             ],
             [
              0.3333333333333333,
              "#9c179e"
             ],
             [
              0.4444444444444444,
              "#bd3786"
             ],
             [
              0.5555555555555556,
              "#d8576b"
             ],
             [
              0.6666666666666666,
              "#ed7953"
             ],
             [
              0.7777777777777778,
              "#fb9f3a"
             ],
             [
              0.8888888888888888,
              "#fdca26"
             ],
             [
              1,
              "#f0f921"
             ]
            ],
            "type": "histogram2dcontour"
           }
          ],
          "mesh3d": [
           {
            "colorbar": {
             "outlinewidth": 0,
             "ticks": ""
            },
            "type": "mesh3d"
           }
          ],
          "parcoords": [
           {
            "line": {
             "colorbar": {
              "outlinewidth": 0,
              "ticks": ""
             }
            },
            "type": "parcoords"
           }
          ],
          "pie": [
           {
            "automargin": true,
            "type": "pie"
           }
          ],
          "scatter": [
           {
            "marker": {
             "colorbar": {
              "outlinewidth": 0,
              "ticks": ""
             }
            },
            "type": "scatter"
           }
          ],
          "scatter3d": [
           {
            "line": {
             "colorbar": {
              "outlinewidth": 0,
              "ticks": ""
             }
            },
            "marker": {
             "colorbar": {
              "outlinewidth": 0,
              "ticks": ""
             }
            },
            "type": "scatter3d"
           }
          ],
          "scattercarpet": [
           {
            "marker": {
             "colorbar": {
              "outlinewidth": 0,
              "ticks": ""
             }
            },
            "type": "scattercarpet"
           }
          ],
          "scattergeo": [
           {
            "marker": {
             "colorbar": {
              "outlinewidth": 0,
              "ticks": ""
             }
            },
            "type": "scattergeo"
           }
          ],
          "scattergl": [
           {
            "marker": {
             "colorbar": {
              "outlinewidth": 0,
              "ticks": ""
             }
            },
            "type": "scattergl"
           }
          ],
          "scattermapbox": [
           {
            "marker": {
             "colorbar": {
              "outlinewidth": 0,
              "ticks": ""
             }
            },
            "type": "scattermapbox"
           }
          ],
          "scatterpolar": [
           {
            "marker": {
             "colorbar": {
              "outlinewidth": 0,
              "ticks": ""
             }
            },
            "type": "scatterpolar"
           }
          ],
          "scatterpolargl": [
           {
            "marker": {
             "colorbar": {
              "outlinewidth": 0,
              "ticks": ""
             }
            },
            "type": "scatterpolargl"
           }
          ],
          "scatterternary": [
           {
            "marker": {
             "colorbar": {
              "outlinewidth": 0,
              "ticks": ""
             }
            },
            "type": "scatterternary"
           }
          ],
          "surface": [
           {
            "colorbar": {
             "outlinewidth": 0,
             "ticks": ""
            },
            "colorscale": [
             [
              0,
              "#0d0887"
             ],
             [
              0.1111111111111111,
              "#46039f"
             ],
             [
              0.2222222222222222,
              "#7201a8"
             ],
             [
              0.3333333333333333,
              "#9c179e"
             ],
             [
              0.4444444444444444,
              "#bd3786"
             ],
             [
              0.5555555555555556,
              "#d8576b"
             ],
             [
              0.6666666666666666,
              "#ed7953"
             ],
             [
              0.7777777777777778,
              "#fb9f3a"
             ],
             [
              0.8888888888888888,
              "#fdca26"
             ],
             [
              1,
              "#f0f921"
             ]
            ],
            "type": "surface"
           }
          ],
          "table": [
           {
            "cells": {
             "fill": {
              "color": "#EBF0F8"
             },
             "line": {
              "color": "white"
             }
            },
            "header": {
             "fill": {
              "color": "#C8D4E3"
             },
             "line": {
              "color": "white"
             }
            },
            "type": "table"
           }
          ]
         },
         "layout": {
          "annotationdefaults": {
           "arrowcolor": "#2a3f5f",
           "arrowhead": 0,
           "arrowwidth": 1
          },
          "coloraxis": {
           "colorbar": {
            "outlinewidth": 0,
            "ticks": ""
           }
          },
          "colorscale": {
           "diverging": [
            [
             0,
             "#8e0152"
            ],
            [
             0.1,
             "#c51b7d"
            ],
            [
             0.2,
             "#de77ae"
            ],
            [
             0.3,
             "#f1b6da"
            ],
            [
             0.4,
             "#fde0ef"
            ],
            [
             0.5,
             "#f7f7f7"
            ],
            [
             0.6,
             "#e6f5d0"
            ],
            [
             0.7,
             "#b8e186"
            ],
            [
             0.8,
             "#7fbc41"
            ],
            [
             0.9,
             "#4d9221"
            ],
            [
             1,
             "#276419"
            ]
           ],
           "sequential": [
            [
             0,
             "#0d0887"
            ],
            [
             0.1111111111111111,
             "#46039f"
            ],
            [
             0.2222222222222222,
             "#7201a8"
            ],
            [
             0.3333333333333333,
             "#9c179e"
            ],
            [
             0.4444444444444444,
             "#bd3786"
            ],
            [
             0.5555555555555556,
             "#d8576b"
            ],
            [
             0.6666666666666666,
             "#ed7953"
            ],
            [
             0.7777777777777778,
             "#fb9f3a"
            ],
            [
             0.8888888888888888,
             "#fdca26"
            ],
            [
             1,
             "#f0f921"
            ]
           ],
           "sequentialminus": [
            [
             0,
             "#0d0887"
            ],
            [
             0.1111111111111111,
             "#46039f"
            ],
            [
             0.2222222222222222,
             "#7201a8"
            ],
            [
             0.3333333333333333,
             "#9c179e"
            ],
            [
             0.4444444444444444,
             "#bd3786"
            ],
            [
             0.5555555555555556,
             "#d8576b"
            ],
            [
             0.6666666666666666,
             "#ed7953"
            ],
            [
             0.7777777777777778,
             "#fb9f3a"
            ],
            [
             0.8888888888888888,
             "#fdca26"
            ],
            [
             1,
             "#f0f921"
            ]
           ]
          },
          "colorway": [
           "#636efa",
           "#EF553B",
           "#00cc96",
           "#ab63fa",
           "#FFA15A",
           "#19d3f3",
           "#FF6692",
           "#B6E880",
           "#FF97FF",
           "#FECB52"
          ],
          "font": {
           "color": "#2a3f5f"
          },
          "geo": {
           "bgcolor": "white",
           "lakecolor": "white",
           "landcolor": "#E5ECF6",
           "showlakes": true,
           "showland": true,
           "subunitcolor": "white"
          },
          "hoverlabel": {
           "align": "left"
          },
          "hovermode": "closest",
          "mapbox": {
           "style": "light"
          },
          "paper_bgcolor": "white",
          "plot_bgcolor": "#E5ECF6",
          "polar": {
           "angularaxis": {
            "gridcolor": "white",
            "linecolor": "white",
            "ticks": ""
           },
           "bgcolor": "#E5ECF6",
           "radialaxis": {
            "gridcolor": "white",
            "linecolor": "white",
            "ticks": ""
           }
          },
          "scene": {
           "xaxis": {
            "backgroundcolor": "#E5ECF6",
            "gridcolor": "white",
            "gridwidth": 2,
            "linecolor": "white",
            "showbackground": true,
            "ticks": "",
            "zerolinecolor": "white"
           },
           "yaxis": {
            "backgroundcolor": "#E5ECF6",
            "gridcolor": "white",
            "gridwidth": 2,
            "linecolor": "white",
            "showbackground": true,
            "ticks": "",
            "zerolinecolor": "white"
           },
           "zaxis": {
            "backgroundcolor": "#E5ECF6",
            "gridcolor": "white",
            "gridwidth": 2,
            "linecolor": "white",
            "showbackground": true,
            "ticks": "",
            "zerolinecolor": "white"
           }
          },
          "shapedefaults": {
           "line": {
            "color": "#2a3f5f"
           }
          },
          "ternary": {
           "aaxis": {
            "gridcolor": "white",
            "linecolor": "white",
            "ticks": ""
           },
           "baxis": {
            "gridcolor": "white",
            "linecolor": "white",
            "ticks": ""
           },
           "bgcolor": "#E5ECF6",
           "caxis": {
            "gridcolor": "white",
            "linecolor": "white",
            "ticks": ""
           }
          },
          "title": {
           "x": 0.05
          },
          "xaxis": {
           "automargin": true,
           "gridcolor": "white",
           "linecolor": "white",
           "ticks": "",
           "title": {
            "standoff": 15
           },
           "zerolinecolor": "white",
           "zerolinewidth": 2
          },
          "yaxis": {
           "automargin": true,
           "gridcolor": "white",
           "linecolor": "white",
           "ticks": "",
           "title": {
            "standoff": 15
           },
           "zerolinecolor": "white",
           "zerolinewidth": 2
          }
         }
        },
        "title": {
         "text": "Mewtwo vs. Dragonite"
        }
       }
      },
      "text/html": [
       "<div>\n",
       "        \n",
       "        \n",
       "            <div id=\"be45293d-51b8-41c6-92c4-d8d5f790b0e5\" class=\"plotly-graph-div\" style=\"height:525px; width:100%;\"></div>\n",
       "            <script type=\"text/javascript\">\n",
       "                require([\"plotly\"], function(Plotly) {\n",
       "                    window.PLOTLYENV=window.PLOTLYENV || {};\n",
       "                    \n",
       "                if (document.getElementById(\"be45293d-51b8-41c6-92c4-d8d5f790b0e5\")) {\n",
       "                    Plotly.newPlot(\n",
       "                        'be45293d-51b8-41c6-92c4-d8d5f790b0e5',\n",
       "                        [{\"fill\": \"toself\", \"marker\": {\"color\": \"#F95587\"}, \"name\": \"Mewtwo\", \"r\": [106, 110, 90, 154, 90, 130, 106], \"theta\": [\"HP\", \"Attack\", \"Defense\", \"Sp. Atk\", \"Sp. Def\", \"Speed\", \"HP\"], \"type\": \"scatterpolar\"}, {\"fill\": \"toself\", \"marker\": {\"color\": \"#6F35FC\"}, \"name\": \"Dragonite\", \"r\": [91, 134, 95, 100, 100, 80, 91], \"theta\": [\"HP\", \"Attack\", \"Defense\", \"Sp. Atk\", \"Sp. Def\", \"Speed\", \"HP\"], \"type\": \"scatterpolar\"}],\n",
       "                        {\"polar\": {\"radialaxis\": {\"range\": [0, 250], \"visible\": true}}, \"showlegend\": true, \"template\": {\"data\": {\"bar\": [{\"error_x\": {\"color\": \"#2a3f5f\"}, \"error_y\": {\"color\": \"#2a3f5f\"}, \"marker\": {\"line\": {\"color\": \"#E5ECF6\", \"width\": 0.5}}, \"type\": \"bar\"}], \"barpolar\": [{\"marker\": {\"line\": {\"color\": \"#E5ECF6\", \"width\": 0.5}}, \"type\": \"barpolar\"}], \"carpet\": [{\"aaxis\": {\"endlinecolor\": \"#2a3f5f\", \"gridcolor\": \"white\", \"linecolor\": \"white\", \"minorgridcolor\": \"white\", \"startlinecolor\": \"#2a3f5f\"}, \"baxis\": {\"endlinecolor\": \"#2a3f5f\", \"gridcolor\": \"white\", \"linecolor\": \"white\", \"minorgridcolor\": \"white\", \"startlinecolor\": \"#2a3f5f\"}, \"type\": \"carpet\"}], \"choropleth\": [{\"colorbar\": {\"outlinewidth\": 0, \"ticks\": \"\"}, \"type\": \"choropleth\"}], \"contour\": [{\"colorbar\": {\"outlinewidth\": 0, \"ticks\": \"\"}, \"colorscale\": [[0.0, \"#0d0887\"], [0.1111111111111111, \"#46039f\"], [0.2222222222222222, \"#7201a8\"], [0.3333333333333333, \"#9c179e\"], [0.4444444444444444, \"#bd3786\"], [0.5555555555555556, \"#d8576b\"], [0.6666666666666666, \"#ed7953\"], [0.7777777777777778, \"#fb9f3a\"], [0.8888888888888888, \"#fdca26\"], [1.0, \"#f0f921\"]], \"type\": \"contour\"}], \"contourcarpet\": [{\"colorbar\": {\"outlinewidth\": 0, \"ticks\": \"\"}, \"type\": \"contourcarpet\"}], \"heatmap\": [{\"colorbar\": {\"outlinewidth\": 0, \"ticks\": \"\"}, \"colorscale\": [[0.0, \"#0d0887\"], [0.1111111111111111, \"#46039f\"], [0.2222222222222222, \"#7201a8\"], [0.3333333333333333, \"#9c179e\"], [0.4444444444444444, \"#bd3786\"], [0.5555555555555556, \"#d8576b\"], [0.6666666666666666, \"#ed7953\"], [0.7777777777777778, \"#fb9f3a\"], [0.8888888888888888, \"#fdca26\"], [1.0, \"#f0f921\"]], \"type\": \"heatmap\"}], \"heatmapgl\": [{\"colorbar\": {\"outlinewidth\": 0, \"ticks\": \"\"}, \"colorscale\": [[0.0, \"#0d0887\"], [0.1111111111111111, \"#46039f\"], [0.2222222222222222, \"#7201a8\"], [0.3333333333333333, \"#9c179e\"], [0.4444444444444444, \"#bd3786\"], [0.5555555555555556, \"#d8576b\"], [0.6666666666666666, \"#ed7953\"], [0.7777777777777778, \"#fb9f3a\"], [0.8888888888888888, \"#fdca26\"], [1.0, \"#f0f921\"]], \"type\": \"heatmapgl\"}], \"histogram\": [{\"marker\": {\"colorbar\": {\"outlinewidth\": 0, \"ticks\": \"\"}}, \"type\": \"histogram\"}], \"histogram2d\": [{\"colorbar\": {\"outlinewidth\": 0, \"ticks\": \"\"}, \"colorscale\": [[0.0, \"#0d0887\"], [0.1111111111111111, \"#46039f\"], [0.2222222222222222, \"#7201a8\"], [0.3333333333333333, \"#9c179e\"], [0.4444444444444444, \"#bd3786\"], [0.5555555555555556, \"#d8576b\"], [0.6666666666666666, \"#ed7953\"], [0.7777777777777778, \"#fb9f3a\"], [0.8888888888888888, \"#fdca26\"], [1.0, \"#f0f921\"]], \"type\": \"histogram2d\"}], \"histogram2dcontour\": [{\"colorbar\": {\"outlinewidth\": 0, \"ticks\": \"\"}, \"colorscale\": [[0.0, \"#0d0887\"], [0.1111111111111111, \"#46039f\"], [0.2222222222222222, \"#7201a8\"], [0.3333333333333333, \"#9c179e\"], [0.4444444444444444, \"#bd3786\"], [0.5555555555555556, \"#d8576b\"], [0.6666666666666666, \"#ed7953\"], [0.7777777777777778, \"#fb9f3a\"], [0.8888888888888888, \"#fdca26\"], [1.0, \"#f0f921\"]], \"type\": \"histogram2dcontour\"}], \"mesh3d\": [{\"colorbar\": {\"outlinewidth\": 0, \"ticks\": \"\"}, \"type\": \"mesh3d\"}], \"parcoords\": [{\"line\": {\"colorbar\": {\"outlinewidth\": 0, \"ticks\": \"\"}}, \"type\": \"parcoords\"}], \"pie\": [{\"automargin\": true, \"type\": \"pie\"}], \"scatter\": [{\"marker\": {\"colorbar\": {\"outlinewidth\": 0, \"ticks\": \"\"}}, \"type\": \"scatter\"}], \"scatter3d\": [{\"line\": {\"colorbar\": {\"outlinewidth\": 0, \"ticks\": \"\"}}, \"marker\": {\"colorbar\": {\"outlinewidth\": 0, \"ticks\": \"\"}}, \"type\": \"scatter3d\"}], \"scattercarpet\": [{\"marker\": {\"colorbar\": {\"outlinewidth\": 0, \"ticks\": \"\"}}, \"type\": \"scattercarpet\"}], \"scattergeo\": [{\"marker\": {\"colorbar\": {\"outlinewidth\": 0, \"ticks\": \"\"}}, \"type\": \"scattergeo\"}], \"scattergl\": [{\"marker\": {\"colorbar\": {\"outlinewidth\": 0, \"ticks\": \"\"}}, \"type\": \"scattergl\"}], \"scattermapbox\": [{\"marker\": {\"colorbar\": {\"outlinewidth\": 0, \"ticks\": \"\"}}, \"type\": \"scattermapbox\"}], \"scatterpolar\": [{\"marker\": {\"colorbar\": {\"outlinewidth\": 0, \"ticks\": \"\"}}, \"type\": \"scatterpolar\"}], \"scatterpolargl\": [{\"marker\": {\"colorbar\": {\"outlinewidth\": 0, \"ticks\": \"\"}}, \"type\": \"scatterpolargl\"}], \"scatterternary\": [{\"marker\": {\"colorbar\": {\"outlinewidth\": 0, \"ticks\": \"\"}}, \"type\": \"scatterternary\"}], \"surface\": [{\"colorbar\": {\"outlinewidth\": 0, \"ticks\": \"\"}, \"colorscale\": [[0.0, \"#0d0887\"], [0.1111111111111111, \"#46039f\"], [0.2222222222222222, \"#7201a8\"], [0.3333333333333333, \"#9c179e\"], [0.4444444444444444, \"#bd3786\"], [0.5555555555555556, \"#d8576b\"], [0.6666666666666666, \"#ed7953\"], [0.7777777777777778, \"#fb9f3a\"], [0.8888888888888888, \"#fdca26\"], [1.0, \"#f0f921\"]], \"type\": \"surface\"}], \"table\": [{\"cells\": {\"fill\": {\"color\": \"#EBF0F8\"}, \"line\": {\"color\": \"white\"}}, \"header\": {\"fill\": {\"color\": \"#C8D4E3\"}, \"line\": {\"color\": \"white\"}}, \"type\": \"table\"}]}, \"layout\": {\"annotationdefaults\": {\"arrowcolor\": \"#2a3f5f\", \"arrowhead\": 0, \"arrowwidth\": 1}, \"coloraxis\": {\"colorbar\": {\"outlinewidth\": 0, \"ticks\": \"\"}}, \"colorscale\": {\"diverging\": [[0, \"#8e0152\"], [0.1, \"#c51b7d\"], [0.2, \"#de77ae\"], [0.3, \"#f1b6da\"], [0.4, \"#fde0ef\"], [0.5, \"#f7f7f7\"], [0.6, \"#e6f5d0\"], [0.7, \"#b8e186\"], [0.8, \"#7fbc41\"], [0.9, \"#4d9221\"], [1, \"#276419\"]], \"sequential\": [[0.0, \"#0d0887\"], [0.1111111111111111, \"#46039f\"], [0.2222222222222222, \"#7201a8\"], [0.3333333333333333, \"#9c179e\"], [0.4444444444444444, \"#bd3786\"], [0.5555555555555556, \"#d8576b\"], [0.6666666666666666, \"#ed7953\"], [0.7777777777777778, \"#fb9f3a\"], [0.8888888888888888, \"#fdca26\"], [1.0, \"#f0f921\"]], \"sequentialminus\": [[0.0, \"#0d0887\"], [0.1111111111111111, \"#46039f\"], [0.2222222222222222, \"#7201a8\"], [0.3333333333333333, \"#9c179e\"], [0.4444444444444444, \"#bd3786\"], [0.5555555555555556, \"#d8576b\"], [0.6666666666666666, \"#ed7953\"], [0.7777777777777778, \"#fb9f3a\"], [0.8888888888888888, \"#fdca26\"], [1.0, \"#f0f921\"]]}, \"colorway\": [\"#636efa\", \"#EF553B\", \"#00cc96\", \"#ab63fa\", \"#FFA15A\", \"#19d3f3\", \"#FF6692\", \"#B6E880\", \"#FF97FF\", \"#FECB52\"], \"font\": {\"color\": \"#2a3f5f\"}, \"geo\": {\"bgcolor\": \"white\", \"lakecolor\": \"white\", \"landcolor\": \"#E5ECF6\", \"showlakes\": true, \"showland\": true, \"subunitcolor\": \"white\"}, \"hoverlabel\": {\"align\": \"left\"}, \"hovermode\": \"closest\", \"mapbox\": {\"style\": \"light\"}, \"paper_bgcolor\": \"white\", \"plot_bgcolor\": \"#E5ECF6\", \"polar\": {\"angularaxis\": {\"gridcolor\": \"white\", \"linecolor\": \"white\", \"ticks\": \"\"}, \"bgcolor\": \"#E5ECF6\", \"radialaxis\": {\"gridcolor\": \"white\", \"linecolor\": \"white\", \"ticks\": \"\"}}, \"scene\": {\"xaxis\": {\"backgroundcolor\": \"#E5ECF6\", \"gridcolor\": \"white\", \"gridwidth\": 2, \"linecolor\": \"white\", \"showbackground\": true, \"ticks\": \"\", \"zerolinecolor\": \"white\"}, \"yaxis\": {\"backgroundcolor\": \"#E5ECF6\", \"gridcolor\": \"white\", \"gridwidth\": 2, \"linecolor\": \"white\", \"showbackground\": true, \"ticks\": \"\", \"zerolinecolor\": \"white\"}, \"zaxis\": {\"backgroundcolor\": \"#E5ECF6\", \"gridcolor\": \"white\", \"gridwidth\": 2, \"linecolor\": \"white\", \"showbackground\": true, \"ticks\": \"\", \"zerolinecolor\": \"white\"}}, \"shapedefaults\": {\"line\": {\"color\": \"#2a3f5f\"}}, \"ternary\": {\"aaxis\": {\"gridcolor\": \"white\", \"linecolor\": \"white\", \"ticks\": \"\"}, \"baxis\": {\"gridcolor\": \"white\", \"linecolor\": \"white\", \"ticks\": \"\"}, \"bgcolor\": \"#E5ECF6\", \"caxis\": {\"gridcolor\": \"white\", \"linecolor\": \"white\", \"ticks\": \"\"}}, \"title\": {\"x\": 0.05}, \"xaxis\": {\"automargin\": true, \"gridcolor\": \"white\", \"linecolor\": \"white\", \"ticks\": \"\", \"title\": {\"standoff\": 15}, \"zerolinecolor\": \"white\", \"zerolinewidth\": 2}, \"yaxis\": {\"automargin\": true, \"gridcolor\": \"white\", \"linecolor\": \"white\", \"ticks\": \"\", \"title\": {\"standoff\": 15}, \"zerolinecolor\": \"white\", \"zerolinewidth\": 2}}}, \"title\": {\"text\": \"Mewtwo vs. Dragonite\"}},\n",
       "                        {\"responsive\": true}\n",
       "                    ).then(function(){\n",
       "                            \n",
       "var gd = document.getElementById('be45293d-51b8-41c6-92c4-d8d5f790b0e5');\n",
       "var x = new MutationObserver(function (mutations, observer) {{\n",
       "        var display = window.getComputedStyle(gd).display;\n",
       "        if (!display || display === 'none') {{\n",
       "            console.log([gd, 'removed!']);\n",
       "            Plotly.purge(gd);\n",
       "            observer.disconnect();\n",
       "        }}\n",
       "}});\n",
       "\n",
       "// Listen for the removal of the full notebook cells\n",
       "var notebookContainer = gd.closest('#notebook-container');\n",
       "if (notebookContainer) {{\n",
       "    x.observe(notebookContainer, {childList: true});\n",
       "}}\n",
       "\n",
       "// Listen for the clearing of the current output cell\n",
       "var outputEl = gd.closest('.output');\n",
       "if (outputEl) {{\n",
       "    x.observe(outputEl, {childList: true});\n",
       "}}\n",
       "\n",
       "                        })\n",
       "                };\n",
       "                });\n",
       "            </script>\n",
       "        </div>"
      ]
     },
     "metadata": {},
     "output_type": "display_data"
    }
   ],
   "source": [
    "poke_vs_poke_att('Mewtwo', 'Dragonite')"
   ]
  },
  {
   "cell_type": "markdown",
   "metadata": {
    "slideshow": {
     "slide_type": "slide"
    }
   },
   "source": [
    "# Como estão distribuidos os atributos dos Pokémons?"
   ]
  },
  {
   "cell_type": "code",
   "execution_count": 38,
   "metadata": {
    "slideshow": {
     "slide_type": "slide"
    }
   },
   "outputs": [],
   "source": [
    "# Gráfico de Distribuição da Vida dos Pokemons\n",
    "# Cálculo do Bin na opção 1 = 19 ... opção 2(Sturges) = 30\n",
    "def distri_att(atributo):\n",
    "    hp_data = ff.create_distplot([pokemon.HP], [atributo], bin_size=19)\n",
    "    layout = go.Layout(title='Distribuição de {}'.format(atributo), yaxis=dict(title='Porcentagem'))\n",
    "    figura = go.Figure(data=hp_data, layout=layout)\n",
    "    figura.update_layout(title_text='Distribuição Atributo {}'.format(atributo))\n",
    "    iplot(figura, filename='Distorcao_{}'.format(atributo))"
   ]
  },
  {
   "cell_type": "code",
   "execution_count": 39,
   "metadata": {
    "slideshow": {
     "slide_type": "subslide"
    }
   },
   "outputs": [
    {
     "data": {
      "application/vnd.plotly.v1+json": {
       "config": {
        "linkText": "Export to plot.ly",
        "plotlyServerURL": "https://plot.ly",
        "showLink": false
       },
       "data": [
        {
         "autobinx": false,
         "histnorm": "probability density",
         "legendgroup": "HP",
         "marker": {
          "color": "rgb(31, 119, 180)"
         },
         "name": "HP",
         "opacity": 0.7,
         "type": "histogram",
         "x": [
          45,
          60,
          80,
          39,
          58,
          78,
          44,
          59,
          79,
          45,
          50,
          60,
          40,
          45,
          65,
          40,
          63,
          83,
          30,
          55,
          40,
          65,
          35,
          60,
          35,
          60,
          50,
          75,
          55,
          70,
          90,
          46,
          61,
          81,
          70,
          95,
          38,
          73,
          115,
          140,
          40,
          75,
          45,
          60,
          75,
          35,
          60,
          60,
          70,
          10,
          35,
          40,
          65,
          50,
          80,
          40,
          65,
          55,
          90,
          40,
          65,
          90,
          25,
          40,
          55,
          70,
          80,
          90,
          50,
          65,
          80,
          40,
          80,
          40,
          55,
          80,
          50,
          65,
          90,
          95,
          25,
          50,
          52,
          35,
          60,
          65,
          90,
          80,
          105,
          30,
          50,
          30,
          45,
          60,
          35,
          60,
          85,
          30,
          55,
          40,
          60,
          60,
          95,
          50,
          60,
          50,
          50,
          90,
          40,
          65,
          80,
          105,
          250,
          65,
          105,
          30,
          55,
          45,
          80,
          30,
          60,
          40,
          70,
          65,
          65,
          65,
          65,
          75,
          20,
          95,
          130,
          48,
          55,
          130,
          65,
          65,
          65,
          35,
          70,
          30,
          60,
          80,
          160,
          90,
          90,
          90,
          41,
          61,
          91,
          106,
          100
         ],
         "xaxis": "x",
         "xbins": {
          "end": 250,
          "size": 19,
          "start": 10
         },
         "yaxis": "y"
        },
        {
         "legendgroup": "HP",
         "marker": {
          "color": "rgb(31, 119, 180)"
         },
         "mode": "lines",
         "name": "HP",
         "showlegend": false,
         "type": "scatter",
         "x": [
          10,
          10.48,
          10.96,
          11.44,
          11.92,
          12.4,
          12.879999999999999,
          13.36,
          13.84,
          14.32,
          14.8,
          15.280000000000001,
          15.76,
          16.240000000000002,
          16.72,
          17.2,
          17.68,
          18.16,
          18.64,
          19.119999999999997,
          19.6,
          20.08,
          20.560000000000002,
          21.04,
          21.52,
          22,
          22.48,
          22.96,
          23.439999999999998,
          23.92,
          24.4,
          24.880000000000003,
          25.36,
          25.84,
          26.32,
          26.8,
          27.28,
          27.76,
          28.24,
          28.72,
          29.2,
          29.68,
          30.16,
          30.64,
          31.12,
          31.6,
          32.08,
          32.56,
          33.04,
          33.519999999999996,
          34,
          34.480000000000004,
          34.96,
          35.44,
          35.92,
          36.4,
          36.879999999999995,
          37.36,
          37.84,
          38.32,
          38.8,
          39.28,
          39.760000000000005,
          40.239999999999995,
          40.72,
          41.2,
          41.68,
          42.16,
          42.64,
          43.12,
          43.6,
          44.08,
          44.56,
          45.04,
          45.52,
          46,
          46.48,
          46.96,
          47.44,
          47.92,
          48.4,
          48.88,
          49.36,
          49.84,
          50.32,
          50.8,
          51.28,
          51.76,
          52.24,
          52.72,
          53.2,
          53.68,
          54.16,
          54.64,
          55.12,
          55.6,
          56.08,
          56.56,
          57.04,
          57.52,
          58,
          58.48,
          58.96,
          59.44,
          59.92,
          60.4,
          60.88,
          61.36,
          61.84,
          62.32,
          62.8,
          63.28,
          63.76,
          64.24000000000001,
          64.72,
          65.2,
          65.68,
          66.16,
          66.64,
          67.12,
          67.6,
          68.08,
          68.56,
          69.03999999999999,
          69.52000000000001,
          70,
          70.47999999999999,
          70.96000000000001,
          71.44,
          71.92,
          72.4,
          72.88,
          73.36,
          73.84,
          74.32,
          74.8,
          75.28,
          75.76,
          76.24,
          76.72,
          77.2,
          77.68,
          78.16,
          78.64,
          79.12,
          79.6,
          80.08,
          80.56,
          81.04,
          81.52,
          82,
          82.48,
          82.96,
          83.44,
          83.92,
          84.4,
          84.88,
          85.36,
          85.84,
          86.32,
          86.8,
          87.28,
          87.76,
          88.24,
          88.72,
          89.2,
          89.68,
          90.16,
          90.64,
          91.12,
          91.6,
          92.08,
          92.56,
          93.04,
          93.52,
          94,
          94.48,
          94.96,
          95.44,
          95.92,
          96.4,
          96.88,
          97.36,
          97.84,
          98.32,
          98.8,
          99.28,
          99.76,
          100.24,
          100.72,
          101.2,
          101.68,
          102.16,
          102.64,
          103.12,
          103.6,
          104.08,
          104.56,
          105.04,
          105.52,
          106,
          106.48,
          106.96,
          107.44,
          107.92,
          108.4,
          108.88,
          109.36,
          109.84,
          110.32,
          110.8,
          111.28,
          111.76,
          112.24,
          112.72,
          113.2,
          113.68,
          114.16,
          114.64,
          115.12,
          115.6,
          116.08,
          116.56,
          117.04,
          117.52,
          118,
          118.48,
          118.96,
          119.44,
          119.92,
          120.4,
          120.88,
          121.36,
          121.84,
          122.32,
          122.8,
          123.28,
          123.76,
          124.24,
          124.72,
          125.2,
          125.68,
          126.16,
          126.64,
          127.12,
          127.6,
          128.07999999999998,
          128.56,
          129.04000000000002,
          129.51999999999998,
          130,
          130.48000000000002,
          130.95999999999998,
          131.44,
          131.92000000000002,
          132.4,
          132.88,
          133.36,
          133.84,
          134.32,
          134.8,
          135.28,
          135.76,
          136.24,
          136.72,
          137.2,
          137.68,
          138.16,
          138.64,
          139.12,
          139.6,
          140.08,
          140.56,
          141.04,
          141.52,
          142,
          142.48,
          142.96,
          143.44,
          143.92,
          144.4,
          144.88,
          145.36,
          145.84,
          146.32,
          146.8,
          147.28,
          147.76,
          148.24,
          148.72,
          149.2,
          149.68,
          150.16,
          150.64,
          151.12,
          151.6,
          152.08,
          152.56,
          153.04,
          153.52,
          154,
          154.48,
          154.96,
          155.44,
          155.92,
          156.4,
          156.88,
          157.36,
          157.84,
          158.32,
          158.8,
          159.28,
          159.76,
          160.24,
          160.72,
          161.2,
          161.68,
          162.16,
          162.64,
          163.12,
          163.6,
          164.08,
          164.56,
          165.04,
          165.52,
          166,
          166.48,
          166.96,
          167.44,
          167.92,
          168.4,
          168.88,
          169.36,
          169.84,
          170.32,
          170.8,
          171.28,
          171.76,
          172.24,
          172.72,
          173.2,
          173.68,
          174.16,
          174.64,
          175.12,
          175.6,
          176.08,
          176.56,
          177.04,
          177.52,
          178,
          178.48,
          178.96,
          179.44,
          179.92,
          180.4,
          180.88,
          181.36,
          181.84,
          182.32,
          182.8,
          183.28,
          183.76,
          184.24,
          184.72,
          185.2,
          185.68,
          186.16,
          186.64,
          187.12,
          187.6,
          188.08,
          188.56,
          189.04,
          189.52,
          190,
          190.48,
          190.96,
          191.44,
          191.92,
          192.4,
          192.88,
          193.36,
          193.84,
          194.32,
          194.8,
          195.28,
          195.76,
          196.24,
          196.72,
          197.2,
          197.68,
          198.16,
          198.64,
          199.12,
          199.6,
          200.08,
          200.56,
          201.04,
          201.52,
          202,
          202.48,
          202.96,
          203.44,
          203.92,
          204.4,
          204.88,
          205.36,
          205.84,
          206.32,
          206.8,
          207.28,
          207.76,
          208.24,
          208.72,
          209.2,
          209.68,
          210.16,
          210.64,
          211.12,
          211.6,
          212.08,
          212.56,
          213.04,
          213.52,
          214,
          214.48,
          214.96,
          215.44,
          215.92,
          216.4,
          216.88,
          217.36,
          217.84,
          218.32,
          218.8,
          219.28,
          219.76,
          220.24,
          220.72,
          221.2,
          221.68,
          222.16,
          222.64,
          223.12,
          223.6,
          224.08,
          224.56,
          225.04,
          225.52,
          226,
          226.48,
          226.96,
          227.44,
          227.92,
          228.4,
          228.88,
          229.36,
          229.84,
          230.32,
          230.8,
          231.28,
          231.76,
          232.24,
          232.72,
          233.2,
          233.68,
          234.16,
          234.64,
          235.12,
          235.6,
          236.08,
          236.56,
          237.04,
          237.52,
          238,
          238.48,
          238.96,
          239.44,
          239.92,
          240.4,
          240.88,
          241.36,
          241.84,
          242.32,
          242.8,
          243.28,
          243.76,
          244.24,
          244.72,
          245.2,
          245.68,
          246.16,
          246.64,
          247.12,
          247.6,
          248.08,
          248.56,
          249.04,
          249.52
         ],
         "xaxis": "x",
         "y": [
          0.0010618502521078526,
          0.00112951535028472,
          0.001201059782361177,
          0.0012766550346968851,
          0.0013564718858023227,
          0.0014406792852727248,
          0.0015294431614609042,
          0.0016229251650153426,
          0.0017212813565384288,
          0.0018246608477053626,
          0.0019332044062126826,
          0.0020470430358829556,
          0.002166296544126131,
          0.0022910721097356293,
          0.0024214628646674783,
          0.0025575465040028134,
          0.0026993839387182104,
          0.0028470180061764888,
          0.003000472253394423,
          0.003159749808137267,
          0.00332483235272745,
          0.0034956792151312403,
          0.0036722265913998247,
          0.0038543869128868633,
          0.0040420483708423945,
          0.004235074609992633,
          0.004433304601557143,
          0.004636552704832797,
          0.004844608924989856,
          0.0050572393730865745,
          0.005274186932520838,
          0.005495172134210405,
          0.00571989424073781,
          0.005948032537526457,
          0.006179247826845422,
          0.0064131841180917045,
          0.0066494705053906054,
          0.006887723221111291,
          0.007127547851442645,
          0.007368541697742448,
          0.0076102962649929546,
          0.007852399856401722,
          0.008094440251013663,
          0.008336007439185814,
          0.00857669638895886,
          0.008816109814776398,
          0.009053860918694161,
          0.009289576073221827,
          0.009522897414287058,
          0.009753485312536041,
          0.009981020691316442,
          0.010205207160252404,
          0.010425772934335758,
          0.01064247250993563,
          0.01085508807107812,
          0.011063430601765695,
          0.011267340682984706,
          0.011466688956369831,
          0.011661376240233074,
          0.011851333287782227,
          0.012036520181811497,
          0.012216925364888177,
          0.012392564309027534,
          0.01256347783397252,
          0.012729730088406032,
          0.012891406213636287,
          0.013048609714434207,
          0.013201459566669774,
          0.013350087096114719,
          0.013494632667154104,
          0.013635242224100381,
          0.013772063731243614,
          0.01390524356062595,
          0.014034922878723708,
          0.014161234084697685,
          0.014284297353577434,
          0.014404217337636726,
          0.01452108007827058,
          0.014634950178881334,
          0.014745868286624128,
          0.014853848927367193,
          0.01495887873391878,
          0.01506091510250802,
          0.01515988530674411,
          0.015255686091890524,
          0.015348183765374095,
          0.01543721479209802,
          0.015522586895466478,
          0.01560408065717042,
          0.015681451600867362,
          0.015754432737042048,
          0.015822737538703,
          0.015886063310284745,
          0.015944094905325678,
          0.015996508742303857,
          0.016042977062561123,
          0.01608317236963576,
          0.016116771985656614,
          0.016143462657804995,
          0.016162945146288264,
          0.016174938724835528,
          0.016179185525442858,
          0.016175454660965014,
          0.016163546062150883,
          0.01614329396980832,
          0.016114570027895476,
          0.01607728592938585,
          0.016031395573636018,
          0.01597689670158126,
          0.015913831983253413,
          0.01584228954071344,
          0.0157624028983596,
          0.015674350361544964,
          0.015578353833357607,
          0.015474677088110157,
          0.01536362352840249,
          0.015245533460405802,
          0.015120780929133928,
          0.014989770161790808,
          0.01485293167270863,
          0.014710718087829457,
          0.014563599750069245,
          0.014412060169194569,
          0.014256591381016124,
          0.014097689280764837,
          0.0139358489944903,
          0.01377156035025255,
          0.013605303507837972,
          0.013437544801799763,
          0.013268732847904165,
          0.01309929495767249,
          0.012929633899763182,
          0.012760125040573462,
          0.012591113889786875,
          0.012422914069784434,
          0.012255805721006562,
          0.01209003434862233,
          0.01192581010935017,
          0.011763307531085768,
          0.011602665652220626,
          0.011443988562258712,
          0.01128734632062268,
          0.011132776226434094,
          0.010980284408585688,
          0.01082984770261683,
          0.010681415778758266,
          0.01053491348401807,
          0.010390243360315032,
          0.010247288300395889,
          0.010105914303555558,
          0.009965973293967595,
          0.00982730596567147,
          0.009689744619895786,
          0.009553115962367385,
          0.00941724383050448,
          0.009281951822863566,
          0.009147065805851312,
          0.00901241627547455,
          0.00887784055473933,
          0.008743184810183222,
          0.008608305873899777,
          0.008473072860259095,
          0.008337368569319173,
          0.008201090671637623,
          0.00806415267181478,
          0.007926484650612952,
          0.007788033787890036,
          0.007648764670848435,
          0.007508659394223273,
          0.007367717461007395,
          0.00722595549412688,
          0.0070834067711305375,
          0.006940120595431154,
          0.006796161518925191,
          0.006651608431913042,
          0.006506553537133484,
          0.006361101225405029,
          0.006215366870826908,
          0.006069475563724997,
          0.0059235607995322915,
          0.005777763141563818,
          0.005632228875188286,
          0.005487108670213799,
          0.005342556267405509,
          0.005198727203947905,
          0.005055777591374285,
          0.004913862958027772,
          0.00477313716651959,
          0.00463375141493646,
          0.004495853328752284,
          0.0043595861485515785,
          0.004225088016807132,
          0.004092491365108491,
          0.003961922401443844,
          0.0038335006954308168,
          0.0037073388578018384,
          0.003583542309007703,
          0.0034622091305323193,
          0.0033434299914355237,
          0.003227288141774895,
          0.0031138594639140735,
          0.0030032125723109117,
          0.002895408952194303,
          0.0027905031275809876,
          0.0026885428493424626,
          0.002589569294494783,
          0.0024936172685312203,
          0.0024007154034281896,
          0.002310886344903339,
          0.002224146923563373,
          0.0021405083057193216,
          0.0020599761208382633,
          0.0019825505638126763,
          0.0019082264714319803,
          0.0018369933736071447,
          0.0017688355210017024,
          0.001703731891737146,
          0.0016416561807464558,
          0.001582576776128106,
          0.001526456727490544,
          0.0014732537117626001,
          0.0014229200022724852,
          0.0013754024470634318,
          0.001330642462418883,
          0.001288576047418494,
          0.0012491338250459603,
          0.0012122411149312682,
          0.0011778180422468785,
          0.001145779686605005,
          0.0011160362740389267,
          0.0010884934143139838,
          0.0010630523849230048,
          0.0010396104621967926,
          0.0010180612990228059,
          0.0009982953477343237,
          0.0009802003258269668,
          0.0009636617212975075,
          0.0009485633335975335,
          0.0009347878454667237,
          0.0009222174202696309,
          0.0009107343189166229,
          0.0009002215300122577,
          0.0008905634065486304,
          0.0008816463022508005,
          0.0008733592005872468,
          0.000865594329479406,
          0.0008582477548772888,
          0.0008512199466076966,
          0.0008444163102404717,
          0.0008377476791478051,
          0.0008311307614418611,
          0.0008244885370557359,
          0.0008177506008701197,
          0.0008108534484707514,
          0.0008037407018371788,
          0.0007963632729990387,
          0.0007886794644399843,
          0.0007806550057699259,
          0.0007722630269126872,
          0.0007634839687587502,
          0.0007543054329027774,
          0.0007447219727155707,
          0.0007347348285838221,
          0.000724351610683526,
          0.0007135859331304573,
          0.0007024570037712704,
          0.0006909891742400918,
          0.0006792114552075304,
          0.0006671570019923795,
          0.0006548625758920122,
          0.0006423679867173617,
          0.0006297155220946095,
          0.000616949369120636,
          0.0006041150339355052,
          0.0005912587647052655,
          0.0005784269833946245,
          0.0005656657315538655,
          0.0005530201351498219,
          0.0005405338932386463,
          0.0005282487950100995,
          0.0005162042694307628,
          0.0005044369713780465,
          0.000492980407789694,
          0.0004818646069558582,
          0.0004711158336543683,
          0.00046075635237632543,
          0.0004508042404107658,
          0.0004412732520565661,
          0.00043217273471012025,
          0.0004235075970425021,
          0.00041527832893415166,
          0.0004074810722838899,
          0.0004001077412578051,
          0.0003931461899987515,
          0.0003865804252856309,
          0.00038039086112050355,
          0.0003745546117384374,
          0.00036904581908739695,
          0.0003638360104209383,
          0.0003588944812922617,
          0.0003541886989410482,
          0.00034968472083063163,
          0.00034534762292770917,
          0.0003411419322242388,
          0.0003370320579845341,
          0.00033298271626160407,
          0.0003289593423659528,
          0.00032492848618620885,
          0.00032085818555162835,
          0.00031671831318755804,
          0.00031248089324100624,
          0.0003081203838376392,
          0.0003036139226658307,
          0.0002989415331587771,
          0.0002940862894521636,
          0.0002890344389219159,
          0.00028377548174313486,
          0.00027830220754624583,
          0.0002726106898686027,
          0.00026670023969849123,
          0.0002605733199734512,
          0.0002542354234166555,
          0.00024769491656534285,
          0.000240962853256614,
          0.00023405276118241295,
          0.0002269804054025572,
          0.0002197635329092256,
          0.00021242160246681997,
          0.0002049755040075005,
          0.00019744727184647966,
          0.00018985979589515508,
          0.00018223653489857133,
          0.00017460123551180554,
          0.00016697766076411333,
          0.00015938933114710007,
          0.00015185928121172143,
          0.0001444098341767679,
          0.00013706239664717086,
          0.00012983727512250794,
          0.00012275351555290635,
          0.00011582876677915328,
          0.00010907916828389206,
          0.00010251926228812945,
          9.616192985823154e-05,
          9.001835034842072e-05,
          8.409798319696515e-05,
          7.840857082425943e-05,
          7.295616115040014e-05,
          6.774514806012728e-05,
          6.277832799483915e-05,
          5.8056970744487474e-05,
          5.358090244544231e-05,
          4.934859876211325e-05,
          4.5357286237702736e-05,
          4.160304984004091e-05,
          3.808094479854723e-05,
          3.4785110924260486e-05,
          3.1708887722625574e-05,
          2.8844928744306478e-05,
          2.6185313768591967e-05,
          2.3721657573054468e-05,
          2.1445214208166466e-05,
          1.934697586299474e-05,
          1.741776557460532e-05,
          1.5648323196424616e-05,
          1.4029384196961606e-05,
          1.2551751007769754e-05,
          1.1206356776515218e-05,
          9.98432150610574e-06,
          8.877000673010487e-06,
          7.876026516485075e-06,
          6.973342275118084e-06,
          6.161229717922647e-06,
          5.432330374389821e-06,
          4.7796609120262214e-06,
          4.196623141625166e-06,
          3.677009150769087e-06,
          3.215002075830881e-06,
          2.8051730231351262e-06,
          2.442474642107233e-06,
          2.122231838357986e-06,
          1.8401300938831188e-06,
          1.592201836047301e-06,
          1.3748112678521203e-06,
          1.1846380401778407e-06,
          1.0186601131795355e-06,
          8.741361196542737e-07,
          7.485875087342812e-07,
          6.397807143524864e-07,
          5.457095601273402e-07,
          4.645780810810132e-07,
          3.947839133050958e-07,
          3.349023755966822e-07,
          2.8367134240419824e-07,
          2.399769852695562e-07,
          2.028404403906805e-07,
          1.7140544295818586e-07,
          1.4492695449535824e-07,
          1.2276079746386245e-07,
          1.0435430176754525e-07,
          8.923796034471178e-08,
          7.701808561603254e-08,
          6.7370454965716e-08,
          6.0034931480847e-08,
          5.4811045653802806e-08,
          5.155452445591367e-08,
          5.017475590498926e-08,
          5.063317976150692e-08,
          5.294259808423661e-08,
          5.716740284198014e-08,
          6.342472140016423e-08,
          7.188648426548179e-08,
          8.278242276472999e-08,
          9.640400714102755e-08,
          1.1310933765709101e-07,
          1.333290024862329e-07,
          1.57572916232882e-07,
          1.8643815164296234e-07,
          2.2061777423108284e-07,
          2.6091068496268827e-07,
          3.0823246959065085e-07,
          3.636272445757921e-07,
          4.2828047855576183e-07,
          5.035327549264046e-07,
          5.908944251531407e-07,
          6.920610838634638e-07,
          8.089297755550259e-07,
          9.436158189095566e-07,
          1.0984701083134227e-06,
          1.2760967234019584e-06,
          1.4793706464939752e-06,
          1.7114553549755982e-06,
          1.9758200214292444e-06,
          2.2762560190787516e-06,
          2.6168923945291627e-06,
          3.002209934509937e-06,
          3.437053419174657e-06,
          3.926641622352997e-06,
          4.4765745899580016e-06,
          5.0928377025757625e-06,
          5.781802008207715e-06,
          6.550220297352167e-06,
          7.4052183862734555e-06,
          8.354281076583232e-06,
          9.405232271285614e-06,
          1.0566208750286065e-05,
          1.184562714300902e-05,
          1.325214368303449e-05,
          1.479460639023192e-05,
          1.6481999400158154e-05,
          1.832337924872425e-05,
          2.0327803022214127e-05,
          2.2504248398264482e-05,
          2.4861525731638482e-05,
          2.740818247843281e-05,
          3.0152400402255922e-05,
          3.310188616402391e-05,
          3.626375606108988e-05,
          3.9644415848796806e-05,
          4.324943674530926e-05,
          4.7083428885385834e-05,
          5.114991364715004e-05,
          5.54511964241205e-05,
          5.998824154895192e-05,
          6.476055119161478e-05,
          6.976605014925718e-05,
          7.500097851404555e-05,
          8.04597942454052e-05,
          8.613508768118095e-05,
          9.201750999559774e-05,
          9.809571754848217e-05,
          0.00010435633396844342,
          0.00011078393167189337,
          0.00011736103433995132,
          0.0001240681416572712,
          0.0001308837773624359,
          0.0001377845613714299,
          0.00014474530641737254,
          0.0001517391393055729,
          0.0001587376465182864,
          0.00016571104352418455,
          0.00017262836676016738,
          0.0001794576868647065,
          0.00018616634135989657,
          0.00019272118461146105,
          0.00019908885254972782,
          0.00020523603931762362,
          0.00021112978273122375,
          0.00021673775520102313,
          0.00022202855657388245,
          0.00022697200522172622,
          0.00023153942362765296,
          0.00023570391470629883,
          0.00023944062514481073,
          0.00024272699216422526,
          0.00024554297027760323,
          0.0002478712348587754,
          0.00024969735963052236,
          0.00025100996552874133,
          0.00025180083879368603
         ],
         "yaxis": "y"
        },
        {
         "legendgroup": "HP",
         "marker": {
          "color": "rgb(31, 119, 180)",
          "symbol": "line-ns-open"
         },
         "mode": "markers",
         "name": "HP",
         "showlegend": false,
         "type": "scatter",
         "x": [
          45,
          60,
          80,
          39,
          58,
          78,
          44,
          59,
          79,
          45,
          50,
          60,
          40,
          45,
          65,
          40,
          63,
          83,
          30,
          55,
          40,
          65,
          35,
          60,
          35,
          60,
          50,
          75,
          55,
          70,
          90,
          46,
          61,
          81,
          70,
          95,
          38,
          73,
          115,
          140,
          40,
          75,
          45,
          60,
          75,
          35,
          60,
          60,
          70,
          10,
          35,
          40,
          65,
          50,
          80,
          40,
          65,
          55,
          90,
          40,
          65,
          90,
          25,
          40,
          55,
          70,
          80,
          90,
          50,
          65,
          80,
          40,
          80,
          40,
          55,
          80,
          50,
          65,
          90,
          95,
          25,
          50,
          52,
          35,
          60,
          65,
          90,
          80,
          105,
          30,
          50,
          30,
          45,
          60,
          35,
          60,
          85,
          30,
          55,
          40,
          60,
          60,
          95,
          50,
          60,
          50,
          50,
          90,
          40,
          65,
          80,
          105,
          250,
          65,
          105,
          30,
          55,
          45,
          80,
          30,
          60,
          40,
          70,
          65,
          65,
          65,
          65,
          75,
          20,
          95,
          130,
          48,
          55,
          130,
          65,
          65,
          65,
          35,
          70,
          30,
          60,
          80,
          160,
          90,
          90,
          90,
          41,
          61,
          91,
          106,
          100
         ],
         "xaxis": "x",
         "y": [
          "HP",
          "HP",
          "HP",
          "HP",
          "HP",
          "HP",
          "HP",
          "HP",
          "HP",
          "HP",
          "HP",
          "HP",
          "HP",
          "HP",
          "HP",
          "HP",
          "HP",
          "HP",
          "HP",
          "HP",
          "HP",
          "HP",
          "HP",
          "HP",
          "HP",
          "HP",
          "HP",
          "HP",
          "HP",
          "HP",
          "HP",
          "HP",
          "HP",
          "HP",
          "HP",
          "HP",
          "HP",
          "HP",
          "HP",
          "HP",
          "HP",
          "HP",
          "HP",
          "HP",
          "HP",
          "HP",
          "HP",
          "HP",
          "HP",
          "HP",
          "HP",
          "HP",
          "HP",
          "HP",
          "HP",
          "HP",
          "HP",
          "HP",
          "HP",
          "HP",
          "HP",
          "HP",
          "HP",
          "HP",
          "HP",
          "HP",
          "HP",
          "HP",
          "HP",
          "HP",
          "HP",
          "HP",
          "HP",
          "HP",
          "HP",
          "HP",
          "HP",
          "HP",
          "HP",
          "HP",
          "HP",
          "HP",
          "HP",
          "HP",
          "HP",
          "HP",
          "HP",
          "HP",
          "HP",
          "HP",
          "HP",
          "HP",
          "HP",
          "HP",
          "HP",
          "HP",
          "HP",
          "HP",
          "HP",
          "HP",
          "HP",
          "HP",
          "HP",
          "HP",
          "HP",
          "HP",
          "HP",
          "HP",
          "HP",
          "HP",
          "HP",
          "HP",
          "HP",
          "HP",
          "HP",
          "HP",
          "HP",
          "HP",
          "HP",
          "HP",
          "HP",
          "HP",
          "HP",
          "HP",
          "HP",
          "HP",
          "HP",
          "HP",
          "HP",
          "HP",
          "HP",
          "HP",
          "HP",
          "HP",
          "HP",
          "HP",
          "HP",
          "HP",
          "HP",
          "HP",
          "HP",
          "HP",
          "HP",
          "HP",
          "HP",
          "HP",
          "HP",
          "HP",
          "HP",
          "HP",
          "HP"
         ],
         "yaxis": "y2"
        }
       ],
       "layout": {
        "barmode": "overlay",
        "hovermode": "closest",
        "legend": {
         "traceorder": "reversed"
        },
        "template": {
         "data": {
          "bar": [
           {
            "error_x": {
             "color": "#2a3f5f"
            },
            "error_y": {
             "color": "#2a3f5f"
            },
            "marker": {
             "line": {
              "color": "#E5ECF6",
              "width": 0.5
             }
            },
            "type": "bar"
           }
          ],
          "barpolar": [
           {
            "marker": {
             "line": {
              "color": "#E5ECF6",
              "width": 0.5
             }
            },
            "type": "barpolar"
           }
          ],
          "carpet": [
           {
            "aaxis": {
             "endlinecolor": "#2a3f5f",
             "gridcolor": "white",
             "linecolor": "white",
             "minorgridcolor": "white",
             "startlinecolor": "#2a3f5f"
            },
            "baxis": {
             "endlinecolor": "#2a3f5f",
             "gridcolor": "white",
             "linecolor": "white",
             "minorgridcolor": "white",
             "startlinecolor": "#2a3f5f"
            },
            "type": "carpet"
           }
          ],
          "choropleth": [
           {
            "colorbar": {
             "outlinewidth": 0,
             "ticks": ""
            },
            "type": "choropleth"
           }
          ],
          "contour": [
           {
            "colorbar": {
             "outlinewidth": 0,
             "ticks": ""
            },
            "colorscale": [
             [
              0,
              "#0d0887"
             ],
             [
              0.1111111111111111,
              "#46039f"
             ],
             [
              0.2222222222222222,
              "#7201a8"
             ],
             [
              0.3333333333333333,
              "#9c179e"
             ],
             [
              0.4444444444444444,
              "#bd3786"
             ],
             [
              0.5555555555555556,
              "#d8576b"
             ],
             [
              0.6666666666666666,
              "#ed7953"
             ],
             [
              0.7777777777777778,
              "#fb9f3a"
             ],
             [
              0.8888888888888888,
              "#fdca26"
             ],
             [
              1,
              "#f0f921"
             ]
            ],
            "type": "contour"
           }
          ],
          "contourcarpet": [
           {
            "colorbar": {
             "outlinewidth": 0,
             "ticks": ""
            },
            "type": "contourcarpet"
           }
          ],
          "heatmap": [
           {
            "colorbar": {
             "outlinewidth": 0,
             "ticks": ""
            },
            "colorscale": [
             [
              0,
              "#0d0887"
             ],
             [
              0.1111111111111111,
              "#46039f"
             ],
             [
              0.2222222222222222,
              "#7201a8"
             ],
             [
              0.3333333333333333,
              "#9c179e"
             ],
             [
              0.4444444444444444,
              "#bd3786"
             ],
             [
              0.5555555555555556,
              "#d8576b"
             ],
             [
              0.6666666666666666,
              "#ed7953"
             ],
             [
              0.7777777777777778,
              "#fb9f3a"
             ],
             [
              0.8888888888888888,
              "#fdca26"
             ],
             [
              1,
              "#f0f921"
             ]
            ],
            "type": "heatmap"
           }
          ],
          "heatmapgl": [
           {
            "colorbar": {
             "outlinewidth": 0,
             "ticks": ""
            },
            "colorscale": [
             [
              0,
              "#0d0887"
             ],
             [
              0.1111111111111111,
              "#46039f"
             ],
             [
              0.2222222222222222,
              "#7201a8"
             ],
             [
              0.3333333333333333,
              "#9c179e"
             ],
             [
              0.4444444444444444,
              "#bd3786"
             ],
             [
              0.5555555555555556,
              "#d8576b"
             ],
             [
              0.6666666666666666,
              "#ed7953"
             ],
             [
              0.7777777777777778,
              "#fb9f3a"
             ],
             [
              0.8888888888888888,
              "#fdca26"
             ],
             [
              1,
              "#f0f921"
             ]
            ],
            "type": "heatmapgl"
           }
          ],
          "histogram": [
           {
            "marker": {
             "colorbar": {
              "outlinewidth": 0,
              "ticks": ""
             }
            },
            "type": "histogram"
           }
          ],
          "histogram2d": [
           {
            "colorbar": {
             "outlinewidth": 0,
             "ticks": ""
            },
            "colorscale": [
             [
              0,
              "#0d0887"
             ],
             [
              0.1111111111111111,
              "#46039f"
             ],
             [
              0.2222222222222222,
              "#7201a8"
             ],
             [
              0.3333333333333333,
              "#9c179e"
             ],
             [
              0.4444444444444444,
              "#bd3786"
             ],
             [
              0.5555555555555556,
              "#d8576b"
             ],
             [
              0.6666666666666666,
              "#ed7953"
             ],
             [
              0.7777777777777778,
              "#fb9f3a"
             ],
             [
              0.8888888888888888,
              "#fdca26"
             ],
             [
              1,
              "#f0f921"
             ]
            ],
            "type": "histogram2d"
           }
          ],
          "histogram2dcontour": [
           {
            "colorbar": {
             "outlinewidth": 0,
             "ticks": ""
            },
            "colorscale": [
             [
              0,
              "#0d0887"
             ],
             [
              0.1111111111111111,
              "#46039f"
             ],
             [
              0.2222222222222222,
              "#7201a8"
             ],
             [
              0.3333333333333333,
              "#9c179e"
             ],
             [
              0.4444444444444444,
              "#bd3786"
             ],
             [
              0.5555555555555556,
              "#d8576b"
             ],
             [
              0.6666666666666666,
              "#ed7953"
             ],
             [
              0.7777777777777778,
              "#fb9f3a"
             ],
             [
              0.8888888888888888,
              "#fdca26"
             ],
             [
              1,
              "#f0f921"
             ]
            ],
            "type": "histogram2dcontour"
           }
          ],
          "mesh3d": [
           {
            "colorbar": {
             "outlinewidth": 0,
             "ticks": ""
            },
            "type": "mesh3d"
           }
          ],
          "parcoords": [
           {
            "line": {
             "colorbar": {
              "outlinewidth": 0,
              "ticks": ""
             }
            },
            "type": "parcoords"
           }
          ],
          "pie": [
           {
            "automargin": true,
            "type": "pie"
           }
          ],
          "scatter": [
           {
            "marker": {
             "colorbar": {
              "outlinewidth": 0,
              "ticks": ""
             }
            },
            "type": "scatter"
           }
          ],
          "scatter3d": [
           {
            "line": {
             "colorbar": {
              "outlinewidth": 0,
              "ticks": ""
             }
            },
            "marker": {
             "colorbar": {
              "outlinewidth": 0,
              "ticks": ""
             }
            },
            "type": "scatter3d"
           }
          ],
          "scattercarpet": [
           {
            "marker": {
             "colorbar": {
              "outlinewidth": 0,
              "ticks": ""
             }
            },
            "type": "scattercarpet"
           }
          ],
          "scattergeo": [
           {
            "marker": {
             "colorbar": {
              "outlinewidth": 0,
              "ticks": ""
             }
            },
            "type": "scattergeo"
           }
          ],
          "scattergl": [
           {
            "marker": {
             "colorbar": {
              "outlinewidth": 0,
              "ticks": ""
             }
            },
            "type": "scattergl"
           }
          ],
          "scattermapbox": [
           {
            "marker": {
             "colorbar": {
              "outlinewidth": 0,
              "ticks": ""
             }
            },
            "type": "scattermapbox"
           }
          ],
          "scatterpolar": [
           {
            "marker": {
             "colorbar": {
              "outlinewidth": 0,
              "ticks": ""
             }
            },
            "type": "scatterpolar"
           }
          ],
          "scatterpolargl": [
           {
            "marker": {
             "colorbar": {
              "outlinewidth": 0,
              "ticks": ""
             }
            },
            "type": "scatterpolargl"
           }
          ],
          "scatterternary": [
           {
            "marker": {
             "colorbar": {
              "outlinewidth": 0,
              "ticks": ""
             }
            },
            "type": "scatterternary"
           }
          ],
          "surface": [
           {
            "colorbar": {
             "outlinewidth": 0,
             "ticks": ""
            },
            "colorscale": [
             [
              0,
              "#0d0887"
             ],
             [
              0.1111111111111111,
              "#46039f"
             ],
             [
              0.2222222222222222,
              "#7201a8"
             ],
             [
              0.3333333333333333,
              "#9c179e"
             ],
             [
              0.4444444444444444,
              "#bd3786"
             ],
             [
              0.5555555555555556,
              "#d8576b"
             ],
             [
              0.6666666666666666,
              "#ed7953"
             ],
             [
              0.7777777777777778,
              "#fb9f3a"
             ],
             [
              0.8888888888888888,
              "#fdca26"
             ],
             [
              1,
              "#f0f921"
             ]
            ],
            "type": "surface"
           }
          ],
          "table": [
           {
            "cells": {
             "fill": {
              "color": "#EBF0F8"
             },
             "line": {
              "color": "white"
             }
            },
            "header": {
             "fill": {
              "color": "#C8D4E3"
             },
             "line": {
              "color": "white"
             }
            },
            "type": "table"
           }
          ]
         },
         "layout": {
          "annotationdefaults": {
           "arrowcolor": "#2a3f5f",
           "arrowhead": 0,
           "arrowwidth": 1
          },
          "coloraxis": {
           "colorbar": {
            "outlinewidth": 0,
            "ticks": ""
           }
          },
          "colorscale": {
           "diverging": [
            [
             0,
             "#8e0152"
            ],
            [
             0.1,
             "#c51b7d"
            ],
            [
             0.2,
             "#de77ae"
            ],
            [
             0.3,
             "#f1b6da"
            ],
            [
             0.4,
             "#fde0ef"
            ],
            [
             0.5,
             "#f7f7f7"
            ],
            [
             0.6,
             "#e6f5d0"
            ],
            [
             0.7,
             "#b8e186"
            ],
            [
             0.8,
             "#7fbc41"
            ],
            [
             0.9,
             "#4d9221"
            ],
            [
             1,
             "#276419"
            ]
           ],
           "sequential": [
            [
             0,
             "#0d0887"
            ],
            [
             0.1111111111111111,
             "#46039f"
            ],
            [
             0.2222222222222222,
             "#7201a8"
            ],
            [
             0.3333333333333333,
             "#9c179e"
            ],
            [
             0.4444444444444444,
             "#bd3786"
            ],
            [
             0.5555555555555556,
             "#d8576b"
            ],
            [
             0.6666666666666666,
             "#ed7953"
            ],
            [
             0.7777777777777778,
             "#fb9f3a"
            ],
            [
             0.8888888888888888,
             "#fdca26"
            ],
            [
             1,
             "#f0f921"
            ]
           ],
           "sequentialminus": [
            [
             0,
             "#0d0887"
            ],
            [
             0.1111111111111111,
             "#46039f"
            ],
            [
             0.2222222222222222,
             "#7201a8"
            ],
            [
             0.3333333333333333,
             "#9c179e"
            ],
            [
             0.4444444444444444,
             "#bd3786"
            ],
            [
             0.5555555555555556,
             "#d8576b"
            ],
            [
             0.6666666666666666,
             "#ed7953"
            ],
            [
             0.7777777777777778,
             "#fb9f3a"
            ],
            [
             0.8888888888888888,
             "#fdca26"
            ],
            [
             1,
             "#f0f921"
            ]
           ]
          },
          "colorway": [
           "#636efa",
           "#EF553B",
           "#00cc96",
           "#ab63fa",
           "#FFA15A",
           "#19d3f3",
           "#FF6692",
           "#B6E880",
           "#FF97FF",
           "#FECB52"
          ],
          "font": {
           "color": "#2a3f5f"
          },
          "geo": {
           "bgcolor": "white",
           "lakecolor": "white",
           "landcolor": "#E5ECF6",
           "showlakes": true,
           "showland": true,
           "subunitcolor": "white"
          },
          "hoverlabel": {
           "align": "left"
          },
          "hovermode": "closest",
          "mapbox": {
           "style": "light"
          },
          "paper_bgcolor": "white",
          "plot_bgcolor": "#E5ECF6",
          "polar": {
           "angularaxis": {
            "gridcolor": "white",
            "linecolor": "white",
            "ticks": ""
           },
           "bgcolor": "#E5ECF6",
           "radialaxis": {
            "gridcolor": "white",
            "linecolor": "white",
            "ticks": ""
           }
          },
          "scene": {
           "xaxis": {
            "backgroundcolor": "#E5ECF6",
            "gridcolor": "white",
            "gridwidth": 2,
            "linecolor": "white",
            "showbackground": true,
            "ticks": "",
            "zerolinecolor": "white"
           },
           "yaxis": {
            "backgroundcolor": "#E5ECF6",
            "gridcolor": "white",
            "gridwidth": 2,
            "linecolor": "white",
            "showbackground": true,
            "ticks": "",
            "zerolinecolor": "white"
           },
           "zaxis": {
            "backgroundcolor": "#E5ECF6",
            "gridcolor": "white",
            "gridwidth": 2,
            "linecolor": "white",
            "showbackground": true,
            "ticks": "",
            "zerolinecolor": "white"
           }
          },
          "shapedefaults": {
           "line": {
            "color": "#2a3f5f"
           }
          },
          "ternary": {
           "aaxis": {
            "gridcolor": "white",
            "linecolor": "white",
            "ticks": ""
           },
           "baxis": {
            "gridcolor": "white",
            "linecolor": "white",
            "ticks": ""
           },
           "bgcolor": "#E5ECF6",
           "caxis": {
            "gridcolor": "white",
            "linecolor": "white",
            "ticks": ""
           }
          },
          "title": {
           "x": 0.05
          },
          "xaxis": {
           "automargin": true,
           "gridcolor": "white",
           "linecolor": "white",
           "ticks": "",
           "title": {
            "standoff": 15
           },
           "zerolinecolor": "white",
           "zerolinewidth": 2
          },
          "yaxis": {
           "automargin": true,
           "gridcolor": "white",
           "linecolor": "white",
           "ticks": "",
           "title": {
            "standoff": 15
           },
           "zerolinecolor": "white",
           "zerolinewidth": 2
          }
         }
        },
        "title": {
         "text": "Distribuição Atributo HP"
        },
        "xaxis": {
         "anchor": "y2",
         "domain": [
          0,
          1
         ],
         "zeroline": false
        },
        "yaxis": {
         "anchor": "free",
         "domain": [
          0.35,
          1
         ],
         "position": 0
        },
        "yaxis2": {
         "anchor": "x",
         "domain": [
          0,
          0.25
         ],
         "dtick": 1,
         "showticklabels": false
        }
       }
      },
      "text/html": [
       "<div>\n",
       "        \n",
       "        \n",
       "            <div id=\"71a9295a-536f-4177-99d8-c210c9f34a7f\" class=\"plotly-graph-div\" style=\"height:525px; width:100%;\"></div>\n",
       "            <script type=\"text/javascript\">\n",
       "                require([\"plotly\"], function(Plotly) {\n",
       "                    window.PLOTLYENV=window.PLOTLYENV || {};\n",
       "                    \n",
       "                if (document.getElementById(\"71a9295a-536f-4177-99d8-c210c9f34a7f\")) {\n",
       "                    Plotly.newPlot(\n",
       "                        '71a9295a-536f-4177-99d8-c210c9f34a7f',\n",
       "                        [{\"autobinx\": false, \"histnorm\": \"probability density\", \"legendgroup\": \"HP\", \"marker\": {\"color\": \"rgb(31, 119, 180)\"}, \"name\": \"HP\", \"opacity\": 0.7, \"type\": \"histogram\", \"x\": [45, 60, 80, 39, 58, 78, 44, 59, 79, 45, 50, 60, 40, 45, 65, 40, 63, 83, 30, 55, 40, 65, 35, 60, 35, 60, 50, 75, 55, 70, 90, 46, 61, 81, 70, 95, 38, 73, 115, 140, 40, 75, 45, 60, 75, 35, 60, 60, 70, 10, 35, 40, 65, 50, 80, 40, 65, 55, 90, 40, 65, 90, 25, 40, 55, 70, 80, 90, 50, 65, 80, 40, 80, 40, 55, 80, 50, 65, 90, 95, 25, 50, 52, 35, 60, 65, 90, 80, 105, 30, 50, 30, 45, 60, 35, 60, 85, 30, 55, 40, 60, 60, 95, 50, 60, 50, 50, 90, 40, 65, 80, 105, 250, 65, 105, 30, 55, 45, 80, 30, 60, 40, 70, 65, 65, 65, 65, 75, 20, 95, 130, 48, 55, 130, 65, 65, 65, 35, 70, 30, 60, 80, 160, 90, 90, 90, 41, 61, 91, 106, 100], \"xaxis\": \"x\", \"xbins\": {\"end\": 250.0, \"size\": 19, \"start\": 10.0}, \"yaxis\": \"y\"}, {\"legendgroup\": \"HP\", \"marker\": {\"color\": \"rgb(31, 119, 180)\"}, \"mode\": \"lines\", \"name\": \"HP\", \"showlegend\": false, \"type\": \"scatter\", \"x\": [10.0, 10.48, 10.96, 11.44, 11.92, 12.4, 12.879999999999999, 13.36, 13.84, 14.32, 14.8, 15.280000000000001, 15.76, 16.240000000000002, 16.72, 17.2, 17.68, 18.16, 18.64, 19.119999999999997, 19.6, 20.08, 20.560000000000002, 21.04, 21.52, 22.0, 22.48, 22.96, 23.439999999999998, 23.92, 24.4, 24.880000000000003, 25.36, 25.84, 26.32, 26.8, 27.28, 27.76, 28.24, 28.72, 29.2, 29.68, 30.16, 30.64, 31.12, 31.6, 32.08, 32.56, 33.04, 33.519999999999996, 34.0, 34.480000000000004, 34.96, 35.44, 35.92, 36.4, 36.879999999999995, 37.36, 37.84, 38.32, 38.8, 39.28, 39.760000000000005, 40.239999999999995, 40.72, 41.2, 41.68, 42.16, 42.64, 43.12, 43.6, 44.08, 44.56, 45.04, 45.52, 46.0, 46.48, 46.96, 47.44, 47.92, 48.4, 48.88, 49.36, 49.84, 50.32, 50.8, 51.28, 51.76, 52.24, 52.72, 53.2, 53.68, 54.16, 54.64, 55.12, 55.6, 56.08, 56.56, 57.04, 57.52, 58.0, 58.48, 58.96, 59.44, 59.92, 60.4, 60.88, 61.36, 61.84, 62.32, 62.8, 63.28, 63.76, 64.24000000000001, 64.72, 65.2, 65.68, 66.16, 66.64, 67.12, 67.6, 68.08, 68.56, 69.03999999999999, 69.52000000000001, 70.0, 70.47999999999999, 70.96000000000001, 71.44, 71.92, 72.4, 72.88, 73.36, 73.84, 74.32, 74.8, 75.28, 75.76, 76.24, 76.72, 77.2, 77.68, 78.16, 78.64, 79.12, 79.6, 80.08, 80.56, 81.04, 81.52, 82.0, 82.48, 82.96, 83.44, 83.92, 84.4, 84.88, 85.36, 85.84, 86.32, 86.8, 87.28, 87.76, 88.24, 88.72, 89.2, 89.68, 90.16, 90.64, 91.12, 91.6, 92.08, 92.56, 93.04, 93.52, 94.0, 94.48, 94.96, 95.44, 95.92, 96.4, 96.88, 97.36, 97.84, 98.32, 98.8, 99.28, 99.76, 100.24, 100.72, 101.2, 101.68, 102.16, 102.64, 103.12, 103.6, 104.08, 104.56, 105.04, 105.52, 106.0, 106.48, 106.96, 107.44, 107.92, 108.4, 108.88, 109.36, 109.84, 110.32, 110.8, 111.28, 111.76, 112.24, 112.72, 113.2, 113.68, 114.16, 114.64, 115.12, 115.6, 116.08, 116.56, 117.04, 117.52, 118.0, 118.48, 118.96, 119.44, 119.92, 120.4, 120.88, 121.36, 121.84, 122.32, 122.8, 123.28, 123.76, 124.24, 124.72, 125.2, 125.68, 126.16, 126.64, 127.12, 127.6, 128.07999999999998, 128.56, 129.04000000000002, 129.51999999999998, 130.0, 130.48000000000002, 130.95999999999998, 131.44, 131.92000000000002, 132.4, 132.88, 133.36, 133.84, 134.32, 134.8, 135.28, 135.76, 136.24, 136.72, 137.2, 137.68, 138.16, 138.64, 139.12, 139.6, 140.08, 140.56, 141.04, 141.52, 142.0, 142.48, 142.96, 143.44, 143.92, 144.4, 144.88, 145.36, 145.84, 146.32, 146.8, 147.28, 147.76, 148.24, 148.72, 149.2, 149.68, 150.16, 150.64, 151.12, 151.6, 152.08, 152.56, 153.04, 153.52, 154.0, 154.48, 154.96, 155.44, 155.92, 156.4, 156.88, 157.36, 157.84, 158.32, 158.8, 159.28, 159.76, 160.24, 160.72, 161.2, 161.68, 162.16, 162.64, 163.12, 163.6, 164.08, 164.56, 165.04, 165.52, 166.0, 166.48, 166.96, 167.44, 167.92, 168.4, 168.88, 169.36, 169.84, 170.32, 170.8, 171.28, 171.76, 172.24, 172.72, 173.2, 173.68, 174.16, 174.64, 175.12, 175.6, 176.08, 176.56, 177.04, 177.52, 178.0, 178.48, 178.96, 179.44, 179.92, 180.4, 180.88, 181.36, 181.84, 182.32, 182.8, 183.28, 183.76, 184.24, 184.72, 185.2, 185.68, 186.16, 186.64, 187.12, 187.6, 188.08, 188.56, 189.04, 189.52, 190.0, 190.48, 190.96, 191.44, 191.92, 192.4, 192.88, 193.36, 193.84, 194.32, 194.8, 195.28, 195.76, 196.24, 196.72, 197.2, 197.68, 198.16, 198.64, 199.12, 199.6, 200.08, 200.56, 201.04, 201.52, 202.0, 202.48, 202.96, 203.44, 203.92, 204.4, 204.88, 205.36, 205.84, 206.32, 206.8, 207.28, 207.76, 208.24, 208.72, 209.2, 209.68, 210.16, 210.64, 211.12, 211.6, 212.08, 212.56, 213.04, 213.52, 214.0, 214.48, 214.96, 215.44, 215.92, 216.4, 216.88, 217.36, 217.84, 218.32, 218.8, 219.28, 219.76, 220.24, 220.72, 221.2, 221.68, 222.16, 222.64, 223.12, 223.6, 224.08, 224.56, 225.04, 225.52, 226.0, 226.48, 226.96, 227.44, 227.92, 228.4, 228.88, 229.36, 229.84, 230.32, 230.8, 231.28, 231.76, 232.24, 232.72, 233.2, 233.68, 234.16, 234.64, 235.12, 235.6, 236.08, 236.56, 237.04, 237.52, 238.0, 238.48, 238.96, 239.44, 239.92, 240.4, 240.88, 241.36, 241.84, 242.32, 242.8, 243.28, 243.76, 244.24, 244.72, 245.2, 245.68, 246.16, 246.64, 247.12, 247.6, 248.08, 248.56, 249.04, 249.52], \"xaxis\": \"x\", \"y\": [0.0010618502521078526, 0.00112951535028472, 0.001201059782361177, 0.0012766550346968851, 0.0013564718858023227, 0.0014406792852727248, 0.0015294431614609042, 0.0016229251650153426, 0.0017212813565384288, 0.0018246608477053626, 0.0019332044062126826, 0.0020470430358829556, 0.002166296544126131, 0.0022910721097356293, 0.0024214628646674783, 0.0025575465040028134, 0.0026993839387182104, 0.0028470180061764888, 0.003000472253394423, 0.003159749808137267, 0.00332483235272745, 0.0034956792151312403, 0.0036722265913998247, 0.0038543869128868633, 0.0040420483708423945, 0.004235074609992633, 0.004433304601557143, 0.004636552704832797, 0.004844608924989856, 0.0050572393730865745, 0.005274186932520838, 0.005495172134210405, 0.00571989424073781, 0.005948032537526457, 0.006179247826845422, 0.0064131841180917045, 0.0066494705053906054, 0.006887723221111291, 0.007127547851442645, 0.007368541697742448, 0.0076102962649929546, 0.007852399856401722, 0.008094440251013663, 0.008336007439185814, 0.00857669638895886, 0.008816109814776398, 0.009053860918694161, 0.009289576073221827, 0.009522897414287058, 0.009753485312536041, 0.009981020691316442, 0.010205207160252404, 0.010425772934335758, 0.01064247250993563, 0.01085508807107812, 0.011063430601765695, 0.011267340682984706, 0.011466688956369831, 0.011661376240233074, 0.011851333287782227, 0.012036520181811497, 0.012216925364888177, 0.012392564309027534, 0.01256347783397252, 0.012729730088406032, 0.012891406213636287, 0.013048609714434207, 0.013201459566669774, 0.013350087096114719, 0.013494632667154104, 0.013635242224100381, 0.013772063731243614, 0.01390524356062595, 0.014034922878723708, 0.014161234084697685, 0.014284297353577434, 0.014404217337636726, 0.01452108007827058, 0.014634950178881334, 0.014745868286624128, 0.014853848927367193, 0.01495887873391878, 0.01506091510250802, 0.01515988530674411, 0.015255686091890524, 0.015348183765374095, 0.01543721479209802, 0.015522586895466478, 0.01560408065717042, 0.015681451600867362, 0.015754432737042048, 0.015822737538703, 0.015886063310284745, 0.015944094905325678, 0.015996508742303857, 0.016042977062561123, 0.01608317236963576, 0.016116771985656614, 0.016143462657804995, 0.016162945146288264, 0.016174938724835528, 0.016179185525442858, 0.016175454660965014, 0.016163546062150883, 0.01614329396980832, 0.016114570027895476, 0.01607728592938585, 0.016031395573636018, 0.01597689670158126, 0.015913831983253413, 0.01584228954071344, 0.0157624028983596, 0.015674350361544964, 0.015578353833357607, 0.015474677088110157, 0.01536362352840249, 0.015245533460405802, 0.015120780929133928, 0.014989770161790808, 0.01485293167270863, 0.014710718087829457, 0.014563599750069245, 0.014412060169194569, 0.014256591381016124, 0.014097689280764837, 0.0139358489944903, 0.01377156035025255, 0.013605303507837972, 0.013437544801799763, 0.013268732847904165, 0.01309929495767249, 0.012929633899763182, 0.012760125040573462, 0.012591113889786875, 0.012422914069784434, 0.012255805721006562, 0.01209003434862233, 0.01192581010935017, 0.011763307531085768, 0.011602665652220626, 0.011443988562258712, 0.01128734632062268, 0.011132776226434094, 0.010980284408585688, 0.01082984770261683, 0.010681415778758266, 0.01053491348401807, 0.010390243360315032, 0.010247288300395889, 0.010105914303555558, 0.009965973293967595, 0.00982730596567147, 0.009689744619895786, 0.009553115962367385, 0.00941724383050448, 0.009281951822863566, 0.009147065805851312, 0.00901241627547455, 0.00887784055473933, 0.008743184810183222, 0.008608305873899777, 0.008473072860259095, 0.008337368569319173, 0.008201090671637623, 0.00806415267181478, 0.007926484650612952, 0.007788033787890036, 0.007648764670848435, 0.007508659394223273, 0.007367717461007395, 0.00722595549412688, 0.0070834067711305375, 0.006940120595431154, 0.006796161518925191, 0.006651608431913042, 0.006506553537133484, 0.006361101225405029, 0.006215366870826908, 0.006069475563724997, 0.0059235607995322915, 0.005777763141563818, 0.005632228875188286, 0.005487108670213799, 0.005342556267405509, 0.005198727203947905, 0.005055777591374285, 0.004913862958027772, 0.00477313716651959, 0.00463375141493646, 0.004495853328752284, 0.0043595861485515785, 0.004225088016807132, 0.004092491365108491, 0.003961922401443844, 0.0038335006954308168, 0.0037073388578018384, 0.003583542309007703, 0.0034622091305323193, 0.0033434299914355237, 0.003227288141774895, 0.0031138594639140735, 0.0030032125723109117, 0.002895408952194303, 0.0027905031275809876, 0.0026885428493424626, 0.002589569294494783, 0.0024936172685312203, 0.0024007154034281896, 0.002310886344903339, 0.002224146923563373, 0.0021405083057193216, 0.0020599761208382633, 0.0019825505638126763, 0.0019082264714319803, 0.0018369933736071447, 0.0017688355210017024, 0.001703731891737146, 0.0016416561807464558, 0.001582576776128106, 0.001526456727490544, 0.0014732537117626001, 0.0014229200022724852, 0.0013754024470634318, 0.001330642462418883, 0.001288576047418494, 0.0012491338250459603, 0.0012122411149312682, 0.0011778180422468785, 0.001145779686605005, 0.0011160362740389267, 0.0010884934143139838, 0.0010630523849230048, 0.0010396104621967926, 0.0010180612990228059, 0.0009982953477343237, 0.0009802003258269668, 0.0009636617212975075, 0.0009485633335975335, 0.0009347878454667237, 0.0009222174202696309, 0.0009107343189166229, 0.0009002215300122577, 0.0008905634065486304, 0.0008816463022508005, 0.0008733592005872468, 0.000865594329479406, 0.0008582477548772888, 0.0008512199466076966, 0.0008444163102404717, 0.0008377476791478051, 0.0008311307614418611, 0.0008244885370557359, 0.0008177506008701197, 0.0008108534484707514, 0.0008037407018371788, 0.0007963632729990387, 0.0007886794644399843, 0.0007806550057699259, 0.0007722630269126872, 0.0007634839687587502, 0.0007543054329027774, 0.0007447219727155707, 0.0007347348285838221, 0.000724351610683526, 0.0007135859331304573, 0.0007024570037712704, 0.0006909891742400918, 0.0006792114552075304, 0.0006671570019923795, 0.0006548625758920122, 0.0006423679867173617, 0.0006297155220946095, 0.000616949369120636, 0.0006041150339355052, 0.0005912587647052655, 0.0005784269833946245, 0.0005656657315538655, 0.0005530201351498219, 0.0005405338932386463, 0.0005282487950100995, 0.0005162042694307628, 0.0005044369713780465, 0.000492980407789694, 0.0004818646069558582, 0.0004711158336543683, 0.00046075635237632543, 0.0004508042404107658, 0.0004412732520565661, 0.00043217273471012025, 0.0004235075970425021, 0.00041527832893415166, 0.0004074810722838899, 0.0004001077412578051, 0.0003931461899987515, 0.0003865804252856309, 0.00038039086112050355, 0.0003745546117384374, 0.00036904581908739695, 0.0003638360104209383, 0.0003588944812922617, 0.0003541886989410482, 0.00034968472083063163, 0.00034534762292770917, 0.0003411419322242388, 0.0003370320579845341, 0.00033298271626160407, 0.0003289593423659528, 0.00032492848618620885, 0.00032085818555162835, 0.00031671831318755804, 0.00031248089324100624, 0.0003081203838376392, 0.0003036139226658307, 0.0002989415331587771, 0.0002940862894521636, 0.0002890344389219159, 0.00028377548174313486, 0.00027830220754624583, 0.0002726106898686027, 0.00026670023969849123, 0.0002605733199734512, 0.0002542354234166555, 0.00024769491656534285, 0.000240962853256614, 0.00023405276118241295, 0.0002269804054025572, 0.0002197635329092256, 0.00021242160246681997, 0.0002049755040075005, 0.00019744727184647966, 0.00018985979589515508, 0.00018223653489857133, 0.00017460123551180554, 0.00016697766076411333, 0.00015938933114710007, 0.00015185928121172143, 0.0001444098341767679, 0.00013706239664717086, 0.00012983727512250794, 0.00012275351555290635, 0.00011582876677915328, 0.00010907916828389206, 0.00010251926228812945, 9.616192985823154e-05, 9.001835034842072e-05, 8.409798319696515e-05, 7.840857082425943e-05, 7.295616115040014e-05, 6.774514806012728e-05, 6.277832799483915e-05, 5.8056970744487474e-05, 5.358090244544231e-05, 4.934859876211325e-05, 4.5357286237702736e-05, 4.160304984004091e-05, 3.808094479854723e-05, 3.4785110924260486e-05, 3.1708887722625574e-05, 2.8844928744306478e-05, 2.6185313768591967e-05, 2.3721657573054468e-05, 2.1445214208166466e-05, 1.934697586299474e-05, 1.741776557460532e-05, 1.5648323196424616e-05, 1.4029384196961606e-05, 1.2551751007769754e-05, 1.1206356776515218e-05, 9.98432150610574e-06, 8.877000673010487e-06, 7.876026516485075e-06, 6.973342275118084e-06, 6.161229717922647e-06, 5.432330374389821e-06, 4.7796609120262214e-06, 4.196623141625166e-06, 3.677009150769087e-06, 3.215002075830881e-06, 2.8051730231351262e-06, 2.442474642107233e-06, 2.122231838357986e-06, 1.8401300938831188e-06, 1.592201836047301e-06, 1.3748112678521203e-06, 1.1846380401778407e-06, 1.0186601131795355e-06, 8.741361196542737e-07, 7.485875087342812e-07, 6.397807143524864e-07, 5.457095601273402e-07, 4.645780810810132e-07, 3.947839133050958e-07, 3.349023755966822e-07, 2.8367134240419824e-07, 2.399769852695562e-07, 2.028404403906805e-07, 1.7140544295818586e-07, 1.4492695449535824e-07, 1.2276079746386245e-07, 1.0435430176754525e-07, 8.923796034471178e-08, 7.701808561603254e-08, 6.7370454965716e-08, 6.0034931480847e-08, 5.4811045653802806e-08, 5.155452445591367e-08, 5.017475590498926e-08, 5.063317976150692e-08, 5.294259808423661e-08, 5.716740284198014e-08, 6.342472140016423e-08, 7.188648426548179e-08, 8.278242276472999e-08, 9.640400714102755e-08, 1.1310933765709101e-07, 1.333290024862329e-07, 1.57572916232882e-07, 1.8643815164296234e-07, 2.2061777423108284e-07, 2.6091068496268827e-07, 3.0823246959065085e-07, 3.636272445757921e-07, 4.2828047855576183e-07, 5.035327549264046e-07, 5.908944251531407e-07, 6.920610838634638e-07, 8.089297755550259e-07, 9.436158189095566e-07, 1.0984701083134227e-06, 1.2760967234019584e-06, 1.4793706464939752e-06, 1.7114553549755982e-06, 1.9758200214292444e-06, 2.2762560190787516e-06, 2.6168923945291627e-06, 3.002209934509937e-06, 3.437053419174657e-06, 3.926641622352997e-06, 4.4765745899580016e-06, 5.0928377025757625e-06, 5.781802008207715e-06, 6.550220297352167e-06, 7.4052183862734555e-06, 8.354281076583232e-06, 9.405232271285614e-06, 1.0566208750286065e-05, 1.184562714300902e-05, 1.325214368303449e-05, 1.479460639023192e-05, 1.6481999400158154e-05, 1.832337924872425e-05, 2.0327803022214127e-05, 2.2504248398264482e-05, 2.4861525731638482e-05, 2.740818247843281e-05, 3.0152400402255922e-05, 3.310188616402391e-05, 3.626375606108988e-05, 3.9644415848796806e-05, 4.324943674530926e-05, 4.7083428885385834e-05, 5.114991364715004e-05, 5.54511964241205e-05, 5.998824154895192e-05, 6.476055119161478e-05, 6.976605014925718e-05, 7.500097851404555e-05, 8.04597942454052e-05, 8.613508768118095e-05, 9.201750999559774e-05, 9.809571754848217e-05, 0.00010435633396844342, 0.00011078393167189337, 0.00011736103433995132, 0.0001240681416572712, 0.0001308837773624359, 0.0001377845613714299, 0.00014474530641737254, 0.0001517391393055729, 0.0001587376465182864, 0.00016571104352418455, 0.00017262836676016738, 0.0001794576868647065, 0.00018616634135989657, 0.00019272118461146105, 0.00019908885254972782, 0.00020523603931762362, 0.00021112978273122375, 0.00021673775520102313, 0.00022202855657388245, 0.00022697200522172622, 0.00023153942362765296, 0.00023570391470629883, 0.00023944062514481073, 0.00024272699216422526, 0.00024554297027760323, 0.0002478712348587754, 0.00024969735963052236, 0.00025100996552874133, 0.00025180083879368603], \"yaxis\": \"y\"}, {\"legendgroup\": \"HP\", \"marker\": {\"color\": \"rgb(31, 119, 180)\", \"symbol\": \"line-ns-open\"}, \"mode\": \"markers\", \"name\": \"HP\", \"showlegend\": false, \"type\": \"scatter\", \"x\": [45, 60, 80, 39, 58, 78, 44, 59, 79, 45, 50, 60, 40, 45, 65, 40, 63, 83, 30, 55, 40, 65, 35, 60, 35, 60, 50, 75, 55, 70, 90, 46, 61, 81, 70, 95, 38, 73, 115, 140, 40, 75, 45, 60, 75, 35, 60, 60, 70, 10, 35, 40, 65, 50, 80, 40, 65, 55, 90, 40, 65, 90, 25, 40, 55, 70, 80, 90, 50, 65, 80, 40, 80, 40, 55, 80, 50, 65, 90, 95, 25, 50, 52, 35, 60, 65, 90, 80, 105, 30, 50, 30, 45, 60, 35, 60, 85, 30, 55, 40, 60, 60, 95, 50, 60, 50, 50, 90, 40, 65, 80, 105, 250, 65, 105, 30, 55, 45, 80, 30, 60, 40, 70, 65, 65, 65, 65, 75, 20, 95, 130, 48, 55, 130, 65, 65, 65, 35, 70, 30, 60, 80, 160, 90, 90, 90, 41, 61, 91, 106, 100], \"xaxis\": \"x\", \"y\": [\"HP\", \"HP\", \"HP\", \"HP\", \"HP\", \"HP\", \"HP\", \"HP\", \"HP\", \"HP\", \"HP\", \"HP\", \"HP\", \"HP\", \"HP\", \"HP\", \"HP\", \"HP\", \"HP\", \"HP\", \"HP\", \"HP\", \"HP\", \"HP\", \"HP\", \"HP\", \"HP\", \"HP\", \"HP\", \"HP\", \"HP\", \"HP\", \"HP\", \"HP\", \"HP\", \"HP\", \"HP\", \"HP\", \"HP\", \"HP\", \"HP\", \"HP\", \"HP\", \"HP\", \"HP\", \"HP\", \"HP\", \"HP\", \"HP\", \"HP\", \"HP\", \"HP\", \"HP\", \"HP\", \"HP\", \"HP\", \"HP\", \"HP\", \"HP\", \"HP\", \"HP\", \"HP\", \"HP\", \"HP\", \"HP\", \"HP\", \"HP\", \"HP\", \"HP\", \"HP\", \"HP\", \"HP\", \"HP\", \"HP\", \"HP\", \"HP\", \"HP\", \"HP\", \"HP\", \"HP\", \"HP\", \"HP\", \"HP\", \"HP\", \"HP\", \"HP\", \"HP\", \"HP\", \"HP\", \"HP\", \"HP\", \"HP\", \"HP\", \"HP\", \"HP\", \"HP\", \"HP\", \"HP\", \"HP\", \"HP\", \"HP\", \"HP\", \"HP\", \"HP\", \"HP\", \"HP\", \"HP\", \"HP\", \"HP\", \"HP\", \"HP\", \"HP\", \"HP\", \"HP\", \"HP\", \"HP\", \"HP\", \"HP\", \"HP\", \"HP\", \"HP\", \"HP\", \"HP\", \"HP\", \"HP\", \"HP\", \"HP\", \"HP\", \"HP\", \"HP\", \"HP\", \"HP\", \"HP\", \"HP\", \"HP\", \"HP\", \"HP\", \"HP\", \"HP\", \"HP\", \"HP\", \"HP\", \"HP\", \"HP\", \"HP\", \"HP\", \"HP\", \"HP\", \"HP\", \"HP\", \"HP\"], \"yaxis\": \"y2\"}],\n",
       "                        {\"barmode\": \"overlay\", \"hovermode\": \"closest\", \"legend\": {\"traceorder\": \"reversed\"}, \"template\": {\"data\": {\"bar\": [{\"error_x\": {\"color\": \"#2a3f5f\"}, \"error_y\": {\"color\": \"#2a3f5f\"}, \"marker\": {\"line\": {\"color\": \"#E5ECF6\", \"width\": 0.5}}, \"type\": \"bar\"}], \"barpolar\": [{\"marker\": {\"line\": {\"color\": \"#E5ECF6\", \"width\": 0.5}}, \"type\": \"barpolar\"}], \"carpet\": [{\"aaxis\": {\"endlinecolor\": \"#2a3f5f\", \"gridcolor\": \"white\", \"linecolor\": \"white\", \"minorgridcolor\": \"white\", \"startlinecolor\": \"#2a3f5f\"}, \"baxis\": {\"endlinecolor\": \"#2a3f5f\", \"gridcolor\": \"white\", \"linecolor\": \"white\", \"minorgridcolor\": \"white\", \"startlinecolor\": \"#2a3f5f\"}, \"type\": \"carpet\"}], \"choropleth\": [{\"colorbar\": {\"outlinewidth\": 0, \"ticks\": \"\"}, \"type\": \"choropleth\"}], \"contour\": [{\"colorbar\": {\"outlinewidth\": 0, \"ticks\": \"\"}, \"colorscale\": [[0.0, \"#0d0887\"], [0.1111111111111111, \"#46039f\"], [0.2222222222222222, \"#7201a8\"], [0.3333333333333333, \"#9c179e\"], [0.4444444444444444, \"#bd3786\"], [0.5555555555555556, \"#d8576b\"], [0.6666666666666666, \"#ed7953\"], [0.7777777777777778, \"#fb9f3a\"], [0.8888888888888888, \"#fdca26\"], [1.0, \"#f0f921\"]], \"type\": \"contour\"}], \"contourcarpet\": [{\"colorbar\": {\"outlinewidth\": 0, \"ticks\": \"\"}, \"type\": \"contourcarpet\"}], \"heatmap\": [{\"colorbar\": {\"outlinewidth\": 0, \"ticks\": \"\"}, \"colorscale\": [[0.0, \"#0d0887\"], [0.1111111111111111, \"#46039f\"], [0.2222222222222222, \"#7201a8\"], [0.3333333333333333, \"#9c179e\"], [0.4444444444444444, \"#bd3786\"], [0.5555555555555556, \"#d8576b\"], [0.6666666666666666, \"#ed7953\"], [0.7777777777777778, \"#fb9f3a\"], [0.8888888888888888, \"#fdca26\"], [1.0, \"#f0f921\"]], \"type\": \"heatmap\"}], \"heatmapgl\": [{\"colorbar\": {\"outlinewidth\": 0, \"ticks\": \"\"}, \"colorscale\": [[0.0, \"#0d0887\"], [0.1111111111111111, \"#46039f\"], [0.2222222222222222, \"#7201a8\"], [0.3333333333333333, \"#9c179e\"], [0.4444444444444444, \"#bd3786\"], [0.5555555555555556, \"#d8576b\"], [0.6666666666666666, \"#ed7953\"], [0.7777777777777778, \"#fb9f3a\"], [0.8888888888888888, \"#fdca26\"], [1.0, \"#f0f921\"]], \"type\": \"heatmapgl\"}], \"histogram\": [{\"marker\": {\"colorbar\": {\"outlinewidth\": 0, \"ticks\": \"\"}}, \"type\": \"histogram\"}], \"histogram2d\": [{\"colorbar\": {\"outlinewidth\": 0, \"ticks\": \"\"}, \"colorscale\": [[0.0, \"#0d0887\"], [0.1111111111111111, \"#46039f\"], [0.2222222222222222, \"#7201a8\"], [0.3333333333333333, \"#9c179e\"], [0.4444444444444444, \"#bd3786\"], [0.5555555555555556, \"#d8576b\"], [0.6666666666666666, \"#ed7953\"], [0.7777777777777778, \"#fb9f3a\"], [0.8888888888888888, \"#fdca26\"], [1.0, \"#f0f921\"]], \"type\": \"histogram2d\"}], \"histogram2dcontour\": [{\"colorbar\": {\"outlinewidth\": 0, \"ticks\": \"\"}, \"colorscale\": [[0.0, \"#0d0887\"], [0.1111111111111111, \"#46039f\"], [0.2222222222222222, \"#7201a8\"], [0.3333333333333333, \"#9c179e\"], [0.4444444444444444, \"#bd3786\"], [0.5555555555555556, \"#d8576b\"], [0.6666666666666666, \"#ed7953\"], [0.7777777777777778, \"#fb9f3a\"], [0.8888888888888888, \"#fdca26\"], [1.0, \"#f0f921\"]], \"type\": \"histogram2dcontour\"}], \"mesh3d\": [{\"colorbar\": {\"outlinewidth\": 0, \"ticks\": \"\"}, \"type\": \"mesh3d\"}], \"parcoords\": [{\"line\": {\"colorbar\": {\"outlinewidth\": 0, \"ticks\": \"\"}}, \"type\": \"parcoords\"}], \"pie\": [{\"automargin\": true, \"type\": \"pie\"}], \"scatter\": [{\"marker\": {\"colorbar\": {\"outlinewidth\": 0, \"ticks\": \"\"}}, \"type\": \"scatter\"}], \"scatter3d\": [{\"line\": {\"colorbar\": {\"outlinewidth\": 0, \"ticks\": \"\"}}, \"marker\": {\"colorbar\": {\"outlinewidth\": 0, \"ticks\": \"\"}}, \"type\": \"scatter3d\"}], \"scattercarpet\": [{\"marker\": {\"colorbar\": {\"outlinewidth\": 0, \"ticks\": \"\"}}, \"type\": \"scattercarpet\"}], \"scattergeo\": [{\"marker\": {\"colorbar\": {\"outlinewidth\": 0, \"ticks\": \"\"}}, \"type\": \"scattergeo\"}], \"scattergl\": [{\"marker\": {\"colorbar\": {\"outlinewidth\": 0, \"ticks\": \"\"}}, \"type\": \"scattergl\"}], \"scattermapbox\": [{\"marker\": {\"colorbar\": {\"outlinewidth\": 0, \"ticks\": \"\"}}, \"type\": \"scattermapbox\"}], \"scatterpolar\": [{\"marker\": {\"colorbar\": {\"outlinewidth\": 0, \"ticks\": \"\"}}, \"type\": \"scatterpolar\"}], \"scatterpolargl\": [{\"marker\": {\"colorbar\": {\"outlinewidth\": 0, \"ticks\": \"\"}}, \"type\": \"scatterpolargl\"}], \"scatterternary\": [{\"marker\": {\"colorbar\": {\"outlinewidth\": 0, \"ticks\": \"\"}}, \"type\": \"scatterternary\"}], \"surface\": [{\"colorbar\": {\"outlinewidth\": 0, \"ticks\": \"\"}, \"colorscale\": [[0.0, \"#0d0887\"], [0.1111111111111111, \"#46039f\"], [0.2222222222222222, \"#7201a8\"], [0.3333333333333333, \"#9c179e\"], [0.4444444444444444, \"#bd3786\"], [0.5555555555555556, \"#d8576b\"], [0.6666666666666666, \"#ed7953\"], [0.7777777777777778, \"#fb9f3a\"], [0.8888888888888888, \"#fdca26\"], [1.0, \"#f0f921\"]], \"type\": \"surface\"}], \"table\": [{\"cells\": {\"fill\": {\"color\": \"#EBF0F8\"}, \"line\": {\"color\": \"white\"}}, \"header\": {\"fill\": {\"color\": \"#C8D4E3\"}, \"line\": {\"color\": \"white\"}}, \"type\": \"table\"}]}, \"layout\": {\"annotationdefaults\": {\"arrowcolor\": \"#2a3f5f\", \"arrowhead\": 0, \"arrowwidth\": 1}, \"coloraxis\": {\"colorbar\": {\"outlinewidth\": 0, \"ticks\": \"\"}}, \"colorscale\": {\"diverging\": [[0, \"#8e0152\"], [0.1, \"#c51b7d\"], [0.2, \"#de77ae\"], [0.3, \"#f1b6da\"], [0.4, \"#fde0ef\"], [0.5, \"#f7f7f7\"], [0.6, \"#e6f5d0\"], [0.7, \"#b8e186\"], [0.8, \"#7fbc41\"], [0.9, \"#4d9221\"], [1, \"#276419\"]], \"sequential\": [[0.0, \"#0d0887\"], [0.1111111111111111, \"#46039f\"], [0.2222222222222222, \"#7201a8\"], [0.3333333333333333, \"#9c179e\"], [0.4444444444444444, \"#bd3786\"], [0.5555555555555556, \"#d8576b\"], [0.6666666666666666, \"#ed7953\"], [0.7777777777777778, \"#fb9f3a\"], [0.8888888888888888, \"#fdca26\"], [1.0, \"#f0f921\"]], \"sequentialminus\": [[0.0, \"#0d0887\"], [0.1111111111111111, \"#46039f\"], [0.2222222222222222, \"#7201a8\"], [0.3333333333333333, \"#9c179e\"], [0.4444444444444444, \"#bd3786\"], [0.5555555555555556, \"#d8576b\"], [0.6666666666666666, \"#ed7953\"], [0.7777777777777778, \"#fb9f3a\"], [0.8888888888888888, \"#fdca26\"], [1.0, \"#f0f921\"]]}, \"colorway\": [\"#636efa\", \"#EF553B\", \"#00cc96\", \"#ab63fa\", \"#FFA15A\", \"#19d3f3\", \"#FF6692\", \"#B6E880\", \"#FF97FF\", \"#FECB52\"], \"font\": {\"color\": \"#2a3f5f\"}, \"geo\": {\"bgcolor\": \"white\", \"lakecolor\": \"white\", \"landcolor\": \"#E5ECF6\", \"showlakes\": true, \"showland\": true, \"subunitcolor\": \"white\"}, \"hoverlabel\": {\"align\": \"left\"}, \"hovermode\": \"closest\", \"mapbox\": {\"style\": \"light\"}, \"paper_bgcolor\": \"white\", \"plot_bgcolor\": \"#E5ECF6\", \"polar\": {\"angularaxis\": {\"gridcolor\": \"white\", \"linecolor\": \"white\", \"ticks\": \"\"}, \"bgcolor\": \"#E5ECF6\", \"radialaxis\": {\"gridcolor\": \"white\", \"linecolor\": \"white\", \"ticks\": \"\"}}, \"scene\": {\"xaxis\": {\"backgroundcolor\": \"#E5ECF6\", \"gridcolor\": \"white\", \"gridwidth\": 2, \"linecolor\": \"white\", \"showbackground\": true, \"ticks\": \"\", \"zerolinecolor\": \"white\"}, \"yaxis\": {\"backgroundcolor\": \"#E5ECF6\", \"gridcolor\": \"white\", \"gridwidth\": 2, \"linecolor\": \"white\", \"showbackground\": true, \"ticks\": \"\", \"zerolinecolor\": \"white\"}, \"zaxis\": {\"backgroundcolor\": \"#E5ECF6\", \"gridcolor\": \"white\", \"gridwidth\": 2, \"linecolor\": \"white\", \"showbackground\": true, \"ticks\": \"\", \"zerolinecolor\": \"white\"}}, \"shapedefaults\": {\"line\": {\"color\": \"#2a3f5f\"}}, \"ternary\": {\"aaxis\": {\"gridcolor\": \"white\", \"linecolor\": \"white\", \"ticks\": \"\"}, \"baxis\": {\"gridcolor\": \"white\", \"linecolor\": \"white\", \"ticks\": \"\"}, \"bgcolor\": \"#E5ECF6\", \"caxis\": {\"gridcolor\": \"white\", \"linecolor\": \"white\", \"ticks\": \"\"}}, \"title\": {\"x\": 0.05}, \"xaxis\": {\"automargin\": true, \"gridcolor\": \"white\", \"linecolor\": \"white\", \"ticks\": \"\", \"title\": {\"standoff\": 15}, \"zerolinecolor\": \"white\", \"zerolinewidth\": 2}, \"yaxis\": {\"automargin\": true, \"gridcolor\": \"white\", \"linecolor\": \"white\", \"ticks\": \"\", \"title\": {\"standoff\": 15}, \"zerolinecolor\": \"white\", \"zerolinewidth\": 2}}}, \"title\": {\"text\": \"Distribui\\u00e7\\u00e3o Atributo HP\"}, \"xaxis\": {\"anchor\": \"y2\", \"domain\": [0.0, 1.0], \"zeroline\": false}, \"yaxis\": {\"anchor\": \"free\", \"domain\": [0.35, 1], \"position\": 0.0}, \"yaxis2\": {\"anchor\": \"x\", \"domain\": [0, 0.25], \"dtick\": 1, \"showticklabels\": false}},\n",
       "                        {\"responsive\": true}\n",
       "                    ).then(function(){\n",
       "                            \n",
       "var gd = document.getElementById('71a9295a-536f-4177-99d8-c210c9f34a7f');\n",
       "var x = new MutationObserver(function (mutations, observer) {{\n",
       "        var display = window.getComputedStyle(gd).display;\n",
       "        if (!display || display === 'none') {{\n",
       "            console.log([gd, 'removed!']);\n",
       "            Plotly.purge(gd);\n",
       "            observer.disconnect();\n",
       "        }}\n",
       "}});\n",
       "\n",
       "// Listen for the removal of the full notebook cells\n",
       "var notebookContainer = gd.closest('#notebook-container');\n",
       "if (notebookContainer) {{\n",
       "    x.observe(notebookContainer, {childList: true});\n",
       "}}\n",
       "\n",
       "// Listen for the clearing of the current output cell\n",
       "var outputEl = gd.closest('.output');\n",
       "if (outputEl) {{\n",
       "    x.observe(outputEl, {childList: true});\n",
       "}}\n",
       "\n",
       "                        })\n",
       "                };\n",
       "                });\n",
       "            </script>\n",
       "        </div>"
      ]
     },
     "metadata": {},
     "output_type": "display_data"
    }
   ],
   "source": [
    "distri_att('HP')"
   ]
  },
  {
   "cell_type": "code",
   "execution_count": 40,
   "metadata": {
    "slideshow": {
     "slide_type": "skip"
    }
   },
   "outputs": [],
   "source": [
    "# Distribuição Ataque / Defesa\n",
    "def distri_vs_att(attr1, attr2):\n",
    "    attack_defense_distplot = ff.create_distplot([pokemon.Attack, pokemon.Defense], [attr1, attr2], bin_size=5)\n",
    "    layout = go.Layout(title='Distribuição {} / {}'.format(attr1, attr2), yaxis=dict(title='Porcentagem'))\n",
    "    figura = go.Figure(data=attack_defense_distplot, layout=layout)\n",
    "    figura.update_layout(title_text='Distribuição {} / {}'.format(attr1, attr2))\n",
    "    iplot(figura, filename='Distribuicao_{}_{}'.format(attr1, attr2))"
   ]
  },
  {
   "cell_type": "code",
   "execution_count": 41,
   "metadata": {
    "slideshow": {
     "slide_type": "skip"
    }
   },
   "outputs": [
    {
     "data": {
      "application/vnd.plotly.v1+json": {
       "config": {
        "linkText": "Export to plot.ly",
        "plotlyServerURL": "https://plot.ly",
        "showLink": false
       },
       "data": [
        {
         "autobinx": false,
         "histnorm": "probability density",
         "legendgroup": "Attack",
         "marker": {
          "color": "rgb(31, 119, 180)"
         },
         "name": "Attack",
         "opacity": 0.7,
         "type": "histogram",
         "x": [
          49,
          62,
          82,
          52,
          64,
          84,
          48,
          63,
          83,
          30,
          20,
          45,
          35,
          25,
          90,
          45,
          60,
          80,
          56,
          81,
          60,
          90,
          60,
          85,
          55,
          90,
          75,
          100,
          47,
          62,
          92,
          57,
          72,
          102,
          45,
          70,
          41,
          76,
          45,
          70,
          45,
          80,
          50,
          65,
          80,
          70,
          95,
          55,
          65,
          55,
          80,
          45,
          70,
          52,
          82,
          80,
          105,
          70,
          110,
          50,
          65,
          95,
          20,
          35,
          50,
          80,
          100,
          130,
          75,
          90,
          105,
          40,
          70,
          80,
          95,
          120,
          85,
          100,
          65,
          75,
          35,
          60,
          65,
          85,
          110,
          45,
          70,
          80,
          105,
          65,
          95,
          35,
          50,
          65,
          45,
          48,
          73,
          105,
          130,
          30,
          50,
          40,
          95,
          50,
          80,
          120,
          105,
          55,
          65,
          90,
          85,
          130,
          5,
          55,
          95,
          40,
          65,
          67,
          92,
          45,
          75,
          45,
          110,
          50,
          83,
          95,
          125,
          100,
          10,
          125,
          85,
          48,
          55,
          65,
          65,
          130,
          60,
          40,
          60,
          80,
          115,
          105,
          110,
          85,
          90,
          100,
          64,
          84,
          134,
          110,
          100
         ],
         "xaxis": "x",
         "xbins": {
          "end": 134,
          "size": 5,
          "start": 5
         },
         "yaxis": "y"
        },
        {
         "autobinx": false,
         "histnorm": "probability density",
         "legendgroup": "Defense",
         "marker": {
          "color": "rgb(255, 127, 14)"
         },
         "name": "Defense",
         "opacity": 0.7,
         "type": "histogram",
         "x": [
          49,
          63,
          83,
          43,
          58,
          78,
          65,
          80,
          100,
          35,
          55,
          50,
          30,
          50,
          40,
          40,
          55,
          75,
          35,
          60,
          30,
          65,
          44,
          69,
          40,
          55,
          85,
          110,
          52,
          67,
          87,
          40,
          57,
          77,
          48,
          73,
          40,
          75,
          20,
          45,
          35,
          70,
          55,
          70,
          85,
          55,
          80,
          50,
          60,
          25,
          50,
          35,
          60,
          48,
          78,
          35,
          60,
          45,
          80,
          40,
          65,
          95,
          15,
          30,
          45,
          50,
          70,
          80,
          35,
          50,
          65,
          35,
          65,
          100,
          115,
          130,
          55,
          70,
          65,
          110,
          70,
          95,
          55,
          45,
          70,
          55,
          80,
          50,
          75,
          100,
          180,
          30,
          45,
          60,
          160,
          45,
          70,
          90,
          115,
          50,
          70,
          80,
          85,
          95,
          110,
          53,
          79,
          75,
          95,
          120,
          95,
          120,
          5,
          115,
          80,
          70,
          95,
          60,
          65,
          55,
          85,
          65,
          80,
          35,
          57,
          57,
          100,
          95,
          55,
          79,
          80,
          48,
          50,
          60,
          60,
          60,
          70,
          100,
          125,
          90,
          105,
          65,
          65,
          100,
          85,
          90,
          45,
          65,
          95,
          90,
          100
         ],
         "xaxis": "x",
         "xbins": {
          "end": 180,
          "size": 5,
          "start": 5
         },
         "yaxis": "y"
        },
        {
         "legendgroup": "Attack",
         "marker": {
          "color": "rgb(31, 119, 180)"
         },
         "mode": "lines",
         "name": "Attack",
         "showlegend": false,
         "type": "scatter",
         "x": [
          5,
          5.258,
          5.516,
          5.774,
          6.032,
          6.29,
          6.548,
          6.806,
          7.064,
          7.322,
          7.58,
          7.838,
          8.096,
          8.354,
          8.612,
          8.870000000000001,
          9.128,
          9.386,
          9.644,
          9.902000000000001,
          10.16,
          10.418,
          10.676,
          10.934000000000001,
          11.192,
          11.45,
          11.708,
          11.966000000000001,
          12.224,
          12.482,
          12.74,
          12.998000000000001,
          13.256,
          13.514,
          13.772,
          14.03,
          14.288,
          14.546,
          14.804,
          15.062,
          15.32,
          15.578,
          15.836,
          16.094,
          16.352,
          16.61,
          16.868000000000002,
          17.125999999999998,
          17.384,
          17.642,
          17.9,
          18.158,
          18.416,
          18.674,
          18.932000000000002,
          19.189999999999998,
          19.448,
          19.706,
          19.964,
          20.222,
          20.48,
          20.738,
          20.996000000000002,
          21.254,
          21.512,
          21.77,
          22.028,
          22.286,
          22.544,
          22.802,
          23.06,
          23.318,
          23.576,
          23.834,
          24.092,
          24.35,
          24.608,
          24.866,
          25.124,
          25.382,
          25.64,
          25.898,
          26.156,
          26.414,
          26.672,
          26.93,
          27.188,
          27.446,
          27.704,
          27.962,
          28.22,
          28.478,
          28.736,
          28.994,
          29.252,
          29.51,
          29.768,
          30.026,
          30.284,
          30.542,
          30.8,
          31.058,
          31.316,
          31.574,
          31.832,
          32.09,
          32.348,
          32.606,
          32.864000000000004,
          33.122,
          33.379999999999995,
          33.638000000000005,
          33.896,
          34.153999999999996,
          34.412,
          34.67,
          34.928,
          35.186,
          35.444,
          35.702,
          35.96,
          36.218,
          36.476,
          36.734,
          36.992000000000004,
          37.25,
          37.508,
          37.766,
          38.024,
          38.282,
          38.54,
          38.798,
          39.056,
          39.314,
          39.572,
          39.83,
          40.088,
          40.346,
          40.604,
          40.862,
          41.12,
          41.378,
          41.636,
          41.894,
          42.152,
          42.41,
          42.668,
          42.926,
          43.184,
          43.442,
          43.7,
          43.958,
          44.216,
          44.474,
          44.732,
          44.99,
          45.248,
          45.506,
          45.764,
          46.022,
          46.28,
          46.538,
          46.796,
          47.054,
          47.312,
          47.57,
          47.828,
          48.086,
          48.344,
          48.602,
          48.86,
          49.118,
          49.376,
          49.634,
          49.892,
          50.15,
          50.408,
          50.666,
          50.924,
          51.182,
          51.44,
          51.698,
          51.956,
          52.214,
          52.472,
          52.73,
          52.988,
          53.246,
          53.504,
          53.762,
          54.02,
          54.278,
          54.536,
          54.794,
          55.052,
          55.31,
          55.568,
          55.826,
          56.084,
          56.342,
          56.6,
          56.858,
          57.116,
          57.374,
          57.632,
          57.89,
          58.148,
          58.406,
          58.664,
          58.922,
          59.18,
          59.438,
          59.696,
          59.954,
          60.212,
          60.47,
          60.728,
          60.986,
          61.244,
          61.502,
          61.76,
          62.018,
          62.276,
          62.534,
          62.792,
          63.05,
          63.308,
          63.566,
          63.824,
          64.082,
          64.34,
          64.598,
          64.856,
          65.114,
          65.372,
          65.63,
          65.888,
          66.146,
          66.404,
          66.662,
          66.92,
          67.178,
          67.436,
          67.694,
          67.952,
          68.21000000000001,
          68.468,
          68.726,
          68.98400000000001,
          69.242,
          69.5,
          69.758,
          70.016,
          70.274,
          70.532,
          70.79,
          71.048,
          71.306,
          71.564,
          71.822,
          72.08,
          72.338,
          72.596,
          72.854,
          73.112,
          73.37,
          73.628,
          73.886,
          74.144,
          74.402,
          74.66,
          74.918,
          75.176,
          75.434,
          75.692,
          75.95,
          76.208,
          76.466,
          76.724,
          76.982,
          77.24,
          77.498,
          77.756,
          78.014,
          78.272,
          78.53,
          78.788,
          79.046,
          79.304,
          79.562,
          79.82,
          80.078,
          80.336,
          80.594,
          80.852,
          81.11,
          81.368,
          81.626,
          81.884,
          82.142,
          82.4,
          82.658,
          82.916,
          83.174,
          83.432,
          83.69,
          83.948,
          84.206,
          84.464,
          84.722,
          84.98,
          85.238,
          85.496,
          85.754,
          86.012,
          86.27,
          86.528,
          86.786,
          87.044,
          87.302,
          87.56,
          87.818,
          88.076,
          88.334,
          88.592,
          88.85,
          89.108,
          89.366,
          89.624,
          89.882,
          90.14,
          90.398,
          90.656,
          90.914,
          91.172,
          91.43,
          91.688,
          91.946,
          92.204,
          92.462,
          92.72,
          92.978,
          93.236,
          93.494,
          93.752,
          94.01,
          94.268,
          94.526,
          94.784,
          95.042,
          95.3,
          95.558,
          95.816,
          96.074,
          96.332,
          96.59,
          96.848,
          97.106,
          97.364,
          97.622,
          97.88,
          98.138,
          98.396,
          98.654,
          98.912,
          99.17,
          99.428,
          99.686,
          99.944,
          100.202,
          100.46,
          100.718,
          100.976,
          101.234,
          101.492,
          101.75,
          102.008,
          102.266,
          102.524,
          102.782,
          103.04,
          103.298,
          103.556,
          103.814,
          104.072,
          104.33,
          104.588,
          104.846,
          105.104,
          105.362,
          105.62,
          105.878,
          106.136,
          106.394,
          106.652,
          106.91,
          107.168,
          107.426,
          107.684,
          107.942,
          108.2,
          108.458,
          108.716,
          108.974,
          109.232,
          109.49,
          109.748,
          110.006,
          110.264,
          110.522,
          110.78,
          111.038,
          111.296,
          111.554,
          111.812,
          112.07,
          112.328,
          112.586,
          112.844,
          113.102,
          113.36,
          113.618,
          113.876,
          114.134,
          114.392,
          114.65,
          114.908,
          115.166,
          115.424,
          115.682,
          115.94,
          116.198,
          116.456,
          116.714,
          116.972,
          117.23,
          117.488,
          117.746,
          118.004,
          118.262,
          118.52,
          118.778,
          119.036,
          119.294,
          119.552,
          119.81,
          120.068,
          120.326,
          120.584,
          120.842,
          121.1,
          121.358,
          121.616,
          121.874,
          122.132,
          122.39,
          122.648,
          122.906,
          123.164,
          123.422,
          123.68,
          123.938,
          124.196,
          124.454,
          124.712,
          124.97,
          125.228,
          125.486,
          125.744,
          126.002,
          126.26,
          126.518,
          126.776,
          127.034,
          127.292,
          127.55,
          127.808,
          128.066,
          128.324,
          128.582,
          128.84,
          129.098,
          129.356,
          129.614,
          129.872,
          130.13,
          130.388,
          130.64600000000002,
          130.904,
          131.162,
          131.42000000000002,
          131.678,
          131.936,
          132.19400000000002,
          132.452,
          132.70999999999998,
          132.96800000000002,
          133.226,
          133.484,
          133.742
         ],
         "xaxis": "x",
         "y": [
          0.0007401143520974378,
          0.0007543540521234747,
          0.0007686772796302268,
          0.0007830861928620355,
          0.0007975834154253718,
          0.0008121720447859539,
          0.0008268556597289356,
          0.0008416383267910409,
          0.0008565246056795499,
          0.0008715195536988113,
          0.0008866287292104505,
          0.0009018581941586211,
          0.0009172145156964135,
          0.0009327047669539135,
          0.0009483365269922915,
          0.0009641178799917201,
          0.0009800574137237405,
          0.0009961642173610553,
          0.0010124478786793778,
          0.0010289184807071193,
          0.001045586597879144,
          0.0010624632917506946,
          0.0010795601063267972,
          0.001096889063061036,
          0.0011144626555755442,
          0.0011322938441514013,
          0.0011503960500353814,
          0.001168783149605124,
          0.0011874694684304965,
          0.0012064697752639628,
          0.0012257992759874283,
          0.0012454736075372549,
          0.001265508831822914,
          0.0012859214296482586,
          0.001306728294637512,
          0.0013279467271611128,
          0.0013495944282492548,
          0.0013716894934736347,
          0.0013942504067705793,
          0.0014172960341712246,
          0.0014408456173972133,
          0.0014649187672731091,
          0.0014895354568997563,
          0.0015147160145260418,
          0.001540481116050142,
          0.0015668517770752025,
          0.0015938493444388317,
          0.0016214954871305995,
          0.001649812186507133,
          0.0016788217257103454,
          0.0017085466781909832,
          0.0017390098952368392,
          0.0017702344924030169,
          0.0018022438347403188,
          0.0018350615207172586,
          0.0018687113647314808,
          0.0019032173781074729,
          0.00193860374847928,
          0.001974894817459742,
          0.0020121150565013423,
          0.0020502890408581505,
          0.002089441421563735,
          0.0021295968953459403,
          0.002170780172406479,
          0.0022130159420010605,
          0.002256328835764326,
          0.0023007433887333095,
          0.0023462839980332014,
          0.0023929748792000834,
          0.00244084002012684,
          0.0024899031326306074,
          0.002540187601652952,
          0.002591716432117355,
          0.0026445121934823763,
          0.0026985969620433436,
          0.0027539922610500026,
          0.0028107189987228633,
          0.0028687974042661372,
          0.002928246961991048,
          0.002989086343678752,
          0.0030513333393282415,
          0.0031150047864502784,
          0.003180116498084291,
          0.0032466831897307127,
          0.0033147184054067927,
          0.0033842344430488453,
          0.003455242279498682,
          0.0035277514953261963,
          0.0036017701997535186,
          0.0036773049559593205,
          0.0037543607070537545,
          0.0038329407030259746,
          0.003913046428976439,
          0.003994677534955463,
          0.004077831767737507,
          0.004162504904867687,
          0.004248690691322349,
          0.004336380779129729,
          0.004425564670299137,
          0.004516229663408144,
          0.004608360804196469,
          0.004701940840512715,
          0.004796950181955807,
          0.004893366864546622,
          0.0049911665207574415,
          0.005090322355216213,
          0.0051908051263907865,
          0.005292583134544054,
          0.005395622216234178,
          0.005499885745616406,
          0.0056053346427818685,
          0.005711927389346878,
          0.00581962005148132,
          0.005928366310538794,
          0.006038117501422547,
          0.006148822658791457,
          0.0062604285711785656,
          0.006372879843061246,
          0.006486118964887554,
          0.006600086391027181,
          0.006714720625578333,
          0.006829958315923736,
          0.006945734353890072,
          0.007061981984325861,
          0.007178632920872762,
          0.007295617468665685,
          0.007412864653657121,
          0.007530302358221845,
          0.007647857462659093,
          0.0077654559921718274,
          0.007883023268865542,
          0.008000484068274102,
          0.008117762779885967,
          0.008234783571112972,
          0.008351470554113893,
          0.008467747954858166,
          0.008583540283790778,
          0.008698772507437745,
          0.008813370220273734,
          0.008927259816157922,
          0.009040368658633465,
          0.009152625249378018,
          0.009263959394088962,
          0.009374302365087742,
          0.009483587059931546,
          0.009591748155329774,
          0.009698722255675037,
          0.009804448035515903,
          0.009908866375320078,
          0.010011920489901528,
          0.01011355604891589,
          0.010213721288861138,
          0.010312367116058896,
          0.0104094472001327,
          0.01050491805754464,
          0.010598739124799634,
          0.010690872820978432,
          0.010781284599313804,
          0.01086994298758109,
          0.010956819617132846,
          0.0110418892404676,
          0.011125129737284224,
          0.011206522109036362,
          0.011286050462064316,
          0.011363701979445187,
          0.01143946688176546,
          0.011513338377081772,
          0.011585312600398006,
          0.011655388543045002,
          0.011723567972407999,
          0.01178985534250132,
          0.011854257695942016,
          0.011916784557923558,
          0.011977447822835592,
          0.012036261634217352,
          0.0120932422587692,
          0.012148407955178957,
          0.012201778838547355,
          0.012253376741219414,
          0.012303225070844933,
          0.012351348666503103,
          0.012397773653732319,
          0.012442527299305714,
          0.012485637866587743,
          0.012527134472295764,
          0.01256704694547306,
          0.012605405689457574,
          0.012642241547601692,
          0.01267758567346594,
          0.012711469406169865,
          0.01274392415154062,
          0.012774981269651736,
          0.012804671969292736,
          0.01283302720985379,
          0.01286007761105123,
          0.012885853370857177,
          0.012910384191931624,
          0.012933699216789494,
          0.012955826971865961,
          0.01297679532057547,
          0.0129966314253893,
          0.01301536171888772,
          0.013033011883673517,
          0.01304960684096647,
          0.013065170747632067,
          0.013079727001334125,
          0.013093298253439679,
          0.0131059064292473,
          0.01311757275505511,
          0.013128317791535046,
          0.01313816147283411,
          0.013147123150783027,
          0.013155221643556468,
          0.013162475288099336,
          0.013168901995609423,
          0.013174519309347413,
          0.013179344464033942,
          0.013183394446086155,
          0.013186686053946508,
          0.013189235957763171,
          0.013191060757692831,
          0.01319217704011602,
          0.013192601431078421,
          0.01319235064630282,
          0.013191441537150595,
          0.013189891131953433,
          0.013187716672180428,
          0.013184935642957054,
          0.01318156579750485,
          0.013177625175129742,
          0.01317313211244738,
          0.013168105247596503,
          0.013162563517257836,
          0.01315652614636295,
          0.013150012630444989,
          0.01314304271065236,
          0.013135636341514866,
          0.013127813651618796,
          0.013119594897415073,
          0.013111000410448156,
          0.01310205053835618,
          0.013092765580052484,
          0.013083165715554176,
          0.013073270930976169,
          0.013063100939256828,
          0.013052675097224896,
          0.01304201231965553,
          0.013031130990996294,
          0.013020048875471748,
          0.01300878302629609,
          0.012997349694739733,
          0.012985764239804255,
          0.012974041039264193,
          0.01296219340283071,
          0.012950233488182665,
          0.012938172220596171,
          0.01292601921688122,
          0.012913782714307943,
          0.01290146950517138,
          0.012889084877606025,
          0.01287663256321842,
          0.01286411469205815,
          0.01285153175539527,
          0.0128388825767175,
          0.0128261642912998,
          0.012813372334638433,
          0.012800500439975836,
          0.01278754064507731,
          0.01277448330835224,
          0.012761317134344759,
          0.012748029208549378,
          0.01273460504143949,
          0.012721028621528763,
          0.012707282477219448,
          0.012693347747127442,
          0.012679204258512348,
          0.012664830613381457,
          0.012650204281781348,
          0.012635301701738972,
          0.012620098385266131,
          0.012604569029798134,
          0.012588687634399374,
          0.012572427620034481,
          0.012555761953176314,
          0.012538663271998927,
          0.012521104014387248,
          0.012503056546982949,
          0.012484493294481864,
          0.012465386868396877,
          0.012445710194507307,
          0.012425436638226789,
          0.01240454012713868,
          0.012382995269970179,
          0.012360777471303683,
          0.01233786304135625,
          0.012314229300194348,
          0.012289854675791915,
          0.01226471879538499,
          0.012238802569623466,
          0.012212088269072722,
          0.012184559592671057,
          0.012156201727805389,
          0.01212700140172571,
          0.012096946924077636,
          0.012066028220393207,
          0.012034236856440134,
          0.012001566053390637,
          0.011968010693831212,
          0.011933567318693817,
          0.011898234115247026,
          0.011862010896342015,
          0.011824899071162888,
          0.011786901607781744,
          0.011748022987869311,
          0.011708269153956901,
          0.011667647449688765,
          0.011626166553543146,
          0.01158383640653531,
          0.011540668134447925,
          0.011496673965160891,
          0.011451867141676394,
          0.011406261831453622,
          0.01135987303268205,
          0.011312716478132697,
          0.011264808537232458,
          0.01121616611700791,
          0.011166806562543425,
          0.011116747557590307,
          0.011066007025954326,
          0.011014603034273799,
          0.010962553696782684,
          0.010909877082631384,
          0.010856591126313648,
          0.010802713541719687,
          0.010748261740306124,
          0.010693252753839321,
          0.010637703162134797,
          0.010581629026177415,
          0.010525045826969037,
          0.010467968410409811,
          0.01041041093847841,
          0.010352386846934448,
          0.010293908809723824,
          0.01023498871022464,
          0.01017563761942919,
          0.010115865781114135,
          0.010055682604009315,
          0.009995096660934207,
          0.009934115694830409,
          0.009872746631579147,
          0.009810995599454838,
          0.009748867955029342,
          0.009686368315306039,
          0.009623500595830732,
          0.009560268054494109,
          0.009496673340712485,
          0.009432718549645655,
          0.009368405281086662,
          0.009303734702635484,
          0.0092387076167488,
          0.00917332453124026,
          0.00910758573279069,
          0.009041491363014692,
          0.008975041496620035,
          0.008908236221188297,
          0.008841075718100135,
          0.008773560344125011,
          0.008705690713195467,
          0.008637467777886954,
          0.00856889291012881,
          0.008499967980678046,
          0.008430695436895829,
          0.008361078378377304,
          0.008291120629997492,
          0.008220826811950696,
          0.008150202406376705,
          0.008079253820185147,
          0.00800798844370878,
          0.00793641470483762,
          0.007864542118308053,
          0.007792381329845179,
          0.0077199441548812045,
          0.007647243611599141,
          0.0075742939480777744,
          0.007501110663342142,
          0.007427710522152035,
          0.007354111563390722,
          0.007280333101945556,
          0.007206395724002823,
          0.007132321275708969,
          0.007058132845181975,
          0.0069838547378864285,
          0.006909512445417123,
          0.006835132607766188,
          0.006760742969178931,
          0.006686372327733231,
          0.0066120504788066345,
          0.006537808152623574,
          0.006463676946102994,
          0.006389689249253447,
          0.006315878166388485,
          0.006242277432460081,
          0.00616892132483093,
          0.006095844570829221,
          0.006023082251449754,
          0.005950669701584866,
          0.005878642407186231,
          0.005807035899774746,
          0.0057358856487298,
          0.005665226951802029,
          0.005595094824303999,
          0.005525523887442132,
          0.005456548256259816,
          0.005388201427666427,
          0.005320516169029522,
          0.0052535244078081925,
          0.005187257122703884,
          0.005121744236801645,
          0.005057014513168678,
          0.004993095453369755,
          0.004930013199348896,
          0.004867792439114913,
          0.004806456316654762,
          0.004746026346482576,
          0.0046865223332148796,
          0.004627962296542769,
          0.004570362401950886,
          0.0045137368975098876,
          0.004458098057045044,
          0.0044034561299574095,
          0.004349819297947106,
          0.0042971936388596635,
          0.004245583097846922,
          0.0041949894660035176,
          0.004145412366608574,
          0.004096849249070328,
          0.004049295390638771,
          0.004002743905918308,
          0.003957185764179477,
          0.003912609814435113,
          0.0038690028182132834,
          0.0038263494899261636,
          0.00378463254470128,
          0.00374383275350934,
          0.003703929005391429,
          0.0036648983765574586,
          0.0036267162060981263,
          0.003589356178023886,
          0.003552790409317089,
          0.003516989543657315,
          0.003481922850455393,
          0.0034475583288087037,
          0.0034138628159690737,
          0.0033808020998952596,
          0.0033483410354444684,
          0.003316443663742078,
          0.0032850733342551235,
          0.0032541928290841966,
          0.0032237644889791537,
          0.0031937503405774365,
          0.003164112224359337,
          0.0031348119228123586,
          0.003105811288296987,
          0.0030770723701088023,
          0.00304855754023646,
          0.003020229617322399,
          0.0029920519883422187,
          0.0029639887275304485,
          0.002936004712093873,
          0.0029080657342695137,
          0.002880138609301967,
          0.0028521912789345304,
          0.002824192910029923,
          0.002796113987959565,
          0.0027679264044250702,
          0.002739603539401756,
          0.0027111203369214205,
          0.0026824533744402744,
          0.0026535809255675328,
          0.0026244830159607357,
          0.002595141472225046,
          0.0025655399636856065,
          0.0025356640369341493,
          0.002505501143083526,
          0.0024750406576962286,
          0.002444273893385344,
          0.002413194105118482,
          0.0023817964882868886,
          0.002350078169632982,
          0.002318038191159885,
          0.002285677487176048,
          0.0022529988546562815,
          0.0022200069171278945,
          0.002186708082316483,
          0.002153110493810398,
          0.0021192239770258226,
          0.0020850599797758475,
          0.0020506315077663184,
          0.002015953055358995,
          0.0019810405319585947
         ],
         "yaxis": "y"
        },
        {
         "legendgroup": "Defense",
         "marker": {
          "color": "rgb(255, 127, 14)"
         },
         "mode": "lines",
         "name": "Defense",
         "showlegend": false,
         "type": "scatter",
         "x": [
          5,
          5.35,
          5.7,
          6.05,
          6.4,
          6.75,
          7.1,
          7.45,
          7.8,
          8.15,
          8.5,
          8.85,
          9.2,
          9.55,
          9.9,
          10.25,
          10.6,
          10.95,
          11.3,
          11.65,
          12,
          12.35,
          12.7,
          13.05,
          13.4,
          13.75,
          14.1,
          14.45,
          14.8,
          15.15,
          15.5,
          15.85,
          16.2,
          16.55,
          16.9,
          17.25,
          17.6,
          17.95,
          18.3,
          18.65,
          19,
          19.35,
          19.7,
          20.05,
          20.4,
          20.75,
          21.1,
          21.45,
          21.8,
          22.15,
          22.5,
          22.85,
          23.2,
          23.55,
          23.9,
          24.25,
          24.6,
          24.95,
          25.3,
          25.65,
          26,
          26.35,
          26.7,
          27.05,
          27.4,
          27.75,
          28.1,
          28.45,
          28.8,
          29.15,
          29.5,
          29.85,
          30.2,
          30.55,
          30.9,
          31.25,
          31.6,
          31.95,
          32.3,
          32.65,
          33,
          33.35,
          33.7,
          34.05,
          34.4,
          34.75,
          35.1,
          35.45,
          35.8,
          36.15,
          36.5,
          36.85,
          37.2,
          37.55,
          37.9,
          38.25,
          38.6,
          38.95,
          39.3,
          39.65,
          40,
          40.35,
          40.7,
          41.05,
          41.4,
          41.75,
          42.1,
          42.45,
          42.8,
          43.15,
          43.5,
          43.85,
          44.2,
          44.55,
          44.9,
          45.25,
          45.6,
          45.95,
          46.3,
          46.65,
          47,
          47.35,
          47.7,
          48.05,
          48.4,
          48.75,
          49.1,
          49.45,
          49.8,
          50.15,
          50.5,
          50.85,
          51.2,
          51.55,
          51.9,
          52.25,
          52.6,
          52.95,
          53.3,
          53.65,
          54,
          54.35,
          54.7,
          55.05,
          55.4,
          55.75,
          56.1,
          56.45,
          56.8,
          57.15,
          57.5,
          57.85,
          58.2,
          58.55,
          58.9,
          59.25,
          59.6,
          59.95,
          60.3,
          60.65,
          61,
          61.35,
          61.7,
          62.05,
          62.4,
          62.75,
          63.1,
          63.45,
          63.8,
          64.15,
          64.5,
          64.85,
          65.2,
          65.55,
          65.9,
          66.25,
          66.6,
          66.95,
          67.3,
          67.65,
          68,
          68.35,
          68.7,
          69.05,
          69.4,
          69.75,
          70.1,
          70.45,
          70.8,
          71.15,
          71.5,
          71.85,
          72.2,
          72.55,
          72.9,
          73.25,
          73.6,
          73.95,
          74.3,
          74.65,
          75,
          75.35,
          75.7,
          76.05,
          76.4,
          76.75,
          77.1,
          77.45,
          77.8,
          78.15,
          78.5,
          78.85,
          79.2,
          79.55,
          79.9,
          80.25,
          80.6,
          80.95,
          81.3,
          81.65,
          82,
          82.35,
          82.7,
          83.05,
          83.4,
          83.75,
          84.1,
          84.45,
          84.8,
          85.15,
          85.5,
          85.85,
          86.2,
          86.55,
          86.9,
          87.25,
          87.6,
          87.95,
          88.3,
          88.65,
          89,
          89.35,
          89.7,
          90.05,
          90.4,
          90.75,
          91.1,
          91.45,
          91.8,
          92.15,
          92.5,
          92.85,
          93.2,
          93.55,
          93.9,
          94.25,
          94.6,
          94.95,
          95.3,
          95.65,
          96,
          96.35,
          96.7,
          97.05,
          97.4,
          97.75,
          98.1,
          98.45,
          98.8,
          99.15,
          99.5,
          99.85,
          100.2,
          100.55,
          100.9,
          101.25,
          101.6,
          101.95,
          102.3,
          102.65,
          103,
          103.35,
          103.7,
          104.05,
          104.4,
          104.75,
          105.1,
          105.45,
          105.8,
          106.15,
          106.5,
          106.85,
          107.2,
          107.55,
          107.9,
          108.25,
          108.6,
          108.95,
          109.3,
          109.65,
          110,
          110.35,
          110.7,
          111.05,
          111.4,
          111.75,
          112.1,
          112.45,
          112.8,
          113.15,
          113.5,
          113.85,
          114.2,
          114.55,
          114.9,
          115.25,
          115.6,
          115.95,
          116.3,
          116.65,
          117,
          117.35,
          117.7,
          118.05,
          118.4,
          118.75,
          119.1,
          119.45,
          119.8,
          120.15,
          120.5,
          120.85,
          121.2,
          121.55,
          121.9,
          122.25,
          122.6,
          122.95,
          123.3,
          123.65,
          124,
          124.35,
          124.7,
          125.05,
          125.4,
          125.75,
          126.1,
          126.45,
          126.8,
          127.15,
          127.5,
          127.85,
          128.2,
          128.55,
          128.9,
          129.25,
          129.6,
          129.95,
          130.3,
          130.65,
          131,
          131.35,
          131.7,
          132.05,
          132.4,
          132.75,
          133.1,
          133.45,
          133.8,
          134.15,
          134.5,
          134.85,
          135.2,
          135.55,
          135.9,
          136.25,
          136.6,
          136.95,
          137.3,
          137.65,
          138,
          138.35,
          138.7,
          139.05,
          139.4,
          139.75,
          140.1,
          140.45,
          140.8,
          141.15,
          141.5,
          141.85,
          142.2,
          142.55,
          142.9,
          143.25,
          143.6,
          143.95,
          144.3,
          144.65,
          145,
          145.35,
          145.7,
          146.05,
          146.4,
          146.75,
          147.1,
          147.45,
          147.8,
          148.15,
          148.5,
          148.85,
          149.2,
          149.55,
          149.9,
          150.25,
          150.6,
          150.95,
          151.3,
          151.65,
          152,
          152.35,
          152.7,
          153.05,
          153.4,
          153.75,
          154.1,
          154.45,
          154.8,
          155.15,
          155.5,
          155.85,
          156.2,
          156.55,
          156.9,
          157.25,
          157.6,
          157.95,
          158.3,
          158.65,
          159,
          159.35,
          159.7,
          160.05,
          160.4,
          160.75,
          161.1,
          161.45,
          161.8,
          162.15,
          162.5,
          162.85,
          163.2,
          163.55,
          163.9,
          164.25,
          164.6,
          164.95,
          165.3,
          165.65,
          166,
          166.35,
          166.7,
          167.05,
          167.4,
          167.75,
          168.1,
          168.45,
          168.8,
          169.15,
          169.5,
          169.85,
          170.2,
          170.55,
          170.9,
          171.25,
          171.6,
          171.95,
          172.3,
          172.65,
          173,
          173.35,
          173.7,
          174.05,
          174.4,
          174.75,
          175.1,
          175.45,
          175.8,
          176.15,
          176.5,
          176.85,
          177.2,
          177.55,
          177.9,
          178.25,
          178.6,
          178.95,
          179.3,
          179.65
         ],
         "xaxis": "x",
         "y": [
          0.0006148598299827798,
          0.000634566200411729,
          0.0006548175729478218,
          0.0006756434969390367,
          0.0006970754824730607,
          0.0007191470142822072,
          0.0007418935571003086,
          0.0007653525520773098,
          0.0007895634038796418,
          0.000814567458129066,
          0.0008404079688599937,
          0.0008671300557051931,
          0.0008947806505530134,
          0.000923408433455591,
          0.000953063757607577,
          0.000983798563258751,
          0.0010156662804717863,
          0.001048721720688504,
          0.0010830209571244232,
          0.0011186211940721444,
          0.0011555806252593844,
          0.0011939582814768205,
          0.001233813867764491,
          0.0012752075905227815,
          0.0013181999749947292,
          0.00136285167364993,
          0.0014092232660862405,
          0.0014573750511527787,
          0.0015073668320858913,
          0.0015592576955375753,
          0.001613105785462461,
          0.0016689680729136845,
          0.0017269001228786063,
          0.0017869558593612085,
          0.0018491873299877764,
          0.0019136444714747496,
          0.001980374877351429,
          0.002049423569373861,
          0.002120832774098861,
          0.0021946417061072462,
          0.0022708863593723892,
          0.0023495993082626246,
          0.002430809519643632,
          0.0025145421775087046,
          0.002600818521510556,
          0.002689655700697674,
          0.002781066643671367,
          0.002875059946276627,
          0.002971639777821323,
          0.003070805806684906,
          0.0031725531460303625,
          0.0032768723201733333,
          0.003383749251990897,
          0.0034931652715723387,
          0.003605097146125242,
          0.0037195171309573464,
          0.0038363930411565205,
          0.0039556883433943145,
          0.004077362267081333,
          0.004201369933910969,
          0.004327662504642227,
          0.004456187341796668,
          0.00458688818677945,
          0.0047197053497851785,
          0.0048545759107151525,
          0.004991433929218323,
          0.00513021066187378,
          0.0052708347844613685,
          0.005413232617218534,
          0.005557328350958929,
          0.005703044271930662,
          0.005850300983320909,
          0.005999017621368619,
          0.00614911206412769,
          0.00630050113102953,
          0.006453100771523491,
          0.006606826241227409,
          0.006761592264194097,
          0.006917313180092843,
          0.007073903075314373,
          0.0072312758972311285,
          0.00738934555107949,
          0.007548025979172197,
          0.007707231222396716,
          0.007866875464203291,
          0.008026873057532692,
          0.008187138535374266,
          0.008347586605876603,
          0.008508132133153318,
          0.008668690105130463,
          0.008829175589968957,
          0.008989503682761012,
          0.009149589444342111,
          0.009309347834177579,
          0.009468693639373702,
          0.00962754140192486,
          0.009785805346342678,
          0.009943399309816092,
          0.010100236677025143,
          0.010256230321677271,
          0.0104112925567495,
          0.010565335095310002,
          0.010718269023655353,
          0.010870004788338513,
          0.011020452198481223,
          0.011169520444562193,
          0.01131711813465599,
          0.011463153348866197,
          0.01160753371245624,
          0.01175016648793456,
          0.011890958686099776,
          0.012029817195802366,
          0.012166648931932629,
          0.012301361000905169,
          0.012433860882681195,
          0.012564056628152902,
          0.012691857070514768,
          0.012817172049063347,
          0.01293991264370575,
          0.01305999141831824,
          0.013177322670979682,
          0.013291822689015019,
          0.013403410006719055,
          0.013512005663591748,
          0.013617533460904618,
          0.013719920214430355,
          0.013819096001207589,
          0.013914994398273336,
          0.014007552711382876,
          0.014096712191841054,
          0.014182418239694879,
          0.014264620591678828,
          0.01434327349246099,
          0.014418335847905207,
          0.014489771359243791,
          0.014557548637238366,
          0.014621641295595915,
          0.014682028023097357,
          0.014738692634084716,
          0.014791624097139864,
          0.01484081654196784,
          0.014886269244670857,
          0.014927986591762596,
          0.014965978023425672,
          0.015000257956654403,
          0.015030845689053225,
          0.015057765284173377,
          0.015081045439369039,
          0.015100719337238097,
          0.01511682448178122,
          0.015129402520468366,
          0.015138499053441482,
          0.0151441634311124,
          0.01514644854142809,
          0.015145410588083571,
          0.015141108860955915,
          0.015133605500022166,
          0.015122965254003253,
          0.015109255234952074,
          0.0150925446699744,
          0.015072904651240459,
          0.015050407885411116,
          0.015025128443570153,
          0.014997141512720205,
          0.014966523149869284,
          0.014933350039704344,
          0.014897699256820848,
          0.01485964803345275,
          0.014819273533622888,
          0.014776652634614163,
          0.01473186171664069,
          0.014684976461579586,
          0.014636071661604487,
          0.014585221038540774,
          0.014532497074739598,
          0.014477970856239985,
          0.014421711928957205,
          0.014363788168596237,
          0.014304265664944193,
          0.014243208621140016,
          0.014180679268456507,
          0.014116737797054054,
          0.014051442303080086,
          0.013984848752390389,
          0.013917010961059056,
          0.01384798059272381,
          0.013777807172680371,
          0.013706538118498928,
          0.013634218786783801,
          0.01356089253553949,
          0.013486600801441335,
          0.013411383191142047,
          0.013335277585575366,
          0.013258320256050631,
          0.013180545990769033,
          0.01310198823023481,
          0.013022679209889058,
          0.012942650108160737,
          0.012861931198012468,
          0.01278055199996112,
          0.012698541434477996,
          0.012615927971621914,
          0.012532739775735206,
          0.012449004843036062,
          0.012364751129977031,
          0.012280006670304542,
          0.012194799678853362,
          0.01210915864023968,
          0.012023112380778642,
          0.011936690122143594,
          0.011849921515506394,
          0.011762836655144038,
          0.011675466070770002,
          0.011587840698139123,
          0.011499991827784512,
          0.011411951032066173,
          0.011323750071040589,
          0.01123542077799382,
          0.011146994925811558,
          0.01105850407568408,
          0.010969979409956622,
          0.010881451551230164,
          0.010792950370090268,
          0.010704504784087078,
          0.01061614255080253,
          0.010527890058018477,
          0.010439772114137179,
          0.010351811742100007,
          0.010264029980100245,
          0.010176445692387202,
          0.010089075393413704,
          0.0100019330884825,
          0.009915030133904918,
          0.009828375119492793,
          0.009741973775969096,
          0.009655828909602652,
          0.009569940366053707,
          0.009484305025062357,
          0.00939891682722674,
          0.009313766833706607,
          0.009228843319256901,
          0.009144131898550721,
          0.009059615685298637,
          0.008975275483216699,
          0.008891090007447828,
          0.008807036134604406,
          0.00872308917918225,
          0.008639223193703171,
          0.008555411289581316,
          0.008471625975382289,
          0.008387839508860101,
          0.008304024258917542,
          0.008220153073446994,
          0.008136199648871804,
          0.008052138897126483,
          0.007967947305789142,
          0.007883603287110628,
          0.007799087511773918,
          0.00771438322336133,
          0.00762947652970557,
          0.007544356667550334,
          0.007459016237243954,
          0.007373451404530926,
          0.0072876620668874,
          0.007201651982261066,
          0.007115428858519324,
          0.007029004402374454,
          0.006942394327035787,
          0.006855618318328659,
          0.006768699959512738,
          0.006681666615520404,
          0.006594549277813869,
          0.006507382371519969,
          0.0064202035269389675,
          0.006333053317932423,
          0.006245974970069644,
          0.006159014041748116,
          0.006072218081796572,
          0.005985636267316166,
          0.0058993190257135624,
          0.005813317645026948,
          0.005727683876741022,
          0.00564246953532967,
          0.005557726098755103,
          0.005473504314090644,
          0.005389853812323575,
          0.005306822736235317,
          0.005224457385053209,
          0.005142801879323674,
          0.005061897849174937,
          0.004981784148823255,
          0.004902496599834249,
          0.004824067765285636,
          0.004746526756594747,
          0.004669899074378464,
          0.004594206484311026,
          0.00451946692854056,
          0.004445694472824724,
          0.004372899289153115,
          0.004301087673245519,
          0.004230262095953233,
          0.004160421287251266,
          0.004091560351194863,
          0.00402367090992805,
          0.003956741274577337,
          0.003890756640642828,
          0.003825699305312635,
          0.0037615489039771505,
          0.0036982826631061193,
          0.003635875666575774,
          0.0035743011324931577,
          0.003513530697560582,
          0.0034535347060531277,
          0.003394282500544153,
          0.003335742711606588,
          0.003277883543837912,
          0.003220673055702448,
          0.003164079430852137,
          0.0031080712387739234,
          0.00305261768281431,
          0.0029976888338473094,
          0.00294325584807617,
          0.002889291167690242,
          0.002835768703331653,
          0.002782663997559909,
          0.002729954368732685,
          0.002677619034945605,
          0.002625639217889955,
          0.00257399822669303,
          0.0025226815219990166,
          0.0024716767607274076,
          0.0024209738221096064,
          0.0023705648157512234,
          0.0023204440725971063,
          0.002270608119787716,
          0.002221055640488761,
          0.0021717874198512203,
          0.002122806278316162,
          0.0020741169935186202,
          0.0020257262120680175,
          0.0019776423524900397,
          0.0019298755006074266,
          0.0018824372986163927,
          0.0018353408290820014,
          0.0017886004950317756,
          0.0017422318972732107,
          0.0016962517099989552,
          0.0016506775556752546,
          0.0016055278801354552,
          0.0015608218287229282,
          0.0015165791242479014,
          0.0014728199474411785,
          0.0014295648205064143,
          0.0013868344942920734,
          0.001344649839525455,
          0.0013030317424752363,
          0.0012620010053364446,
          0.00122157825156308,
          0.0011817838363097056,
          0.001142637762083918,
          0.0011041595996576351,
          0.0010663684142362892,
          0.0010292826968414524,
          0.0009929203008243852,
          0.0009572983833949335,
          0.00092243335202241,
          0.0008883408155420909,
          0.0008550355397824663,
          0.0008225314075143135,
          0.0007908413825125738,
          0.0007599774775154184,
          0.0007299507258618996,
          0.0007007711565893234,
          0.0006724477727740062,
          0.0006449885329040253,
          0.0006184003350793705,
          0.0005926890038437705,
          0.0005678592794626452,
          0.00054391480947324,
          0.0005208581423457584,
          0.0004986907231078875,
          0.0004774128907996303,
          0.0004570238776404277,
          0.0004375218098061864,
          0.00041890370972990374,
          0.00040116549985593663,
          0.00038430200779461824,
          0.00036830697284058895,
          0.0003531730538350401,
          0.0003388918383686771,
          0.0003254538533387178,
          0.0003128485768893701,
          0.0003010644517808446,
          0.0002900889002470003,
          0.0002799083404158442,
          0.00027050820438027917,
          0.00026187295801839797,
          0.00025398612267306625,
          0.00024683029880933515,
          0.00024038719177507694,
          0.00023463763979492708,
          0.0002295616443299994,
          0.00022513840293552164,
          0.00022134634474550312,
          0.00021816316870749042,
          0.00021556588468127426,
          0.00021353085750297756,
          0.00021203385410018119,
          0.00021105009372458425,
          0.00021055430134621432,
          0.00021052076422739744,
          0.0002109233916657648,
          0.00021173577786362012,
          0.00021293126784635217,
          0.00021448302631545425,
          0.0002163641092825605,
          0.00021854753829007861,
          0.00022100637698200376,
          0.0002237138097458413,
          0.00022664322210381283,
          0.00022976828248927932,
          0.00023306302500319219,
          0.00023650193270607017,
          0.00024006002096408732,
          0.00024371292033407846,
          0.00024743695844220404,
          0.0002512092402853375,
          0.0002550077263635224,
          0.0002588113080366289,
          0.000262599879489164,
          0.0002663544056844387,
          0.00027005698569336397,
          0.00027369091079433545,
          0.00027724071675910194,
          0.00028069222976539906,
          0.00028403260541037833,
          0.00028725036033941154,
          0.0002903353960525379,
          0.0002932790145052578,
          0.0002960739251812283,
          0.00029871424338113534,
          0.00030119547954401147,
          0.00030351451949383197,
          0.00030566959558460844,
          0.0003076602488005177,
          0.00030948728195297887,
          0.0003111527042030312,
          0.0003126596672238989,
          0.00031401239340418495,
          0.0003152160965757137,
          0.0003162768958305737,
          0.00031720172306837923,
          0.00031799822498618924,
          0.000318674660288931,
          0.0003192397929566755,
          0.00031970278245590887,
          0.0003200730718242708,
          0.00032036027459144106,
          0.00032057406152244514,
          0.0003207240481831455,
          0.00032081968433079333,
          0.0003208701461250818,
          0.00032088423213704685,
          0.00032087026410454586,
          0.00032083599334407974,
          0.0003207885136797452,
          0.0003207341816915829,
          0.00032067854501809995,
          0.0003206262793720214,
          0.00032058113484507164,
          0.0003205458919878561,
          0.0003205223280555293,
          0.0003205111937100768,
          0.0003205122003667476,
          0.000320524018266662,
          0.0003205442852510294,
          0.00032056962610601186,
          0.0003205956822421926,
          0.0003206171513701416,
          0.00032062783673477004,
          0.00032062070537724113,
          0.00032058795480513995,
          0.00032052108737044827,
          0.00032041099158145467,
          0.00032024802950991716,
          0.00032002212939922863,
          0.00031972288253363904,
          0.0003193396433931918,
          0.0003188616320942783,
          0.0003182780381017913,
          0.00031757812419588193,
          0.0003167513296841424,
          0.00031578737186857157,
          0.0003146763448054934,
          0.00031340881443535774,
          0.00031197590920740536,
          0.000310369405380949,
          0.0003085818062496782,
          0.00030660641460714464,
          0.00030443739784948167
         ],
         "yaxis": "y"
        },
        {
         "legendgroup": "Attack",
         "marker": {
          "color": "rgb(31, 119, 180)",
          "symbol": "line-ns-open"
         },
         "mode": "markers",
         "name": "Attack",
         "showlegend": false,
         "type": "scatter",
         "x": [
          49,
          62,
          82,
          52,
          64,
          84,
          48,
          63,
          83,
          30,
          20,
          45,
          35,
          25,
          90,
          45,
          60,
          80,
          56,
          81,
          60,
          90,
          60,
          85,
          55,
          90,
          75,
          100,
          47,
          62,
          92,
          57,
          72,
          102,
          45,
          70,
          41,
          76,
          45,
          70,
          45,
          80,
          50,
          65,
          80,
          70,
          95,
          55,
          65,
          55,
          80,
          45,
          70,
          52,
          82,
          80,
          105,
          70,
          110,
          50,
          65,
          95,
          20,
          35,
          50,
          80,
          100,
          130,
          75,
          90,
          105,
          40,
          70,
          80,
          95,
          120,
          85,
          100,
          65,
          75,
          35,
          60,
          65,
          85,
          110,
          45,
          70,
          80,
          105,
          65,
          95,
          35,
          50,
          65,
          45,
          48,
          73,
          105,
          130,
          30,
          50,
          40,
          95,
          50,
          80,
          120,
          105,
          55,
          65,
          90,
          85,
          130,
          5,
          55,
          95,
          40,
          65,
          67,
          92,
          45,
          75,
          45,
          110,
          50,
          83,
          95,
          125,
          100,
          10,
          125,
          85,
          48,
          55,
          65,
          65,
          130,
          60,
          40,
          60,
          80,
          115,
          105,
          110,
          85,
          90,
          100,
          64,
          84,
          134,
          110,
          100
         ],
         "xaxis": "x",
         "y": [
          "Attack",
          "Attack",
          "Attack",
          "Attack",
          "Attack",
          "Attack",
          "Attack",
          "Attack",
          "Attack",
          "Attack",
          "Attack",
          "Attack",
          "Attack",
          "Attack",
          "Attack",
          "Attack",
          "Attack",
          "Attack",
          "Attack",
          "Attack",
          "Attack",
          "Attack",
          "Attack",
          "Attack",
          "Attack",
          "Attack",
          "Attack",
          "Attack",
          "Attack",
          "Attack",
          "Attack",
          "Attack",
          "Attack",
          "Attack",
          "Attack",
          "Attack",
          "Attack",
          "Attack",
          "Attack",
          "Attack",
          "Attack",
          "Attack",
          "Attack",
          "Attack",
          "Attack",
          "Attack",
          "Attack",
          "Attack",
          "Attack",
          "Attack",
          "Attack",
          "Attack",
          "Attack",
          "Attack",
          "Attack",
          "Attack",
          "Attack",
          "Attack",
          "Attack",
          "Attack",
          "Attack",
          "Attack",
          "Attack",
          "Attack",
          "Attack",
          "Attack",
          "Attack",
          "Attack",
          "Attack",
          "Attack",
          "Attack",
          "Attack",
          "Attack",
          "Attack",
          "Attack",
          "Attack",
          "Attack",
          "Attack",
          "Attack",
          "Attack",
          "Attack",
          "Attack",
          "Attack",
          "Attack",
          "Attack",
          "Attack",
          "Attack",
          "Attack",
          "Attack",
          "Attack",
          "Attack",
          "Attack",
          "Attack",
          "Attack",
          "Attack",
          "Attack",
          "Attack",
          "Attack",
          "Attack",
          "Attack",
          "Attack",
          "Attack",
          "Attack",
          "Attack",
          "Attack",
          "Attack",
          "Attack",
          "Attack",
          "Attack",
          "Attack",
          "Attack",
          "Attack",
          "Attack",
          "Attack",
          "Attack",
          "Attack",
          "Attack",
          "Attack",
          "Attack",
          "Attack",
          "Attack",
          "Attack",
          "Attack",
          "Attack",
          "Attack",
          "Attack",
          "Attack",
          "Attack",
          "Attack",
          "Attack",
          "Attack",
          "Attack",
          "Attack",
          "Attack",
          "Attack",
          "Attack",
          "Attack",
          "Attack",
          "Attack",
          "Attack",
          "Attack",
          "Attack",
          "Attack",
          "Attack",
          "Attack",
          "Attack",
          "Attack",
          "Attack",
          "Attack",
          "Attack",
          "Attack"
         ],
         "yaxis": "y2"
        },
        {
         "legendgroup": "Defense",
         "marker": {
          "color": "rgb(255, 127, 14)",
          "symbol": "line-ns-open"
         },
         "mode": "markers",
         "name": "Defense",
         "showlegend": false,
         "type": "scatter",
         "x": [
          49,
          63,
          83,
          43,
          58,
          78,
          65,
          80,
          100,
          35,
          55,
          50,
          30,
          50,
          40,
          40,
          55,
          75,
          35,
          60,
          30,
          65,
          44,
          69,
          40,
          55,
          85,
          110,
          52,
          67,
          87,
          40,
          57,
          77,
          48,
          73,
          40,
          75,
          20,
          45,
          35,
          70,
          55,
          70,
          85,
          55,
          80,
          50,
          60,
          25,
          50,
          35,
          60,
          48,
          78,
          35,
          60,
          45,
          80,
          40,
          65,
          95,
          15,
          30,
          45,
          50,
          70,
          80,
          35,
          50,
          65,
          35,
          65,
          100,
          115,
          130,
          55,
          70,
          65,
          110,
          70,
          95,
          55,
          45,
          70,
          55,
          80,
          50,
          75,
          100,
          180,
          30,
          45,
          60,
          160,
          45,
          70,
          90,
          115,
          50,
          70,
          80,
          85,
          95,
          110,
          53,
          79,
          75,
          95,
          120,
          95,
          120,
          5,
          115,
          80,
          70,
          95,
          60,
          65,
          55,
          85,
          65,
          80,
          35,
          57,
          57,
          100,
          95,
          55,
          79,
          80,
          48,
          50,
          60,
          60,
          60,
          70,
          100,
          125,
          90,
          105,
          65,
          65,
          100,
          85,
          90,
          45,
          65,
          95,
          90,
          100
         ],
         "xaxis": "x",
         "y": [
          "Defense",
          "Defense",
          "Defense",
          "Defense",
          "Defense",
          "Defense",
          "Defense",
          "Defense",
          "Defense",
          "Defense",
          "Defense",
          "Defense",
          "Defense",
          "Defense",
          "Defense",
          "Defense",
          "Defense",
          "Defense",
          "Defense",
          "Defense",
          "Defense",
          "Defense",
          "Defense",
          "Defense",
          "Defense",
          "Defense",
          "Defense",
          "Defense",
          "Defense",
          "Defense",
          "Defense",
          "Defense",
          "Defense",
          "Defense",
          "Defense",
          "Defense",
          "Defense",
          "Defense",
          "Defense",
          "Defense",
          "Defense",
          "Defense",
          "Defense",
          "Defense",
          "Defense",
          "Defense",
          "Defense",
          "Defense",
          "Defense",
          "Defense",
          "Defense",
          "Defense",
          "Defense",
          "Defense",
          "Defense",
          "Defense",
          "Defense",
          "Defense",
          "Defense",
          "Defense",
          "Defense",
          "Defense",
          "Defense",
          "Defense",
          "Defense",
          "Defense",
          "Defense",
          "Defense",
          "Defense",
          "Defense",
          "Defense",
          "Defense",
          "Defense",
          "Defense",
          "Defense",
          "Defense",
          "Defense",
          "Defense",
          "Defense",
          "Defense",
          "Defense",
          "Defense",
          "Defense",
          "Defense",
          "Defense",
          "Defense",
          "Defense",
          "Defense",
          "Defense",
          "Defense",
          "Defense",
          "Defense",
          "Defense",
          "Defense",
          "Defense",
          "Defense",
          "Defense",
          "Defense",
          "Defense",
          "Defense",
          "Defense",
          "Defense",
          "Defense",
          "Defense",
          "Defense",
          "Defense",
          "Defense",
          "Defense",
          "Defense",
          "Defense",
          "Defense",
          "Defense",
          "Defense",
          "Defense",
          "Defense",
          "Defense",
          "Defense",
          "Defense",
          "Defense",
          "Defense",
          "Defense",
          "Defense",
          "Defense",
          "Defense",
          "Defense",
          "Defense",
          "Defense",
          "Defense",
          "Defense",
          "Defense",
          "Defense",
          "Defense",
          "Defense",
          "Defense",
          "Defense",
          "Defense",
          "Defense",
          "Defense",
          "Defense",
          "Defense",
          "Defense",
          "Defense",
          "Defense",
          "Defense",
          "Defense",
          "Defense",
          "Defense",
          "Defense",
          "Defense",
          "Defense",
          "Defense"
         ],
         "yaxis": "y2"
        }
       ],
       "layout": {
        "barmode": "overlay",
        "hovermode": "closest",
        "legend": {
         "traceorder": "reversed"
        },
        "template": {
         "data": {
          "bar": [
           {
            "error_x": {
             "color": "#2a3f5f"
            },
            "error_y": {
             "color": "#2a3f5f"
            },
            "marker": {
             "line": {
              "color": "#E5ECF6",
              "width": 0.5
             }
            },
            "type": "bar"
           }
          ],
          "barpolar": [
           {
            "marker": {
             "line": {
              "color": "#E5ECF6",
              "width": 0.5
             }
            },
            "type": "barpolar"
           }
          ],
          "carpet": [
           {
            "aaxis": {
             "endlinecolor": "#2a3f5f",
             "gridcolor": "white",
             "linecolor": "white",
             "minorgridcolor": "white",
             "startlinecolor": "#2a3f5f"
            },
            "baxis": {
             "endlinecolor": "#2a3f5f",
             "gridcolor": "white",
             "linecolor": "white",
             "minorgridcolor": "white",
             "startlinecolor": "#2a3f5f"
            },
            "type": "carpet"
           }
          ],
          "choropleth": [
           {
            "colorbar": {
             "outlinewidth": 0,
             "ticks": ""
            },
            "type": "choropleth"
           }
          ],
          "contour": [
           {
            "colorbar": {
             "outlinewidth": 0,
             "ticks": ""
            },
            "colorscale": [
             [
              0,
              "#0d0887"
             ],
             [
              0.1111111111111111,
              "#46039f"
             ],
             [
              0.2222222222222222,
              "#7201a8"
             ],
             [
              0.3333333333333333,
              "#9c179e"
             ],
             [
              0.4444444444444444,
              "#bd3786"
             ],
             [
              0.5555555555555556,
              "#d8576b"
             ],
             [
              0.6666666666666666,
              "#ed7953"
             ],
             [
              0.7777777777777778,
              "#fb9f3a"
             ],
             [
              0.8888888888888888,
              "#fdca26"
             ],
             [
              1,
              "#f0f921"
             ]
            ],
            "type": "contour"
           }
          ],
          "contourcarpet": [
           {
            "colorbar": {
             "outlinewidth": 0,
             "ticks": ""
            },
            "type": "contourcarpet"
           }
          ],
          "heatmap": [
           {
            "colorbar": {
             "outlinewidth": 0,
             "ticks": ""
            },
            "colorscale": [
             [
              0,
              "#0d0887"
             ],
             [
              0.1111111111111111,
              "#46039f"
             ],
             [
              0.2222222222222222,
              "#7201a8"
             ],
             [
              0.3333333333333333,
              "#9c179e"
             ],
             [
              0.4444444444444444,
              "#bd3786"
             ],
             [
              0.5555555555555556,
              "#d8576b"
             ],
             [
              0.6666666666666666,
              "#ed7953"
             ],
             [
              0.7777777777777778,
              "#fb9f3a"
             ],
             [
              0.8888888888888888,
              "#fdca26"
             ],
             [
              1,
              "#f0f921"
             ]
            ],
            "type": "heatmap"
           }
          ],
          "heatmapgl": [
           {
            "colorbar": {
             "outlinewidth": 0,
             "ticks": ""
            },
            "colorscale": [
             [
              0,
              "#0d0887"
             ],
             [
              0.1111111111111111,
              "#46039f"
             ],
             [
              0.2222222222222222,
              "#7201a8"
             ],
             [
              0.3333333333333333,
              "#9c179e"
             ],
             [
              0.4444444444444444,
              "#bd3786"
             ],
             [
              0.5555555555555556,
              "#d8576b"
             ],
             [
              0.6666666666666666,
              "#ed7953"
             ],
             [
              0.7777777777777778,
              "#fb9f3a"
             ],
             [
              0.8888888888888888,
              "#fdca26"
             ],
             [
              1,
              "#f0f921"
             ]
            ],
            "type": "heatmapgl"
           }
          ],
          "histogram": [
           {
            "marker": {
             "colorbar": {
              "outlinewidth": 0,
              "ticks": ""
             }
            },
            "type": "histogram"
           }
          ],
          "histogram2d": [
           {
            "colorbar": {
             "outlinewidth": 0,
             "ticks": ""
            },
            "colorscale": [
             [
              0,
              "#0d0887"
             ],
             [
              0.1111111111111111,
              "#46039f"
             ],
             [
              0.2222222222222222,
              "#7201a8"
             ],
             [
              0.3333333333333333,
              "#9c179e"
             ],
             [
              0.4444444444444444,
              "#bd3786"
             ],
             [
              0.5555555555555556,
              "#d8576b"
             ],
             [
              0.6666666666666666,
              "#ed7953"
             ],
             [
              0.7777777777777778,
              "#fb9f3a"
             ],
             [
              0.8888888888888888,
              "#fdca26"
             ],
             [
              1,
              "#f0f921"
             ]
            ],
            "type": "histogram2d"
           }
          ],
          "histogram2dcontour": [
           {
            "colorbar": {
             "outlinewidth": 0,
             "ticks": ""
            },
            "colorscale": [
             [
              0,
              "#0d0887"
             ],
             [
              0.1111111111111111,
              "#46039f"
             ],
             [
              0.2222222222222222,
              "#7201a8"
             ],
             [
              0.3333333333333333,
              "#9c179e"
             ],
             [
              0.4444444444444444,
              "#bd3786"
             ],
             [
              0.5555555555555556,
              "#d8576b"
             ],
             [
              0.6666666666666666,
              "#ed7953"
             ],
             [
              0.7777777777777778,
              "#fb9f3a"
             ],
             [
              0.8888888888888888,
              "#fdca26"
             ],
             [
              1,
              "#f0f921"
             ]
            ],
            "type": "histogram2dcontour"
           }
          ],
          "mesh3d": [
           {
            "colorbar": {
             "outlinewidth": 0,
             "ticks": ""
            },
            "type": "mesh3d"
           }
          ],
          "parcoords": [
           {
            "line": {
             "colorbar": {
              "outlinewidth": 0,
              "ticks": ""
             }
            },
            "type": "parcoords"
           }
          ],
          "pie": [
           {
            "automargin": true,
            "type": "pie"
           }
          ],
          "scatter": [
           {
            "marker": {
             "colorbar": {
              "outlinewidth": 0,
              "ticks": ""
             }
            },
            "type": "scatter"
           }
          ],
          "scatter3d": [
           {
            "line": {
             "colorbar": {
              "outlinewidth": 0,
              "ticks": ""
             }
            },
            "marker": {
             "colorbar": {
              "outlinewidth": 0,
              "ticks": ""
             }
            },
            "type": "scatter3d"
           }
          ],
          "scattercarpet": [
           {
            "marker": {
             "colorbar": {
              "outlinewidth": 0,
              "ticks": ""
             }
            },
            "type": "scattercarpet"
           }
          ],
          "scattergeo": [
           {
            "marker": {
             "colorbar": {
              "outlinewidth": 0,
              "ticks": ""
             }
            },
            "type": "scattergeo"
           }
          ],
          "scattergl": [
           {
            "marker": {
             "colorbar": {
              "outlinewidth": 0,
              "ticks": ""
             }
            },
            "type": "scattergl"
           }
          ],
          "scattermapbox": [
           {
            "marker": {
             "colorbar": {
              "outlinewidth": 0,
              "ticks": ""
             }
            },
            "type": "scattermapbox"
           }
          ],
          "scatterpolar": [
           {
            "marker": {
             "colorbar": {
              "outlinewidth": 0,
              "ticks": ""
             }
            },
            "type": "scatterpolar"
           }
          ],
          "scatterpolargl": [
           {
            "marker": {
             "colorbar": {
              "outlinewidth": 0,
              "ticks": ""
             }
            },
            "type": "scatterpolargl"
           }
          ],
          "scatterternary": [
           {
            "marker": {
             "colorbar": {
              "outlinewidth": 0,
              "ticks": ""
             }
            },
            "type": "scatterternary"
           }
          ],
          "surface": [
           {
            "colorbar": {
             "outlinewidth": 0,
             "ticks": ""
            },
            "colorscale": [
             [
              0,
              "#0d0887"
             ],
             [
              0.1111111111111111,
              "#46039f"
             ],
             [
              0.2222222222222222,
              "#7201a8"
             ],
             [
              0.3333333333333333,
              "#9c179e"
             ],
             [
              0.4444444444444444,
              "#bd3786"
             ],
             [
              0.5555555555555556,
              "#d8576b"
             ],
             [
              0.6666666666666666,
              "#ed7953"
             ],
             [
              0.7777777777777778,
              "#fb9f3a"
             ],
             [
              0.8888888888888888,
              "#fdca26"
             ],
             [
              1,
              "#f0f921"
             ]
            ],
            "type": "surface"
           }
          ],
          "table": [
           {
            "cells": {
             "fill": {
              "color": "#EBF0F8"
             },
             "line": {
              "color": "white"
             }
            },
            "header": {
             "fill": {
              "color": "#C8D4E3"
             },
             "line": {
              "color": "white"
             }
            },
            "type": "table"
           }
          ]
         },
         "layout": {
          "annotationdefaults": {
           "arrowcolor": "#2a3f5f",
           "arrowhead": 0,
           "arrowwidth": 1
          },
          "coloraxis": {
           "colorbar": {
            "outlinewidth": 0,
            "ticks": ""
           }
          },
          "colorscale": {
           "diverging": [
            [
             0,
             "#8e0152"
            ],
            [
             0.1,
             "#c51b7d"
            ],
            [
             0.2,
             "#de77ae"
            ],
            [
             0.3,
             "#f1b6da"
            ],
            [
             0.4,
             "#fde0ef"
            ],
            [
             0.5,
             "#f7f7f7"
            ],
            [
             0.6,
             "#e6f5d0"
            ],
            [
             0.7,
             "#b8e186"
            ],
            [
             0.8,
             "#7fbc41"
            ],
            [
             0.9,
             "#4d9221"
            ],
            [
             1,
             "#276419"
            ]
           ],
           "sequential": [
            [
             0,
             "#0d0887"
            ],
            [
             0.1111111111111111,
             "#46039f"
            ],
            [
             0.2222222222222222,
             "#7201a8"
            ],
            [
             0.3333333333333333,
             "#9c179e"
            ],
            [
             0.4444444444444444,
             "#bd3786"
            ],
            [
             0.5555555555555556,
             "#d8576b"
            ],
            [
             0.6666666666666666,
             "#ed7953"
            ],
            [
             0.7777777777777778,
             "#fb9f3a"
            ],
            [
             0.8888888888888888,
             "#fdca26"
            ],
            [
             1,
             "#f0f921"
            ]
           ],
           "sequentialminus": [
            [
             0,
             "#0d0887"
            ],
            [
             0.1111111111111111,
             "#46039f"
            ],
            [
             0.2222222222222222,
             "#7201a8"
            ],
            [
             0.3333333333333333,
             "#9c179e"
            ],
            [
             0.4444444444444444,
             "#bd3786"
            ],
            [
             0.5555555555555556,
             "#d8576b"
            ],
            [
             0.6666666666666666,
             "#ed7953"
            ],
            [
             0.7777777777777778,
             "#fb9f3a"
            ],
            [
             0.8888888888888888,
             "#fdca26"
            ],
            [
             1,
             "#f0f921"
            ]
           ]
          },
          "colorway": [
           "#636efa",
           "#EF553B",
           "#00cc96",
           "#ab63fa",
           "#FFA15A",
           "#19d3f3",
           "#FF6692",
           "#B6E880",
           "#FF97FF",
           "#FECB52"
          ],
          "font": {
           "color": "#2a3f5f"
          },
          "geo": {
           "bgcolor": "white",
           "lakecolor": "white",
           "landcolor": "#E5ECF6",
           "showlakes": true,
           "showland": true,
           "subunitcolor": "white"
          },
          "hoverlabel": {
           "align": "left"
          },
          "hovermode": "closest",
          "mapbox": {
           "style": "light"
          },
          "paper_bgcolor": "white",
          "plot_bgcolor": "#E5ECF6",
          "polar": {
           "angularaxis": {
            "gridcolor": "white",
            "linecolor": "white",
            "ticks": ""
           },
           "bgcolor": "#E5ECF6",
           "radialaxis": {
            "gridcolor": "white",
            "linecolor": "white",
            "ticks": ""
           }
          },
          "scene": {
           "xaxis": {
            "backgroundcolor": "#E5ECF6",
            "gridcolor": "white",
            "gridwidth": 2,
            "linecolor": "white",
            "showbackground": true,
            "ticks": "",
            "zerolinecolor": "white"
           },
           "yaxis": {
            "backgroundcolor": "#E5ECF6",
            "gridcolor": "white",
            "gridwidth": 2,
            "linecolor": "white",
            "showbackground": true,
            "ticks": "",
            "zerolinecolor": "white"
           },
           "zaxis": {
            "backgroundcolor": "#E5ECF6",
            "gridcolor": "white",
            "gridwidth": 2,
            "linecolor": "white",
            "showbackground": true,
            "ticks": "",
            "zerolinecolor": "white"
           }
          },
          "shapedefaults": {
           "line": {
            "color": "#2a3f5f"
           }
          },
          "ternary": {
           "aaxis": {
            "gridcolor": "white",
            "linecolor": "white",
            "ticks": ""
           },
           "baxis": {
            "gridcolor": "white",
            "linecolor": "white",
            "ticks": ""
           },
           "bgcolor": "#E5ECF6",
           "caxis": {
            "gridcolor": "white",
            "linecolor": "white",
            "ticks": ""
           }
          },
          "title": {
           "x": 0.05
          },
          "xaxis": {
           "automargin": true,
           "gridcolor": "white",
           "linecolor": "white",
           "ticks": "",
           "title": {
            "standoff": 15
           },
           "zerolinecolor": "white",
           "zerolinewidth": 2
          },
          "yaxis": {
           "automargin": true,
           "gridcolor": "white",
           "linecolor": "white",
           "ticks": "",
           "title": {
            "standoff": 15
           },
           "zerolinecolor": "white",
           "zerolinewidth": 2
          }
         }
        },
        "title": {
         "text": "Distribuição Attack / Defense"
        },
        "xaxis": {
         "anchor": "y2",
         "domain": [
          0,
          1
         ],
         "zeroline": false
        },
        "yaxis": {
         "anchor": "free",
         "domain": [
          0.35,
          1
         ],
         "position": 0
        },
        "yaxis2": {
         "anchor": "x",
         "domain": [
          0,
          0.25
         ],
         "dtick": 1,
         "showticklabels": false
        }
       }
      },
      "text/html": [
       "<div>\n",
       "        \n",
       "        \n",
       "            <div id=\"0182ff45-cd65-4c03-83a2-ebec65ebac91\" class=\"plotly-graph-div\" style=\"height:525px; width:100%;\"></div>\n",
       "            <script type=\"text/javascript\">\n",
       "                require([\"plotly\"], function(Plotly) {\n",
       "                    window.PLOTLYENV=window.PLOTLYENV || {};\n",
       "                    \n",
       "                if (document.getElementById(\"0182ff45-cd65-4c03-83a2-ebec65ebac91\")) {\n",
       "                    Plotly.newPlot(\n",
       "                        '0182ff45-cd65-4c03-83a2-ebec65ebac91',\n",
       "                        [{\"autobinx\": false, \"histnorm\": \"probability density\", \"legendgroup\": \"Attack\", \"marker\": {\"color\": \"rgb(31, 119, 180)\"}, \"name\": \"Attack\", \"opacity\": 0.7, \"type\": \"histogram\", \"x\": [49, 62, 82, 52, 64, 84, 48, 63, 83, 30, 20, 45, 35, 25, 90, 45, 60, 80, 56, 81, 60, 90, 60, 85, 55, 90, 75, 100, 47, 62, 92, 57, 72, 102, 45, 70, 41, 76, 45, 70, 45, 80, 50, 65, 80, 70, 95, 55, 65, 55, 80, 45, 70, 52, 82, 80, 105, 70, 110, 50, 65, 95, 20, 35, 50, 80, 100, 130, 75, 90, 105, 40, 70, 80, 95, 120, 85, 100, 65, 75, 35, 60, 65, 85, 110, 45, 70, 80, 105, 65, 95, 35, 50, 65, 45, 48, 73, 105, 130, 30, 50, 40, 95, 50, 80, 120, 105, 55, 65, 90, 85, 130, 5, 55, 95, 40, 65, 67, 92, 45, 75, 45, 110, 50, 83, 95, 125, 100, 10, 125, 85, 48, 55, 65, 65, 130, 60, 40, 60, 80, 115, 105, 110, 85, 90, 100, 64, 84, 134, 110, 100], \"xaxis\": \"x\", \"xbins\": {\"end\": 134.0, \"size\": 5, \"start\": 5.0}, \"yaxis\": \"y\"}, {\"autobinx\": false, \"histnorm\": \"probability density\", \"legendgroup\": \"Defense\", \"marker\": {\"color\": \"rgb(255, 127, 14)\"}, \"name\": \"Defense\", \"opacity\": 0.7, \"type\": \"histogram\", \"x\": [49, 63, 83, 43, 58, 78, 65, 80, 100, 35, 55, 50, 30, 50, 40, 40, 55, 75, 35, 60, 30, 65, 44, 69, 40, 55, 85, 110, 52, 67, 87, 40, 57, 77, 48, 73, 40, 75, 20, 45, 35, 70, 55, 70, 85, 55, 80, 50, 60, 25, 50, 35, 60, 48, 78, 35, 60, 45, 80, 40, 65, 95, 15, 30, 45, 50, 70, 80, 35, 50, 65, 35, 65, 100, 115, 130, 55, 70, 65, 110, 70, 95, 55, 45, 70, 55, 80, 50, 75, 100, 180, 30, 45, 60, 160, 45, 70, 90, 115, 50, 70, 80, 85, 95, 110, 53, 79, 75, 95, 120, 95, 120, 5, 115, 80, 70, 95, 60, 65, 55, 85, 65, 80, 35, 57, 57, 100, 95, 55, 79, 80, 48, 50, 60, 60, 60, 70, 100, 125, 90, 105, 65, 65, 100, 85, 90, 45, 65, 95, 90, 100], \"xaxis\": \"x\", \"xbins\": {\"end\": 180.0, \"size\": 5, \"start\": 5.0}, \"yaxis\": \"y\"}, {\"legendgroup\": \"Attack\", \"marker\": {\"color\": \"rgb(31, 119, 180)\"}, \"mode\": \"lines\", \"name\": \"Attack\", \"showlegend\": false, \"type\": \"scatter\", \"x\": [5.0, 5.258, 5.516, 5.774, 6.032, 6.29, 6.548, 6.806, 7.064, 7.322, 7.58, 7.838, 8.096, 8.354, 8.612, 8.870000000000001, 9.128, 9.386, 9.644, 9.902000000000001, 10.16, 10.418, 10.676, 10.934000000000001, 11.192, 11.45, 11.708, 11.966000000000001, 12.224, 12.482, 12.74, 12.998000000000001, 13.256, 13.514, 13.772, 14.03, 14.288, 14.546, 14.804, 15.062, 15.32, 15.578, 15.836, 16.094, 16.352, 16.61, 16.868000000000002, 17.125999999999998, 17.384, 17.642, 17.9, 18.158, 18.416, 18.674, 18.932000000000002, 19.189999999999998, 19.448, 19.706, 19.964, 20.222, 20.48, 20.738, 20.996000000000002, 21.254, 21.512, 21.77, 22.028, 22.286, 22.544, 22.802, 23.06, 23.318, 23.576, 23.834, 24.092, 24.35, 24.608, 24.866, 25.124, 25.382, 25.64, 25.898, 26.156, 26.414, 26.672, 26.93, 27.188, 27.446, 27.704, 27.962, 28.22, 28.478, 28.736, 28.994, 29.252, 29.51, 29.768, 30.026, 30.284, 30.542, 30.8, 31.058, 31.316, 31.574, 31.832, 32.09, 32.348, 32.606, 32.864000000000004, 33.122, 33.379999999999995, 33.638000000000005, 33.896, 34.153999999999996, 34.412, 34.67, 34.928, 35.186, 35.444, 35.702, 35.96, 36.218, 36.476, 36.734, 36.992000000000004, 37.25, 37.508, 37.766, 38.024, 38.282, 38.54, 38.798, 39.056, 39.314, 39.572, 39.83, 40.088, 40.346, 40.604, 40.862, 41.12, 41.378, 41.636, 41.894, 42.152, 42.41, 42.668, 42.926, 43.184, 43.442, 43.7, 43.958, 44.216, 44.474, 44.732, 44.99, 45.248, 45.506, 45.764, 46.022, 46.28, 46.538, 46.796, 47.054, 47.312, 47.57, 47.828, 48.086, 48.344, 48.602, 48.86, 49.118, 49.376, 49.634, 49.892, 50.15, 50.408, 50.666, 50.924, 51.182, 51.44, 51.698, 51.956, 52.214, 52.472, 52.73, 52.988, 53.246, 53.504, 53.762, 54.02, 54.278, 54.536, 54.794, 55.052, 55.31, 55.568, 55.826, 56.084, 56.342, 56.6, 56.858, 57.116, 57.374, 57.632, 57.89, 58.148, 58.406, 58.664, 58.922, 59.18, 59.438, 59.696, 59.954, 60.212, 60.47, 60.728, 60.986, 61.244, 61.502, 61.76, 62.018, 62.276, 62.534, 62.792, 63.05, 63.308, 63.566, 63.824, 64.082, 64.34, 64.598, 64.856, 65.114, 65.372, 65.63, 65.888, 66.146, 66.404, 66.662, 66.92, 67.178, 67.436, 67.694, 67.952, 68.21000000000001, 68.468, 68.726, 68.98400000000001, 69.242, 69.5, 69.758, 70.016, 70.274, 70.532, 70.79, 71.048, 71.306, 71.564, 71.822, 72.08, 72.338, 72.596, 72.854, 73.112, 73.37, 73.628, 73.886, 74.144, 74.402, 74.66, 74.918, 75.176, 75.434, 75.692, 75.95, 76.208, 76.466, 76.724, 76.982, 77.24, 77.498, 77.756, 78.014, 78.272, 78.53, 78.788, 79.046, 79.304, 79.562, 79.82, 80.078, 80.336, 80.594, 80.852, 81.11, 81.368, 81.626, 81.884, 82.142, 82.4, 82.658, 82.916, 83.174, 83.432, 83.69, 83.948, 84.206, 84.464, 84.722, 84.98, 85.238, 85.496, 85.754, 86.012, 86.27, 86.528, 86.786, 87.044, 87.302, 87.56, 87.818, 88.076, 88.334, 88.592, 88.85, 89.108, 89.366, 89.624, 89.882, 90.14, 90.398, 90.656, 90.914, 91.172, 91.43, 91.688, 91.946, 92.204, 92.462, 92.72, 92.978, 93.236, 93.494, 93.752, 94.01, 94.268, 94.526, 94.784, 95.042, 95.3, 95.558, 95.816, 96.074, 96.332, 96.59, 96.848, 97.106, 97.364, 97.622, 97.88, 98.138, 98.396, 98.654, 98.912, 99.17, 99.428, 99.686, 99.944, 100.202, 100.46, 100.718, 100.976, 101.234, 101.492, 101.75, 102.008, 102.266, 102.524, 102.782, 103.04, 103.298, 103.556, 103.814, 104.072, 104.33, 104.588, 104.846, 105.104, 105.362, 105.62, 105.878, 106.136, 106.394, 106.652, 106.91, 107.168, 107.426, 107.684, 107.942, 108.2, 108.458, 108.716, 108.974, 109.232, 109.49, 109.748, 110.006, 110.264, 110.522, 110.78, 111.038, 111.296, 111.554, 111.812, 112.07, 112.328, 112.586, 112.844, 113.102, 113.36, 113.618, 113.876, 114.134, 114.392, 114.65, 114.908, 115.166, 115.424, 115.682, 115.94, 116.198, 116.456, 116.714, 116.972, 117.23, 117.488, 117.746, 118.004, 118.262, 118.52, 118.778, 119.036, 119.294, 119.552, 119.81, 120.068, 120.326, 120.584, 120.842, 121.1, 121.358, 121.616, 121.874, 122.132, 122.39, 122.648, 122.906, 123.164, 123.422, 123.68, 123.938, 124.196, 124.454, 124.712, 124.97, 125.228, 125.486, 125.744, 126.002, 126.26, 126.518, 126.776, 127.034, 127.292, 127.55, 127.808, 128.066, 128.324, 128.582, 128.84, 129.098, 129.356, 129.614, 129.872, 130.13, 130.388, 130.64600000000002, 130.904, 131.162, 131.42000000000002, 131.678, 131.936, 132.19400000000002, 132.452, 132.70999999999998, 132.96800000000002, 133.226, 133.484, 133.742], \"xaxis\": \"x\", \"y\": [0.0007401143520974378, 0.0007543540521234747, 0.0007686772796302268, 0.0007830861928620355, 0.0007975834154253718, 0.0008121720447859539, 0.0008268556597289356, 0.0008416383267910409, 0.0008565246056795499, 0.0008715195536988113, 0.0008866287292104505, 0.0009018581941586211, 0.0009172145156964135, 0.0009327047669539135, 0.0009483365269922915, 0.0009641178799917201, 0.0009800574137237405, 0.0009961642173610553, 0.0010124478786793778, 0.0010289184807071193, 0.001045586597879144, 0.0010624632917506946, 0.0010795601063267972, 0.001096889063061036, 0.0011144626555755442, 0.0011322938441514013, 0.0011503960500353814, 0.001168783149605124, 0.0011874694684304965, 0.0012064697752639628, 0.0012257992759874283, 0.0012454736075372549, 0.001265508831822914, 0.0012859214296482586, 0.001306728294637512, 0.0013279467271611128, 0.0013495944282492548, 0.0013716894934736347, 0.0013942504067705793, 0.0014172960341712246, 0.0014408456173972133, 0.0014649187672731091, 0.0014895354568997563, 0.0015147160145260418, 0.001540481116050142, 0.0015668517770752025, 0.0015938493444388317, 0.0016214954871305995, 0.001649812186507133, 0.0016788217257103454, 0.0017085466781909832, 0.0017390098952368392, 0.0017702344924030169, 0.0018022438347403188, 0.0018350615207172586, 0.0018687113647314808, 0.0019032173781074729, 0.00193860374847928, 0.001974894817459742, 0.0020121150565013423, 0.0020502890408581505, 0.002089441421563735, 0.0021295968953459403, 0.002170780172406479, 0.0022130159420010605, 0.002256328835764326, 0.0023007433887333095, 0.0023462839980332014, 0.0023929748792000834, 0.00244084002012684, 0.0024899031326306074, 0.002540187601652952, 0.002591716432117355, 0.0026445121934823763, 0.0026985969620433436, 0.0027539922610500026, 0.0028107189987228633, 0.0028687974042661372, 0.002928246961991048, 0.002989086343678752, 0.0030513333393282415, 0.0031150047864502784, 0.003180116498084291, 0.0032466831897307127, 0.0033147184054067927, 0.0033842344430488453, 0.003455242279498682, 0.0035277514953261963, 0.0036017701997535186, 0.0036773049559593205, 0.0037543607070537545, 0.0038329407030259746, 0.003913046428976439, 0.003994677534955463, 0.004077831767737507, 0.004162504904867687, 0.004248690691322349, 0.004336380779129729, 0.004425564670299137, 0.004516229663408144, 0.004608360804196469, 0.004701940840512715, 0.004796950181955807, 0.004893366864546622, 0.0049911665207574415, 0.005090322355216213, 0.0051908051263907865, 0.005292583134544054, 0.005395622216234178, 0.005499885745616406, 0.0056053346427818685, 0.005711927389346878, 0.00581962005148132, 0.005928366310538794, 0.006038117501422547, 0.006148822658791457, 0.0062604285711785656, 0.006372879843061246, 0.006486118964887554, 0.006600086391027181, 0.006714720625578333, 0.006829958315923736, 0.006945734353890072, 0.007061981984325861, 0.007178632920872762, 0.007295617468665685, 0.007412864653657121, 0.007530302358221845, 0.007647857462659093, 0.0077654559921718274, 0.007883023268865542, 0.008000484068274102, 0.008117762779885967, 0.008234783571112972, 0.008351470554113893, 0.008467747954858166, 0.008583540283790778, 0.008698772507437745, 0.008813370220273734, 0.008927259816157922, 0.009040368658633465, 0.009152625249378018, 0.009263959394088962, 0.009374302365087742, 0.009483587059931546, 0.009591748155329774, 0.009698722255675037, 0.009804448035515903, 0.009908866375320078, 0.010011920489901528, 0.01011355604891589, 0.010213721288861138, 0.010312367116058896, 0.0104094472001327, 0.01050491805754464, 0.010598739124799634, 0.010690872820978432, 0.010781284599313804, 0.01086994298758109, 0.010956819617132846, 0.0110418892404676, 0.011125129737284224, 0.011206522109036362, 0.011286050462064316, 0.011363701979445187, 0.01143946688176546, 0.011513338377081772, 0.011585312600398006, 0.011655388543045002, 0.011723567972407999, 0.01178985534250132, 0.011854257695942016, 0.011916784557923558, 0.011977447822835592, 0.012036261634217352, 0.0120932422587692, 0.012148407955178957, 0.012201778838547355, 0.012253376741219414, 0.012303225070844933, 0.012351348666503103, 0.012397773653732319, 0.012442527299305714, 0.012485637866587743, 0.012527134472295764, 0.01256704694547306, 0.012605405689457574, 0.012642241547601692, 0.01267758567346594, 0.012711469406169865, 0.01274392415154062, 0.012774981269651736, 0.012804671969292736, 0.01283302720985379, 0.01286007761105123, 0.012885853370857177, 0.012910384191931624, 0.012933699216789494, 0.012955826971865961, 0.01297679532057547, 0.0129966314253893, 0.01301536171888772, 0.013033011883673517, 0.01304960684096647, 0.013065170747632067, 0.013079727001334125, 0.013093298253439679, 0.0131059064292473, 0.01311757275505511, 0.013128317791535046, 0.01313816147283411, 0.013147123150783027, 0.013155221643556468, 0.013162475288099336, 0.013168901995609423, 0.013174519309347413, 0.013179344464033942, 0.013183394446086155, 0.013186686053946508, 0.013189235957763171, 0.013191060757692831, 0.01319217704011602, 0.013192601431078421, 0.01319235064630282, 0.013191441537150595, 0.013189891131953433, 0.013187716672180428, 0.013184935642957054, 0.01318156579750485, 0.013177625175129742, 0.01317313211244738, 0.013168105247596503, 0.013162563517257836, 0.01315652614636295, 0.013150012630444989, 0.01314304271065236, 0.013135636341514866, 0.013127813651618796, 0.013119594897415073, 0.013111000410448156, 0.01310205053835618, 0.013092765580052484, 0.013083165715554176, 0.013073270930976169, 0.013063100939256828, 0.013052675097224896, 0.01304201231965553, 0.013031130990996294, 0.013020048875471748, 0.01300878302629609, 0.012997349694739733, 0.012985764239804255, 0.012974041039264193, 0.01296219340283071, 0.012950233488182665, 0.012938172220596171, 0.01292601921688122, 0.012913782714307943, 0.01290146950517138, 0.012889084877606025, 0.01287663256321842, 0.01286411469205815, 0.01285153175539527, 0.0128388825767175, 0.0128261642912998, 0.012813372334638433, 0.012800500439975836, 0.01278754064507731, 0.01277448330835224, 0.012761317134344759, 0.012748029208549378, 0.01273460504143949, 0.012721028621528763, 0.012707282477219448, 0.012693347747127442, 0.012679204258512348, 0.012664830613381457, 0.012650204281781348, 0.012635301701738972, 0.012620098385266131, 0.012604569029798134, 0.012588687634399374, 0.012572427620034481, 0.012555761953176314, 0.012538663271998927, 0.012521104014387248, 0.012503056546982949, 0.012484493294481864, 0.012465386868396877, 0.012445710194507307, 0.012425436638226789, 0.01240454012713868, 0.012382995269970179, 0.012360777471303683, 0.01233786304135625, 0.012314229300194348, 0.012289854675791915, 0.01226471879538499, 0.012238802569623466, 0.012212088269072722, 0.012184559592671057, 0.012156201727805389, 0.01212700140172571, 0.012096946924077636, 0.012066028220393207, 0.012034236856440134, 0.012001566053390637, 0.011968010693831212, 0.011933567318693817, 0.011898234115247026, 0.011862010896342015, 0.011824899071162888, 0.011786901607781744, 0.011748022987869311, 0.011708269153956901, 0.011667647449688765, 0.011626166553543146, 0.01158383640653531, 0.011540668134447925, 0.011496673965160891, 0.011451867141676394, 0.011406261831453622, 0.01135987303268205, 0.011312716478132697, 0.011264808537232458, 0.01121616611700791, 0.011166806562543425, 0.011116747557590307, 0.011066007025954326, 0.011014603034273799, 0.010962553696782684, 0.010909877082631384, 0.010856591126313648, 0.010802713541719687, 0.010748261740306124, 0.010693252753839321, 0.010637703162134797, 0.010581629026177415, 0.010525045826969037, 0.010467968410409811, 0.01041041093847841, 0.010352386846934448, 0.010293908809723824, 0.01023498871022464, 0.01017563761942919, 0.010115865781114135, 0.010055682604009315, 0.009995096660934207, 0.009934115694830409, 0.009872746631579147, 0.009810995599454838, 0.009748867955029342, 0.009686368315306039, 0.009623500595830732, 0.009560268054494109, 0.009496673340712485, 0.009432718549645655, 0.009368405281086662, 0.009303734702635484, 0.0092387076167488, 0.00917332453124026, 0.00910758573279069, 0.009041491363014692, 0.008975041496620035, 0.008908236221188297, 0.008841075718100135, 0.008773560344125011, 0.008705690713195467, 0.008637467777886954, 0.00856889291012881, 0.008499967980678046, 0.008430695436895829, 0.008361078378377304, 0.008291120629997492, 0.008220826811950696, 0.008150202406376705, 0.008079253820185147, 0.00800798844370878, 0.00793641470483762, 0.007864542118308053, 0.007792381329845179, 0.0077199441548812045, 0.007647243611599141, 0.0075742939480777744, 0.007501110663342142, 0.007427710522152035, 0.007354111563390722, 0.007280333101945556, 0.007206395724002823, 0.007132321275708969, 0.007058132845181975, 0.0069838547378864285, 0.006909512445417123, 0.006835132607766188, 0.006760742969178931, 0.006686372327733231, 0.0066120504788066345, 0.006537808152623574, 0.006463676946102994, 0.006389689249253447, 0.006315878166388485, 0.006242277432460081, 0.00616892132483093, 0.006095844570829221, 0.006023082251449754, 0.005950669701584866, 0.005878642407186231, 0.005807035899774746, 0.0057358856487298, 0.005665226951802029, 0.005595094824303999, 0.005525523887442132, 0.005456548256259816, 0.005388201427666427, 0.005320516169029522, 0.0052535244078081925, 0.005187257122703884, 0.005121744236801645, 0.005057014513168678, 0.004993095453369755, 0.004930013199348896, 0.004867792439114913, 0.004806456316654762, 0.004746026346482576, 0.0046865223332148796, 0.004627962296542769, 0.004570362401950886, 0.0045137368975098876, 0.004458098057045044, 0.0044034561299574095, 0.004349819297947106, 0.0042971936388596635, 0.004245583097846922, 0.0041949894660035176, 0.004145412366608574, 0.004096849249070328, 0.004049295390638771, 0.004002743905918308, 0.003957185764179477, 0.003912609814435113, 0.0038690028182132834, 0.0038263494899261636, 0.00378463254470128, 0.00374383275350934, 0.003703929005391429, 0.0036648983765574586, 0.0036267162060981263, 0.003589356178023886, 0.003552790409317089, 0.003516989543657315, 0.003481922850455393, 0.0034475583288087037, 0.0034138628159690737, 0.0033808020998952596, 0.0033483410354444684, 0.003316443663742078, 0.0032850733342551235, 0.0032541928290841966, 0.0032237644889791537, 0.0031937503405774365, 0.003164112224359337, 0.0031348119228123586, 0.003105811288296987, 0.0030770723701088023, 0.00304855754023646, 0.003020229617322399, 0.0029920519883422187, 0.0029639887275304485, 0.002936004712093873, 0.0029080657342695137, 0.002880138609301967, 0.0028521912789345304, 0.002824192910029923, 0.002796113987959565, 0.0027679264044250702, 0.002739603539401756, 0.0027111203369214205, 0.0026824533744402744, 0.0026535809255675328, 0.0026244830159607357, 0.002595141472225046, 0.0025655399636856065, 0.0025356640369341493, 0.002505501143083526, 0.0024750406576962286, 0.002444273893385344, 0.002413194105118482, 0.0023817964882868886, 0.002350078169632982, 0.002318038191159885, 0.002285677487176048, 0.0022529988546562815, 0.0022200069171278945, 0.002186708082316483, 0.002153110493810398, 0.0021192239770258226, 0.0020850599797758475, 0.0020506315077663184, 0.002015953055358995, 0.0019810405319585947], \"yaxis\": \"y\"}, {\"legendgroup\": \"Defense\", \"marker\": {\"color\": \"rgb(255, 127, 14)\"}, \"mode\": \"lines\", \"name\": \"Defense\", \"showlegend\": false, \"type\": \"scatter\", \"x\": [5.0, 5.35, 5.7, 6.05, 6.4, 6.75, 7.1, 7.45, 7.8, 8.15, 8.5, 8.85, 9.2, 9.55, 9.9, 10.25, 10.6, 10.95, 11.3, 11.65, 12.0, 12.35, 12.7, 13.05, 13.4, 13.75, 14.1, 14.45, 14.8, 15.15, 15.5, 15.85, 16.2, 16.55, 16.9, 17.25, 17.6, 17.95, 18.3, 18.65, 19.0, 19.35, 19.7, 20.05, 20.4, 20.75, 21.1, 21.45, 21.8, 22.15, 22.5, 22.85, 23.2, 23.55, 23.9, 24.25, 24.6, 24.95, 25.3, 25.65, 26.0, 26.35, 26.7, 27.05, 27.4, 27.75, 28.1, 28.45, 28.8, 29.15, 29.5, 29.85, 30.2, 30.55, 30.9, 31.25, 31.6, 31.95, 32.3, 32.65, 33.0, 33.35, 33.7, 34.05, 34.4, 34.75, 35.1, 35.45, 35.8, 36.15, 36.5, 36.85, 37.2, 37.55, 37.9, 38.25, 38.6, 38.95, 39.3, 39.65, 40.0, 40.35, 40.7, 41.05, 41.4, 41.75, 42.1, 42.45, 42.8, 43.15, 43.5, 43.85, 44.2, 44.55, 44.9, 45.25, 45.6, 45.95, 46.3, 46.65, 47.0, 47.35, 47.7, 48.05, 48.4, 48.75, 49.1, 49.45, 49.8, 50.15, 50.5, 50.85, 51.2, 51.55, 51.9, 52.25, 52.6, 52.95, 53.3, 53.65, 54.0, 54.35, 54.7, 55.05, 55.4, 55.75, 56.1, 56.45, 56.8, 57.15, 57.5, 57.85, 58.2, 58.55, 58.9, 59.25, 59.6, 59.95, 60.3, 60.65, 61.0, 61.35, 61.7, 62.05, 62.4, 62.75, 63.1, 63.45, 63.8, 64.15, 64.5, 64.85, 65.2, 65.55, 65.9, 66.25, 66.6, 66.95, 67.3, 67.65, 68.0, 68.35, 68.7, 69.05, 69.4, 69.75, 70.1, 70.45, 70.8, 71.15, 71.5, 71.85, 72.2, 72.55, 72.9, 73.25, 73.6, 73.95, 74.3, 74.65, 75.0, 75.35, 75.7, 76.05, 76.4, 76.75, 77.1, 77.45, 77.8, 78.15, 78.5, 78.85, 79.2, 79.55, 79.9, 80.25, 80.6, 80.95, 81.3, 81.65, 82.0, 82.35, 82.7, 83.05, 83.4, 83.75, 84.1, 84.45, 84.8, 85.15, 85.5, 85.85, 86.2, 86.55, 86.9, 87.25, 87.6, 87.95, 88.3, 88.65, 89.0, 89.35, 89.7, 90.05, 90.4, 90.75, 91.1, 91.45, 91.8, 92.15, 92.5, 92.85, 93.2, 93.55, 93.9, 94.25, 94.6, 94.95, 95.3, 95.65, 96.0, 96.35, 96.7, 97.05, 97.4, 97.75, 98.1, 98.45, 98.8, 99.15, 99.5, 99.85, 100.2, 100.55, 100.9, 101.25, 101.6, 101.95, 102.3, 102.65, 103.0, 103.35, 103.7, 104.05, 104.4, 104.75, 105.1, 105.45, 105.8, 106.15, 106.5, 106.85, 107.2, 107.55, 107.9, 108.25, 108.6, 108.95, 109.3, 109.65, 110.0, 110.35, 110.7, 111.05, 111.4, 111.75, 112.1, 112.45, 112.8, 113.15, 113.5, 113.85, 114.2, 114.55, 114.9, 115.25, 115.6, 115.95, 116.3, 116.65, 117.0, 117.35, 117.7, 118.05, 118.4, 118.75, 119.1, 119.45, 119.8, 120.15, 120.5, 120.85, 121.2, 121.55, 121.9, 122.25, 122.6, 122.95, 123.3, 123.65, 124.0, 124.35, 124.7, 125.05, 125.4, 125.75, 126.1, 126.45, 126.8, 127.15, 127.5, 127.85, 128.2, 128.55, 128.9, 129.25, 129.6, 129.95, 130.3, 130.65, 131.0, 131.35, 131.7, 132.05, 132.4, 132.75, 133.1, 133.45, 133.8, 134.15, 134.5, 134.85, 135.2, 135.55, 135.9, 136.25, 136.6, 136.95, 137.3, 137.65, 138.0, 138.35, 138.7, 139.05, 139.4, 139.75, 140.1, 140.45, 140.8, 141.15, 141.5, 141.85, 142.2, 142.55, 142.9, 143.25, 143.6, 143.95, 144.3, 144.65, 145.0, 145.35, 145.7, 146.05, 146.4, 146.75, 147.1, 147.45, 147.8, 148.15, 148.5, 148.85, 149.2, 149.55, 149.9, 150.25, 150.6, 150.95, 151.3, 151.65, 152.0, 152.35, 152.7, 153.05, 153.4, 153.75, 154.1, 154.45, 154.8, 155.15, 155.5, 155.85, 156.2, 156.55, 156.9, 157.25, 157.6, 157.95, 158.3, 158.65, 159.0, 159.35, 159.7, 160.05, 160.4, 160.75, 161.1, 161.45, 161.8, 162.15, 162.5, 162.85, 163.2, 163.55, 163.9, 164.25, 164.6, 164.95, 165.3, 165.65, 166.0, 166.35, 166.7, 167.05, 167.4, 167.75, 168.1, 168.45, 168.8, 169.15, 169.5, 169.85, 170.2, 170.55, 170.9, 171.25, 171.6, 171.95, 172.3, 172.65, 173.0, 173.35, 173.7, 174.05, 174.4, 174.75, 175.1, 175.45, 175.8, 176.15, 176.5, 176.85, 177.2, 177.55, 177.9, 178.25, 178.6, 178.95, 179.3, 179.65], \"xaxis\": \"x\", \"y\": [0.0006148598299827798, 0.000634566200411729, 0.0006548175729478218, 0.0006756434969390367, 0.0006970754824730607, 0.0007191470142822072, 0.0007418935571003086, 0.0007653525520773098, 0.0007895634038796418, 0.000814567458129066, 0.0008404079688599937, 0.0008671300557051931, 0.0008947806505530134, 0.000923408433455591, 0.000953063757607577, 0.000983798563258751, 0.0010156662804717863, 0.001048721720688504, 0.0010830209571244232, 0.0011186211940721444, 0.0011555806252593844, 0.0011939582814768205, 0.001233813867764491, 0.0012752075905227815, 0.0013181999749947292, 0.00136285167364993, 0.0014092232660862405, 0.0014573750511527787, 0.0015073668320858913, 0.0015592576955375753, 0.001613105785462461, 0.0016689680729136845, 0.0017269001228786063, 0.0017869558593612085, 0.0018491873299877764, 0.0019136444714747496, 0.001980374877351429, 0.002049423569373861, 0.002120832774098861, 0.0021946417061072462, 0.0022708863593723892, 0.0023495993082626246, 0.002430809519643632, 0.0025145421775087046, 0.002600818521510556, 0.002689655700697674, 0.002781066643671367, 0.002875059946276627, 0.002971639777821323, 0.003070805806684906, 0.0031725531460303625, 0.0032768723201733333, 0.003383749251990897, 0.0034931652715723387, 0.003605097146125242, 0.0037195171309573464, 0.0038363930411565205, 0.0039556883433943145, 0.004077362267081333, 0.004201369933910969, 0.004327662504642227, 0.004456187341796668, 0.00458688818677945, 0.0047197053497851785, 0.0048545759107151525, 0.004991433929218323, 0.00513021066187378, 0.0052708347844613685, 0.005413232617218534, 0.005557328350958929, 0.005703044271930662, 0.005850300983320909, 0.005999017621368619, 0.00614911206412769, 0.00630050113102953, 0.006453100771523491, 0.006606826241227409, 0.006761592264194097, 0.006917313180092843, 0.007073903075314373, 0.0072312758972311285, 0.00738934555107949, 0.007548025979172197, 0.007707231222396716, 0.007866875464203291, 0.008026873057532692, 0.008187138535374266, 0.008347586605876603, 0.008508132133153318, 0.008668690105130463, 0.008829175589968957, 0.008989503682761012, 0.009149589444342111, 0.009309347834177579, 0.009468693639373702, 0.00962754140192486, 0.009785805346342678, 0.009943399309816092, 0.010100236677025143, 0.010256230321677271, 0.0104112925567495, 0.010565335095310002, 0.010718269023655353, 0.010870004788338513, 0.011020452198481223, 0.011169520444562193, 0.01131711813465599, 0.011463153348866197, 0.01160753371245624, 0.01175016648793456, 0.011890958686099776, 0.012029817195802366, 0.012166648931932629, 0.012301361000905169, 0.012433860882681195, 0.012564056628152902, 0.012691857070514768, 0.012817172049063347, 0.01293991264370575, 0.01305999141831824, 0.013177322670979682, 0.013291822689015019, 0.013403410006719055, 0.013512005663591748, 0.013617533460904618, 0.013719920214430355, 0.013819096001207589, 0.013914994398273336, 0.014007552711382876, 0.014096712191841054, 0.014182418239694879, 0.014264620591678828, 0.01434327349246099, 0.014418335847905207, 0.014489771359243791, 0.014557548637238366, 0.014621641295595915, 0.014682028023097357, 0.014738692634084716, 0.014791624097139864, 0.01484081654196784, 0.014886269244670857, 0.014927986591762596, 0.014965978023425672, 0.015000257956654403, 0.015030845689053225, 0.015057765284173377, 0.015081045439369039, 0.015100719337238097, 0.01511682448178122, 0.015129402520468366, 0.015138499053441482, 0.0151441634311124, 0.01514644854142809, 0.015145410588083571, 0.015141108860955915, 0.015133605500022166, 0.015122965254003253, 0.015109255234952074, 0.0150925446699744, 0.015072904651240459, 0.015050407885411116, 0.015025128443570153, 0.014997141512720205, 0.014966523149869284, 0.014933350039704344, 0.014897699256820848, 0.01485964803345275, 0.014819273533622888, 0.014776652634614163, 0.01473186171664069, 0.014684976461579586, 0.014636071661604487, 0.014585221038540774, 0.014532497074739598, 0.014477970856239985, 0.014421711928957205, 0.014363788168596237, 0.014304265664944193, 0.014243208621140016, 0.014180679268456507, 0.014116737797054054, 0.014051442303080086, 0.013984848752390389, 0.013917010961059056, 0.01384798059272381, 0.013777807172680371, 0.013706538118498928, 0.013634218786783801, 0.01356089253553949, 0.013486600801441335, 0.013411383191142047, 0.013335277585575366, 0.013258320256050631, 0.013180545990769033, 0.01310198823023481, 0.013022679209889058, 0.012942650108160737, 0.012861931198012468, 0.01278055199996112, 0.012698541434477996, 0.012615927971621914, 0.012532739775735206, 0.012449004843036062, 0.012364751129977031, 0.012280006670304542, 0.012194799678853362, 0.01210915864023968, 0.012023112380778642, 0.011936690122143594, 0.011849921515506394, 0.011762836655144038, 0.011675466070770002, 0.011587840698139123, 0.011499991827784512, 0.011411951032066173, 0.011323750071040589, 0.01123542077799382, 0.011146994925811558, 0.01105850407568408, 0.010969979409956622, 0.010881451551230164, 0.010792950370090268, 0.010704504784087078, 0.01061614255080253, 0.010527890058018477, 0.010439772114137179, 0.010351811742100007, 0.010264029980100245, 0.010176445692387202, 0.010089075393413704, 0.0100019330884825, 0.009915030133904918, 0.009828375119492793, 0.009741973775969096, 0.009655828909602652, 0.009569940366053707, 0.009484305025062357, 0.00939891682722674, 0.009313766833706607, 0.009228843319256901, 0.009144131898550721, 0.009059615685298637, 0.008975275483216699, 0.008891090007447828, 0.008807036134604406, 0.00872308917918225, 0.008639223193703171, 0.008555411289581316, 0.008471625975382289, 0.008387839508860101, 0.008304024258917542, 0.008220153073446994, 0.008136199648871804, 0.008052138897126483, 0.007967947305789142, 0.007883603287110628, 0.007799087511773918, 0.00771438322336133, 0.00762947652970557, 0.007544356667550334, 0.007459016237243954, 0.007373451404530926, 0.0072876620668874, 0.007201651982261066, 0.007115428858519324, 0.007029004402374454, 0.006942394327035787, 0.006855618318328659, 0.006768699959512738, 0.006681666615520404, 0.006594549277813869, 0.006507382371519969, 0.0064202035269389675, 0.006333053317932423, 0.006245974970069644, 0.006159014041748116, 0.006072218081796572, 0.005985636267316166, 0.0058993190257135624, 0.005813317645026948, 0.005727683876741022, 0.00564246953532967, 0.005557726098755103, 0.005473504314090644, 0.005389853812323575, 0.005306822736235317, 0.005224457385053209, 0.005142801879323674, 0.005061897849174937, 0.004981784148823255, 0.004902496599834249, 0.004824067765285636, 0.004746526756594747, 0.004669899074378464, 0.004594206484311026, 0.00451946692854056, 0.004445694472824724, 0.004372899289153115, 0.004301087673245519, 0.004230262095953233, 0.004160421287251266, 0.004091560351194863, 0.00402367090992805, 0.003956741274577337, 0.003890756640642828, 0.003825699305312635, 0.0037615489039771505, 0.0036982826631061193, 0.003635875666575774, 0.0035743011324931577, 0.003513530697560582, 0.0034535347060531277, 0.003394282500544153, 0.003335742711606588, 0.003277883543837912, 0.003220673055702448, 0.003164079430852137, 0.0031080712387739234, 0.00305261768281431, 0.0029976888338473094, 0.00294325584807617, 0.002889291167690242, 0.002835768703331653, 0.002782663997559909, 0.002729954368732685, 0.002677619034945605, 0.002625639217889955, 0.00257399822669303, 0.0025226815219990166, 0.0024716767607274076, 0.0024209738221096064, 0.0023705648157512234, 0.0023204440725971063, 0.002270608119787716, 0.002221055640488761, 0.0021717874198512203, 0.002122806278316162, 0.0020741169935186202, 0.0020257262120680175, 0.0019776423524900397, 0.0019298755006074266, 0.0018824372986163927, 0.0018353408290820014, 0.0017886004950317756, 0.0017422318972732107, 0.0016962517099989552, 0.0016506775556752546, 0.0016055278801354552, 0.0015608218287229282, 0.0015165791242479014, 0.0014728199474411785, 0.0014295648205064143, 0.0013868344942920734, 0.001344649839525455, 0.0013030317424752363, 0.0012620010053364446, 0.00122157825156308, 0.0011817838363097056, 0.001142637762083918, 0.0011041595996576351, 0.0010663684142362892, 0.0010292826968414524, 0.0009929203008243852, 0.0009572983833949335, 0.00092243335202241, 0.0008883408155420909, 0.0008550355397824663, 0.0008225314075143135, 0.0007908413825125738, 0.0007599774775154184, 0.0007299507258618996, 0.0007007711565893234, 0.0006724477727740062, 0.0006449885329040253, 0.0006184003350793705, 0.0005926890038437705, 0.0005678592794626452, 0.00054391480947324, 0.0005208581423457584, 0.0004986907231078875, 0.0004774128907996303, 0.0004570238776404277, 0.0004375218098061864, 0.00041890370972990374, 0.00040116549985593663, 0.00038430200779461824, 0.00036830697284058895, 0.0003531730538350401, 0.0003388918383686771, 0.0003254538533387178, 0.0003128485768893701, 0.0003010644517808446, 0.0002900889002470003, 0.0002799083404158442, 0.00027050820438027917, 0.00026187295801839797, 0.00025398612267306625, 0.00024683029880933515, 0.00024038719177507694, 0.00023463763979492708, 0.0002295616443299994, 0.00022513840293552164, 0.00022134634474550312, 0.00021816316870749042, 0.00021556588468127426, 0.00021353085750297756, 0.00021203385410018119, 0.00021105009372458425, 0.00021055430134621432, 0.00021052076422739744, 0.0002109233916657648, 0.00021173577786362012, 0.00021293126784635217, 0.00021448302631545425, 0.0002163641092825605, 0.00021854753829007861, 0.00022100637698200376, 0.0002237138097458413, 0.00022664322210381283, 0.00022976828248927932, 0.00023306302500319219, 0.00023650193270607017, 0.00024006002096408732, 0.00024371292033407846, 0.00024743695844220404, 0.0002512092402853375, 0.0002550077263635224, 0.0002588113080366289, 0.000262599879489164, 0.0002663544056844387, 0.00027005698569336397, 0.00027369091079433545, 0.00027724071675910194, 0.00028069222976539906, 0.00028403260541037833, 0.00028725036033941154, 0.0002903353960525379, 0.0002932790145052578, 0.0002960739251812283, 0.00029871424338113534, 0.00030119547954401147, 0.00030351451949383197, 0.00030566959558460844, 0.0003076602488005177, 0.00030948728195297887, 0.0003111527042030312, 0.0003126596672238989, 0.00031401239340418495, 0.0003152160965757137, 0.0003162768958305737, 0.00031720172306837923, 0.00031799822498618924, 0.000318674660288931, 0.0003192397929566755, 0.00031970278245590887, 0.0003200730718242708, 0.00032036027459144106, 0.00032057406152244514, 0.0003207240481831455, 0.00032081968433079333, 0.0003208701461250818, 0.00032088423213704685, 0.00032087026410454586, 0.00032083599334407974, 0.0003207885136797452, 0.0003207341816915829, 0.00032067854501809995, 0.0003206262793720214, 0.00032058113484507164, 0.0003205458919878561, 0.0003205223280555293, 0.0003205111937100768, 0.0003205122003667476, 0.000320524018266662, 0.0003205442852510294, 0.00032056962610601186, 0.0003205956822421926, 0.0003206171513701416, 0.00032062783673477004, 0.00032062070537724113, 0.00032058795480513995, 0.00032052108737044827, 0.00032041099158145467, 0.00032024802950991716, 0.00032002212939922863, 0.00031972288253363904, 0.0003193396433931918, 0.0003188616320942783, 0.0003182780381017913, 0.00031757812419588193, 0.0003167513296841424, 0.00031578737186857157, 0.0003146763448054934, 0.00031340881443535774, 0.00031197590920740536, 0.000310369405380949, 0.0003085818062496782, 0.00030660641460714464, 0.00030443739784948167], \"yaxis\": \"y\"}, {\"legendgroup\": \"Attack\", \"marker\": {\"color\": \"rgb(31, 119, 180)\", \"symbol\": \"line-ns-open\"}, \"mode\": \"markers\", \"name\": \"Attack\", \"showlegend\": false, \"type\": \"scatter\", \"x\": [49, 62, 82, 52, 64, 84, 48, 63, 83, 30, 20, 45, 35, 25, 90, 45, 60, 80, 56, 81, 60, 90, 60, 85, 55, 90, 75, 100, 47, 62, 92, 57, 72, 102, 45, 70, 41, 76, 45, 70, 45, 80, 50, 65, 80, 70, 95, 55, 65, 55, 80, 45, 70, 52, 82, 80, 105, 70, 110, 50, 65, 95, 20, 35, 50, 80, 100, 130, 75, 90, 105, 40, 70, 80, 95, 120, 85, 100, 65, 75, 35, 60, 65, 85, 110, 45, 70, 80, 105, 65, 95, 35, 50, 65, 45, 48, 73, 105, 130, 30, 50, 40, 95, 50, 80, 120, 105, 55, 65, 90, 85, 130, 5, 55, 95, 40, 65, 67, 92, 45, 75, 45, 110, 50, 83, 95, 125, 100, 10, 125, 85, 48, 55, 65, 65, 130, 60, 40, 60, 80, 115, 105, 110, 85, 90, 100, 64, 84, 134, 110, 100], \"xaxis\": \"x\", \"y\": [\"Attack\", \"Attack\", \"Attack\", \"Attack\", \"Attack\", \"Attack\", \"Attack\", \"Attack\", \"Attack\", \"Attack\", \"Attack\", \"Attack\", \"Attack\", \"Attack\", \"Attack\", \"Attack\", \"Attack\", \"Attack\", \"Attack\", \"Attack\", \"Attack\", \"Attack\", \"Attack\", \"Attack\", \"Attack\", \"Attack\", \"Attack\", \"Attack\", \"Attack\", \"Attack\", \"Attack\", \"Attack\", \"Attack\", \"Attack\", \"Attack\", \"Attack\", \"Attack\", \"Attack\", \"Attack\", \"Attack\", \"Attack\", \"Attack\", \"Attack\", \"Attack\", \"Attack\", \"Attack\", \"Attack\", \"Attack\", \"Attack\", \"Attack\", \"Attack\", \"Attack\", \"Attack\", \"Attack\", \"Attack\", \"Attack\", \"Attack\", \"Attack\", \"Attack\", \"Attack\", \"Attack\", \"Attack\", \"Attack\", \"Attack\", \"Attack\", \"Attack\", \"Attack\", \"Attack\", \"Attack\", \"Attack\", \"Attack\", \"Attack\", \"Attack\", \"Attack\", \"Attack\", \"Attack\", \"Attack\", \"Attack\", \"Attack\", \"Attack\", \"Attack\", \"Attack\", \"Attack\", \"Attack\", \"Attack\", \"Attack\", \"Attack\", \"Attack\", \"Attack\", \"Attack\", \"Attack\", \"Attack\", \"Attack\", \"Attack\", \"Attack\", \"Attack\", \"Attack\", \"Attack\", \"Attack\", \"Attack\", \"Attack\", \"Attack\", \"Attack\", \"Attack\", \"Attack\", \"Attack\", \"Attack\", \"Attack\", \"Attack\", \"Attack\", \"Attack\", \"Attack\", \"Attack\", \"Attack\", \"Attack\", \"Attack\", \"Attack\", \"Attack\", \"Attack\", \"Attack\", \"Attack\", \"Attack\", \"Attack\", \"Attack\", \"Attack\", \"Attack\", \"Attack\", \"Attack\", \"Attack\", \"Attack\", \"Attack\", \"Attack\", \"Attack\", \"Attack\", \"Attack\", \"Attack\", \"Attack\", \"Attack\", \"Attack\", \"Attack\", \"Attack\", \"Attack\", \"Attack\", \"Attack\", \"Attack\", \"Attack\", \"Attack\", \"Attack\", \"Attack\", \"Attack\", \"Attack\"], \"yaxis\": \"y2\"}, {\"legendgroup\": \"Defense\", \"marker\": {\"color\": \"rgb(255, 127, 14)\", \"symbol\": \"line-ns-open\"}, \"mode\": \"markers\", \"name\": \"Defense\", \"showlegend\": false, \"type\": \"scatter\", \"x\": [49, 63, 83, 43, 58, 78, 65, 80, 100, 35, 55, 50, 30, 50, 40, 40, 55, 75, 35, 60, 30, 65, 44, 69, 40, 55, 85, 110, 52, 67, 87, 40, 57, 77, 48, 73, 40, 75, 20, 45, 35, 70, 55, 70, 85, 55, 80, 50, 60, 25, 50, 35, 60, 48, 78, 35, 60, 45, 80, 40, 65, 95, 15, 30, 45, 50, 70, 80, 35, 50, 65, 35, 65, 100, 115, 130, 55, 70, 65, 110, 70, 95, 55, 45, 70, 55, 80, 50, 75, 100, 180, 30, 45, 60, 160, 45, 70, 90, 115, 50, 70, 80, 85, 95, 110, 53, 79, 75, 95, 120, 95, 120, 5, 115, 80, 70, 95, 60, 65, 55, 85, 65, 80, 35, 57, 57, 100, 95, 55, 79, 80, 48, 50, 60, 60, 60, 70, 100, 125, 90, 105, 65, 65, 100, 85, 90, 45, 65, 95, 90, 100], \"xaxis\": \"x\", \"y\": [\"Defense\", \"Defense\", \"Defense\", \"Defense\", \"Defense\", \"Defense\", \"Defense\", \"Defense\", \"Defense\", \"Defense\", \"Defense\", \"Defense\", \"Defense\", \"Defense\", \"Defense\", \"Defense\", \"Defense\", \"Defense\", \"Defense\", \"Defense\", \"Defense\", \"Defense\", \"Defense\", \"Defense\", \"Defense\", \"Defense\", \"Defense\", \"Defense\", \"Defense\", \"Defense\", \"Defense\", \"Defense\", \"Defense\", \"Defense\", \"Defense\", \"Defense\", \"Defense\", \"Defense\", \"Defense\", \"Defense\", \"Defense\", \"Defense\", \"Defense\", \"Defense\", \"Defense\", \"Defense\", \"Defense\", \"Defense\", \"Defense\", \"Defense\", \"Defense\", \"Defense\", \"Defense\", \"Defense\", \"Defense\", \"Defense\", \"Defense\", \"Defense\", \"Defense\", \"Defense\", \"Defense\", \"Defense\", \"Defense\", \"Defense\", \"Defense\", \"Defense\", \"Defense\", \"Defense\", \"Defense\", \"Defense\", \"Defense\", \"Defense\", \"Defense\", \"Defense\", \"Defense\", \"Defense\", \"Defense\", \"Defense\", \"Defense\", \"Defense\", \"Defense\", \"Defense\", \"Defense\", \"Defense\", \"Defense\", \"Defense\", \"Defense\", \"Defense\", \"Defense\", \"Defense\", \"Defense\", \"Defense\", \"Defense\", \"Defense\", \"Defense\", \"Defense\", \"Defense\", \"Defense\", \"Defense\", \"Defense\", \"Defense\", \"Defense\", \"Defense\", \"Defense\", \"Defense\", \"Defense\", \"Defense\", \"Defense\", \"Defense\", \"Defense\", \"Defense\", \"Defense\", \"Defense\", \"Defense\", \"Defense\", \"Defense\", \"Defense\", \"Defense\", \"Defense\", \"Defense\", \"Defense\", \"Defense\", \"Defense\", \"Defense\", \"Defense\", \"Defense\", \"Defense\", \"Defense\", \"Defense\", \"Defense\", \"Defense\", \"Defense\", \"Defense\", \"Defense\", \"Defense\", \"Defense\", \"Defense\", \"Defense\", \"Defense\", \"Defense\", \"Defense\", \"Defense\", \"Defense\", \"Defense\", \"Defense\", \"Defense\", \"Defense\", \"Defense\", \"Defense\", \"Defense\", \"Defense\"], \"yaxis\": \"y2\"}],\n",
       "                        {\"barmode\": \"overlay\", \"hovermode\": \"closest\", \"legend\": {\"traceorder\": \"reversed\"}, \"template\": {\"data\": {\"bar\": [{\"error_x\": {\"color\": \"#2a3f5f\"}, \"error_y\": {\"color\": \"#2a3f5f\"}, \"marker\": {\"line\": {\"color\": \"#E5ECF6\", \"width\": 0.5}}, \"type\": \"bar\"}], \"barpolar\": [{\"marker\": {\"line\": {\"color\": \"#E5ECF6\", \"width\": 0.5}}, \"type\": \"barpolar\"}], \"carpet\": [{\"aaxis\": {\"endlinecolor\": \"#2a3f5f\", \"gridcolor\": \"white\", \"linecolor\": \"white\", \"minorgridcolor\": \"white\", \"startlinecolor\": \"#2a3f5f\"}, \"baxis\": {\"endlinecolor\": \"#2a3f5f\", \"gridcolor\": \"white\", \"linecolor\": \"white\", \"minorgridcolor\": \"white\", \"startlinecolor\": \"#2a3f5f\"}, \"type\": \"carpet\"}], \"choropleth\": [{\"colorbar\": {\"outlinewidth\": 0, \"ticks\": \"\"}, \"type\": \"choropleth\"}], \"contour\": [{\"colorbar\": {\"outlinewidth\": 0, \"ticks\": \"\"}, \"colorscale\": [[0.0, \"#0d0887\"], [0.1111111111111111, \"#46039f\"], [0.2222222222222222, \"#7201a8\"], [0.3333333333333333, \"#9c179e\"], [0.4444444444444444, \"#bd3786\"], [0.5555555555555556, \"#d8576b\"], [0.6666666666666666, \"#ed7953\"], [0.7777777777777778, \"#fb9f3a\"], [0.8888888888888888, \"#fdca26\"], [1.0, \"#f0f921\"]], \"type\": \"contour\"}], \"contourcarpet\": [{\"colorbar\": {\"outlinewidth\": 0, \"ticks\": \"\"}, \"type\": \"contourcarpet\"}], \"heatmap\": [{\"colorbar\": {\"outlinewidth\": 0, \"ticks\": \"\"}, \"colorscale\": [[0.0, \"#0d0887\"], [0.1111111111111111, \"#46039f\"], [0.2222222222222222, \"#7201a8\"], [0.3333333333333333, \"#9c179e\"], [0.4444444444444444, \"#bd3786\"], [0.5555555555555556, \"#d8576b\"], [0.6666666666666666, \"#ed7953\"], [0.7777777777777778, \"#fb9f3a\"], [0.8888888888888888, \"#fdca26\"], [1.0, \"#f0f921\"]], \"type\": \"heatmap\"}], \"heatmapgl\": [{\"colorbar\": {\"outlinewidth\": 0, \"ticks\": \"\"}, \"colorscale\": [[0.0, \"#0d0887\"], [0.1111111111111111, \"#46039f\"], [0.2222222222222222, \"#7201a8\"], [0.3333333333333333, \"#9c179e\"], [0.4444444444444444, \"#bd3786\"], [0.5555555555555556, \"#d8576b\"], [0.6666666666666666, \"#ed7953\"], [0.7777777777777778, \"#fb9f3a\"], [0.8888888888888888, \"#fdca26\"], [1.0, \"#f0f921\"]], \"type\": \"heatmapgl\"}], \"histogram\": [{\"marker\": {\"colorbar\": {\"outlinewidth\": 0, \"ticks\": \"\"}}, \"type\": \"histogram\"}], \"histogram2d\": [{\"colorbar\": {\"outlinewidth\": 0, \"ticks\": \"\"}, \"colorscale\": [[0.0, \"#0d0887\"], [0.1111111111111111, \"#46039f\"], [0.2222222222222222, \"#7201a8\"], [0.3333333333333333, \"#9c179e\"], [0.4444444444444444, \"#bd3786\"], [0.5555555555555556, \"#d8576b\"], [0.6666666666666666, \"#ed7953\"], [0.7777777777777778, \"#fb9f3a\"], [0.8888888888888888, \"#fdca26\"], [1.0, \"#f0f921\"]], \"type\": \"histogram2d\"}], \"histogram2dcontour\": [{\"colorbar\": {\"outlinewidth\": 0, \"ticks\": \"\"}, \"colorscale\": [[0.0, \"#0d0887\"], [0.1111111111111111, \"#46039f\"], [0.2222222222222222, \"#7201a8\"], [0.3333333333333333, \"#9c179e\"], [0.4444444444444444, \"#bd3786\"], [0.5555555555555556, \"#d8576b\"], [0.6666666666666666, \"#ed7953\"], [0.7777777777777778, \"#fb9f3a\"], [0.8888888888888888, \"#fdca26\"], [1.0, \"#f0f921\"]], \"type\": \"histogram2dcontour\"}], \"mesh3d\": [{\"colorbar\": {\"outlinewidth\": 0, \"ticks\": \"\"}, \"type\": \"mesh3d\"}], \"parcoords\": [{\"line\": {\"colorbar\": {\"outlinewidth\": 0, \"ticks\": \"\"}}, \"type\": \"parcoords\"}], \"pie\": [{\"automargin\": true, \"type\": \"pie\"}], \"scatter\": [{\"marker\": {\"colorbar\": {\"outlinewidth\": 0, \"ticks\": \"\"}}, \"type\": \"scatter\"}], \"scatter3d\": [{\"line\": {\"colorbar\": {\"outlinewidth\": 0, \"ticks\": \"\"}}, \"marker\": {\"colorbar\": {\"outlinewidth\": 0, \"ticks\": \"\"}}, \"type\": \"scatter3d\"}], \"scattercarpet\": [{\"marker\": {\"colorbar\": {\"outlinewidth\": 0, \"ticks\": \"\"}}, \"type\": \"scattercarpet\"}], \"scattergeo\": [{\"marker\": {\"colorbar\": {\"outlinewidth\": 0, \"ticks\": \"\"}}, \"type\": \"scattergeo\"}], \"scattergl\": [{\"marker\": {\"colorbar\": {\"outlinewidth\": 0, \"ticks\": \"\"}}, \"type\": \"scattergl\"}], \"scattermapbox\": [{\"marker\": {\"colorbar\": {\"outlinewidth\": 0, \"ticks\": \"\"}}, \"type\": \"scattermapbox\"}], \"scatterpolar\": [{\"marker\": {\"colorbar\": {\"outlinewidth\": 0, \"ticks\": \"\"}}, \"type\": \"scatterpolar\"}], \"scatterpolargl\": [{\"marker\": {\"colorbar\": {\"outlinewidth\": 0, \"ticks\": \"\"}}, \"type\": \"scatterpolargl\"}], \"scatterternary\": [{\"marker\": {\"colorbar\": {\"outlinewidth\": 0, \"ticks\": \"\"}}, \"type\": \"scatterternary\"}], \"surface\": [{\"colorbar\": {\"outlinewidth\": 0, \"ticks\": \"\"}, \"colorscale\": [[0.0, \"#0d0887\"], [0.1111111111111111, \"#46039f\"], [0.2222222222222222, \"#7201a8\"], [0.3333333333333333, \"#9c179e\"], [0.4444444444444444, \"#bd3786\"], [0.5555555555555556, \"#d8576b\"], [0.6666666666666666, \"#ed7953\"], [0.7777777777777778, \"#fb9f3a\"], [0.8888888888888888, \"#fdca26\"], [1.0, \"#f0f921\"]], \"type\": \"surface\"}], \"table\": [{\"cells\": {\"fill\": {\"color\": \"#EBF0F8\"}, \"line\": {\"color\": \"white\"}}, \"header\": {\"fill\": {\"color\": \"#C8D4E3\"}, \"line\": {\"color\": \"white\"}}, \"type\": \"table\"}]}, \"layout\": {\"annotationdefaults\": {\"arrowcolor\": \"#2a3f5f\", \"arrowhead\": 0, \"arrowwidth\": 1}, \"coloraxis\": {\"colorbar\": {\"outlinewidth\": 0, \"ticks\": \"\"}}, \"colorscale\": {\"diverging\": [[0, \"#8e0152\"], [0.1, \"#c51b7d\"], [0.2, \"#de77ae\"], [0.3, \"#f1b6da\"], [0.4, \"#fde0ef\"], [0.5, \"#f7f7f7\"], [0.6, \"#e6f5d0\"], [0.7, \"#b8e186\"], [0.8, \"#7fbc41\"], [0.9, \"#4d9221\"], [1, \"#276419\"]], \"sequential\": [[0.0, \"#0d0887\"], [0.1111111111111111, \"#46039f\"], [0.2222222222222222, \"#7201a8\"], [0.3333333333333333, \"#9c179e\"], [0.4444444444444444, \"#bd3786\"], [0.5555555555555556, \"#d8576b\"], [0.6666666666666666, \"#ed7953\"], [0.7777777777777778, \"#fb9f3a\"], [0.8888888888888888, \"#fdca26\"], [1.0, \"#f0f921\"]], \"sequentialminus\": [[0.0, \"#0d0887\"], [0.1111111111111111, \"#46039f\"], [0.2222222222222222, \"#7201a8\"], [0.3333333333333333, \"#9c179e\"], [0.4444444444444444, \"#bd3786\"], [0.5555555555555556, \"#d8576b\"], [0.6666666666666666, \"#ed7953\"], [0.7777777777777778, \"#fb9f3a\"], [0.8888888888888888, \"#fdca26\"], [1.0, \"#f0f921\"]]}, \"colorway\": [\"#636efa\", \"#EF553B\", \"#00cc96\", \"#ab63fa\", \"#FFA15A\", \"#19d3f3\", \"#FF6692\", \"#B6E880\", \"#FF97FF\", \"#FECB52\"], \"font\": {\"color\": \"#2a3f5f\"}, \"geo\": {\"bgcolor\": \"white\", \"lakecolor\": \"white\", \"landcolor\": \"#E5ECF6\", \"showlakes\": true, \"showland\": true, \"subunitcolor\": \"white\"}, \"hoverlabel\": {\"align\": \"left\"}, \"hovermode\": \"closest\", \"mapbox\": {\"style\": \"light\"}, \"paper_bgcolor\": \"white\", \"plot_bgcolor\": \"#E5ECF6\", \"polar\": {\"angularaxis\": {\"gridcolor\": \"white\", \"linecolor\": \"white\", \"ticks\": \"\"}, \"bgcolor\": \"#E5ECF6\", \"radialaxis\": {\"gridcolor\": \"white\", \"linecolor\": \"white\", \"ticks\": \"\"}}, \"scene\": {\"xaxis\": {\"backgroundcolor\": \"#E5ECF6\", \"gridcolor\": \"white\", \"gridwidth\": 2, \"linecolor\": \"white\", \"showbackground\": true, \"ticks\": \"\", \"zerolinecolor\": \"white\"}, \"yaxis\": {\"backgroundcolor\": \"#E5ECF6\", \"gridcolor\": \"white\", \"gridwidth\": 2, \"linecolor\": \"white\", \"showbackground\": true, \"ticks\": \"\", \"zerolinecolor\": \"white\"}, \"zaxis\": {\"backgroundcolor\": \"#E5ECF6\", \"gridcolor\": \"white\", \"gridwidth\": 2, \"linecolor\": \"white\", \"showbackground\": true, \"ticks\": \"\", \"zerolinecolor\": \"white\"}}, \"shapedefaults\": {\"line\": {\"color\": \"#2a3f5f\"}}, \"ternary\": {\"aaxis\": {\"gridcolor\": \"white\", \"linecolor\": \"white\", \"ticks\": \"\"}, \"baxis\": {\"gridcolor\": \"white\", \"linecolor\": \"white\", \"ticks\": \"\"}, \"bgcolor\": \"#E5ECF6\", \"caxis\": {\"gridcolor\": \"white\", \"linecolor\": \"white\", \"ticks\": \"\"}}, \"title\": {\"x\": 0.05}, \"xaxis\": {\"automargin\": true, \"gridcolor\": \"white\", \"linecolor\": \"white\", \"ticks\": \"\", \"title\": {\"standoff\": 15}, \"zerolinecolor\": \"white\", \"zerolinewidth\": 2}, \"yaxis\": {\"automargin\": true, \"gridcolor\": \"white\", \"linecolor\": \"white\", \"ticks\": \"\", \"title\": {\"standoff\": 15}, \"zerolinecolor\": \"white\", \"zerolinewidth\": 2}}}, \"title\": {\"text\": \"Distribui\\u00e7\\u00e3o Attack / Defense\"}, \"xaxis\": {\"anchor\": \"y2\", \"domain\": [0.0, 1.0], \"zeroline\": false}, \"yaxis\": {\"anchor\": \"free\", \"domain\": [0.35, 1], \"position\": 0.0}, \"yaxis2\": {\"anchor\": \"x\", \"domain\": [0, 0.25], \"dtick\": 1, \"showticklabels\": false}},\n",
       "                        {\"responsive\": true}\n",
       "                    ).then(function(){\n",
       "                            \n",
       "var gd = document.getElementById('0182ff45-cd65-4c03-83a2-ebec65ebac91');\n",
       "var x = new MutationObserver(function (mutations, observer) {{\n",
       "        var display = window.getComputedStyle(gd).display;\n",
       "        if (!display || display === 'none') {{\n",
       "            console.log([gd, 'removed!']);\n",
       "            Plotly.purge(gd);\n",
       "            observer.disconnect();\n",
       "        }}\n",
       "}});\n",
       "\n",
       "// Listen for the removal of the full notebook cells\n",
       "var notebookContainer = gd.closest('#notebook-container');\n",
       "if (notebookContainer) {{\n",
       "    x.observe(notebookContainer, {childList: true});\n",
       "}}\n",
       "\n",
       "// Listen for the clearing of the current output cell\n",
       "var outputEl = gd.closest('.output');\n",
       "if (outputEl) {{\n",
       "    x.observe(outputEl, {childList: true});\n",
       "}}\n",
       "\n",
       "                        })\n",
       "                };\n",
       "                });\n",
       "            </script>\n",
       "        </div>"
      ]
     },
     "metadata": {},
     "output_type": "display_data"
    }
   ],
   "source": [
    "distri_vs_att('Attack', 'Defense')"
   ]
  },
  {
   "cell_type": "code",
   "execution_count": 42,
   "metadata": {
    "slideshow": {
     "slide_type": "slide"
    }
   },
   "outputs": [],
   "source": [
    "# Correlação de 2 status baseado em um terceiro status(Speed)\n",
    "def get_correlation_stats(stat1, stat2, stat3):\n",
    "    data = go.Scatter(\n",
    "        x=pokemon[stat1],\n",
    "        y=pokemon[stat2],\n",
    "        mode='markers',\n",
    "        marker=dict(size=10, color=pokemon[stat3], colorscale='Viridis', showscale=True),\n",
    "        text=pokemon['Name']\n",
    "    )\n",
    "    layout = go.Layout(\n",
    "        xaxis=dict(title=stat1), yaxis=dict(title=stat2),\n",
    "        showlegend=False,\n",
    "        title=\"Gráfico de dispersão entre {} e {}, correlacionado com {}\".format(stat1, stat2, stat3)\n",
    "    )\n",
    "    correlation_stats = go.Figure(data=[data], layout=layout)\n",
    "    iplot(correlation_stats, filename=\"Gráfico de dispersão entre {} e {}, correlacionado com {}\".format(stat1, stat2, stat3))"
   ]
  },
  {
   "cell_type": "code",
   "execution_count": 43,
   "metadata": {
    "slideshow": {
     "slide_type": "subslide"
    }
   },
   "outputs": [
    {
     "data": {
      "application/vnd.plotly.v1+json": {
       "config": {
        "linkText": "Export to plot.ly",
        "plotlyServerURL": "https://plot.ly",
        "showLink": false
       },
       "data": [
        {
         "marker": {
          "color": [
           45,
           60,
           80,
           65,
           80,
           100,
           43,
           58,
           78,
           45,
           30,
           70,
           50,
           35,
           75,
           56,
           71,
           101,
           72,
           97,
           70,
           100,
           55,
           80,
           90,
           110,
           40,
           65,
           41,
           56,
           76,
           50,
           65,
           85,
           35,
           60,
           65,
           100,
           20,
           45,
           55,
           90,
           30,
           40,
           50,
           25,
           30,
           45,
           90,
           95,
           120,
           90,
           115,
           55,
           85,
           70,
           95,
           60,
           95,
           90,
           90,
           70,
           90,
           105,
           120,
           35,
           45,
           55,
           40,
           55,
           70,
           70,
           100,
           20,
           35,
           45,
           90,
           105,
           15,
           30,
           45,
           70,
           60,
           75,
           100,
           45,
           70,
           25,
           50,
           40,
           70,
           80,
           95,
           110,
           70,
           42,
           67,
           50,
           75,
           100,
           140,
           40,
           55,
           35,
           45,
           87,
           76,
           30,
           35,
           60,
           25,
           40,
           50,
           60,
           90,
           60,
           85,
           63,
           68,
           85,
           115,
           90,
           105,
           95,
           105,
           93,
           85,
           110,
           80,
           81,
           60,
           48,
           55,
           65,
           130,
           65,
           40,
           35,
           55,
           55,
           80,
           130,
           30,
           85,
           100,
           90,
           50,
           70,
           80,
           130,
           100
          ],
          "colorscale": [
           [
            0,
            "#440154"
           ],
           [
            0.1111111111111111,
            "#482878"
           ],
           [
            0.2222222222222222,
            "#3e4989"
           ],
           [
            0.3333333333333333,
            "#31688e"
           ],
           [
            0.4444444444444444,
            "#26828e"
           ],
           [
            0.5555555555555556,
            "#1f9e89"
           ],
           [
            0.6666666666666666,
            "#35b779"
           ],
           [
            0.7777777777777778,
            "#6ece58"
           ],
           [
            0.8888888888888888,
            "#b5de2b"
           ],
           [
            1,
            "#fde725"
           ]
          ],
          "showscale": true,
          "size": 10
         },
         "mode": "markers",
         "text": [
          "Bulbasaur",
          "Ivysaur",
          "Venusaur",
          "Charmander",
          "Charmeleon",
          "Charizard",
          "Squirtle",
          "Wartortle",
          "Blastoise",
          "Caterpie",
          "Metapod",
          "Butterfree",
          "Weedle",
          "Kakuna",
          "Beedrill",
          "Pidgey",
          "Pidgeotto",
          "Pidgeot",
          "Rattata",
          "Raticate",
          "Spearow",
          "Fearow",
          "Ekans",
          "Arbok",
          "Pikachu",
          "Raichu",
          "Sandshrew",
          "Sandslash",
          "Nidoran",
          "Nidorina",
          "Nidoqueen",
          "Nidoran",
          "Nidorino",
          "Nidoking",
          "Clefairy",
          "Clefable",
          "Vulpix",
          "Ninetales",
          "Jigglypuff",
          "Wigglytuff",
          "Zubat",
          "Golbat",
          "Oddish",
          "Gloom",
          "Vileplume",
          "Paras",
          "Parasect",
          "Venonat",
          "Venomoth",
          "Diglett",
          "Dugtrio",
          "Meowth",
          "Persian",
          "Psyduck",
          "Golduck",
          "Mankey",
          "Primeape",
          "Growlithe",
          "Arcanine",
          "Poliwag",
          "Poliwhirl",
          "Poliwrath",
          "Abra",
          "Kadabra",
          "Alakazam",
          "Machop",
          "Machoke",
          "Machamp",
          "Bellsprout",
          "Weepinbell",
          "Victreebel",
          "Tentacool",
          "Tentacruel",
          "Geodude",
          "Graveler",
          "Golem",
          "Ponyta",
          "Rapidash",
          "Slowpoke",
          "Slowbro",
          "Magnemite",
          "Magneton",
          "Farfetch'd",
          "Doduo",
          "Dodrio",
          "Seel",
          "Dewgong",
          "Grimer",
          "Muk",
          "Shellder",
          "Cloyster",
          "Gastly",
          "Haunter",
          "Gengar",
          "Onix",
          "Drowzee",
          "Hypno",
          "Krabby",
          "Kingler",
          "Voltorb",
          "Electrode",
          "Exeggcute",
          "Exeggutor",
          "Cubone",
          "Marowak",
          "Hitmonlee",
          "Hitmonchan",
          "Lickitung",
          "Koffing",
          "Weezing",
          "Rhyhorn",
          "Rhydon",
          "Chansey",
          "Tangela",
          "Kangaskhan",
          "Horsea",
          "Seadra",
          "Goldeen",
          "Seaking",
          "Staryu",
          "Starmie",
          "Mr. Mime",
          "Scyther",
          "Jynx",
          "Electabuzz",
          "Magmar",
          "Pinsir",
          "Tauros",
          "Magikarp",
          "Gyarados",
          "Lapras",
          "Ditto",
          "Eevee",
          "Vaporeon",
          "Jolteon",
          "Flareon",
          "Porygon",
          "Omanyte",
          "Omastar",
          "Kabuto",
          "Kabutops",
          "Aerodactyl",
          "Snorlax",
          "Articuno",
          "Zapdos",
          "Moltres",
          "Dratini",
          "Dragonair",
          "Dragonite",
          "Mewtwo",
          "Mew"
         ],
         "type": "scatter",
         "x": [
          49,
          62,
          82,
          52,
          64,
          84,
          48,
          63,
          83,
          30,
          20,
          45,
          35,
          25,
          90,
          45,
          60,
          80,
          56,
          81,
          60,
          90,
          60,
          85,
          55,
          90,
          75,
          100,
          47,
          62,
          92,
          57,
          72,
          102,
          45,
          70,
          41,
          76,
          45,
          70,
          45,
          80,
          50,
          65,
          80,
          70,
          95,
          55,
          65,
          55,
          80,
          45,
          70,
          52,
          82,
          80,
          105,
          70,
          110,
          50,
          65,
          95,
          20,
          35,
          50,
          80,
          100,
          130,
          75,
          90,
          105,
          40,
          70,
          80,
          95,
          120,
          85,
          100,
          65,
          75,
          35,
          60,
          65,
          85,
          110,
          45,
          70,
          80,
          105,
          65,
          95,
          35,
          50,
          65,
          45,
          48,
          73,
          105,
          130,
          30,
          50,
          40,
          95,
          50,
          80,
          120,
          105,
          55,
          65,
          90,
          85,
          130,
          5,
          55,
          95,
          40,
          65,
          67,
          92,
          45,
          75,
          45,
          110,
          50,
          83,
          95,
          125,
          100,
          10,
          125,
          85,
          48,
          55,
          65,
          65,
          130,
          60,
          40,
          60,
          80,
          115,
          105,
          110,
          85,
          90,
          100,
          64,
          84,
          134,
          110,
          100
         ],
         "y": [
          49,
          63,
          83,
          43,
          58,
          78,
          65,
          80,
          100,
          35,
          55,
          50,
          30,
          50,
          40,
          40,
          55,
          75,
          35,
          60,
          30,
          65,
          44,
          69,
          40,
          55,
          85,
          110,
          52,
          67,
          87,
          40,
          57,
          77,
          48,
          73,
          40,
          75,
          20,
          45,
          35,
          70,
          55,
          70,
          85,
          55,
          80,
          50,
          60,
          25,
          50,
          35,
          60,
          48,
          78,
          35,
          60,
          45,
          80,
          40,
          65,
          95,
          15,
          30,
          45,
          50,
          70,
          80,
          35,
          50,
          65,
          35,
          65,
          100,
          115,
          130,
          55,
          70,
          65,
          110,
          70,
          95,
          55,
          45,
          70,
          55,
          80,
          50,
          75,
          100,
          180,
          30,
          45,
          60,
          160,
          45,
          70,
          90,
          115,
          50,
          70,
          80,
          85,
          95,
          110,
          53,
          79,
          75,
          95,
          120,
          95,
          120,
          5,
          115,
          80,
          70,
          95,
          60,
          65,
          55,
          85,
          65,
          80,
          35,
          57,
          57,
          100,
          95,
          55,
          79,
          80,
          48,
          50,
          60,
          60,
          60,
          70,
          100,
          125,
          90,
          105,
          65,
          65,
          100,
          85,
          90,
          45,
          65,
          95,
          90,
          100
         ]
        }
       ],
       "layout": {
        "showlegend": false,
        "template": {
         "data": {
          "bar": [
           {
            "error_x": {
             "color": "#2a3f5f"
            },
            "error_y": {
             "color": "#2a3f5f"
            },
            "marker": {
             "line": {
              "color": "#E5ECF6",
              "width": 0.5
             }
            },
            "type": "bar"
           }
          ],
          "barpolar": [
           {
            "marker": {
             "line": {
              "color": "#E5ECF6",
              "width": 0.5
             }
            },
            "type": "barpolar"
           }
          ],
          "carpet": [
           {
            "aaxis": {
             "endlinecolor": "#2a3f5f",
             "gridcolor": "white",
             "linecolor": "white",
             "minorgridcolor": "white",
             "startlinecolor": "#2a3f5f"
            },
            "baxis": {
             "endlinecolor": "#2a3f5f",
             "gridcolor": "white",
             "linecolor": "white",
             "minorgridcolor": "white",
             "startlinecolor": "#2a3f5f"
            },
            "type": "carpet"
           }
          ],
          "choropleth": [
           {
            "colorbar": {
             "outlinewidth": 0,
             "ticks": ""
            },
            "type": "choropleth"
           }
          ],
          "contour": [
           {
            "colorbar": {
             "outlinewidth": 0,
             "ticks": ""
            },
            "colorscale": [
             [
              0,
              "#0d0887"
             ],
             [
              0.1111111111111111,
              "#46039f"
             ],
             [
              0.2222222222222222,
              "#7201a8"
             ],
             [
              0.3333333333333333,
              "#9c179e"
             ],
             [
              0.4444444444444444,
              "#bd3786"
             ],
             [
              0.5555555555555556,
              "#d8576b"
             ],
             [
              0.6666666666666666,
              "#ed7953"
             ],
             [
              0.7777777777777778,
              "#fb9f3a"
             ],
             [
              0.8888888888888888,
              "#fdca26"
             ],
             [
              1,
              "#f0f921"
             ]
            ],
            "type": "contour"
           }
          ],
          "contourcarpet": [
           {
            "colorbar": {
             "outlinewidth": 0,
             "ticks": ""
            },
            "type": "contourcarpet"
           }
          ],
          "heatmap": [
           {
            "colorbar": {
             "outlinewidth": 0,
             "ticks": ""
            },
            "colorscale": [
             [
              0,
              "#0d0887"
             ],
             [
              0.1111111111111111,
              "#46039f"
             ],
             [
              0.2222222222222222,
              "#7201a8"
             ],
             [
              0.3333333333333333,
              "#9c179e"
             ],
             [
              0.4444444444444444,
              "#bd3786"
             ],
             [
              0.5555555555555556,
              "#d8576b"
             ],
             [
              0.6666666666666666,
              "#ed7953"
             ],
             [
              0.7777777777777778,
              "#fb9f3a"
             ],
             [
              0.8888888888888888,
              "#fdca26"
             ],
             [
              1,
              "#f0f921"
             ]
            ],
            "type": "heatmap"
           }
          ],
          "heatmapgl": [
           {
            "colorbar": {
             "outlinewidth": 0,
             "ticks": ""
            },
            "colorscale": [
             [
              0,
              "#0d0887"
             ],
             [
              0.1111111111111111,
              "#46039f"
             ],
             [
              0.2222222222222222,
              "#7201a8"
             ],
             [
              0.3333333333333333,
              "#9c179e"
             ],
             [
              0.4444444444444444,
              "#bd3786"
             ],
             [
              0.5555555555555556,
              "#d8576b"
             ],
             [
              0.6666666666666666,
              "#ed7953"
             ],
             [
              0.7777777777777778,
              "#fb9f3a"
             ],
             [
              0.8888888888888888,
              "#fdca26"
             ],
             [
              1,
              "#f0f921"
             ]
            ],
            "type": "heatmapgl"
           }
          ],
          "histogram": [
           {
            "marker": {
             "colorbar": {
              "outlinewidth": 0,
              "ticks": ""
             }
            },
            "type": "histogram"
           }
          ],
          "histogram2d": [
           {
            "colorbar": {
             "outlinewidth": 0,
             "ticks": ""
            },
            "colorscale": [
             [
              0,
              "#0d0887"
             ],
             [
              0.1111111111111111,
              "#46039f"
             ],
             [
              0.2222222222222222,
              "#7201a8"
             ],
             [
              0.3333333333333333,
              "#9c179e"
             ],
             [
              0.4444444444444444,
              "#bd3786"
             ],
             [
              0.5555555555555556,
              "#d8576b"
             ],
             [
              0.6666666666666666,
              "#ed7953"
             ],
             [
              0.7777777777777778,
              "#fb9f3a"
             ],
             [
              0.8888888888888888,
              "#fdca26"
             ],
             [
              1,
              "#f0f921"
             ]
            ],
            "type": "histogram2d"
           }
          ],
          "histogram2dcontour": [
           {
            "colorbar": {
             "outlinewidth": 0,
             "ticks": ""
            },
            "colorscale": [
             [
              0,
              "#0d0887"
             ],
             [
              0.1111111111111111,
              "#46039f"
             ],
             [
              0.2222222222222222,
              "#7201a8"
             ],
             [
              0.3333333333333333,
              "#9c179e"
             ],
             [
              0.4444444444444444,
              "#bd3786"
             ],
             [
              0.5555555555555556,
              "#d8576b"
             ],
             [
              0.6666666666666666,
              "#ed7953"
             ],
             [
              0.7777777777777778,
              "#fb9f3a"
             ],
             [
              0.8888888888888888,
              "#fdca26"
             ],
             [
              1,
              "#f0f921"
             ]
            ],
            "type": "histogram2dcontour"
           }
          ],
          "mesh3d": [
           {
            "colorbar": {
             "outlinewidth": 0,
             "ticks": ""
            },
            "type": "mesh3d"
           }
          ],
          "parcoords": [
           {
            "line": {
             "colorbar": {
              "outlinewidth": 0,
              "ticks": ""
             }
            },
            "type": "parcoords"
           }
          ],
          "pie": [
           {
            "automargin": true,
            "type": "pie"
           }
          ],
          "scatter": [
           {
            "marker": {
             "colorbar": {
              "outlinewidth": 0,
              "ticks": ""
             }
            },
            "type": "scatter"
           }
          ],
          "scatter3d": [
           {
            "line": {
             "colorbar": {
              "outlinewidth": 0,
              "ticks": ""
             }
            },
            "marker": {
             "colorbar": {
              "outlinewidth": 0,
              "ticks": ""
             }
            },
            "type": "scatter3d"
           }
          ],
          "scattercarpet": [
           {
            "marker": {
             "colorbar": {
              "outlinewidth": 0,
              "ticks": ""
             }
            },
            "type": "scattercarpet"
           }
          ],
          "scattergeo": [
           {
            "marker": {
             "colorbar": {
              "outlinewidth": 0,
              "ticks": ""
             }
            },
            "type": "scattergeo"
           }
          ],
          "scattergl": [
           {
            "marker": {
             "colorbar": {
              "outlinewidth": 0,
              "ticks": ""
             }
            },
            "type": "scattergl"
           }
          ],
          "scattermapbox": [
           {
            "marker": {
             "colorbar": {
              "outlinewidth": 0,
              "ticks": ""
             }
            },
            "type": "scattermapbox"
           }
          ],
          "scatterpolar": [
           {
            "marker": {
             "colorbar": {
              "outlinewidth": 0,
              "ticks": ""
             }
            },
            "type": "scatterpolar"
           }
          ],
          "scatterpolargl": [
           {
            "marker": {
             "colorbar": {
              "outlinewidth": 0,
              "ticks": ""
             }
            },
            "type": "scatterpolargl"
           }
          ],
          "scatterternary": [
           {
            "marker": {
             "colorbar": {
              "outlinewidth": 0,
              "ticks": ""
             }
            },
            "type": "scatterternary"
           }
          ],
          "surface": [
           {
            "colorbar": {
             "outlinewidth": 0,
             "ticks": ""
            },
            "colorscale": [
             [
              0,
              "#0d0887"
             ],
             [
              0.1111111111111111,
              "#46039f"
             ],
             [
              0.2222222222222222,
              "#7201a8"
             ],
             [
              0.3333333333333333,
              "#9c179e"
             ],
             [
              0.4444444444444444,
              "#bd3786"
             ],
             [
              0.5555555555555556,
              "#d8576b"
             ],
             [
              0.6666666666666666,
              "#ed7953"
             ],
             [
              0.7777777777777778,
              "#fb9f3a"
             ],
             [
              0.8888888888888888,
              "#fdca26"
             ],
             [
              1,
              "#f0f921"
             ]
            ],
            "type": "surface"
           }
          ],
          "table": [
           {
            "cells": {
             "fill": {
              "color": "#EBF0F8"
             },
             "line": {
              "color": "white"
             }
            },
            "header": {
             "fill": {
              "color": "#C8D4E3"
             },
             "line": {
              "color": "white"
             }
            },
            "type": "table"
           }
          ]
         },
         "layout": {
          "annotationdefaults": {
           "arrowcolor": "#2a3f5f",
           "arrowhead": 0,
           "arrowwidth": 1
          },
          "coloraxis": {
           "colorbar": {
            "outlinewidth": 0,
            "ticks": ""
           }
          },
          "colorscale": {
           "diverging": [
            [
             0,
             "#8e0152"
            ],
            [
             0.1,
             "#c51b7d"
            ],
            [
             0.2,
             "#de77ae"
            ],
            [
             0.3,
             "#f1b6da"
            ],
            [
             0.4,
             "#fde0ef"
            ],
            [
             0.5,
             "#f7f7f7"
            ],
            [
             0.6,
             "#e6f5d0"
            ],
            [
             0.7,
             "#b8e186"
            ],
            [
             0.8,
             "#7fbc41"
            ],
            [
             0.9,
             "#4d9221"
            ],
            [
             1,
             "#276419"
            ]
           ],
           "sequential": [
            [
             0,
             "#0d0887"
            ],
            [
             0.1111111111111111,
             "#46039f"
            ],
            [
             0.2222222222222222,
             "#7201a8"
            ],
            [
             0.3333333333333333,
             "#9c179e"
            ],
            [
             0.4444444444444444,
             "#bd3786"
            ],
            [
             0.5555555555555556,
             "#d8576b"
            ],
            [
             0.6666666666666666,
             "#ed7953"
            ],
            [
             0.7777777777777778,
             "#fb9f3a"
            ],
            [
             0.8888888888888888,
             "#fdca26"
            ],
            [
             1,
             "#f0f921"
            ]
           ],
           "sequentialminus": [
            [
             0,
             "#0d0887"
            ],
            [
             0.1111111111111111,
             "#46039f"
            ],
            [
             0.2222222222222222,
             "#7201a8"
            ],
            [
             0.3333333333333333,
             "#9c179e"
            ],
            [
             0.4444444444444444,
             "#bd3786"
            ],
            [
             0.5555555555555556,
             "#d8576b"
            ],
            [
             0.6666666666666666,
             "#ed7953"
            ],
            [
             0.7777777777777778,
             "#fb9f3a"
            ],
            [
             0.8888888888888888,
             "#fdca26"
            ],
            [
             1,
             "#f0f921"
            ]
           ]
          },
          "colorway": [
           "#636efa",
           "#EF553B",
           "#00cc96",
           "#ab63fa",
           "#FFA15A",
           "#19d3f3",
           "#FF6692",
           "#B6E880",
           "#FF97FF",
           "#FECB52"
          ],
          "font": {
           "color": "#2a3f5f"
          },
          "geo": {
           "bgcolor": "white",
           "lakecolor": "white",
           "landcolor": "#E5ECF6",
           "showlakes": true,
           "showland": true,
           "subunitcolor": "white"
          },
          "hoverlabel": {
           "align": "left"
          },
          "hovermode": "closest",
          "mapbox": {
           "style": "light"
          },
          "paper_bgcolor": "white",
          "plot_bgcolor": "#E5ECF6",
          "polar": {
           "angularaxis": {
            "gridcolor": "white",
            "linecolor": "white",
            "ticks": ""
           },
           "bgcolor": "#E5ECF6",
           "radialaxis": {
            "gridcolor": "white",
            "linecolor": "white",
            "ticks": ""
           }
          },
          "scene": {
           "xaxis": {
            "backgroundcolor": "#E5ECF6",
            "gridcolor": "white",
            "gridwidth": 2,
            "linecolor": "white",
            "showbackground": true,
            "ticks": "",
            "zerolinecolor": "white"
           },
           "yaxis": {
            "backgroundcolor": "#E5ECF6",
            "gridcolor": "white",
            "gridwidth": 2,
            "linecolor": "white",
            "showbackground": true,
            "ticks": "",
            "zerolinecolor": "white"
           },
           "zaxis": {
            "backgroundcolor": "#E5ECF6",
            "gridcolor": "white",
            "gridwidth": 2,
            "linecolor": "white",
            "showbackground": true,
            "ticks": "",
            "zerolinecolor": "white"
           }
          },
          "shapedefaults": {
           "line": {
            "color": "#2a3f5f"
           }
          },
          "ternary": {
           "aaxis": {
            "gridcolor": "white",
            "linecolor": "white",
            "ticks": ""
           },
           "baxis": {
            "gridcolor": "white",
            "linecolor": "white",
            "ticks": ""
           },
           "bgcolor": "#E5ECF6",
           "caxis": {
            "gridcolor": "white",
            "linecolor": "white",
            "ticks": ""
           }
          },
          "title": {
           "x": 0.05
          },
          "xaxis": {
           "automargin": true,
           "gridcolor": "white",
           "linecolor": "white",
           "ticks": "",
           "title": {
            "standoff": 15
           },
           "zerolinecolor": "white",
           "zerolinewidth": 2
          },
          "yaxis": {
           "automargin": true,
           "gridcolor": "white",
           "linecolor": "white",
           "ticks": "",
           "title": {
            "standoff": 15
           },
           "zerolinecolor": "white",
           "zerolinewidth": 2
          }
         }
        },
        "title": {
         "text": "Gráfico de dispersão entre Attack e Defense, correlacionado com Speed"
        },
        "xaxis": {
         "title": {
          "text": "Attack"
         }
        },
        "yaxis": {
         "title": {
          "text": "Defense"
         }
        }
       }
      },
      "text/html": [
       "<div>\n",
       "        \n",
       "        \n",
       "            <div id=\"bb5cb7e7-5755-4e38-89f9-16022fbaee3e\" class=\"plotly-graph-div\" style=\"height:525px; width:100%;\"></div>\n",
       "            <script type=\"text/javascript\">\n",
       "                require([\"plotly\"], function(Plotly) {\n",
       "                    window.PLOTLYENV=window.PLOTLYENV || {};\n",
       "                    \n",
       "                if (document.getElementById(\"bb5cb7e7-5755-4e38-89f9-16022fbaee3e\")) {\n",
       "                    Plotly.newPlot(\n",
       "                        'bb5cb7e7-5755-4e38-89f9-16022fbaee3e',\n",
       "                        [{\"marker\": {\"color\": [45, 60, 80, 65, 80, 100, 43, 58, 78, 45, 30, 70, 50, 35, 75, 56, 71, 101, 72, 97, 70, 100, 55, 80, 90, 110, 40, 65, 41, 56, 76, 50, 65, 85, 35, 60, 65, 100, 20, 45, 55, 90, 30, 40, 50, 25, 30, 45, 90, 95, 120, 90, 115, 55, 85, 70, 95, 60, 95, 90, 90, 70, 90, 105, 120, 35, 45, 55, 40, 55, 70, 70, 100, 20, 35, 45, 90, 105, 15, 30, 45, 70, 60, 75, 100, 45, 70, 25, 50, 40, 70, 80, 95, 110, 70, 42, 67, 50, 75, 100, 140, 40, 55, 35, 45, 87, 76, 30, 35, 60, 25, 40, 50, 60, 90, 60, 85, 63, 68, 85, 115, 90, 105, 95, 105, 93, 85, 110, 80, 81, 60, 48, 55, 65, 130, 65, 40, 35, 55, 55, 80, 130, 30, 85, 100, 90, 50, 70, 80, 130, 100], \"colorscale\": [[0.0, \"#440154\"], [0.1111111111111111, \"#482878\"], [0.2222222222222222, \"#3e4989\"], [0.3333333333333333, \"#31688e\"], [0.4444444444444444, \"#26828e\"], [0.5555555555555556, \"#1f9e89\"], [0.6666666666666666, \"#35b779\"], [0.7777777777777778, \"#6ece58\"], [0.8888888888888888, \"#b5de2b\"], [1.0, \"#fde725\"]], \"showscale\": true, \"size\": 10}, \"mode\": \"markers\", \"text\": [\"Bulbasaur\", \"Ivysaur\", \"Venusaur\", \"Charmander\", \"Charmeleon\", \"Charizard\", \"Squirtle\", \"Wartortle\", \"Blastoise\", \"Caterpie\", \"Metapod\", \"Butterfree\", \"Weedle\", \"Kakuna\", \"Beedrill\", \"Pidgey\", \"Pidgeotto\", \"Pidgeot\", \"Rattata\", \"Raticate\", \"Spearow\", \"Fearow\", \"Ekans\", \"Arbok\", \"Pikachu\", \"Raichu\", \"Sandshrew\", \"Sandslash\", \"Nidoran\", \"Nidorina\", \"Nidoqueen\", \"Nidoran\", \"Nidorino\", \"Nidoking\", \"Clefairy\", \"Clefable\", \"Vulpix\", \"Ninetales\", \"Jigglypuff\", \"Wigglytuff\", \"Zubat\", \"Golbat\", \"Oddish\", \"Gloom\", \"Vileplume\", \"Paras\", \"Parasect\", \"Venonat\", \"Venomoth\", \"Diglett\", \"Dugtrio\", \"Meowth\", \"Persian\", \"Psyduck\", \"Golduck\", \"Mankey\", \"Primeape\", \"Growlithe\", \"Arcanine\", \"Poliwag\", \"Poliwhirl\", \"Poliwrath\", \"Abra\", \"Kadabra\", \"Alakazam\", \"Machop\", \"Machoke\", \"Machamp\", \"Bellsprout\", \"Weepinbell\", \"Victreebel\", \"Tentacool\", \"Tentacruel\", \"Geodude\", \"Graveler\", \"Golem\", \"Ponyta\", \"Rapidash\", \"Slowpoke\", \"Slowbro\", \"Magnemite\", \"Magneton\", \"Farfetch'd\", \"Doduo\", \"Dodrio\", \"Seel\", \"Dewgong\", \"Grimer\", \"Muk\", \"Shellder\", \"Cloyster\", \"Gastly\", \"Haunter\", \"Gengar\", \"Onix\", \"Drowzee\", \"Hypno\", \"Krabby\", \"Kingler\", \"Voltorb\", \"Electrode\", \"Exeggcute\", \"Exeggutor\", \"Cubone\", \"Marowak\", \"Hitmonlee\", \"Hitmonchan\", \"Lickitung\", \"Koffing\", \"Weezing\", \"Rhyhorn\", \"Rhydon\", \"Chansey\", \"Tangela\", \"Kangaskhan\", \"Horsea\", \"Seadra\", \"Goldeen\", \"Seaking\", \"Staryu\", \"Starmie\", \"Mr. Mime\", \"Scyther\", \"Jynx\", \"Electabuzz\", \"Magmar\", \"Pinsir\", \"Tauros\", \"Magikarp\", \"Gyarados\", \"Lapras\", \"Ditto\", \"Eevee\", \"Vaporeon\", \"Jolteon\", \"Flareon\", \"Porygon\", \"Omanyte\", \"Omastar\", \"Kabuto\", \"Kabutops\", \"Aerodactyl\", \"Snorlax\", \"Articuno\", \"Zapdos\", \"Moltres\", \"Dratini\", \"Dragonair\", \"Dragonite\", \"Mewtwo\", \"Mew\"], \"type\": \"scatter\", \"x\": [49, 62, 82, 52, 64, 84, 48, 63, 83, 30, 20, 45, 35, 25, 90, 45, 60, 80, 56, 81, 60, 90, 60, 85, 55, 90, 75, 100, 47, 62, 92, 57, 72, 102, 45, 70, 41, 76, 45, 70, 45, 80, 50, 65, 80, 70, 95, 55, 65, 55, 80, 45, 70, 52, 82, 80, 105, 70, 110, 50, 65, 95, 20, 35, 50, 80, 100, 130, 75, 90, 105, 40, 70, 80, 95, 120, 85, 100, 65, 75, 35, 60, 65, 85, 110, 45, 70, 80, 105, 65, 95, 35, 50, 65, 45, 48, 73, 105, 130, 30, 50, 40, 95, 50, 80, 120, 105, 55, 65, 90, 85, 130, 5, 55, 95, 40, 65, 67, 92, 45, 75, 45, 110, 50, 83, 95, 125, 100, 10, 125, 85, 48, 55, 65, 65, 130, 60, 40, 60, 80, 115, 105, 110, 85, 90, 100, 64, 84, 134, 110, 100], \"y\": [49, 63, 83, 43, 58, 78, 65, 80, 100, 35, 55, 50, 30, 50, 40, 40, 55, 75, 35, 60, 30, 65, 44, 69, 40, 55, 85, 110, 52, 67, 87, 40, 57, 77, 48, 73, 40, 75, 20, 45, 35, 70, 55, 70, 85, 55, 80, 50, 60, 25, 50, 35, 60, 48, 78, 35, 60, 45, 80, 40, 65, 95, 15, 30, 45, 50, 70, 80, 35, 50, 65, 35, 65, 100, 115, 130, 55, 70, 65, 110, 70, 95, 55, 45, 70, 55, 80, 50, 75, 100, 180, 30, 45, 60, 160, 45, 70, 90, 115, 50, 70, 80, 85, 95, 110, 53, 79, 75, 95, 120, 95, 120, 5, 115, 80, 70, 95, 60, 65, 55, 85, 65, 80, 35, 57, 57, 100, 95, 55, 79, 80, 48, 50, 60, 60, 60, 70, 100, 125, 90, 105, 65, 65, 100, 85, 90, 45, 65, 95, 90, 100]}],\n",
       "                        {\"showlegend\": false, \"template\": {\"data\": {\"bar\": [{\"error_x\": {\"color\": \"#2a3f5f\"}, \"error_y\": {\"color\": \"#2a3f5f\"}, \"marker\": {\"line\": {\"color\": \"#E5ECF6\", \"width\": 0.5}}, \"type\": \"bar\"}], \"barpolar\": [{\"marker\": {\"line\": {\"color\": \"#E5ECF6\", \"width\": 0.5}}, \"type\": \"barpolar\"}], \"carpet\": [{\"aaxis\": {\"endlinecolor\": \"#2a3f5f\", \"gridcolor\": \"white\", \"linecolor\": \"white\", \"minorgridcolor\": \"white\", \"startlinecolor\": \"#2a3f5f\"}, \"baxis\": {\"endlinecolor\": \"#2a3f5f\", \"gridcolor\": \"white\", \"linecolor\": \"white\", \"minorgridcolor\": \"white\", \"startlinecolor\": \"#2a3f5f\"}, \"type\": \"carpet\"}], \"choropleth\": [{\"colorbar\": {\"outlinewidth\": 0, \"ticks\": \"\"}, \"type\": \"choropleth\"}], \"contour\": [{\"colorbar\": {\"outlinewidth\": 0, \"ticks\": \"\"}, \"colorscale\": [[0.0, \"#0d0887\"], [0.1111111111111111, \"#46039f\"], [0.2222222222222222, \"#7201a8\"], [0.3333333333333333, \"#9c179e\"], [0.4444444444444444, \"#bd3786\"], [0.5555555555555556, \"#d8576b\"], [0.6666666666666666, \"#ed7953\"], [0.7777777777777778, \"#fb9f3a\"], [0.8888888888888888, \"#fdca26\"], [1.0, \"#f0f921\"]], \"type\": \"contour\"}], \"contourcarpet\": [{\"colorbar\": {\"outlinewidth\": 0, \"ticks\": \"\"}, \"type\": \"contourcarpet\"}], \"heatmap\": [{\"colorbar\": {\"outlinewidth\": 0, \"ticks\": \"\"}, \"colorscale\": [[0.0, \"#0d0887\"], [0.1111111111111111, \"#46039f\"], [0.2222222222222222, \"#7201a8\"], [0.3333333333333333, \"#9c179e\"], [0.4444444444444444, \"#bd3786\"], [0.5555555555555556, \"#d8576b\"], [0.6666666666666666, \"#ed7953\"], [0.7777777777777778, \"#fb9f3a\"], [0.8888888888888888, \"#fdca26\"], [1.0, \"#f0f921\"]], \"type\": \"heatmap\"}], \"heatmapgl\": [{\"colorbar\": {\"outlinewidth\": 0, \"ticks\": \"\"}, \"colorscale\": [[0.0, \"#0d0887\"], [0.1111111111111111, \"#46039f\"], [0.2222222222222222, \"#7201a8\"], [0.3333333333333333, \"#9c179e\"], [0.4444444444444444, \"#bd3786\"], [0.5555555555555556, \"#d8576b\"], [0.6666666666666666, \"#ed7953\"], [0.7777777777777778, \"#fb9f3a\"], [0.8888888888888888, \"#fdca26\"], [1.0, \"#f0f921\"]], \"type\": \"heatmapgl\"}], \"histogram\": [{\"marker\": {\"colorbar\": {\"outlinewidth\": 0, \"ticks\": \"\"}}, \"type\": \"histogram\"}], \"histogram2d\": [{\"colorbar\": {\"outlinewidth\": 0, \"ticks\": \"\"}, \"colorscale\": [[0.0, \"#0d0887\"], [0.1111111111111111, \"#46039f\"], [0.2222222222222222, \"#7201a8\"], [0.3333333333333333, \"#9c179e\"], [0.4444444444444444, \"#bd3786\"], [0.5555555555555556, \"#d8576b\"], [0.6666666666666666, \"#ed7953\"], [0.7777777777777778, \"#fb9f3a\"], [0.8888888888888888, \"#fdca26\"], [1.0, \"#f0f921\"]], \"type\": \"histogram2d\"}], \"histogram2dcontour\": [{\"colorbar\": {\"outlinewidth\": 0, \"ticks\": \"\"}, \"colorscale\": [[0.0, \"#0d0887\"], [0.1111111111111111, \"#46039f\"], [0.2222222222222222, \"#7201a8\"], [0.3333333333333333, \"#9c179e\"], [0.4444444444444444, \"#bd3786\"], [0.5555555555555556, \"#d8576b\"], [0.6666666666666666, \"#ed7953\"], [0.7777777777777778, \"#fb9f3a\"], [0.8888888888888888, \"#fdca26\"], [1.0, \"#f0f921\"]], \"type\": \"histogram2dcontour\"}], \"mesh3d\": [{\"colorbar\": {\"outlinewidth\": 0, \"ticks\": \"\"}, \"type\": \"mesh3d\"}], \"parcoords\": [{\"line\": {\"colorbar\": {\"outlinewidth\": 0, \"ticks\": \"\"}}, \"type\": \"parcoords\"}], \"pie\": [{\"automargin\": true, \"type\": \"pie\"}], \"scatter\": [{\"marker\": {\"colorbar\": {\"outlinewidth\": 0, \"ticks\": \"\"}}, \"type\": \"scatter\"}], \"scatter3d\": [{\"line\": {\"colorbar\": {\"outlinewidth\": 0, \"ticks\": \"\"}}, \"marker\": {\"colorbar\": {\"outlinewidth\": 0, \"ticks\": \"\"}}, \"type\": \"scatter3d\"}], \"scattercarpet\": [{\"marker\": {\"colorbar\": {\"outlinewidth\": 0, \"ticks\": \"\"}}, \"type\": \"scattercarpet\"}], \"scattergeo\": [{\"marker\": {\"colorbar\": {\"outlinewidth\": 0, \"ticks\": \"\"}}, \"type\": \"scattergeo\"}], \"scattergl\": [{\"marker\": {\"colorbar\": {\"outlinewidth\": 0, \"ticks\": \"\"}}, \"type\": \"scattergl\"}], \"scattermapbox\": [{\"marker\": {\"colorbar\": {\"outlinewidth\": 0, \"ticks\": \"\"}}, \"type\": \"scattermapbox\"}], \"scatterpolar\": [{\"marker\": {\"colorbar\": {\"outlinewidth\": 0, \"ticks\": \"\"}}, \"type\": \"scatterpolar\"}], \"scatterpolargl\": [{\"marker\": {\"colorbar\": {\"outlinewidth\": 0, \"ticks\": \"\"}}, \"type\": \"scatterpolargl\"}], \"scatterternary\": [{\"marker\": {\"colorbar\": {\"outlinewidth\": 0, \"ticks\": \"\"}}, \"type\": \"scatterternary\"}], \"surface\": [{\"colorbar\": {\"outlinewidth\": 0, \"ticks\": \"\"}, \"colorscale\": [[0.0, \"#0d0887\"], [0.1111111111111111, \"#46039f\"], [0.2222222222222222, \"#7201a8\"], [0.3333333333333333, \"#9c179e\"], [0.4444444444444444, \"#bd3786\"], [0.5555555555555556, \"#d8576b\"], [0.6666666666666666, \"#ed7953\"], [0.7777777777777778, \"#fb9f3a\"], [0.8888888888888888, \"#fdca26\"], [1.0, \"#f0f921\"]], \"type\": \"surface\"}], \"table\": [{\"cells\": {\"fill\": {\"color\": \"#EBF0F8\"}, \"line\": {\"color\": \"white\"}}, \"header\": {\"fill\": {\"color\": \"#C8D4E3\"}, \"line\": {\"color\": \"white\"}}, \"type\": \"table\"}]}, \"layout\": {\"annotationdefaults\": {\"arrowcolor\": \"#2a3f5f\", \"arrowhead\": 0, \"arrowwidth\": 1}, \"coloraxis\": {\"colorbar\": {\"outlinewidth\": 0, \"ticks\": \"\"}}, \"colorscale\": {\"diverging\": [[0, \"#8e0152\"], [0.1, \"#c51b7d\"], [0.2, \"#de77ae\"], [0.3, \"#f1b6da\"], [0.4, \"#fde0ef\"], [0.5, \"#f7f7f7\"], [0.6, \"#e6f5d0\"], [0.7, \"#b8e186\"], [0.8, \"#7fbc41\"], [0.9, \"#4d9221\"], [1, \"#276419\"]], \"sequential\": [[0.0, \"#0d0887\"], [0.1111111111111111, \"#46039f\"], [0.2222222222222222, \"#7201a8\"], [0.3333333333333333, \"#9c179e\"], [0.4444444444444444, \"#bd3786\"], [0.5555555555555556, \"#d8576b\"], [0.6666666666666666, \"#ed7953\"], [0.7777777777777778, \"#fb9f3a\"], [0.8888888888888888, \"#fdca26\"], [1.0, \"#f0f921\"]], \"sequentialminus\": [[0.0, \"#0d0887\"], [0.1111111111111111, \"#46039f\"], [0.2222222222222222, \"#7201a8\"], [0.3333333333333333, \"#9c179e\"], [0.4444444444444444, \"#bd3786\"], [0.5555555555555556, \"#d8576b\"], [0.6666666666666666, \"#ed7953\"], [0.7777777777777778, \"#fb9f3a\"], [0.8888888888888888, \"#fdca26\"], [1.0, \"#f0f921\"]]}, \"colorway\": [\"#636efa\", \"#EF553B\", \"#00cc96\", \"#ab63fa\", \"#FFA15A\", \"#19d3f3\", \"#FF6692\", \"#B6E880\", \"#FF97FF\", \"#FECB52\"], \"font\": {\"color\": \"#2a3f5f\"}, \"geo\": {\"bgcolor\": \"white\", \"lakecolor\": \"white\", \"landcolor\": \"#E5ECF6\", \"showlakes\": true, \"showland\": true, \"subunitcolor\": \"white\"}, \"hoverlabel\": {\"align\": \"left\"}, \"hovermode\": \"closest\", \"mapbox\": {\"style\": \"light\"}, \"paper_bgcolor\": \"white\", \"plot_bgcolor\": \"#E5ECF6\", \"polar\": {\"angularaxis\": {\"gridcolor\": \"white\", \"linecolor\": \"white\", \"ticks\": \"\"}, \"bgcolor\": \"#E5ECF6\", \"radialaxis\": {\"gridcolor\": \"white\", \"linecolor\": \"white\", \"ticks\": \"\"}}, \"scene\": {\"xaxis\": {\"backgroundcolor\": \"#E5ECF6\", \"gridcolor\": \"white\", \"gridwidth\": 2, \"linecolor\": \"white\", \"showbackground\": true, \"ticks\": \"\", \"zerolinecolor\": \"white\"}, \"yaxis\": {\"backgroundcolor\": \"#E5ECF6\", \"gridcolor\": \"white\", \"gridwidth\": 2, \"linecolor\": \"white\", \"showbackground\": true, \"ticks\": \"\", \"zerolinecolor\": \"white\"}, \"zaxis\": {\"backgroundcolor\": \"#E5ECF6\", \"gridcolor\": \"white\", \"gridwidth\": 2, \"linecolor\": \"white\", \"showbackground\": true, \"ticks\": \"\", \"zerolinecolor\": \"white\"}}, \"shapedefaults\": {\"line\": {\"color\": \"#2a3f5f\"}}, \"ternary\": {\"aaxis\": {\"gridcolor\": \"white\", \"linecolor\": \"white\", \"ticks\": \"\"}, \"baxis\": {\"gridcolor\": \"white\", \"linecolor\": \"white\", \"ticks\": \"\"}, \"bgcolor\": \"#E5ECF6\", \"caxis\": {\"gridcolor\": \"white\", \"linecolor\": \"white\", \"ticks\": \"\"}}, \"title\": {\"x\": 0.05}, \"xaxis\": {\"automargin\": true, \"gridcolor\": \"white\", \"linecolor\": \"white\", \"ticks\": \"\", \"title\": {\"standoff\": 15}, \"zerolinecolor\": \"white\", \"zerolinewidth\": 2}, \"yaxis\": {\"automargin\": true, \"gridcolor\": \"white\", \"linecolor\": \"white\", \"ticks\": \"\", \"title\": {\"standoff\": 15}, \"zerolinecolor\": \"white\", \"zerolinewidth\": 2}}}, \"title\": {\"text\": \"Gr\\u00e1fico de dispers\\u00e3o entre Attack e Defense, correlacionado com Speed\"}, \"xaxis\": {\"title\": {\"text\": \"Attack\"}}, \"yaxis\": {\"title\": {\"text\": \"Defense\"}}},\n",
       "                        {\"responsive\": true}\n",
       "                    ).then(function(){\n",
       "                            \n",
       "var gd = document.getElementById('bb5cb7e7-5755-4e38-89f9-16022fbaee3e');\n",
       "var x = new MutationObserver(function (mutations, observer) {{\n",
       "        var display = window.getComputedStyle(gd).display;\n",
       "        if (!display || display === 'none') {{\n",
       "            console.log([gd, 'removed!']);\n",
       "            Plotly.purge(gd);\n",
       "            observer.disconnect();\n",
       "        }}\n",
       "}});\n",
       "\n",
       "// Listen for the removal of the full notebook cells\n",
       "var notebookContainer = gd.closest('#notebook-container');\n",
       "if (notebookContainer) {{\n",
       "    x.observe(notebookContainer, {childList: true});\n",
       "}}\n",
       "\n",
       "// Listen for the clearing of the current output cell\n",
       "var outputEl = gd.closest('.output');\n",
       "if (outputEl) {{\n",
       "    x.observe(outputEl, {childList: true});\n",
       "}}\n",
       "\n",
       "                        })\n",
       "                };\n",
       "                });\n",
       "            </script>\n",
       "        </div>"
      ]
     },
     "metadata": {},
     "output_type": "display_data"
    }
   ],
   "source": [
    "get_correlation_stats('Attack', 'Defense', 'Speed')"
   ]
  },
  {
   "cell_type": "code",
   "execution_count": 44,
   "metadata": {
    "slideshow": {
     "slide_type": "slide"
    }
   },
   "outputs": [],
   "source": [
    "def boxplot_atributos():\n",
    "    layout = go.Layout(title=\"Gráfico de Dispersão dos Atributos\")\n",
    "    fig = go.Figure(layout=layout)\n",
    "    fig.add_trace(go.Box(y=pokemon['HP'], name='HP',\n",
    "                    marker_color = 'blue'))\n",
    "    fig.add_trace(go.Box(y=pokemon['Attack'], name = 'Attack',\n",
    "                    marker_color = 'red'))\n",
    "    fig.add_trace(go.Box(y=pokemon['Defense'], name = 'Defense',\n",
    "                    marker_color = 'green'))\n",
    "    fig.add_trace(go.Box(y=pokemon['Sp. Atk'], name = 'Sp. Atk',\n",
    "                    marker_color = 'purple'))\n",
    "    fig.add_trace(go.Box(y=pokemon['Sp. Def'], name = 'Sp. Def',\n",
    "                    marker_color = 'orange'))\n",
    "    fig.add_trace(go.Box(y=pokemon['Speed'], name = 'Speed',\n",
    "                    marker_color = 'grey'))\n",
    "    fig.show()"
   ]
  },
  {
   "cell_type": "code",
   "execution_count": 45,
   "metadata": {
    "scrolled": true,
    "slideshow": {
     "slide_type": "subslide"
    }
   },
   "outputs": [
    {
     "data": {
      "application/vnd.plotly.v1+json": {
       "config": {
        "plotlyServerURL": "https://plot.ly"
       },
       "data": [
        {
         "marker": {
          "color": "blue"
         },
         "name": "HP",
         "type": "box",
         "y": [
          45,
          60,
          80,
          39,
          58,
          78,
          44,
          59,
          79,
          45,
          50,
          60,
          40,
          45,
          65,
          40,
          63,
          83,
          30,
          55,
          40,
          65,
          35,
          60,
          35,
          60,
          50,
          75,
          55,
          70,
          90,
          46,
          61,
          81,
          70,
          95,
          38,
          73,
          115,
          140,
          40,
          75,
          45,
          60,
          75,
          35,
          60,
          60,
          70,
          10,
          35,
          40,
          65,
          50,
          80,
          40,
          65,
          55,
          90,
          40,
          65,
          90,
          25,
          40,
          55,
          70,
          80,
          90,
          50,
          65,
          80,
          40,
          80,
          40,
          55,
          80,
          50,
          65,
          90,
          95,
          25,
          50,
          52,
          35,
          60,
          65,
          90,
          80,
          105,
          30,
          50,
          30,
          45,
          60,
          35,
          60,
          85,
          30,
          55,
          40,
          60,
          60,
          95,
          50,
          60,
          50,
          50,
          90,
          40,
          65,
          80,
          105,
          250,
          65,
          105,
          30,
          55,
          45,
          80,
          30,
          60,
          40,
          70,
          65,
          65,
          65,
          65,
          75,
          20,
          95,
          130,
          48,
          55,
          130,
          65,
          65,
          65,
          35,
          70,
          30,
          60,
          80,
          160,
          90,
          90,
          90,
          41,
          61,
          91,
          106,
          100
         ]
        },
        {
         "marker": {
          "color": "red"
         },
         "name": "Attack",
         "type": "box",
         "y": [
          49,
          62,
          82,
          52,
          64,
          84,
          48,
          63,
          83,
          30,
          20,
          45,
          35,
          25,
          90,
          45,
          60,
          80,
          56,
          81,
          60,
          90,
          60,
          85,
          55,
          90,
          75,
          100,
          47,
          62,
          92,
          57,
          72,
          102,
          45,
          70,
          41,
          76,
          45,
          70,
          45,
          80,
          50,
          65,
          80,
          70,
          95,
          55,
          65,
          55,
          80,
          45,
          70,
          52,
          82,
          80,
          105,
          70,
          110,
          50,
          65,
          95,
          20,
          35,
          50,
          80,
          100,
          130,
          75,
          90,
          105,
          40,
          70,
          80,
          95,
          120,
          85,
          100,
          65,
          75,
          35,
          60,
          65,
          85,
          110,
          45,
          70,
          80,
          105,
          65,
          95,
          35,
          50,
          65,
          45,
          48,
          73,
          105,
          130,
          30,
          50,
          40,
          95,
          50,
          80,
          120,
          105,
          55,
          65,
          90,
          85,
          130,
          5,
          55,
          95,
          40,
          65,
          67,
          92,
          45,
          75,
          45,
          110,
          50,
          83,
          95,
          125,
          100,
          10,
          125,
          85,
          48,
          55,
          65,
          65,
          130,
          60,
          40,
          60,
          80,
          115,
          105,
          110,
          85,
          90,
          100,
          64,
          84,
          134,
          110,
          100
         ]
        },
        {
         "marker": {
          "color": "green"
         },
         "name": "Defense",
         "type": "box",
         "y": [
          49,
          63,
          83,
          43,
          58,
          78,
          65,
          80,
          100,
          35,
          55,
          50,
          30,
          50,
          40,
          40,
          55,
          75,
          35,
          60,
          30,
          65,
          44,
          69,
          40,
          55,
          85,
          110,
          52,
          67,
          87,
          40,
          57,
          77,
          48,
          73,
          40,
          75,
          20,
          45,
          35,
          70,
          55,
          70,
          85,
          55,
          80,
          50,
          60,
          25,
          50,
          35,
          60,
          48,
          78,
          35,
          60,
          45,
          80,
          40,
          65,
          95,
          15,
          30,
          45,
          50,
          70,
          80,
          35,
          50,
          65,
          35,
          65,
          100,
          115,
          130,
          55,
          70,
          65,
          110,
          70,
          95,
          55,
          45,
          70,
          55,
          80,
          50,
          75,
          100,
          180,
          30,
          45,
          60,
          160,
          45,
          70,
          90,
          115,
          50,
          70,
          80,
          85,
          95,
          110,
          53,
          79,
          75,
          95,
          120,
          95,
          120,
          5,
          115,
          80,
          70,
          95,
          60,
          65,
          55,
          85,
          65,
          80,
          35,
          57,
          57,
          100,
          95,
          55,
          79,
          80,
          48,
          50,
          60,
          60,
          60,
          70,
          100,
          125,
          90,
          105,
          65,
          65,
          100,
          85,
          90,
          45,
          65,
          95,
          90,
          100
         ]
        },
        {
         "marker": {
          "color": "purple"
         },
         "name": "Sp. Atk",
         "type": "box",
         "y": [
          65,
          80,
          100,
          60,
          80,
          109,
          50,
          65,
          85,
          20,
          25,
          90,
          20,
          25,
          45,
          35,
          50,
          70,
          25,
          50,
          31,
          61,
          40,
          65,
          50,
          90,
          20,
          45,
          40,
          55,
          75,
          40,
          55,
          85,
          60,
          95,
          50,
          81,
          45,
          85,
          30,
          65,
          75,
          85,
          110,
          45,
          60,
          40,
          90,
          35,
          50,
          40,
          65,
          65,
          95,
          35,
          60,
          70,
          100,
          40,
          50,
          70,
          105,
          120,
          135,
          35,
          50,
          65,
          70,
          85,
          100,
          50,
          80,
          30,
          45,
          55,
          65,
          80,
          40,
          100,
          95,
          120,
          58,
          35,
          60,
          45,
          70,
          40,
          65,
          45,
          85,
          100,
          115,
          130,
          30,
          43,
          73,
          25,
          50,
          55,
          80,
          60,
          125,
          40,
          50,
          35,
          35,
          60,
          60,
          85,
          30,
          45,
          35,
          100,
          40,
          70,
          95,
          35,
          65,
          70,
          100,
          100,
          55,
          115,
          95,
          100,
          55,
          40,
          15,
          60,
          85,
          48,
          45,
          110,
          110,
          95,
          85,
          90,
          115,
          55,
          65,
          60,
          65,
          95,
          125,
          125,
          50,
          70,
          100,
          154,
          100
         ]
        },
        {
         "marker": {
          "color": "orange"
         },
         "name": "Sp. Def",
         "type": "box",
         "y": [
          65,
          80,
          100,
          50,
          65,
          85,
          64,
          80,
          105,
          20,
          25,
          80,
          20,
          25,
          80,
          35,
          50,
          70,
          35,
          70,
          31,
          61,
          54,
          79,
          50,
          80,
          30,
          55,
          40,
          55,
          85,
          40,
          55,
          75,
          65,
          90,
          65,
          100,
          25,
          50,
          40,
          75,
          65,
          75,
          90,
          55,
          80,
          55,
          75,
          45,
          70,
          40,
          65,
          50,
          80,
          45,
          70,
          50,
          80,
          40,
          50,
          90,
          55,
          70,
          95,
          35,
          60,
          85,
          30,
          45,
          70,
          100,
          120,
          30,
          45,
          65,
          65,
          80,
          40,
          80,
          55,
          70,
          62,
          35,
          60,
          70,
          95,
          50,
          100,
          25,
          45,
          35,
          55,
          75,
          45,
          90,
          115,
          25,
          50,
          55,
          80,
          45,
          65,
          50,
          80,
          110,
          110,
          75,
          45,
          70,
          30,
          45,
          105,
          40,
          80,
          25,
          45,
          50,
          80,
          55,
          85,
          120,
          80,
          95,
          85,
          85,
          70,
          70,
          20,
          100,
          95,
          48,
          65,
          95,
          95,
          110,
          75,
          55,
          70,
          45,
          70,
          75,
          110,
          125,
          90,
          85,
          50,
          70,
          100,
          90,
          100
         ]
        },
        {
         "marker": {
          "color": "grey"
         },
         "name": "Speed",
         "type": "box",
         "y": [
          45,
          60,
          80,
          65,
          80,
          100,
          43,
          58,
          78,
          45,
          30,
          70,
          50,
          35,
          75,
          56,
          71,
          101,
          72,
          97,
          70,
          100,
          55,
          80,
          90,
          110,
          40,
          65,
          41,
          56,
          76,
          50,
          65,
          85,
          35,
          60,
          65,
          100,
          20,
          45,
          55,
          90,
          30,
          40,
          50,
          25,
          30,
          45,
          90,
          95,
          120,
          90,
          115,
          55,
          85,
          70,
          95,
          60,
          95,
          90,
          90,
          70,
          90,
          105,
          120,
          35,
          45,
          55,
          40,
          55,
          70,
          70,
          100,
          20,
          35,
          45,
          90,
          105,
          15,
          30,
          45,
          70,
          60,
          75,
          100,
          45,
          70,
          25,
          50,
          40,
          70,
          80,
          95,
          110,
          70,
          42,
          67,
          50,
          75,
          100,
          140,
          40,
          55,
          35,
          45,
          87,
          76,
          30,
          35,
          60,
          25,
          40,
          50,
          60,
          90,
          60,
          85,
          63,
          68,
          85,
          115,
          90,
          105,
          95,
          105,
          93,
          85,
          110,
          80,
          81,
          60,
          48,
          55,
          65,
          130,
          65,
          40,
          35,
          55,
          55,
          80,
          130,
          30,
          85,
          100,
          90,
          50,
          70,
          80,
          130,
          100
         ]
        }
       ],
       "layout": {
        "template": {
         "data": {
          "bar": [
           {
            "error_x": {
             "color": "#2a3f5f"
            },
            "error_y": {
             "color": "#2a3f5f"
            },
            "marker": {
             "line": {
              "color": "#E5ECF6",
              "width": 0.5
             }
            },
            "type": "bar"
           }
          ],
          "barpolar": [
           {
            "marker": {
             "line": {
              "color": "#E5ECF6",
              "width": 0.5
             }
            },
            "type": "barpolar"
           }
          ],
          "carpet": [
           {
            "aaxis": {
             "endlinecolor": "#2a3f5f",
             "gridcolor": "white",
             "linecolor": "white",
             "minorgridcolor": "white",
             "startlinecolor": "#2a3f5f"
            },
            "baxis": {
             "endlinecolor": "#2a3f5f",
             "gridcolor": "white",
             "linecolor": "white",
             "minorgridcolor": "white",
             "startlinecolor": "#2a3f5f"
            },
            "type": "carpet"
           }
          ],
          "choropleth": [
           {
            "colorbar": {
             "outlinewidth": 0,
             "ticks": ""
            },
            "type": "choropleth"
           }
          ],
          "contour": [
           {
            "colorbar": {
             "outlinewidth": 0,
             "ticks": ""
            },
            "colorscale": [
             [
              0,
              "#0d0887"
             ],
             [
              0.1111111111111111,
              "#46039f"
             ],
             [
              0.2222222222222222,
              "#7201a8"
             ],
             [
              0.3333333333333333,
              "#9c179e"
             ],
             [
              0.4444444444444444,
              "#bd3786"
             ],
             [
              0.5555555555555556,
              "#d8576b"
             ],
             [
              0.6666666666666666,
              "#ed7953"
             ],
             [
              0.7777777777777778,
              "#fb9f3a"
             ],
             [
              0.8888888888888888,
              "#fdca26"
             ],
             [
              1,
              "#f0f921"
             ]
            ],
            "type": "contour"
           }
          ],
          "contourcarpet": [
           {
            "colorbar": {
             "outlinewidth": 0,
             "ticks": ""
            },
            "type": "contourcarpet"
           }
          ],
          "heatmap": [
           {
            "colorbar": {
             "outlinewidth": 0,
             "ticks": ""
            },
            "colorscale": [
             [
              0,
              "#0d0887"
             ],
             [
              0.1111111111111111,
              "#46039f"
             ],
             [
              0.2222222222222222,
              "#7201a8"
             ],
             [
              0.3333333333333333,
              "#9c179e"
             ],
             [
              0.4444444444444444,
              "#bd3786"
             ],
             [
              0.5555555555555556,
              "#d8576b"
             ],
             [
              0.6666666666666666,
              "#ed7953"
             ],
             [
              0.7777777777777778,
              "#fb9f3a"
             ],
             [
              0.8888888888888888,
              "#fdca26"
             ],
             [
              1,
              "#f0f921"
             ]
            ],
            "type": "heatmap"
           }
          ],
          "heatmapgl": [
           {
            "colorbar": {
             "outlinewidth": 0,
             "ticks": ""
            },
            "colorscale": [
             [
              0,
              "#0d0887"
             ],
             [
              0.1111111111111111,
              "#46039f"
             ],
             [
              0.2222222222222222,
              "#7201a8"
             ],
             [
              0.3333333333333333,
              "#9c179e"
             ],
             [
              0.4444444444444444,
              "#bd3786"
             ],
             [
              0.5555555555555556,
              "#d8576b"
             ],
             [
              0.6666666666666666,
              "#ed7953"
             ],
             [
              0.7777777777777778,
              "#fb9f3a"
             ],
             [
              0.8888888888888888,
              "#fdca26"
             ],
             [
              1,
              "#f0f921"
             ]
            ],
            "type": "heatmapgl"
           }
          ],
          "histogram": [
           {
            "marker": {
             "colorbar": {
              "outlinewidth": 0,
              "ticks": ""
             }
            },
            "type": "histogram"
           }
          ],
          "histogram2d": [
           {
            "colorbar": {
             "outlinewidth": 0,
             "ticks": ""
            },
            "colorscale": [
             [
              0,
              "#0d0887"
             ],
             [
              0.1111111111111111,
              "#46039f"
             ],
             [
              0.2222222222222222,
              "#7201a8"
             ],
             [
              0.3333333333333333,
              "#9c179e"
             ],
             [
              0.4444444444444444,
              "#bd3786"
             ],
             [
              0.5555555555555556,
              "#d8576b"
             ],
             [
              0.6666666666666666,
              "#ed7953"
             ],
             [
              0.7777777777777778,
              "#fb9f3a"
             ],
             [
              0.8888888888888888,
              "#fdca26"
             ],
             [
              1,
              "#f0f921"
             ]
            ],
            "type": "histogram2d"
           }
          ],
          "histogram2dcontour": [
           {
            "colorbar": {
             "outlinewidth": 0,
             "ticks": ""
            },
            "colorscale": [
             [
              0,
              "#0d0887"
             ],
             [
              0.1111111111111111,
              "#46039f"
             ],
             [
              0.2222222222222222,
              "#7201a8"
             ],
             [
              0.3333333333333333,
              "#9c179e"
             ],
             [
              0.4444444444444444,
              "#bd3786"
             ],
             [
              0.5555555555555556,
              "#d8576b"
             ],
             [
              0.6666666666666666,
              "#ed7953"
             ],
             [
              0.7777777777777778,
              "#fb9f3a"
             ],
             [
              0.8888888888888888,
              "#fdca26"
             ],
             [
              1,
              "#f0f921"
             ]
            ],
            "type": "histogram2dcontour"
           }
          ],
          "mesh3d": [
           {
            "colorbar": {
             "outlinewidth": 0,
             "ticks": ""
            },
            "type": "mesh3d"
           }
          ],
          "parcoords": [
           {
            "line": {
             "colorbar": {
              "outlinewidth": 0,
              "ticks": ""
             }
            },
            "type": "parcoords"
           }
          ],
          "pie": [
           {
            "automargin": true,
            "type": "pie"
           }
          ],
          "scatter": [
           {
            "marker": {
             "colorbar": {
              "outlinewidth": 0,
              "ticks": ""
             }
            },
            "type": "scatter"
           }
          ],
          "scatter3d": [
           {
            "line": {
             "colorbar": {
              "outlinewidth": 0,
              "ticks": ""
             }
            },
            "marker": {
             "colorbar": {
              "outlinewidth": 0,
              "ticks": ""
             }
            },
            "type": "scatter3d"
           }
          ],
          "scattercarpet": [
           {
            "marker": {
             "colorbar": {
              "outlinewidth": 0,
              "ticks": ""
             }
            },
            "type": "scattercarpet"
           }
          ],
          "scattergeo": [
           {
            "marker": {
             "colorbar": {
              "outlinewidth": 0,
              "ticks": ""
             }
            },
            "type": "scattergeo"
           }
          ],
          "scattergl": [
           {
            "marker": {
             "colorbar": {
              "outlinewidth": 0,
              "ticks": ""
             }
            },
            "type": "scattergl"
           }
          ],
          "scattermapbox": [
           {
            "marker": {
             "colorbar": {
              "outlinewidth": 0,
              "ticks": ""
             }
            },
            "type": "scattermapbox"
           }
          ],
          "scatterpolar": [
           {
            "marker": {
             "colorbar": {
              "outlinewidth": 0,
              "ticks": ""
             }
            },
            "type": "scatterpolar"
           }
          ],
          "scatterpolargl": [
           {
            "marker": {
             "colorbar": {
              "outlinewidth": 0,
              "ticks": ""
             }
            },
            "type": "scatterpolargl"
           }
          ],
          "scatterternary": [
           {
            "marker": {
             "colorbar": {
              "outlinewidth": 0,
              "ticks": ""
             }
            },
            "type": "scatterternary"
           }
          ],
          "surface": [
           {
            "colorbar": {
             "outlinewidth": 0,
             "ticks": ""
            },
            "colorscale": [
             [
              0,
              "#0d0887"
             ],
             [
              0.1111111111111111,
              "#46039f"
             ],
             [
              0.2222222222222222,
              "#7201a8"
             ],
             [
              0.3333333333333333,
              "#9c179e"
             ],
             [
              0.4444444444444444,
              "#bd3786"
             ],
             [
              0.5555555555555556,
              "#d8576b"
             ],
             [
              0.6666666666666666,
              "#ed7953"
             ],
             [
              0.7777777777777778,
              "#fb9f3a"
             ],
             [
              0.8888888888888888,
              "#fdca26"
             ],
             [
              1,
              "#f0f921"
             ]
            ],
            "type": "surface"
           }
          ],
          "table": [
           {
            "cells": {
             "fill": {
              "color": "#EBF0F8"
             },
             "line": {
              "color": "white"
             }
            },
            "header": {
             "fill": {
              "color": "#C8D4E3"
             },
             "line": {
              "color": "white"
             }
            },
            "type": "table"
           }
          ]
         },
         "layout": {
          "annotationdefaults": {
           "arrowcolor": "#2a3f5f",
           "arrowhead": 0,
           "arrowwidth": 1
          },
          "coloraxis": {
           "colorbar": {
            "outlinewidth": 0,
            "ticks": ""
           }
          },
          "colorscale": {
           "diverging": [
            [
             0,
             "#8e0152"
            ],
            [
             0.1,
             "#c51b7d"
            ],
            [
             0.2,
             "#de77ae"
            ],
            [
             0.3,
             "#f1b6da"
            ],
            [
             0.4,
             "#fde0ef"
            ],
            [
             0.5,
             "#f7f7f7"
            ],
            [
             0.6,
             "#e6f5d0"
            ],
            [
             0.7,
             "#b8e186"
            ],
            [
             0.8,
             "#7fbc41"
            ],
            [
             0.9,
             "#4d9221"
            ],
            [
             1,
             "#276419"
            ]
           ],
           "sequential": [
            [
             0,
             "#0d0887"
            ],
            [
             0.1111111111111111,
             "#46039f"
            ],
            [
             0.2222222222222222,
             "#7201a8"
            ],
            [
             0.3333333333333333,
             "#9c179e"
            ],
            [
             0.4444444444444444,
             "#bd3786"
            ],
            [
             0.5555555555555556,
             "#d8576b"
            ],
            [
             0.6666666666666666,
             "#ed7953"
            ],
            [
             0.7777777777777778,
             "#fb9f3a"
            ],
            [
             0.8888888888888888,
             "#fdca26"
            ],
            [
             1,
             "#f0f921"
            ]
           ],
           "sequentialminus": [
            [
             0,
             "#0d0887"
            ],
            [
             0.1111111111111111,
             "#46039f"
            ],
            [
             0.2222222222222222,
             "#7201a8"
            ],
            [
             0.3333333333333333,
             "#9c179e"
            ],
            [
             0.4444444444444444,
             "#bd3786"
            ],
            [
             0.5555555555555556,
             "#d8576b"
            ],
            [
             0.6666666666666666,
             "#ed7953"
            ],
            [
             0.7777777777777778,
             "#fb9f3a"
            ],
            [
             0.8888888888888888,
             "#fdca26"
            ],
            [
             1,
             "#f0f921"
            ]
           ]
          },
          "colorway": [
           "#636efa",
           "#EF553B",
           "#00cc96",
           "#ab63fa",
           "#FFA15A",
           "#19d3f3",
           "#FF6692",
           "#B6E880",
           "#FF97FF",
           "#FECB52"
          ],
          "font": {
           "color": "#2a3f5f"
          },
          "geo": {
           "bgcolor": "white",
           "lakecolor": "white",
           "landcolor": "#E5ECF6",
           "showlakes": true,
           "showland": true,
           "subunitcolor": "white"
          },
          "hoverlabel": {
           "align": "left"
          },
          "hovermode": "closest",
          "mapbox": {
           "style": "light"
          },
          "paper_bgcolor": "white",
          "plot_bgcolor": "#E5ECF6",
          "polar": {
           "angularaxis": {
            "gridcolor": "white",
            "linecolor": "white",
            "ticks": ""
           },
           "bgcolor": "#E5ECF6",
           "radialaxis": {
            "gridcolor": "white",
            "linecolor": "white",
            "ticks": ""
           }
          },
          "scene": {
           "xaxis": {
            "backgroundcolor": "#E5ECF6",
            "gridcolor": "white",
            "gridwidth": 2,
            "linecolor": "white",
            "showbackground": true,
            "ticks": "",
            "zerolinecolor": "white"
           },
           "yaxis": {
            "backgroundcolor": "#E5ECF6",
            "gridcolor": "white",
            "gridwidth": 2,
            "linecolor": "white",
            "showbackground": true,
            "ticks": "",
            "zerolinecolor": "white"
           },
           "zaxis": {
            "backgroundcolor": "#E5ECF6",
            "gridcolor": "white",
            "gridwidth": 2,
            "linecolor": "white",
            "showbackground": true,
            "ticks": "",
            "zerolinecolor": "white"
           }
          },
          "shapedefaults": {
           "line": {
            "color": "#2a3f5f"
           }
          },
          "ternary": {
           "aaxis": {
            "gridcolor": "white",
            "linecolor": "white",
            "ticks": ""
           },
           "baxis": {
            "gridcolor": "white",
            "linecolor": "white",
            "ticks": ""
           },
           "bgcolor": "#E5ECF6",
           "caxis": {
            "gridcolor": "white",
            "linecolor": "white",
            "ticks": ""
           }
          },
          "title": {
           "x": 0.05
          },
          "xaxis": {
           "automargin": true,
           "gridcolor": "white",
           "linecolor": "white",
           "ticks": "",
           "title": {
            "standoff": 15
           },
           "zerolinecolor": "white",
           "zerolinewidth": 2
          },
          "yaxis": {
           "automargin": true,
           "gridcolor": "white",
           "linecolor": "white",
           "ticks": "",
           "title": {
            "standoff": 15
           },
           "zerolinecolor": "white",
           "zerolinewidth": 2
          }
         }
        },
        "title": {
         "text": "Gráfico de Dispersão dos Atributos"
        }
       }
      },
      "text/html": [
       "<div>\n",
       "        \n",
       "        \n",
       "            <div id=\"3f8ebfc1-b2e5-4edf-88cf-bc83875b7727\" class=\"plotly-graph-div\" style=\"height:525px; width:100%;\"></div>\n",
       "            <script type=\"text/javascript\">\n",
       "                require([\"plotly\"], function(Plotly) {\n",
       "                    window.PLOTLYENV=window.PLOTLYENV || {};\n",
       "                    \n",
       "                if (document.getElementById(\"3f8ebfc1-b2e5-4edf-88cf-bc83875b7727\")) {\n",
       "                    Plotly.newPlot(\n",
       "                        '3f8ebfc1-b2e5-4edf-88cf-bc83875b7727',\n",
       "                        [{\"marker\": {\"color\": \"blue\"}, \"name\": \"HP\", \"type\": \"box\", \"y\": [45, 60, 80, 39, 58, 78, 44, 59, 79, 45, 50, 60, 40, 45, 65, 40, 63, 83, 30, 55, 40, 65, 35, 60, 35, 60, 50, 75, 55, 70, 90, 46, 61, 81, 70, 95, 38, 73, 115, 140, 40, 75, 45, 60, 75, 35, 60, 60, 70, 10, 35, 40, 65, 50, 80, 40, 65, 55, 90, 40, 65, 90, 25, 40, 55, 70, 80, 90, 50, 65, 80, 40, 80, 40, 55, 80, 50, 65, 90, 95, 25, 50, 52, 35, 60, 65, 90, 80, 105, 30, 50, 30, 45, 60, 35, 60, 85, 30, 55, 40, 60, 60, 95, 50, 60, 50, 50, 90, 40, 65, 80, 105, 250, 65, 105, 30, 55, 45, 80, 30, 60, 40, 70, 65, 65, 65, 65, 75, 20, 95, 130, 48, 55, 130, 65, 65, 65, 35, 70, 30, 60, 80, 160, 90, 90, 90, 41, 61, 91, 106, 100]}, {\"marker\": {\"color\": \"red\"}, \"name\": \"Attack\", \"type\": \"box\", \"y\": [49, 62, 82, 52, 64, 84, 48, 63, 83, 30, 20, 45, 35, 25, 90, 45, 60, 80, 56, 81, 60, 90, 60, 85, 55, 90, 75, 100, 47, 62, 92, 57, 72, 102, 45, 70, 41, 76, 45, 70, 45, 80, 50, 65, 80, 70, 95, 55, 65, 55, 80, 45, 70, 52, 82, 80, 105, 70, 110, 50, 65, 95, 20, 35, 50, 80, 100, 130, 75, 90, 105, 40, 70, 80, 95, 120, 85, 100, 65, 75, 35, 60, 65, 85, 110, 45, 70, 80, 105, 65, 95, 35, 50, 65, 45, 48, 73, 105, 130, 30, 50, 40, 95, 50, 80, 120, 105, 55, 65, 90, 85, 130, 5, 55, 95, 40, 65, 67, 92, 45, 75, 45, 110, 50, 83, 95, 125, 100, 10, 125, 85, 48, 55, 65, 65, 130, 60, 40, 60, 80, 115, 105, 110, 85, 90, 100, 64, 84, 134, 110, 100]}, {\"marker\": {\"color\": \"green\"}, \"name\": \"Defense\", \"type\": \"box\", \"y\": [49, 63, 83, 43, 58, 78, 65, 80, 100, 35, 55, 50, 30, 50, 40, 40, 55, 75, 35, 60, 30, 65, 44, 69, 40, 55, 85, 110, 52, 67, 87, 40, 57, 77, 48, 73, 40, 75, 20, 45, 35, 70, 55, 70, 85, 55, 80, 50, 60, 25, 50, 35, 60, 48, 78, 35, 60, 45, 80, 40, 65, 95, 15, 30, 45, 50, 70, 80, 35, 50, 65, 35, 65, 100, 115, 130, 55, 70, 65, 110, 70, 95, 55, 45, 70, 55, 80, 50, 75, 100, 180, 30, 45, 60, 160, 45, 70, 90, 115, 50, 70, 80, 85, 95, 110, 53, 79, 75, 95, 120, 95, 120, 5, 115, 80, 70, 95, 60, 65, 55, 85, 65, 80, 35, 57, 57, 100, 95, 55, 79, 80, 48, 50, 60, 60, 60, 70, 100, 125, 90, 105, 65, 65, 100, 85, 90, 45, 65, 95, 90, 100]}, {\"marker\": {\"color\": \"purple\"}, \"name\": \"Sp. Atk\", \"type\": \"box\", \"y\": [65, 80, 100, 60, 80, 109, 50, 65, 85, 20, 25, 90, 20, 25, 45, 35, 50, 70, 25, 50, 31, 61, 40, 65, 50, 90, 20, 45, 40, 55, 75, 40, 55, 85, 60, 95, 50, 81, 45, 85, 30, 65, 75, 85, 110, 45, 60, 40, 90, 35, 50, 40, 65, 65, 95, 35, 60, 70, 100, 40, 50, 70, 105, 120, 135, 35, 50, 65, 70, 85, 100, 50, 80, 30, 45, 55, 65, 80, 40, 100, 95, 120, 58, 35, 60, 45, 70, 40, 65, 45, 85, 100, 115, 130, 30, 43, 73, 25, 50, 55, 80, 60, 125, 40, 50, 35, 35, 60, 60, 85, 30, 45, 35, 100, 40, 70, 95, 35, 65, 70, 100, 100, 55, 115, 95, 100, 55, 40, 15, 60, 85, 48, 45, 110, 110, 95, 85, 90, 115, 55, 65, 60, 65, 95, 125, 125, 50, 70, 100, 154, 100]}, {\"marker\": {\"color\": \"orange\"}, \"name\": \"Sp. Def\", \"type\": \"box\", \"y\": [65, 80, 100, 50, 65, 85, 64, 80, 105, 20, 25, 80, 20, 25, 80, 35, 50, 70, 35, 70, 31, 61, 54, 79, 50, 80, 30, 55, 40, 55, 85, 40, 55, 75, 65, 90, 65, 100, 25, 50, 40, 75, 65, 75, 90, 55, 80, 55, 75, 45, 70, 40, 65, 50, 80, 45, 70, 50, 80, 40, 50, 90, 55, 70, 95, 35, 60, 85, 30, 45, 70, 100, 120, 30, 45, 65, 65, 80, 40, 80, 55, 70, 62, 35, 60, 70, 95, 50, 100, 25, 45, 35, 55, 75, 45, 90, 115, 25, 50, 55, 80, 45, 65, 50, 80, 110, 110, 75, 45, 70, 30, 45, 105, 40, 80, 25, 45, 50, 80, 55, 85, 120, 80, 95, 85, 85, 70, 70, 20, 100, 95, 48, 65, 95, 95, 110, 75, 55, 70, 45, 70, 75, 110, 125, 90, 85, 50, 70, 100, 90, 100]}, {\"marker\": {\"color\": \"grey\"}, \"name\": \"Speed\", \"type\": \"box\", \"y\": [45, 60, 80, 65, 80, 100, 43, 58, 78, 45, 30, 70, 50, 35, 75, 56, 71, 101, 72, 97, 70, 100, 55, 80, 90, 110, 40, 65, 41, 56, 76, 50, 65, 85, 35, 60, 65, 100, 20, 45, 55, 90, 30, 40, 50, 25, 30, 45, 90, 95, 120, 90, 115, 55, 85, 70, 95, 60, 95, 90, 90, 70, 90, 105, 120, 35, 45, 55, 40, 55, 70, 70, 100, 20, 35, 45, 90, 105, 15, 30, 45, 70, 60, 75, 100, 45, 70, 25, 50, 40, 70, 80, 95, 110, 70, 42, 67, 50, 75, 100, 140, 40, 55, 35, 45, 87, 76, 30, 35, 60, 25, 40, 50, 60, 90, 60, 85, 63, 68, 85, 115, 90, 105, 95, 105, 93, 85, 110, 80, 81, 60, 48, 55, 65, 130, 65, 40, 35, 55, 55, 80, 130, 30, 85, 100, 90, 50, 70, 80, 130, 100]}],\n",
       "                        {\"template\": {\"data\": {\"bar\": [{\"error_x\": {\"color\": \"#2a3f5f\"}, \"error_y\": {\"color\": \"#2a3f5f\"}, \"marker\": {\"line\": {\"color\": \"#E5ECF6\", \"width\": 0.5}}, \"type\": \"bar\"}], \"barpolar\": [{\"marker\": {\"line\": {\"color\": \"#E5ECF6\", \"width\": 0.5}}, \"type\": \"barpolar\"}], \"carpet\": [{\"aaxis\": {\"endlinecolor\": \"#2a3f5f\", \"gridcolor\": \"white\", \"linecolor\": \"white\", \"minorgridcolor\": \"white\", \"startlinecolor\": \"#2a3f5f\"}, \"baxis\": {\"endlinecolor\": \"#2a3f5f\", \"gridcolor\": \"white\", \"linecolor\": \"white\", \"minorgridcolor\": \"white\", \"startlinecolor\": \"#2a3f5f\"}, \"type\": \"carpet\"}], \"choropleth\": [{\"colorbar\": {\"outlinewidth\": 0, \"ticks\": \"\"}, \"type\": \"choropleth\"}], \"contour\": [{\"colorbar\": {\"outlinewidth\": 0, \"ticks\": \"\"}, \"colorscale\": [[0.0, \"#0d0887\"], [0.1111111111111111, \"#46039f\"], [0.2222222222222222, \"#7201a8\"], [0.3333333333333333, \"#9c179e\"], [0.4444444444444444, \"#bd3786\"], [0.5555555555555556, \"#d8576b\"], [0.6666666666666666, \"#ed7953\"], [0.7777777777777778, \"#fb9f3a\"], [0.8888888888888888, \"#fdca26\"], [1.0, \"#f0f921\"]], \"type\": \"contour\"}], \"contourcarpet\": [{\"colorbar\": {\"outlinewidth\": 0, \"ticks\": \"\"}, \"type\": \"contourcarpet\"}], \"heatmap\": [{\"colorbar\": {\"outlinewidth\": 0, \"ticks\": \"\"}, \"colorscale\": [[0.0, \"#0d0887\"], [0.1111111111111111, \"#46039f\"], [0.2222222222222222, \"#7201a8\"], [0.3333333333333333, \"#9c179e\"], [0.4444444444444444, \"#bd3786\"], [0.5555555555555556, \"#d8576b\"], [0.6666666666666666, \"#ed7953\"], [0.7777777777777778, \"#fb9f3a\"], [0.8888888888888888, \"#fdca26\"], [1.0, \"#f0f921\"]], \"type\": \"heatmap\"}], \"heatmapgl\": [{\"colorbar\": {\"outlinewidth\": 0, \"ticks\": \"\"}, \"colorscale\": [[0.0, \"#0d0887\"], [0.1111111111111111, \"#46039f\"], [0.2222222222222222, \"#7201a8\"], [0.3333333333333333, \"#9c179e\"], [0.4444444444444444, \"#bd3786\"], [0.5555555555555556, \"#d8576b\"], [0.6666666666666666, \"#ed7953\"], [0.7777777777777778, \"#fb9f3a\"], [0.8888888888888888, \"#fdca26\"], [1.0, \"#f0f921\"]], \"type\": \"heatmapgl\"}], \"histogram\": [{\"marker\": {\"colorbar\": {\"outlinewidth\": 0, \"ticks\": \"\"}}, \"type\": \"histogram\"}], \"histogram2d\": [{\"colorbar\": {\"outlinewidth\": 0, \"ticks\": \"\"}, \"colorscale\": [[0.0, \"#0d0887\"], [0.1111111111111111, \"#46039f\"], [0.2222222222222222, \"#7201a8\"], [0.3333333333333333, \"#9c179e\"], [0.4444444444444444, \"#bd3786\"], [0.5555555555555556, \"#d8576b\"], [0.6666666666666666, \"#ed7953\"], [0.7777777777777778, \"#fb9f3a\"], [0.8888888888888888, \"#fdca26\"], [1.0, \"#f0f921\"]], \"type\": \"histogram2d\"}], \"histogram2dcontour\": [{\"colorbar\": {\"outlinewidth\": 0, \"ticks\": \"\"}, \"colorscale\": [[0.0, \"#0d0887\"], [0.1111111111111111, \"#46039f\"], [0.2222222222222222, \"#7201a8\"], [0.3333333333333333, \"#9c179e\"], [0.4444444444444444, \"#bd3786\"], [0.5555555555555556, \"#d8576b\"], [0.6666666666666666, \"#ed7953\"], [0.7777777777777778, \"#fb9f3a\"], [0.8888888888888888, \"#fdca26\"], [1.0, \"#f0f921\"]], \"type\": \"histogram2dcontour\"}], \"mesh3d\": [{\"colorbar\": {\"outlinewidth\": 0, \"ticks\": \"\"}, \"type\": \"mesh3d\"}], \"parcoords\": [{\"line\": {\"colorbar\": {\"outlinewidth\": 0, \"ticks\": \"\"}}, \"type\": \"parcoords\"}], \"pie\": [{\"automargin\": true, \"type\": \"pie\"}], \"scatter\": [{\"marker\": {\"colorbar\": {\"outlinewidth\": 0, \"ticks\": \"\"}}, \"type\": \"scatter\"}], \"scatter3d\": [{\"line\": {\"colorbar\": {\"outlinewidth\": 0, \"ticks\": \"\"}}, \"marker\": {\"colorbar\": {\"outlinewidth\": 0, \"ticks\": \"\"}}, \"type\": \"scatter3d\"}], \"scattercarpet\": [{\"marker\": {\"colorbar\": {\"outlinewidth\": 0, \"ticks\": \"\"}}, \"type\": \"scattercarpet\"}], \"scattergeo\": [{\"marker\": {\"colorbar\": {\"outlinewidth\": 0, \"ticks\": \"\"}}, \"type\": \"scattergeo\"}], \"scattergl\": [{\"marker\": {\"colorbar\": {\"outlinewidth\": 0, \"ticks\": \"\"}}, \"type\": \"scattergl\"}], \"scattermapbox\": [{\"marker\": {\"colorbar\": {\"outlinewidth\": 0, \"ticks\": \"\"}}, \"type\": \"scattermapbox\"}], \"scatterpolar\": [{\"marker\": {\"colorbar\": {\"outlinewidth\": 0, \"ticks\": \"\"}}, \"type\": \"scatterpolar\"}], \"scatterpolargl\": [{\"marker\": {\"colorbar\": {\"outlinewidth\": 0, \"ticks\": \"\"}}, \"type\": \"scatterpolargl\"}], \"scatterternary\": [{\"marker\": {\"colorbar\": {\"outlinewidth\": 0, \"ticks\": \"\"}}, \"type\": \"scatterternary\"}], \"surface\": [{\"colorbar\": {\"outlinewidth\": 0, \"ticks\": \"\"}, \"colorscale\": [[0.0, \"#0d0887\"], [0.1111111111111111, \"#46039f\"], [0.2222222222222222, \"#7201a8\"], [0.3333333333333333, \"#9c179e\"], [0.4444444444444444, \"#bd3786\"], [0.5555555555555556, \"#d8576b\"], [0.6666666666666666, \"#ed7953\"], [0.7777777777777778, \"#fb9f3a\"], [0.8888888888888888, \"#fdca26\"], [1.0, \"#f0f921\"]], \"type\": \"surface\"}], \"table\": [{\"cells\": {\"fill\": {\"color\": \"#EBF0F8\"}, \"line\": {\"color\": \"white\"}}, \"header\": {\"fill\": {\"color\": \"#C8D4E3\"}, \"line\": {\"color\": \"white\"}}, \"type\": \"table\"}]}, \"layout\": {\"annotationdefaults\": {\"arrowcolor\": \"#2a3f5f\", \"arrowhead\": 0, \"arrowwidth\": 1}, \"coloraxis\": {\"colorbar\": {\"outlinewidth\": 0, \"ticks\": \"\"}}, \"colorscale\": {\"diverging\": [[0, \"#8e0152\"], [0.1, \"#c51b7d\"], [0.2, \"#de77ae\"], [0.3, \"#f1b6da\"], [0.4, \"#fde0ef\"], [0.5, \"#f7f7f7\"], [0.6, \"#e6f5d0\"], [0.7, \"#b8e186\"], [0.8, \"#7fbc41\"], [0.9, \"#4d9221\"], [1, \"#276419\"]], \"sequential\": [[0.0, \"#0d0887\"], [0.1111111111111111, \"#46039f\"], [0.2222222222222222, \"#7201a8\"], [0.3333333333333333, \"#9c179e\"], [0.4444444444444444, \"#bd3786\"], [0.5555555555555556, \"#d8576b\"], [0.6666666666666666, \"#ed7953\"], [0.7777777777777778, \"#fb9f3a\"], [0.8888888888888888, \"#fdca26\"], [1.0, \"#f0f921\"]], \"sequentialminus\": [[0.0, \"#0d0887\"], [0.1111111111111111, \"#46039f\"], [0.2222222222222222, \"#7201a8\"], [0.3333333333333333, \"#9c179e\"], [0.4444444444444444, \"#bd3786\"], [0.5555555555555556, \"#d8576b\"], [0.6666666666666666, \"#ed7953\"], [0.7777777777777778, \"#fb9f3a\"], [0.8888888888888888, \"#fdca26\"], [1.0, \"#f0f921\"]]}, \"colorway\": [\"#636efa\", \"#EF553B\", \"#00cc96\", \"#ab63fa\", \"#FFA15A\", \"#19d3f3\", \"#FF6692\", \"#B6E880\", \"#FF97FF\", \"#FECB52\"], \"font\": {\"color\": \"#2a3f5f\"}, \"geo\": {\"bgcolor\": \"white\", \"lakecolor\": \"white\", \"landcolor\": \"#E5ECF6\", \"showlakes\": true, \"showland\": true, \"subunitcolor\": \"white\"}, \"hoverlabel\": {\"align\": \"left\"}, \"hovermode\": \"closest\", \"mapbox\": {\"style\": \"light\"}, \"paper_bgcolor\": \"white\", \"plot_bgcolor\": \"#E5ECF6\", \"polar\": {\"angularaxis\": {\"gridcolor\": \"white\", \"linecolor\": \"white\", \"ticks\": \"\"}, \"bgcolor\": \"#E5ECF6\", \"radialaxis\": {\"gridcolor\": \"white\", \"linecolor\": \"white\", \"ticks\": \"\"}}, \"scene\": {\"xaxis\": {\"backgroundcolor\": \"#E5ECF6\", \"gridcolor\": \"white\", \"gridwidth\": 2, \"linecolor\": \"white\", \"showbackground\": true, \"ticks\": \"\", \"zerolinecolor\": \"white\"}, \"yaxis\": {\"backgroundcolor\": \"#E5ECF6\", \"gridcolor\": \"white\", \"gridwidth\": 2, \"linecolor\": \"white\", \"showbackground\": true, \"ticks\": \"\", \"zerolinecolor\": \"white\"}, \"zaxis\": {\"backgroundcolor\": \"#E5ECF6\", \"gridcolor\": \"white\", \"gridwidth\": 2, \"linecolor\": \"white\", \"showbackground\": true, \"ticks\": \"\", \"zerolinecolor\": \"white\"}}, \"shapedefaults\": {\"line\": {\"color\": \"#2a3f5f\"}}, \"ternary\": {\"aaxis\": {\"gridcolor\": \"white\", \"linecolor\": \"white\", \"ticks\": \"\"}, \"baxis\": {\"gridcolor\": \"white\", \"linecolor\": \"white\", \"ticks\": \"\"}, \"bgcolor\": \"#E5ECF6\", \"caxis\": {\"gridcolor\": \"white\", \"linecolor\": \"white\", \"ticks\": \"\"}}, \"title\": {\"x\": 0.05}, \"xaxis\": {\"automargin\": true, \"gridcolor\": \"white\", \"linecolor\": \"white\", \"ticks\": \"\", \"title\": {\"standoff\": 15}, \"zerolinecolor\": \"white\", \"zerolinewidth\": 2}, \"yaxis\": {\"automargin\": true, \"gridcolor\": \"white\", \"linecolor\": \"white\", \"ticks\": \"\", \"title\": {\"standoff\": 15}, \"zerolinecolor\": \"white\", \"zerolinewidth\": 2}}}, \"title\": {\"text\": \"Gr\\u00e1fico de Dispers\\u00e3o dos Atributos\"}},\n",
       "                        {\"responsive\": true}\n",
       "                    ).then(function(){\n",
       "                            \n",
       "var gd = document.getElementById('3f8ebfc1-b2e5-4edf-88cf-bc83875b7727');\n",
       "var x = new MutationObserver(function (mutations, observer) {{\n",
       "        var display = window.getComputedStyle(gd).display;\n",
       "        if (!display || display === 'none') {{\n",
       "            console.log([gd, 'removed!']);\n",
       "            Plotly.purge(gd);\n",
       "            observer.disconnect();\n",
       "        }}\n",
       "}});\n",
       "\n",
       "// Listen for the removal of the full notebook cells\n",
       "var notebookContainer = gd.closest('#notebook-container');\n",
       "if (notebookContainer) {{\n",
       "    x.observe(notebookContainer, {childList: true});\n",
       "}}\n",
       "\n",
       "// Listen for the clearing of the current output cell\n",
       "var outputEl = gd.closest('.output');\n",
       "if (outputEl) {{\n",
       "    x.observe(outputEl, {childList: true});\n",
       "}}\n",
       "\n",
       "                        })\n",
       "                };\n",
       "                });\n",
       "            </script>\n",
       "        </div>"
      ]
     },
     "metadata": {},
     "output_type": "display_data"
    }
   ],
   "source": [
    "boxplot_atributos()"
   ]
  },
  {
   "cell_type": "code",
   "execution_count": 46,
   "metadata": {
    "slideshow": {
     "slide_type": "skip"
    }
   },
   "outputs": [],
   "source": [
    "# Visualizar Atributo de Pokemon por Tipo\n",
    "def attr_by_type(type):\n",
    "    data = []\n",
    "    stats_names = ['HP', 'Attack', 'Defense', 'Sp. Atk', 'Sp. Def', 'Speed']\n",
    "    particular_type = pokemon[pokemon['Type 1'] == type].reset_index(drop=True)\n",
    "    for stat in stats_names:\n",
    "        stat_line = go.Scatter(\n",
    "            x=particular_type['Name'],\n",
    "            y=particular_type[stat],\n",
    "            name=stat,\n",
    "            line=dict(width=3)\n",
    "        )\n",
    "        data.append(stat_line)\n",
    "    layout = go.Layout(\n",
    "        title=\"Atributos de cada Pokemon do Tipo ({})\".format(type),\n",
    "        xaxis=dict(title=\"Pokemon Tipo {}\".format(type)),\n",
    "        yaxis=dict(title=\"Valores\")\n",
    "    )\n",
    "    fig = go.Figure(data=data, layout=layout)\n",
    "    iplot(fig, filename='attr_por_tipo_poke')"
   ]
  },
  {
   "cell_type": "code",
   "execution_count": 47,
   "metadata": {
    "slideshow": {
     "slide_type": "skip"
    }
   },
   "outputs": [
    {
     "data": {
      "application/vnd.plotly.v1+json": {
       "config": {
        "linkText": "Export to plot.ly",
        "plotlyServerURL": "https://plot.ly",
        "showLink": false
       },
       "data": [
        {
         "line": {
          "width": 3
         },
         "name": "HP",
         "type": "scatter",
         "x": [
          "Caterpie",
          "Metapod",
          "Butterfree",
          "Weedle",
          "Kakuna",
          "Beedrill",
          "Paras",
          "Parasect",
          "Venonat",
          "Venomoth",
          "Scyther",
          "Pinsir"
         ],
         "y": [
          45,
          50,
          60,
          40,
          45,
          65,
          35,
          60,
          60,
          70,
          70,
          65
         ]
        },
        {
         "line": {
          "width": 3
         },
         "name": "Attack",
         "type": "scatter",
         "x": [
          "Caterpie",
          "Metapod",
          "Butterfree",
          "Weedle",
          "Kakuna",
          "Beedrill",
          "Paras",
          "Parasect",
          "Venonat",
          "Venomoth",
          "Scyther",
          "Pinsir"
         ],
         "y": [
          30,
          20,
          45,
          35,
          25,
          90,
          70,
          95,
          55,
          65,
          110,
          125
         ]
        },
        {
         "line": {
          "width": 3
         },
         "name": "Defense",
         "type": "scatter",
         "x": [
          "Caterpie",
          "Metapod",
          "Butterfree",
          "Weedle",
          "Kakuna",
          "Beedrill",
          "Paras",
          "Parasect",
          "Venonat",
          "Venomoth",
          "Scyther",
          "Pinsir"
         ],
         "y": [
          35,
          55,
          50,
          30,
          50,
          40,
          55,
          80,
          50,
          60,
          80,
          100
         ]
        },
        {
         "line": {
          "width": 3
         },
         "name": "Sp. Atk",
         "type": "scatter",
         "x": [
          "Caterpie",
          "Metapod",
          "Butterfree",
          "Weedle",
          "Kakuna",
          "Beedrill",
          "Paras",
          "Parasect",
          "Venonat",
          "Venomoth",
          "Scyther",
          "Pinsir"
         ],
         "y": [
          20,
          25,
          90,
          20,
          25,
          45,
          45,
          60,
          40,
          90,
          55,
          55
         ]
        },
        {
         "line": {
          "width": 3
         },
         "name": "Sp. Def",
         "type": "scatter",
         "x": [
          "Caterpie",
          "Metapod",
          "Butterfree",
          "Weedle",
          "Kakuna",
          "Beedrill",
          "Paras",
          "Parasect",
          "Venonat",
          "Venomoth",
          "Scyther",
          "Pinsir"
         ],
         "y": [
          20,
          25,
          80,
          20,
          25,
          80,
          55,
          80,
          55,
          75,
          80,
          70
         ]
        },
        {
         "line": {
          "width": 3
         },
         "name": "Speed",
         "type": "scatter",
         "x": [
          "Caterpie",
          "Metapod",
          "Butterfree",
          "Weedle",
          "Kakuna",
          "Beedrill",
          "Paras",
          "Parasect",
          "Venonat",
          "Venomoth",
          "Scyther",
          "Pinsir"
         ],
         "y": [
          45,
          30,
          70,
          50,
          35,
          75,
          25,
          30,
          45,
          90,
          105,
          85
         ]
        }
       ],
       "layout": {
        "template": {
         "data": {
          "bar": [
           {
            "error_x": {
             "color": "#2a3f5f"
            },
            "error_y": {
             "color": "#2a3f5f"
            },
            "marker": {
             "line": {
              "color": "#E5ECF6",
              "width": 0.5
             }
            },
            "type": "bar"
           }
          ],
          "barpolar": [
           {
            "marker": {
             "line": {
              "color": "#E5ECF6",
              "width": 0.5
             }
            },
            "type": "barpolar"
           }
          ],
          "carpet": [
           {
            "aaxis": {
             "endlinecolor": "#2a3f5f",
             "gridcolor": "white",
             "linecolor": "white",
             "minorgridcolor": "white",
             "startlinecolor": "#2a3f5f"
            },
            "baxis": {
             "endlinecolor": "#2a3f5f",
             "gridcolor": "white",
             "linecolor": "white",
             "minorgridcolor": "white",
             "startlinecolor": "#2a3f5f"
            },
            "type": "carpet"
           }
          ],
          "choropleth": [
           {
            "colorbar": {
             "outlinewidth": 0,
             "ticks": ""
            },
            "type": "choropleth"
           }
          ],
          "contour": [
           {
            "colorbar": {
             "outlinewidth": 0,
             "ticks": ""
            },
            "colorscale": [
             [
              0,
              "#0d0887"
             ],
             [
              0.1111111111111111,
              "#46039f"
             ],
             [
              0.2222222222222222,
              "#7201a8"
             ],
             [
              0.3333333333333333,
              "#9c179e"
             ],
             [
              0.4444444444444444,
              "#bd3786"
             ],
             [
              0.5555555555555556,
              "#d8576b"
             ],
             [
              0.6666666666666666,
              "#ed7953"
             ],
             [
              0.7777777777777778,
              "#fb9f3a"
             ],
             [
              0.8888888888888888,
              "#fdca26"
             ],
             [
              1,
              "#f0f921"
             ]
            ],
            "type": "contour"
           }
          ],
          "contourcarpet": [
           {
            "colorbar": {
             "outlinewidth": 0,
             "ticks": ""
            },
            "type": "contourcarpet"
           }
          ],
          "heatmap": [
           {
            "colorbar": {
             "outlinewidth": 0,
             "ticks": ""
            },
            "colorscale": [
             [
              0,
              "#0d0887"
             ],
             [
              0.1111111111111111,
              "#46039f"
             ],
             [
              0.2222222222222222,
              "#7201a8"
             ],
             [
              0.3333333333333333,
              "#9c179e"
             ],
             [
              0.4444444444444444,
              "#bd3786"
             ],
             [
              0.5555555555555556,
              "#d8576b"
             ],
             [
              0.6666666666666666,
              "#ed7953"
             ],
             [
              0.7777777777777778,
              "#fb9f3a"
             ],
             [
              0.8888888888888888,
              "#fdca26"
             ],
             [
              1,
              "#f0f921"
             ]
            ],
            "type": "heatmap"
           }
          ],
          "heatmapgl": [
           {
            "colorbar": {
             "outlinewidth": 0,
             "ticks": ""
            },
            "colorscale": [
             [
              0,
              "#0d0887"
             ],
             [
              0.1111111111111111,
              "#46039f"
             ],
             [
              0.2222222222222222,
              "#7201a8"
             ],
             [
              0.3333333333333333,
              "#9c179e"
             ],
             [
              0.4444444444444444,
              "#bd3786"
             ],
             [
              0.5555555555555556,
              "#d8576b"
             ],
             [
              0.6666666666666666,
              "#ed7953"
             ],
             [
              0.7777777777777778,
              "#fb9f3a"
             ],
             [
              0.8888888888888888,
              "#fdca26"
             ],
             [
              1,
              "#f0f921"
             ]
            ],
            "type": "heatmapgl"
           }
          ],
          "histogram": [
           {
            "marker": {
             "colorbar": {
              "outlinewidth": 0,
              "ticks": ""
             }
            },
            "type": "histogram"
           }
          ],
          "histogram2d": [
           {
            "colorbar": {
             "outlinewidth": 0,
             "ticks": ""
            },
            "colorscale": [
             [
              0,
              "#0d0887"
             ],
             [
              0.1111111111111111,
              "#46039f"
             ],
             [
              0.2222222222222222,
              "#7201a8"
             ],
             [
              0.3333333333333333,
              "#9c179e"
             ],
             [
              0.4444444444444444,
              "#bd3786"
             ],
             [
              0.5555555555555556,
              "#d8576b"
             ],
             [
              0.6666666666666666,
              "#ed7953"
             ],
             [
              0.7777777777777778,
              "#fb9f3a"
             ],
             [
              0.8888888888888888,
              "#fdca26"
             ],
             [
              1,
              "#f0f921"
             ]
            ],
            "type": "histogram2d"
           }
          ],
          "histogram2dcontour": [
           {
            "colorbar": {
             "outlinewidth": 0,
             "ticks": ""
            },
            "colorscale": [
             [
              0,
              "#0d0887"
             ],
             [
              0.1111111111111111,
              "#46039f"
             ],
             [
              0.2222222222222222,
              "#7201a8"
             ],
             [
              0.3333333333333333,
              "#9c179e"
             ],
             [
              0.4444444444444444,
              "#bd3786"
             ],
             [
              0.5555555555555556,
              "#d8576b"
             ],
             [
              0.6666666666666666,
              "#ed7953"
             ],
             [
              0.7777777777777778,
              "#fb9f3a"
             ],
             [
              0.8888888888888888,
              "#fdca26"
             ],
             [
              1,
              "#f0f921"
             ]
            ],
            "type": "histogram2dcontour"
           }
          ],
          "mesh3d": [
           {
            "colorbar": {
             "outlinewidth": 0,
             "ticks": ""
            },
            "type": "mesh3d"
           }
          ],
          "parcoords": [
           {
            "line": {
             "colorbar": {
              "outlinewidth": 0,
              "ticks": ""
             }
            },
            "type": "parcoords"
           }
          ],
          "pie": [
           {
            "automargin": true,
            "type": "pie"
           }
          ],
          "scatter": [
           {
            "marker": {
             "colorbar": {
              "outlinewidth": 0,
              "ticks": ""
             }
            },
            "type": "scatter"
           }
          ],
          "scatter3d": [
           {
            "line": {
             "colorbar": {
              "outlinewidth": 0,
              "ticks": ""
             }
            },
            "marker": {
             "colorbar": {
              "outlinewidth": 0,
              "ticks": ""
             }
            },
            "type": "scatter3d"
           }
          ],
          "scattercarpet": [
           {
            "marker": {
             "colorbar": {
              "outlinewidth": 0,
              "ticks": ""
             }
            },
            "type": "scattercarpet"
           }
          ],
          "scattergeo": [
           {
            "marker": {
             "colorbar": {
              "outlinewidth": 0,
              "ticks": ""
             }
            },
            "type": "scattergeo"
           }
          ],
          "scattergl": [
           {
            "marker": {
             "colorbar": {
              "outlinewidth": 0,
              "ticks": ""
             }
            },
            "type": "scattergl"
           }
          ],
          "scattermapbox": [
           {
            "marker": {
             "colorbar": {
              "outlinewidth": 0,
              "ticks": ""
             }
            },
            "type": "scattermapbox"
           }
          ],
          "scatterpolar": [
           {
            "marker": {
             "colorbar": {
              "outlinewidth": 0,
              "ticks": ""
             }
            },
            "type": "scatterpolar"
           }
          ],
          "scatterpolargl": [
           {
            "marker": {
             "colorbar": {
              "outlinewidth": 0,
              "ticks": ""
             }
            },
            "type": "scatterpolargl"
           }
          ],
          "scatterternary": [
           {
            "marker": {
             "colorbar": {
              "outlinewidth": 0,
              "ticks": ""
             }
            },
            "type": "scatterternary"
           }
          ],
          "surface": [
           {
            "colorbar": {
             "outlinewidth": 0,
             "ticks": ""
            },
            "colorscale": [
             [
              0,
              "#0d0887"
             ],
             [
              0.1111111111111111,
              "#46039f"
             ],
             [
              0.2222222222222222,
              "#7201a8"
             ],
             [
              0.3333333333333333,
              "#9c179e"
             ],
             [
              0.4444444444444444,
              "#bd3786"
             ],
             [
              0.5555555555555556,
              "#d8576b"
             ],
             [
              0.6666666666666666,
              "#ed7953"
             ],
             [
              0.7777777777777778,
              "#fb9f3a"
             ],
             [
              0.8888888888888888,
              "#fdca26"
             ],
             [
              1,
              "#f0f921"
             ]
            ],
            "type": "surface"
           }
          ],
          "table": [
           {
            "cells": {
             "fill": {
              "color": "#EBF0F8"
             },
             "line": {
              "color": "white"
             }
            },
            "header": {
             "fill": {
              "color": "#C8D4E3"
             },
             "line": {
              "color": "white"
             }
            },
            "type": "table"
           }
          ]
         },
         "layout": {
          "annotationdefaults": {
           "arrowcolor": "#2a3f5f",
           "arrowhead": 0,
           "arrowwidth": 1
          },
          "coloraxis": {
           "colorbar": {
            "outlinewidth": 0,
            "ticks": ""
           }
          },
          "colorscale": {
           "diverging": [
            [
             0,
             "#8e0152"
            ],
            [
             0.1,
             "#c51b7d"
            ],
            [
             0.2,
             "#de77ae"
            ],
            [
             0.3,
             "#f1b6da"
            ],
            [
             0.4,
             "#fde0ef"
            ],
            [
             0.5,
             "#f7f7f7"
            ],
            [
             0.6,
             "#e6f5d0"
            ],
            [
             0.7,
             "#b8e186"
            ],
            [
             0.8,
             "#7fbc41"
            ],
            [
             0.9,
             "#4d9221"
            ],
            [
             1,
             "#276419"
            ]
           ],
           "sequential": [
            [
             0,
             "#0d0887"
            ],
            [
             0.1111111111111111,
             "#46039f"
            ],
            [
             0.2222222222222222,
             "#7201a8"
            ],
            [
             0.3333333333333333,
             "#9c179e"
            ],
            [
             0.4444444444444444,
             "#bd3786"
            ],
            [
             0.5555555555555556,
             "#d8576b"
            ],
            [
             0.6666666666666666,
             "#ed7953"
            ],
            [
             0.7777777777777778,
             "#fb9f3a"
            ],
            [
             0.8888888888888888,
             "#fdca26"
            ],
            [
             1,
             "#f0f921"
            ]
           ],
           "sequentialminus": [
            [
             0,
             "#0d0887"
            ],
            [
             0.1111111111111111,
             "#46039f"
            ],
            [
             0.2222222222222222,
             "#7201a8"
            ],
            [
             0.3333333333333333,
             "#9c179e"
            ],
            [
             0.4444444444444444,
             "#bd3786"
            ],
            [
             0.5555555555555556,
             "#d8576b"
            ],
            [
             0.6666666666666666,
             "#ed7953"
            ],
            [
             0.7777777777777778,
             "#fb9f3a"
            ],
            [
             0.8888888888888888,
             "#fdca26"
            ],
            [
             1,
             "#f0f921"
            ]
           ]
          },
          "colorway": [
           "#636efa",
           "#EF553B",
           "#00cc96",
           "#ab63fa",
           "#FFA15A",
           "#19d3f3",
           "#FF6692",
           "#B6E880",
           "#FF97FF",
           "#FECB52"
          ],
          "font": {
           "color": "#2a3f5f"
          },
          "geo": {
           "bgcolor": "white",
           "lakecolor": "white",
           "landcolor": "#E5ECF6",
           "showlakes": true,
           "showland": true,
           "subunitcolor": "white"
          },
          "hoverlabel": {
           "align": "left"
          },
          "hovermode": "closest",
          "mapbox": {
           "style": "light"
          },
          "paper_bgcolor": "white",
          "plot_bgcolor": "#E5ECF6",
          "polar": {
           "angularaxis": {
            "gridcolor": "white",
            "linecolor": "white",
            "ticks": ""
           },
           "bgcolor": "#E5ECF6",
           "radialaxis": {
            "gridcolor": "white",
            "linecolor": "white",
            "ticks": ""
           }
          },
          "scene": {
           "xaxis": {
            "backgroundcolor": "#E5ECF6",
            "gridcolor": "white",
            "gridwidth": 2,
            "linecolor": "white",
            "showbackground": true,
            "ticks": "",
            "zerolinecolor": "white"
           },
           "yaxis": {
            "backgroundcolor": "#E5ECF6",
            "gridcolor": "white",
            "gridwidth": 2,
            "linecolor": "white",
            "showbackground": true,
            "ticks": "",
            "zerolinecolor": "white"
           },
           "zaxis": {
            "backgroundcolor": "#E5ECF6",
            "gridcolor": "white",
            "gridwidth": 2,
            "linecolor": "white",
            "showbackground": true,
            "ticks": "",
            "zerolinecolor": "white"
           }
          },
          "shapedefaults": {
           "line": {
            "color": "#2a3f5f"
           }
          },
          "ternary": {
           "aaxis": {
            "gridcolor": "white",
            "linecolor": "white",
            "ticks": ""
           },
           "baxis": {
            "gridcolor": "white",
            "linecolor": "white",
            "ticks": ""
           },
           "bgcolor": "#E5ECF6",
           "caxis": {
            "gridcolor": "white",
            "linecolor": "white",
            "ticks": ""
           }
          },
          "title": {
           "x": 0.05
          },
          "xaxis": {
           "automargin": true,
           "gridcolor": "white",
           "linecolor": "white",
           "ticks": "",
           "title": {
            "standoff": 15
           },
           "zerolinecolor": "white",
           "zerolinewidth": 2
          },
          "yaxis": {
           "automargin": true,
           "gridcolor": "white",
           "linecolor": "white",
           "ticks": "",
           "title": {
            "standoff": 15
           },
           "zerolinecolor": "white",
           "zerolinewidth": 2
          }
         }
        },
        "title": {
         "text": "Atributos de cada Pokemon do Tipo (Bug)"
        },
        "xaxis": {
         "title": {
          "text": "Pokemon Tipo Bug"
         }
        },
        "yaxis": {
         "title": {
          "text": "Valores"
         }
        }
       }
      },
      "text/html": [
       "<div>\n",
       "        \n",
       "        \n",
       "            <div id=\"4bc3f398-741f-4918-ba61-f3c2462ae120\" class=\"plotly-graph-div\" style=\"height:525px; width:100%;\"></div>\n",
       "            <script type=\"text/javascript\">\n",
       "                require([\"plotly\"], function(Plotly) {\n",
       "                    window.PLOTLYENV=window.PLOTLYENV || {};\n",
       "                    \n",
       "                if (document.getElementById(\"4bc3f398-741f-4918-ba61-f3c2462ae120\")) {\n",
       "                    Plotly.newPlot(\n",
       "                        '4bc3f398-741f-4918-ba61-f3c2462ae120',\n",
       "                        [{\"line\": {\"width\": 3}, \"name\": \"HP\", \"type\": \"scatter\", \"x\": [\"Caterpie\", \"Metapod\", \"Butterfree\", \"Weedle\", \"Kakuna\", \"Beedrill\", \"Paras\", \"Parasect\", \"Venonat\", \"Venomoth\", \"Scyther\", \"Pinsir\"], \"y\": [45, 50, 60, 40, 45, 65, 35, 60, 60, 70, 70, 65]}, {\"line\": {\"width\": 3}, \"name\": \"Attack\", \"type\": \"scatter\", \"x\": [\"Caterpie\", \"Metapod\", \"Butterfree\", \"Weedle\", \"Kakuna\", \"Beedrill\", \"Paras\", \"Parasect\", \"Venonat\", \"Venomoth\", \"Scyther\", \"Pinsir\"], \"y\": [30, 20, 45, 35, 25, 90, 70, 95, 55, 65, 110, 125]}, {\"line\": {\"width\": 3}, \"name\": \"Defense\", \"type\": \"scatter\", \"x\": [\"Caterpie\", \"Metapod\", \"Butterfree\", \"Weedle\", \"Kakuna\", \"Beedrill\", \"Paras\", \"Parasect\", \"Venonat\", \"Venomoth\", \"Scyther\", \"Pinsir\"], \"y\": [35, 55, 50, 30, 50, 40, 55, 80, 50, 60, 80, 100]}, {\"line\": {\"width\": 3}, \"name\": \"Sp. Atk\", \"type\": \"scatter\", \"x\": [\"Caterpie\", \"Metapod\", \"Butterfree\", \"Weedle\", \"Kakuna\", \"Beedrill\", \"Paras\", \"Parasect\", \"Venonat\", \"Venomoth\", \"Scyther\", \"Pinsir\"], \"y\": [20, 25, 90, 20, 25, 45, 45, 60, 40, 90, 55, 55]}, {\"line\": {\"width\": 3}, \"name\": \"Sp. Def\", \"type\": \"scatter\", \"x\": [\"Caterpie\", \"Metapod\", \"Butterfree\", \"Weedle\", \"Kakuna\", \"Beedrill\", \"Paras\", \"Parasect\", \"Venonat\", \"Venomoth\", \"Scyther\", \"Pinsir\"], \"y\": [20, 25, 80, 20, 25, 80, 55, 80, 55, 75, 80, 70]}, {\"line\": {\"width\": 3}, \"name\": \"Speed\", \"type\": \"scatter\", \"x\": [\"Caterpie\", \"Metapod\", \"Butterfree\", \"Weedle\", \"Kakuna\", \"Beedrill\", \"Paras\", \"Parasect\", \"Venonat\", \"Venomoth\", \"Scyther\", \"Pinsir\"], \"y\": [45, 30, 70, 50, 35, 75, 25, 30, 45, 90, 105, 85]}],\n",
       "                        {\"template\": {\"data\": {\"bar\": [{\"error_x\": {\"color\": \"#2a3f5f\"}, \"error_y\": {\"color\": \"#2a3f5f\"}, \"marker\": {\"line\": {\"color\": \"#E5ECF6\", \"width\": 0.5}}, \"type\": \"bar\"}], \"barpolar\": [{\"marker\": {\"line\": {\"color\": \"#E5ECF6\", \"width\": 0.5}}, \"type\": \"barpolar\"}], \"carpet\": [{\"aaxis\": {\"endlinecolor\": \"#2a3f5f\", \"gridcolor\": \"white\", \"linecolor\": \"white\", \"minorgridcolor\": \"white\", \"startlinecolor\": \"#2a3f5f\"}, \"baxis\": {\"endlinecolor\": \"#2a3f5f\", \"gridcolor\": \"white\", \"linecolor\": \"white\", \"minorgridcolor\": \"white\", \"startlinecolor\": \"#2a3f5f\"}, \"type\": \"carpet\"}], \"choropleth\": [{\"colorbar\": {\"outlinewidth\": 0, \"ticks\": \"\"}, \"type\": \"choropleth\"}], \"contour\": [{\"colorbar\": {\"outlinewidth\": 0, \"ticks\": \"\"}, \"colorscale\": [[0.0, \"#0d0887\"], [0.1111111111111111, \"#46039f\"], [0.2222222222222222, \"#7201a8\"], [0.3333333333333333, \"#9c179e\"], [0.4444444444444444, \"#bd3786\"], [0.5555555555555556, \"#d8576b\"], [0.6666666666666666, \"#ed7953\"], [0.7777777777777778, \"#fb9f3a\"], [0.8888888888888888, \"#fdca26\"], [1.0, \"#f0f921\"]], \"type\": \"contour\"}], \"contourcarpet\": [{\"colorbar\": {\"outlinewidth\": 0, \"ticks\": \"\"}, \"type\": \"contourcarpet\"}], \"heatmap\": [{\"colorbar\": {\"outlinewidth\": 0, \"ticks\": \"\"}, \"colorscale\": [[0.0, \"#0d0887\"], [0.1111111111111111, \"#46039f\"], [0.2222222222222222, \"#7201a8\"], [0.3333333333333333, \"#9c179e\"], [0.4444444444444444, \"#bd3786\"], [0.5555555555555556, \"#d8576b\"], [0.6666666666666666, \"#ed7953\"], [0.7777777777777778, \"#fb9f3a\"], [0.8888888888888888, \"#fdca26\"], [1.0, \"#f0f921\"]], \"type\": \"heatmap\"}], \"heatmapgl\": [{\"colorbar\": {\"outlinewidth\": 0, \"ticks\": \"\"}, \"colorscale\": [[0.0, \"#0d0887\"], [0.1111111111111111, \"#46039f\"], [0.2222222222222222, \"#7201a8\"], [0.3333333333333333, \"#9c179e\"], [0.4444444444444444, \"#bd3786\"], [0.5555555555555556, \"#d8576b\"], [0.6666666666666666, \"#ed7953\"], [0.7777777777777778, \"#fb9f3a\"], [0.8888888888888888, \"#fdca26\"], [1.0, \"#f0f921\"]], \"type\": \"heatmapgl\"}], \"histogram\": [{\"marker\": {\"colorbar\": {\"outlinewidth\": 0, \"ticks\": \"\"}}, \"type\": \"histogram\"}], \"histogram2d\": [{\"colorbar\": {\"outlinewidth\": 0, \"ticks\": \"\"}, \"colorscale\": [[0.0, \"#0d0887\"], [0.1111111111111111, \"#46039f\"], [0.2222222222222222, \"#7201a8\"], [0.3333333333333333, \"#9c179e\"], [0.4444444444444444, \"#bd3786\"], [0.5555555555555556, \"#d8576b\"], [0.6666666666666666, \"#ed7953\"], [0.7777777777777778, \"#fb9f3a\"], [0.8888888888888888, \"#fdca26\"], [1.0, \"#f0f921\"]], \"type\": \"histogram2d\"}], \"histogram2dcontour\": [{\"colorbar\": {\"outlinewidth\": 0, \"ticks\": \"\"}, \"colorscale\": [[0.0, \"#0d0887\"], [0.1111111111111111, \"#46039f\"], [0.2222222222222222, \"#7201a8\"], [0.3333333333333333, \"#9c179e\"], [0.4444444444444444, \"#bd3786\"], [0.5555555555555556, \"#d8576b\"], [0.6666666666666666, \"#ed7953\"], [0.7777777777777778, \"#fb9f3a\"], [0.8888888888888888, \"#fdca26\"], [1.0, \"#f0f921\"]], \"type\": \"histogram2dcontour\"}], \"mesh3d\": [{\"colorbar\": {\"outlinewidth\": 0, \"ticks\": \"\"}, \"type\": \"mesh3d\"}], \"parcoords\": [{\"line\": {\"colorbar\": {\"outlinewidth\": 0, \"ticks\": \"\"}}, \"type\": \"parcoords\"}], \"pie\": [{\"automargin\": true, \"type\": \"pie\"}], \"scatter\": [{\"marker\": {\"colorbar\": {\"outlinewidth\": 0, \"ticks\": \"\"}}, \"type\": \"scatter\"}], \"scatter3d\": [{\"line\": {\"colorbar\": {\"outlinewidth\": 0, \"ticks\": \"\"}}, \"marker\": {\"colorbar\": {\"outlinewidth\": 0, \"ticks\": \"\"}}, \"type\": \"scatter3d\"}], \"scattercarpet\": [{\"marker\": {\"colorbar\": {\"outlinewidth\": 0, \"ticks\": \"\"}}, \"type\": \"scattercarpet\"}], \"scattergeo\": [{\"marker\": {\"colorbar\": {\"outlinewidth\": 0, \"ticks\": \"\"}}, \"type\": \"scattergeo\"}], \"scattergl\": [{\"marker\": {\"colorbar\": {\"outlinewidth\": 0, \"ticks\": \"\"}}, \"type\": \"scattergl\"}], \"scattermapbox\": [{\"marker\": {\"colorbar\": {\"outlinewidth\": 0, \"ticks\": \"\"}}, \"type\": \"scattermapbox\"}], \"scatterpolar\": [{\"marker\": {\"colorbar\": {\"outlinewidth\": 0, \"ticks\": \"\"}}, \"type\": \"scatterpolar\"}], \"scatterpolargl\": [{\"marker\": {\"colorbar\": {\"outlinewidth\": 0, \"ticks\": \"\"}}, \"type\": \"scatterpolargl\"}], \"scatterternary\": [{\"marker\": {\"colorbar\": {\"outlinewidth\": 0, \"ticks\": \"\"}}, \"type\": \"scatterternary\"}], \"surface\": [{\"colorbar\": {\"outlinewidth\": 0, \"ticks\": \"\"}, \"colorscale\": [[0.0, \"#0d0887\"], [0.1111111111111111, \"#46039f\"], [0.2222222222222222, \"#7201a8\"], [0.3333333333333333, \"#9c179e\"], [0.4444444444444444, \"#bd3786\"], [0.5555555555555556, \"#d8576b\"], [0.6666666666666666, \"#ed7953\"], [0.7777777777777778, \"#fb9f3a\"], [0.8888888888888888, \"#fdca26\"], [1.0, \"#f0f921\"]], \"type\": \"surface\"}], \"table\": [{\"cells\": {\"fill\": {\"color\": \"#EBF0F8\"}, \"line\": {\"color\": \"white\"}}, \"header\": {\"fill\": {\"color\": \"#C8D4E3\"}, \"line\": {\"color\": \"white\"}}, \"type\": \"table\"}]}, \"layout\": {\"annotationdefaults\": {\"arrowcolor\": \"#2a3f5f\", \"arrowhead\": 0, \"arrowwidth\": 1}, \"coloraxis\": {\"colorbar\": {\"outlinewidth\": 0, \"ticks\": \"\"}}, \"colorscale\": {\"diverging\": [[0, \"#8e0152\"], [0.1, \"#c51b7d\"], [0.2, \"#de77ae\"], [0.3, \"#f1b6da\"], [0.4, \"#fde0ef\"], [0.5, \"#f7f7f7\"], [0.6, \"#e6f5d0\"], [0.7, \"#b8e186\"], [0.8, \"#7fbc41\"], [0.9, \"#4d9221\"], [1, \"#276419\"]], \"sequential\": [[0.0, \"#0d0887\"], [0.1111111111111111, \"#46039f\"], [0.2222222222222222, \"#7201a8\"], [0.3333333333333333, \"#9c179e\"], [0.4444444444444444, \"#bd3786\"], [0.5555555555555556, \"#d8576b\"], [0.6666666666666666, \"#ed7953\"], [0.7777777777777778, \"#fb9f3a\"], [0.8888888888888888, \"#fdca26\"], [1.0, \"#f0f921\"]], \"sequentialminus\": [[0.0, \"#0d0887\"], [0.1111111111111111, \"#46039f\"], [0.2222222222222222, \"#7201a8\"], [0.3333333333333333, \"#9c179e\"], [0.4444444444444444, \"#bd3786\"], [0.5555555555555556, \"#d8576b\"], [0.6666666666666666, \"#ed7953\"], [0.7777777777777778, \"#fb9f3a\"], [0.8888888888888888, \"#fdca26\"], [1.0, \"#f0f921\"]]}, \"colorway\": [\"#636efa\", \"#EF553B\", \"#00cc96\", \"#ab63fa\", \"#FFA15A\", \"#19d3f3\", \"#FF6692\", \"#B6E880\", \"#FF97FF\", \"#FECB52\"], \"font\": {\"color\": \"#2a3f5f\"}, \"geo\": {\"bgcolor\": \"white\", \"lakecolor\": \"white\", \"landcolor\": \"#E5ECF6\", \"showlakes\": true, \"showland\": true, \"subunitcolor\": \"white\"}, \"hoverlabel\": {\"align\": \"left\"}, \"hovermode\": \"closest\", \"mapbox\": {\"style\": \"light\"}, \"paper_bgcolor\": \"white\", \"plot_bgcolor\": \"#E5ECF6\", \"polar\": {\"angularaxis\": {\"gridcolor\": \"white\", \"linecolor\": \"white\", \"ticks\": \"\"}, \"bgcolor\": \"#E5ECF6\", \"radialaxis\": {\"gridcolor\": \"white\", \"linecolor\": \"white\", \"ticks\": \"\"}}, \"scene\": {\"xaxis\": {\"backgroundcolor\": \"#E5ECF6\", \"gridcolor\": \"white\", \"gridwidth\": 2, \"linecolor\": \"white\", \"showbackground\": true, \"ticks\": \"\", \"zerolinecolor\": \"white\"}, \"yaxis\": {\"backgroundcolor\": \"#E5ECF6\", \"gridcolor\": \"white\", \"gridwidth\": 2, \"linecolor\": \"white\", \"showbackground\": true, \"ticks\": \"\", \"zerolinecolor\": \"white\"}, \"zaxis\": {\"backgroundcolor\": \"#E5ECF6\", \"gridcolor\": \"white\", \"gridwidth\": 2, \"linecolor\": \"white\", \"showbackground\": true, \"ticks\": \"\", \"zerolinecolor\": \"white\"}}, \"shapedefaults\": {\"line\": {\"color\": \"#2a3f5f\"}}, \"ternary\": {\"aaxis\": {\"gridcolor\": \"white\", \"linecolor\": \"white\", \"ticks\": \"\"}, \"baxis\": {\"gridcolor\": \"white\", \"linecolor\": \"white\", \"ticks\": \"\"}, \"bgcolor\": \"#E5ECF6\", \"caxis\": {\"gridcolor\": \"white\", \"linecolor\": \"white\", \"ticks\": \"\"}}, \"title\": {\"x\": 0.05}, \"xaxis\": {\"automargin\": true, \"gridcolor\": \"white\", \"linecolor\": \"white\", \"ticks\": \"\", \"title\": {\"standoff\": 15}, \"zerolinecolor\": \"white\", \"zerolinewidth\": 2}, \"yaxis\": {\"automargin\": true, \"gridcolor\": \"white\", \"linecolor\": \"white\", \"ticks\": \"\", \"title\": {\"standoff\": 15}, \"zerolinecolor\": \"white\", \"zerolinewidth\": 2}}}, \"title\": {\"text\": \"Atributos de cada Pokemon do Tipo (Bug)\"}, \"xaxis\": {\"title\": {\"text\": \"Pokemon Tipo Bug\"}}, \"yaxis\": {\"title\": {\"text\": \"Valores\"}}},\n",
       "                        {\"responsive\": true}\n",
       "                    ).then(function(){\n",
       "                            \n",
       "var gd = document.getElementById('4bc3f398-741f-4918-ba61-f3c2462ae120');\n",
       "var x = new MutationObserver(function (mutations, observer) {{\n",
       "        var display = window.getComputedStyle(gd).display;\n",
       "        if (!display || display === 'none') {{\n",
       "            console.log([gd, 'removed!']);\n",
       "            Plotly.purge(gd);\n",
       "            observer.disconnect();\n",
       "        }}\n",
       "}});\n",
       "\n",
       "// Listen for the removal of the full notebook cells\n",
       "var notebookContainer = gd.closest('#notebook-container');\n",
       "if (notebookContainer) {{\n",
       "    x.observe(notebookContainer, {childList: true});\n",
       "}}\n",
       "\n",
       "// Listen for the clearing of the current output cell\n",
       "var outputEl = gd.closest('.output');\n",
       "if (outputEl) {{\n",
       "    x.observe(outputEl, {childList: true});\n",
       "}}\n",
       "\n",
       "                        })\n",
       "                };\n",
       "                });\n",
       "            </script>\n",
       "        </div>"
      ]
     },
     "metadata": {},
     "output_type": "display_data"
    }
   ],
   "source": [
    "attr_by_type('Bug')"
   ]
  },
  {
   "cell_type": "code",
   "execution_count": 48,
   "metadata": {
    "slideshow": {
     "slide_type": "slide"
    }
   },
   "outputs": [],
   "source": [
    "def heatmap_by_type(tipo):   \n",
    "    data_electric = pokemon[pokemon['Type 1']==tipo]\n",
    "    Attack_array = np.array(data_electric[\"Attack\"])\n",
    "    Defense_array = np.array(data_electric[\"Defense\"])\n",
    "    Names_array = np.array(data_electric[\"Name\"])\n",
    "    diff = np.subtract.outer(Attack_array, Defense_array)\n",
    "    diff[diff>0] = 1\n",
    "    diff[diff<0] = -1\n",
    "    fig = go.Figure(data=go.Heatmap(z=diff, x=Names_array, y=Names_array, hoverongaps = False,\n",
    "                    colorscale=[\n",
    "                        [0, \"rgb(0, 0, 255)\"],\n",
    "                        [0.333, \"rgb(0, 0, 255)\"],\n",
    "                        [0.333, \"rgb(170, 170, 170)\"],\n",
    "                        [0.666, \"rgb(170, 170, 170)\"],\n",
    "                        [0.666, \"rgb(255, 0, 0)\"],\n",
    "                        [1, \"rgb(255, 0, 0)\"],],))\n",
    "    fig.update_layout(title=\"Ataque vs Defesa (Tipo: {})\".format(tipo), title_font_size=30, \n",
    "                      title_x=0.5, xaxis_title=\"Defesa\",yaxis_title=\"Ataque\")\n",
    "    fig.show()"
   ]
  },
  {
   "cell_type": "code",
   "execution_count": 49,
   "metadata": {
    "scrolled": true,
    "slideshow": {
     "slide_type": "subslide"
    }
   },
   "outputs": [
    {
     "data": {
      "application/vnd.plotly.v1+json": {
       "config": {
        "plotlyServerURL": "https://plot.ly"
       },
       "data": [
        {
         "colorscale": [
          [
           0,
           "rgb(0, 0, 255)"
          ],
          [
           0.333,
           "rgb(0, 0, 255)"
          ],
          [
           0.333,
           "rgb(170, 170, 170)"
          ],
          [
           0.666,
           "rgb(170, 170, 170)"
          ],
          [
           0.666,
           "rgb(255, 0, 0)"
          ],
          [
           1,
           "rgb(255, 0, 0)"
          ]
         ],
         "hoverongaps": false,
         "type": "heatmap",
         "x": [
          "Pikachu",
          "Raichu",
          "Magnemite",
          "Magneton",
          "Voltorb",
          "Electrode",
          "Electabuzz",
          "Jolteon",
          "Zapdos"
         ],
         "y": [
          "Pikachu",
          "Raichu",
          "Magnemite",
          "Magneton",
          "Voltorb",
          "Electrode",
          "Electabuzz",
          "Jolteon",
          "Zapdos"
         ],
         "z": [
          [
           1,
           0,
           -1,
           -1,
           1,
           -1,
           -1,
           -1,
           -1
          ],
          [
           1,
           1,
           1,
           -1,
           1,
           1,
           1,
           1,
           1
          ],
          [
           -1,
           -1,
           -1,
           -1,
           -1,
           -1,
           -1,
           -1,
           -1
          ],
          [
           1,
           1,
           -1,
           -1,
           1,
           -1,
           1,
           0,
           -1
          ],
          [
           -1,
           -1,
           -1,
           -1,
           -1,
           -1,
           -1,
           -1,
           -1
          ],
          [
           1,
           -1,
           -1,
           -1,
           0,
           -1,
           -1,
           -1,
           -1
          ],
          [
           1,
           1,
           1,
           -1,
           1,
           1,
           1,
           1,
           -1
          ],
          [
           1,
           1,
           -1,
           -1,
           1,
           -1,
           1,
           1,
           -1
          ],
          [
           1,
           1,
           1,
           -1,
           1,
           1,
           1,
           1,
           1
          ]
         ]
        }
       ],
       "layout": {
        "template": {
         "data": {
          "bar": [
           {
            "error_x": {
             "color": "#2a3f5f"
            },
            "error_y": {
             "color": "#2a3f5f"
            },
            "marker": {
             "line": {
              "color": "#E5ECF6",
              "width": 0.5
             }
            },
            "type": "bar"
           }
          ],
          "barpolar": [
           {
            "marker": {
             "line": {
              "color": "#E5ECF6",
              "width": 0.5
             }
            },
            "type": "barpolar"
           }
          ],
          "carpet": [
           {
            "aaxis": {
             "endlinecolor": "#2a3f5f",
             "gridcolor": "white",
             "linecolor": "white",
             "minorgridcolor": "white",
             "startlinecolor": "#2a3f5f"
            },
            "baxis": {
             "endlinecolor": "#2a3f5f",
             "gridcolor": "white",
             "linecolor": "white",
             "minorgridcolor": "white",
             "startlinecolor": "#2a3f5f"
            },
            "type": "carpet"
           }
          ],
          "choropleth": [
           {
            "colorbar": {
             "outlinewidth": 0,
             "ticks": ""
            },
            "type": "choropleth"
           }
          ],
          "contour": [
           {
            "colorbar": {
             "outlinewidth": 0,
             "ticks": ""
            },
            "colorscale": [
             [
              0,
              "#0d0887"
             ],
             [
              0.1111111111111111,
              "#46039f"
             ],
             [
              0.2222222222222222,
              "#7201a8"
             ],
             [
              0.3333333333333333,
              "#9c179e"
             ],
             [
              0.4444444444444444,
              "#bd3786"
             ],
             [
              0.5555555555555556,
              "#d8576b"
             ],
             [
              0.6666666666666666,
              "#ed7953"
             ],
             [
              0.7777777777777778,
              "#fb9f3a"
             ],
             [
              0.8888888888888888,
              "#fdca26"
             ],
             [
              1,
              "#f0f921"
             ]
            ],
            "type": "contour"
           }
          ],
          "contourcarpet": [
           {
            "colorbar": {
             "outlinewidth": 0,
             "ticks": ""
            },
            "type": "contourcarpet"
           }
          ],
          "heatmap": [
           {
            "colorbar": {
             "outlinewidth": 0,
             "ticks": ""
            },
            "colorscale": [
             [
              0,
              "#0d0887"
             ],
             [
              0.1111111111111111,
              "#46039f"
             ],
             [
              0.2222222222222222,
              "#7201a8"
             ],
             [
              0.3333333333333333,
              "#9c179e"
             ],
             [
              0.4444444444444444,
              "#bd3786"
             ],
             [
              0.5555555555555556,
              "#d8576b"
             ],
             [
              0.6666666666666666,
              "#ed7953"
             ],
             [
              0.7777777777777778,
              "#fb9f3a"
             ],
             [
              0.8888888888888888,
              "#fdca26"
             ],
             [
              1,
              "#f0f921"
             ]
            ],
            "type": "heatmap"
           }
          ],
          "heatmapgl": [
           {
            "colorbar": {
             "outlinewidth": 0,
             "ticks": ""
            },
            "colorscale": [
             [
              0,
              "#0d0887"
             ],
             [
              0.1111111111111111,
              "#46039f"
             ],
             [
              0.2222222222222222,
              "#7201a8"
             ],
             [
              0.3333333333333333,
              "#9c179e"
             ],
             [
              0.4444444444444444,
              "#bd3786"
             ],
             [
              0.5555555555555556,
              "#d8576b"
             ],
             [
              0.6666666666666666,
              "#ed7953"
             ],
             [
              0.7777777777777778,
              "#fb9f3a"
             ],
             [
              0.8888888888888888,
              "#fdca26"
             ],
             [
              1,
              "#f0f921"
             ]
            ],
            "type": "heatmapgl"
           }
          ],
          "histogram": [
           {
            "marker": {
             "colorbar": {
              "outlinewidth": 0,
              "ticks": ""
             }
            },
            "type": "histogram"
           }
          ],
          "histogram2d": [
           {
            "colorbar": {
             "outlinewidth": 0,
             "ticks": ""
            },
            "colorscale": [
             [
              0,
              "#0d0887"
             ],
             [
              0.1111111111111111,
              "#46039f"
             ],
             [
              0.2222222222222222,
              "#7201a8"
             ],
             [
              0.3333333333333333,
              "#9c179e"
             ],
             [
              0.4444444444444444,
              "#bd3786"
             ],
             [
              0.5555555555555556,
              "#d8576b"
             ],
             [
              0.6666666666666666,
              "#ed7953"
             ],
             [
              0.7777777777777778,
              "#fb9f3a"
             ],
             [
              0.8888888888888888,
              "#fdca26"
             ],
             [
              1,
              "#f0f921"
             ]
            ],
            "type": "histogram2d"
           }
          ],
          "histogram2dcontour": [
           {
            "colorbar": {
             "outlinewidth": 0,
             "ticks": ""
            },
            "colorscale": [
             [
              0,
              "#0d0887"
             ],
             [
              0.1111111111111111,
              "#46039f"
             ],
             [
              0.2222222222222222,
              "#7201a8"
             ],
             [
              0.3333333333333333,
              "#9c179e"
             ],
             [
              0.4444444444444444,
              "#bd3786"
             ],
             [
              0.5555555555555556,
              "#d8576b"
             ],
             [
              0.6666666666666666,
              "#ed7953"
             ],
             [
              0.7777777777777778,
              "#fb9f3a"
             ],
             [
              0.8888888888888888,
              "#fdca26"
             ],
             [
              1,
              "#f0f921"
             ]
            ],
            "type": "histogram2dcontour"
           }
          ],
          "mesh3d": [
           {
            "colorbar": {
             "outlinewidth": 0,
             "ticks": ""
            },
            "type": "mesh3d"
           }
          ],
          "parcoords": [
           {
            "line": {
             "colorbar": {
              "outlinewidth": 0,
              "ticks": ""
             }
            },
            "type": "parcoords"
           }
          ],
          "pie": [
           {
            "automargin": true,
            "type": "pie"
           }
          ],
          "scatter": [
           {
            "marker": {
             "colorbar": {
              "outlinewidth": 0,
              "ticks": ""
             }
            },
            "type": "scatter"
           }
          ],
          "scatter3d": [
           {
            "line": {
             "colorbar": {
              "outlinewidth": 0,
              "ticks": ""
             }
            },
            "marker": {
             "colorbar": {
              "outlinewidth": 0,
              "ticks": ""
             }
            },
            "type": "scatter3d"
           }
          ],
          "scattercarpet": [
           {
            "marker": {
             "colorbar": {
              "outlinewidth": 0,
              "ticks": ""
             }
            },
            "type": "scattercarpet"
           }
          ],
          "scattergeo": [
           {
            "marker": {
             "colorbar": {
              "outlinewidth": 0,
              "ticks": ""
             }
            },
            "type": "scattergeo"
           }
          ],
          "scattergl": [
           {
            "marker": {
             "colorbar": {
              "outlinewidth": 0,
              "ticks": ""
             }
            },
            "type": "scattergl"
           }
          ],
          "scattermapbox": [
           {
            "marker": {
             "colorbar": {
              "outlinewidth": 0,
              "ticks": ""
             }
            },
            "type": "scattermapbox"
           }
          ],
          "scatterpolar": [
           {
            "marker": {
             "colorbar": {
              "outlinewidth": 0,
              "ticks": ""
             }
            },
            "type": "scatterpolar"
           }
          ],
          "scatterpolargl": [
           {
            "marker": {
             "colorbar": {
              "outlinewidth": 0,
              "ticks": ""
             }
            },
            "type": "scatterpolargl"
           }
          ],
          "scatterternary": [
           {
            "marker": {
             "colorbar": {
              "outlinewidth": 0,
              "ticks": ""
             }
            },
            "type": "scatterternary"
           }
          ],
          "surface": [
           {
            "colorbar": {
             "outlinewidth": 0,
             "ticks": ""
            },
            "colorscale": [
             [
              0,
              "#0d0887"
             ],
             [
              0.1111111111111111,
              "#46039f"
             ],
             [
              0.2222222222222222,
              "#7201a8"
             ],
             [
              0.3333333333333333,
              "#9c179e"
             ],
             [
              0.4444444444444444,
              "#bd3786"
             ],
             [
              0.5555555555555556,
              "#d8576b"
             ],
             [
              0.6666666666666666,
              "#ed7953"
             ],
             [
              0.7777777777777778,
              "#fb9f3a"
             ],
             [
              0.8888888888888888,
              "#fdca26"
             ],
             [
              1,
              "#f0f921"
             ]
            ],
            "type": "surface"
           }
          ],
          "table": [
           {
            "cells": {
             "fill": {
              "color": "#EBF0F8"
             },
             "line": {
              "color": "white"
             }
            },
            "header": {
             "fill": {
              "color": "#C8D4E3"
             },
             "line": {
              "color": "white"
             }
            },
            "type": "table"
           }
          ]
         },
         "layout": {
          "annotationdefaults": {
           "arrowcolor": "#2a3f5f",
           "arrowhead": 0,
           "arrowwidth": 1
          },
          "coloraxis": {
           "colorbar": {
            "outlinewidth": 0,
            "ticks": ""
           }
          },
          "colorscale": {
           "diverging": [
            [
             0,
             "#8e0152"
            ],
            [
             0.1,
             "#c51b7d"
            ],
            [
             0.2,
             "#de77ae"
            ],
            [
             0.3,
             "#f1b6da"
            ],
            [
             0.4,
             "#fde0ef"
            ],
            [
             0.5,
             "#f7f7f7"
            ],
            [
             0.6,
             "#e6f5d0"
            ],
            [
             0.7,
             "#b8e186"
            ],
            [
             0.8,
             "#7fbc41"
            ],
            [
             0.9,
             "#4d9221"
            ],
            [
             1,
             "#276419"
            ]
           ],
           "sequential": [
            [
             0,
             "#0d0887"
            ],
            [
             0.1111111111111111,
             "#46039f"
            ],
            [
             0.2222222222222222,
             "#7201a8"
            ],
            [
             0.3333333333333333,
             "#9c179e"
            ],
            [
             0.4444444444444444,
             "#bd3786"
            ],
            [
             0.5555555555555556,
             "#d8576b"
            ],
            [
             0.6666666666666666,
             "#ed7953"
            ],
            [
             0.7777777777777778,
             "#fb9f3a"
            ],
            [
             0.8888888888888888,
             "#fdca26"
            ],
            [
             1,
             "#f0f921"
            ]
           ],
           "sequentialminus": [
            [
             0,
             "#0d0887"
            ],
            [
             0.1111111111111111,
             "#46039f"
            ],
            [
             0.2222222222222222,
             "#7201a8"
            ],
            [
             0.3333333333333333,
             "#9c179e"
            ],
            [
             0.4444444444444444,
             "#bd3786"
            ],
            [
             0.5555555555555556,
             "#d8576b"
            ],
            [
             0.6666666666666666,
             "#ed7953"
            ],
            [
             0.7777777777777778,
             "#fb9f3a"
            ],
            [
             0.8888888888888888,
             "#fdca26"
            ],
            [
             1,
             "#f0f921"
            ]
           ]
          },
          "colorway": [
           "#636efa",
           "#EF553B",
           "#00cc96",
           "#ab63fa",
           "#FFA15A",
           "#19d3f3",
           "#FF6692",
           "#B6E880",
           "#FF97FF",
           "#FECB52"
          ],
          "font": {
           "color": "#2a3f5f"
          },
          "geo": {
           "bgcolor": "white",
           "lakecolor": "white",
           "landcolor": "#E5ECF6",
           "showlakes": true,
           "showland": true,
           "subunitcolor": "white"
          },
          "hoverlabel": {
           "align": "left"
          },
          "hovermode": "closest",
          "mapbox": {
           "style": "light"
          },
          "paper_bgcolor": "white",
          "plot_bgcolor": "#E5ECF6",
          "polar": {
           "angularaxis": {
            "gridcolor": "white",
            "linecolor": "white",
            "ticks": ""
           },
           "bgcolor": "#E5ECF6",
           "radialaxis": {
            "gridcolor": "white",
            "linecolor": "white",
            "ticks": ""
           }
          },
          "scene": {
           "xaxis": {
            "backgroundcolor": "#E5ECF6",
            "gridcolor": "white",
            "gridwidth": 2,
            "linecolor": "white",
            "showbackground": true,
            "ticks": "",
            "zerolinecolor": "white"
           },
           "yaxis": {
            "backgroundcolor": "#E5ECF6",
            "gridcolor": "white",
            "gridwidth": 2,
            "linecolor": "white",
            "showbackground": true,
            "ticks": "",
            "zerolinecolor": "white"
           },
           "zaxis": {
            "backgroundcolor": "#E5ECF6",
            "gridcolor": "white",
            "gridwidth": 2,
            "linecolor": "white",
            "showbackground": true,
            "ticks": "",
            "zerolinecolor": "white"
           }
          },
          "shapedefaults": {
           "line": {
            "color": "#2a3f5f"
           }
          },
          "ternary": {
           "aaxis": {
            "gridcolor": "white",
            "linecolor": "white",
            "ticks": ""
           },
           "baxis": {
            "gridcolor": "white",
            "linecolor": "white",
            "ticks": ""
           },
           "bgcolor": "#E5ECF6",
           "caxis": {
            "gridcolor": "white",
            "linecolor": "white",
            "ticks": ""
           }
          },
          "title": {
           "x": 0.05
          },
          "xaxis": {
           "automargin": true,
           "gridcolor": "white",
           "linecolor": "white",
           "ticks": "",
           "title": {
            "standoff": 15
           },
           "zerolinecolor": "white",
           "zerolinewidth": 2
          },
          "yaxis": {
           "automargin": true,
           "gridcolor": "white",
           "linecolor": "white",
           "ticks": "",
           "title": {
            "standoff": 15
           },
           "zerolinecolor": "white",
           "zerolinewidth": 2
          }
         }
        },
        "title": {
         "font": {
          "size": 30
         },
         "text": "Ataque vs Defesa (Tipo: Electric)",
         "x": 0.5
        },
        "xaxis": {
         "title": {
          "text": "Defesa"
         }
        },
        "yaxis": {
         "title": {
          "text": "Ataque"
         }
        }
       }
      },
      "text/html": [
       "<div>\n",
       "        \n",
       "        \n",
       "            <div id=\"6e4066c1-7d63-4ee1-acaf-6a36f5c4eb32\" class=\"plotly-graph-div\" style=\"height:525px; width:100%;\"></div>\n",
       "            <script type=\"text/javascript\">\n",
       "                require([\"plotly\"], function(Plotly) {\n",
       "                    window.PLOTLYENV=window.PLOTLYENV || {};\n",
       "                    \n",
       "                if (document.getElementById(\"6e4066c1-7d63-4ee1-acaf-6a36f5c4eb32\")) {\n",
       "                    Plotly.newPlot(\n",
       "                        '6e4066c1-7d63-4ee1-acaf-6a36f5c4eb32',\n",
       "                        [{\"colorscale\": [[0, \"rgb(0, 0, 255)\"], [0.333, \"rgb(0, 0, 255)\"], [0.333, \"rgb(170, 170, 170)\"], [0.666, \"rgb(170, 170, 170)\"], [0.666, \"rgb(255, 0, 0)\"], [1, \"rgb(255, 0, 0)\"]], \"hoverongaps\": false, \"type\": \"heatmap\", \"x\": [\"Pikachu\", \"Raichu\", \"Magnemite\", \"Magneton\", \"Voltorb\", \"Electrode\", \"Electabuzz\", \"Jolteon\", \"Zapdos\"], \"y\": [\"Pikachu\", \"Raichu\", \"Magnemite\", \"Magneton\", \"Voltorb\", \"Electrode\", \"Electabuzz\", \"Jolteon\", \"Zapdos\"], \"z\": [[1, 0, -1, -1, 1, -1, -1, -1, -1], [1, 1, 1, -1, 1, 1, 1, 1, 1], [-1, -1, -1, -1, -1, -1, -1, -1, -1], [1, 1, -1, -1, 1, -1, 1, 0, -1], [-1, -1, -1, -1, -1, -1, -1, -1, -1], [1, -1, -1, -1, 0, -1, -1, -1, -1], [1, 1, 1, -1, 1, 1, 1, 1, -1], [1, 1, -1, -1, 1, -1, 1, 1, -1], [1, 1, 1, -1, 1, 1, 1, 1, 1]]}],\n",
       "                        {\"template\": {\"data\": {\"bar\": [{\"error_x\": {\"color\": \"#2a3f5f\"}, \"error_y\": {\"color\": \"#2a3f5f\"}, \"marker\": {\"line\": {\"color\": \"#E5ECF6\", \"width\": 0.5}}, \"type\": \"bar\"}], \"barpolar\": [{\"marker\": {\"line\": {\"color\": \"#E5ECF6\", \"width\": 0.5}}, \"type\": \"barpolar\"}], \"carpet\": [{\"aaxis\": {\"endlinecolor\": \"#2a3f5f\", \"gridcolor\": \"white\", \"linecolor\": \"white\", \"minorgridcolor\": \"white\", \"startlinecolor\": \"#2a3f5f\"}, \"baxis\": {\"endlinecolor\": \"#2a3f5f\", \"gridcolor\": \"white\", \"linecolor\": \"white\", \"minorgridcolor\": \"white\", \"startlinecolor\": \"#2a3f5f\"}, \"type\": \"carpet\"}], \"choropleth\": [{\"colorbar\": {\"outlinewidth\": 0, \"ticks\": \"\"}, \"type\": \"choropleth\"}], \"contour\": [{\"colorbar\": {\"outlinewidth\": 0, \"ticks\": \"\"}, \"colorscale\": [[0.0, \"#0d0887\"], [0.1111111111111111, \"#46039f\"], [0.2222222222222222, \"#7201a8\"], [0.3333333333333333, \"#9c179e\"], [0.4444444444444444, \"#bd3786\"], [0.5555555555555556, \"#d8576b\"], [0.6666666666666666, \"#ed7953\"], [0.7777777777777778, \"#fb9f3a\"], [0.8888888888888888, \"#fdca26\"], [1.0, \"#f0f921\"]], \"type\": \"contour\"}], \"contourcarpet\": [{\"colorbar\": {\"outlinewidth\": 0, \"ticks\": \"\"}, \"type\": \"contourcarpet\"}], \"heatmap\": [{\"colorbar\": {\"outlinewidth\": 0, \"ticks\": \"\"}, \"colorscale\": [[0.0, \"#0d0887\"], [0.1111111111111111, \"#46039f\"], [0.2222222222222222, \"#7201a8\"], [0.3333333333333333, \"#9c179e\"], [0.4444444444444444, \"#bd3786\"], [0.5555555555555556, \"#d8576b\"], [0.6666666666666666, \"#ed7953\"], [0.7777777777777778, \"#fb9f3a\"], [0.8888888888888888, \"#fdca26\"], [1.0, \"#f0f921\"]], \"type\": \"heatmap\"}], \"heatmapgl\": [{\"colorbar\": {\"outlinewidth\": 0, \"ticks\": \"\"}, \"colorscale\": [[0.0, \"#0d0887\"], [0.1111111111111111, \"#46039f\"], [0.2222222222222222, \"#7201a8\"], [0.3333333333333333, \"#9c179e\"], [0.4444444444444444, \"#bd3786\"], [0.5555555555555556, \"#d8576b\"], [0.6666666666666666, \"#ed7953\"], [0.7777777777777778, \"#fb9f3a\"], [0.8888888888888888, \"#fdca26\"], [1.0, \"#f0f921\"]], \"type\": \"heatmapgl\"}], \"histogram\": [{\"marker\": {\"colorbar\": {\"outlinewidth\": 0, \"ticks\": \"\"}}, \"type\": \"histogram\"}], \"histogram2d\": [{\"colorbar\": {\"outlinewidth\": 0, \"ticks\": \"\"}, \"colorscale\": [[0.0, \"#0d0887\"], [0.1111111111111111, \"#46039f\"], [0.2222222222222222, \"#7201a8\"], [0.3333333333333333, \"#9c179e\"], [0.4444444444444444, \"#bd3786\"], [0.5555555555555556, \"#d8576b\"], [0.6666666666666666, \"#ed7953\"], [0.7777777777777778, \"#fb9f3a\"], [0.8888888888888888, \"#fdca26\"], [1.0, \"#f0f921\"]], \"type\": \"histogram2d\"}], \"histogram2dcontour\": [{\"colorbar\": {\"outlinewidth\": 0, \"ticks\": \"\"}, \"colorscale\": [[0.0, \"#0d0887\"], [0.1111111111111111, \"#46039f\"], [0.2222222222222222, \"#7201a8\"], [0.3333333333333333, \"#9c179e\"], [0.4444444444444444, \"#bd3786\"], [0.5555555555555556, \"#d8576b\"], [0.6666666666666666, \"#ed7953\"], [0.7777777777777778, \"#fb9f3a\"], [0.8888888888888888, \"#fdca26\"], [1.0, \"#f0f921\"]], \"type\": \"histogram2dcontour\"}], \"mesh3d\": [{\"colorbar\": {\"outlinewidth\": 0, \"ticks\": \"\"}, \"type\": \"mesh3d\"}], \"parcoords\": [{\"line\": {\"colorbar\": {\"outlinewidth\": 0, \"ticks\": \"\"}}, \"type\": \"parcoords\"}], \"pie\": [{\"automargin\": true, \"type\": \"pie\"}], \"scatter\": [{\"marker\": {\"colorbar\": {\"outlinewidth\": 0, \"ticks\": \"\"}}, \"type\": \"scatter\"}], \"scatter3d\": [{\"line\": {\"colorbar\": {\"outlinewidth\": 0, \"ticks\": \"\"}}, \"marker\": {\"colorbar\": {\"outlinewidth\": 0, \"ticks\": \"\"}}, \"type\": \"scatter3d\"}], \"scattercarpet\": [{\"marker\": {\"colorbar\": {\"outlinewidth\": 0, \"ticks\": \"\"}}, \"type\": \"scattercarpet\"}], \"scattergeo\": [{\"marker\": {\"colorbar\": {\"outlinewidth\": 0, \"ticks\": \"\"}}, \"type\": \"scattergeo\"}], \"scattergl\": [{\"marker\": {\"colorbar\": {\"outlinewidth\": 0, \"ticks\": \"\"}}, \"type\": \"scattergl\"}], \"scattermapbox\": [{\"marker\": {\"colorbar\": {\"outlinewidth\": 0, \"ticks\": \"\"}}, \"type\": \"scattermapbox\"}], \"scatterpolar\": [{\"marker\": {\"colorbar\": {\"outlinewidth\": 0, \"ticks\": \"\"}}, \"type\": \"scatterpolar\"}], \"scatterpolargl\": [{\"marker\": {\"colorbar\": {\"outlinewidth\": 0, \"ticks\": \"\"}}, \"type\": \"scatterpolargl\"}], \"scatterternary\": [{\"marker\": {\"colorbar\": {\"outlinewidth\": 0, \"ticks\": \"\"}}, \"type\": \"scatterternary\"}], \"surface\": [{\"colorbar\": {\"outlinewidth\": 0, \"ticks\": \"\"}, \"colorscale\": [[0.0, \"#0d0887\"], [0.1111111111111111, \"#46039f\"], [0.2222222222222222, \"#7201a8\"], [0.3333333333333333, \"#9c179e\"], [0.4444444444444444, \"#bd3786\"], [0.5555555555555556, \"#d8576b\"], [0.6666666666666666, \"#ed7953\"], [0.7777777777777778, \"#fb9f3a\"], [0.8888888888888888, \"#fdca26\"], [1.0, \"#f0f921\"]], \"type\": \"surface\"}], \"table\": [{\"cells\": {\"fill\": {\"color\": \"#EBF0F8\"}, \"line\": {\"color\": \"white\"}}, \"header\": {\"fill\": {\"color\": \"#C8D4E3\"}, \"line\": {\"color\": \"white\"}}, \"type\": \"table\"}]}, \"layout\": {\"annotationdefaults\": {\"arrowcolor\": \"#2a3f5f\", \"arrowhead\": 0, \"arrowwidth\": 1}, \"coloraxis\": {\"colorbar\": {\"outlinewidth\": 0, \"ticks\": \"\"}}, \"colorscale\": {\"diverging\": [[0, \"#8e0152\"], [0.1, \"#c51b7d\"], [0.2, \"#de77ae\"], [0.3, \"#f1b6da\"], [0.4, \"#fde0ef\"], [0.5, \"#f7f7f7\"], [0.6, \"#e6f5d0\"], [0.7, \"#b8e186\"], [0.8, \"#7fbc41\"], [0.9, \"#4d9221\"], [1, \"#276419\"]], \"sequential\": [[0.0, \"#0d0887\"], [0.1111111111111111, \"#46039f\"], [0.2222222222222222, \"#7201a8\"], [0.3333333333333333, \"#9c179e\"], [0.4444444444444444, \"#bd3786\"], [0.5555555555555556, \"#d8576b\"], [0.6666666666666666, \"#ed7953\"], [0.7777777777777778, \"#fb9f3a\"], [0.8888888888888888, \"#fdca26\"], [1.0, \"#f0f921\"]], \"sequentialminus\": [[0.0, \"#0d0887\"], [0.1111111111111111, \"#46039f\"], [0.2222222222222222, \"#7201a8\"], [0.3333333333333333, \"#9c179e\"], [0.4444444444444444, \"#bd3786\"], [0.5555555555555556, \"#d8576b\"], [0.6666666666666666, \"#ed7953\"], [0.7777777777777778, \"#fb9f3a\"], [0.8888888888888888, \"#fdca26\"], [1.0, \"#f0f921\"]]}, \"colorway\": [\"#636efa\", \"#EF553B\", \"#00cc96\", \"#ab63fa\", \"#FFA15A\", \"#19d3f3\", \"#FF6692\", \"#B6E880\", \"#FF97FF\", \"#FECB52\"], \"font\": {\"color\": \"#2a3f5f\"}, \"geo\": {\"bgcolor\": \"white\", \"lakecolor\": \"white\", \"landcolor\": \"#E5ECF6\", \"showlakes\": true, \"showland\": true, \"subunitcolor\": \"white\"}, \"hoverlabel\": {\"align\": \"left\"}, \"hovermode\": \"closest\", \"mapbox\": {\"style\": \"light\"}, \"paper_bgcolor\": \"white\", \"plot_bgcolor\": \"#E5ECF6\", \"polar\": {\"angularaxis\": {\"gridcolor\": \"white\", \"linecolor\": \"white\", \"ticks\": \"\"}, \"bgcolor\": \"#E5ECF6\", \"radialaxis\": {\"gridcolor\": \"white\", \"linecolor\": \"white\", \"ticks\": \"\"}}, \"scene\": {\"xaxis\": {\"backgroundcolor\": \"#E5ECF6\", \"gridcolor\": \"white\", \"gridwidth\": 2, \"linecolor\": \"white\", \"showbackground\": true, \"ticks\": \"\", \"zerolinecolor\": \"white\"}, \"yaxis\": {\"backgroundcolor\": \"#E5ECF6\", \"gridcolor\": \"white\", \"gridwidth\": 2, \"linecolor\": \"white\", \"showbackground\": true, \"ticks\": \"\", \"zerolinecolor\": \"white\"}, \"zaxis\": {\"backgroundcolor\": \"#E5ECF6\", \"gridcolor\": \"white\", \"gridwidth\": 2, \"linecolor\": \"white\", \"showbackground\": true, \"ticks\": \"\", \"zerolinecolor\": \"white\"}}, \"shapedefaults\": {\"line\": {\"color\": \"#2a3f5f\"}}, \"ternary\": {\"aaxis\": {\"gridcolor\": \"white\", \"linecolor\": \"white\", \"ticks\": \"\"}, \"baxis\": {\"gridcolor\": \"white\", \"linecolor\": \"white\", \"ticks\": \"\"}, \"bgcolor\": \"#E5ECF6\", \"caxis\": {\"gridcolor\": \"white\", \"linecolor\": \"white\", \"ticks\": \"\"}}, \"title\": {\"x\": 0.05}, \"xaxis\": {\"automargin\": true, \"gridcolor\": \"white\", \"linecolor\": \"white\", \"ticks\": \"\", \"title\": {\"standoff\": 15}, \"zerolinecolor\": \"white\", \"zerolinewidth\": 2}, \"yaxis\": {\"automargin\": true, \"gridcolor\": \"white\", \"linecolor\": \"white\", \"ticks\": \"\", \"title\": {\"standoff\": 15}, \"zerolinecolor\": \"white\", \"zerolinewidth\": 2}}}, \"title\": {\"font\": {\"size\": 30}, \"text\": \"Ataque vs Defesa (Tipo: Electric)\", \"x\": 0.5}, \"xaxis\": {\"title\": {\"text\": \"Defesa\"}}, \"yaxis\": {\"title\": {\"text\": \"Ataque\"}}},\n",
       "                        {\"responsive\": true}\n",
       "                    ).then(function(){\n",
       "                            \n",
       "var gd = document.getElementById('6e4066c1-7d63-4ee1-acaf-6a36f5c4eb32');\n",
       "var x = new MutationObserver(function (mutations, observer) {{\n",
       "        var display = window.getComputedStyle(gd).display;\n",
       "        if (!display || display === 'none') {{\n",
       "            console.log([gd, 'removed!']);\n",
       "            Plotly.purge(gd);\n",
       "            observer.disconnect();\n",
       "        }}\n",
       "}});\n",
       "\n",
       "// Listen for the removal of the full notebook cells\n",
       "var notebookContainer = gd.closest('#notebook-container');\n",
       "if (notebookContainer) {{\n",
       "    x.observe(notebookContainer, {childList: true});\n",
       "}}\n",
       "\n",
       "// Listen for the clearing of the current output cell\n",
       "var outputEl = gd.closest('.output');\n",
       "if (outputEl) {{\n",
       "    x.observe(outputEl, {childList: true});\n",
       "}}\n",
       "\n",
       "                        })\n",
       "                };\n",
       "                });\n",
       "            </script>\n",
       "        </div>"
      ]
     },
     "metadata": {},
     "output_type": "display_data"
    }
   ],
   "source": [
    "heatmap_by_type('Electric')"
   ]
  },
  {
   "cell_type": "markdown",
   "metadata": {
    "slideshow": {
     "slide_type": "slide"
    }
   },
   "source": [
    "### Nosso foco é saber qual Pokémon é o mais forte entre todos, para isso precisamos simular batalhas entre eles.\n",
    "\n",
    "##### Para isso precisamos conhecer:\n",
    "###### - Quanto de dado cada pokémon pode causar em outro.\n",
    "###### - Subtrair esse dado no atributo HP do pokémon defensor.\n",
    "###### - Descobrir quem permanece com HP no final de cada turno."
   ]
  },
  {
   "cell_type": "markdown",
   "metadata": {
    "slideshow": {
     "slide_type": "subslide"
    }
   },
   "source": [
    "# Formúla para Calcular Dano\n",
    "### Para isso utilizamos uma fórmula retirada do site https://bulbapedia.bulbagarden.net/wiki/Damage\n",
    "\n",
    "\n",
    "<img src=\"formula_dado.png\">\n",
    "\n",
    "<img src=\"mode_dano.png\">"
   ]
  },
  {
   "cell_type": "code",
   "execution_count": 4,
   "metadata": {},
   "outputs": [],
   "source": [
    "DATA_DIR = r\"C:\\Users\\saorafro\\Desktop\\Pós Graduação\\Visualização de Dados\\data\"\n",
    "POKEMON_MOVES = pd.read_csv(r'C:\\Users\\saorafro\\Desktop\\Pós Graduação\\Visualização de Dados\\data\\pokemon_moves_detailed.csv', encoding='unicode_escape')\n",
    "POKEMON_STATS = pd.read_csv(r'C:\\Users\\saorafro\\Desktop\\Pós Graduação\\Visualização de Dados\\data\\pokemon_stats.csv', encoding='unicode_escape')\n",
    "TYPE_MODS = pd.read_csv(r'C:\\Users\\saorafro\\Desktop\\Pós Graduação\\Visualização de Dados\\data\\type_modifiers.csv', encoding='unicode_escape').set_index('attack_type')\n",
    "POKEMON_AVAIL = set(list(POKEMON_STATS['pokemon'].unique()))"
   ]
  },
  {
   "cell_type": "code",
   "execution_count": 6,
   "metadata": {
    "slideshow": {
     "slide_type": "skip"
    }
   },
   "outputs": [],
   "source": [
    "#Determina as classes da simulação \n",
    "class Move(object):\n",
    "    def __init__(self):\n",
    "        self.current_pp = None\n",
    "    def __str__(self):\n",
    "        out = []\n",
    "        out.append('Name: {}'.format(self.name))\n",
    "        out.append('Type: {}'.format(self.type))\n",
    "        for k, v in self.__dict__.items():\n",
    "            if k in ('name', 'type', 'url', 'pokemon') or v is None:\n",
    "                continue\n",
    "            \n",
    "            out.append('{}: {}'.format(k, v))\n",
    "        return '\\n'.join(out)\n",
    "class Pokemon(object):\n",
    "    def __init__(self, name):\n",
    "        self.name = name.lower()\n",
    "        self.types = []\n",
    "        self.current_hp = None\n",
    "        self.all_moves = []\n",
    "        self.moves = []\n",
    "        self.attack = None\n",
    "        self.defense = None\n",
    "        self.hp = None\n",
    "        self.special_attack = None\n",
    "        self.special_defense = None\n",
    "        self.speed = None\n",
    "        if self.name not in POKEMON_AVAIL:\n",
    "            raise RuntimeError('{} não esta disponível!'.format(self.name))\n",
    "        self.__load_stats()\n",
    "        self.__load_moves()\n",
    "        self.pick_moves()\n",
    "    \n",
    "    def __load_stats(self):        \n",
    "        query = POKEMON_STATS['pokemon'] == self.name\n",
    "        if query.sum() != 1:\n",
    "            raise RuntimeError('{} esperando 1 resultado para estatísticas, obteve {}'.format(self.name, query.sum()))\n",
    "        stats = POKEMON_STATS[query].iloc[0].to_dict()\n",
    "        for k, v in stats.items():\n",
    "            if k == 'types':\n",
    "                setattr(self, k, set(v.split(',')))\n",
    "            else:            \n",
    "                setattr(self, k.replace('-', '_'), v)\n",
    "    \n",
    "    def __load_moves(self):\n",
    "        query = POKEMON_MOVES['pokemon'] == self.name\n",
    "        if query.sum() < 1:\n",
    "            raise RuntimeError('{} não tem movimentos!'.format(self.name))\n",
    "        for idx, row in POKEMON_MOVES[query].drop_duplicates().iterrows():\n",
    "            move = Move()\n",
    "            dict_row = row.to_dict()\n",
    "            for k, v in dict_row.items():\n",
    "                val = v\n",
    "                if isinstance(val, float) and np.isnan(val):\n",
    "                    val = None\n",
    "                \n",
    "                if isinstance(val, str) and val.strip() == '':\n",
    "                    val = None\n",
    "                \n",
    "                setattr(move, k.replace('move_', ''), val)\n",
    "            self.all_moves.append(move)\n",
    "    \n",
    "    def pick_moves(self):\n",
    "        damage_moves = []\n",
    "        for move in self.all_moves:\n",
    "            if 'damage' in move.category:\n",
    "                damage_moves.append(move)\n",
    "        max_moves = 4\n",
    "        if len(damage_moves) < max_moves:\n",
    "            max_moves = len(damage_moves)                                \n",
    "        self.moves = np.random.choice(damage_moves, max_moves, replace=False)\n",
    "        self.has_moves = True\n",
    "        if len(self.moves) < 1:\n",
    "            self.has_moves = False\n",
    "\n",
    "    def reset(self):\n",
    "        self.current_hp = self.hp\n",
    "        self.pick_moves()\n",
    "        \n",
    "        for move in self.moves:\n",
    "            move.current_pp = move.pp\n",
    "    \n",
    "    def __str__(self):\n",
    "        move_str = []\n",
    "        for move in self.moves:\n",
    "            move_str.append('{} - {}'.format(move.name, move.type))\n",
    "            \n",
    "        return \"\"\"\n",
    "        =================\n",
    "        Pokemon: {}\n",
    "        =================\n",
    "        Types:         {}\n",
    "        HP:            {}\n",
    "        Speed:         {}\n",
    "        Attack:        {}\n",
    "        Defense:       {}\n",
    "        Sp. Attack:    {}\n",
    "        Sp. Defense:   {}\n",
    "        =====\n",
    "        Moves\n",
    "        =====\n",
    "        {}\n",
    "        \"\"\".format(\n",
    "            self.name.title(),\n",
    "            ', '.join(self.types),\n",
    "            self.hp,\n",
    "            self.speed,\n",
    "            self.attack,\n",
    "            self.defense,\n",
    "            self.special_attack,\n",
    "            self.special_defense,\n",
    "            '\\n'.join(move_str),\n",
    "        )"
   ]
  },
  {
   "cell_type": "code",
   "execution_count": 7,
   "metadata": {
    "slideshow": {
     "slide_type": "slide"
    }
   },
   "outputs": [],
   "source": [
    "def calculate_damage(a, b, c, d, x, y, crit):\n",
    "    \"\"\"\n",
    "    a = level ataque\n",
    "    b = ataque especial ou não\n",
    "    c = poder de ataque\n",
    "    d = defesa do ataque\n",
    "    x = bônus por tipo de pokemon\n",
    "    y = modificador\n",
    "    z = número aleatório entre 217 e 255\n",
    "    crit = é um ataque crítico sim ou não\n",
    "    \"\"\"\n",
    "    z = np.random.choice(np.arange(217, 256))\n",
    "    crit_mult = 2\n",
    "    if crit:\n",
    "        crit_mult = 4\n",
    "    damage = np.floor(((((crit_mult * a) / 5) + 2) * b * c) / d)\n",
    "    damage = np.floor(damage / 50) + 2\n",
    "    damage = np.floor(damage * x)    \n",
    "    damage = np.floor(damage * y)\n",
    "    min_damage = np.floor((damage * 217) / 255)\n",
    "    max_damage = np.floor((damage * 255) / 255)\n",
    "    return np.floor((damage * z) / 255)"
   ]
  },
  {
   "cell_type": "code",
   "execution_count": 8,
   "metadata": {
    "slideshow": {
     "slide_type": "skip"
    }
   },
   "outputs": [
    {
     "ename": "NameError",
     "evalue": "name 'moves_df' is not defined",
     "output_type": "error",
     "traceback": [
      "\u001b[1;31m---------------------------------------------------------------------------\u001b[0m",
      "\u001b[1;31mNameError\u001b[0m                                 Traceback (most recent call last)",
      "\u001b[1;32m<ipython-input-8-97822b2f10dd>\u001b[0m in \u001b[0;36m<module>\u001b[1;34m\u001b[0m\n\u001b[0;32m      1\u001b[0m \u001b[0mstats_df\u001b[0m \u001b[1;33m=\u001b[0m \u001b[0mpd\u001b[0m\u001b[1;33m.\u001b[0m\u001b[0mread_csv\u001b[0m\u001b[1;33m(\u001b[0m\u001b[1;34mr'C:\\Users\\saorafro\\Desktop\\Pós Graduação\\Visualização de Dados\\data\\pokemon_stats.csv'\u001b[0m\u001b[1;33m)\u001b[0m\u001b[1;33m\u001b[0m\u001b[1;33m\u001b[0m\u001b[0m\n\u001b[1;32m----> 2\u001b[1;33m \u001b[0mmoves_stats_df\u001b[0m \u001b[1;33m=\u001b[0m \u001b[0mpd\u001b[0m\u001b[1;33m.\u001b[0m\u001b[0mmerge\u001b[0m\u001b[1;33m(\u001b[0m\u001b[0mmoves_df\u001b[0m\u001b[1;33m,\u001b[0m \u001b[0mstats_df\u001b[0m\u001b[1;33m,\u001b[0m \u001b[0mon\u001b[0m\u001b[1;33m=\u001b[0m\u001b[1;34m'pokemon'\u001b[0m\u001b[1;33m,\u001b[0m \u001b[0mhow\u001b[0m\u001b[1;33m=\u001b[0m\u001b[1;34m'inner'\u001b[0m\u001b[1;33m)\u001b[0m\u001b[1;33m\u001b[0m\u001b[1;33m\u001b[0m\u001b[0m\n\u001b[0m",
      "\u001b[1;31mNameError\u001b[0m: name 'moves_df' is not defined"
     ]
    }
   ],
   "source": [
    "stats_df = pd.read_csv(r'C:\\Users\\saorafro\\Desktop\\Pós Graduação\\Visualização de Dados\\data\\pokemon_stats.csv')\n",
    "moves_stats_df = pd.merge(moves_df, stats_df, on='pokemon', how='inner')"
   ]
  },
  {
   "cell_type": "code",
   "execution_count": 9,
   "metadata": {
    "slideshow": {
     "slide_type": "subslide"
    }
   },
   "outputs": [],
   "source": [
    "# Função para calcular se um ataque é crítico ou não\n",
    "def is_critical_hit(b, r):\n",
    "    \"\"\"\n",
    "    b = speed base do pokemon\n",
    "    r = nivel de crítico do movimento\n",
    "    \"\"\"\n",
    "    prob = b / 512\n",
    "    if r == 1:\n",
    "        prob = b / 64\n",
    "    chance = np.random.rand()\n",
    "    return chance <= prob"
   ]
  },
  {
   "cell_type": "code",
   "execution_count": 10,
   "metadata": {
    "slideshow": {
     "slide_type": "subslide"
    }
   },
   "outputs": [
    {
     "ename": "NameError",
     "evalue": "name 'moves_stats_df' is not defined",
     "output_type": "error",
     "traceback": [
      "\u001b[1;31m---------------------------------------------------------------------------\u001b[0m",
      "\u001b[1;31mNameError\u001b[0m                                 Traceback (most recent call last)",
      "\u001b[1;32m<ipython-input-10-f1f3a4414b38>\u001b[0m in \u001b[0;36m<module>\u001b[1;34m\u001b[0m\n\u001b[0;32m      1\u001b[0m \u001b[1;31m# Criar dataframe de crítico por movimento e pokémon\u001b[0m\u001b[1;33m\u001b[0m\u001b[1;33m\u001b[0m\u001b[1;33m\u001b[0m\u001b[0m\n\u001b[0;32m      2\u001b[0m \u001b[0mcrit_stats\u001b[0m \u001b[1;33m=\u001b[0m \u001b[1;33m[\u001b[0m\u001b[1;33m]\u001b[0m\u001b[1;33m\u001b[0m\u001b[1;33m\u001b[0m\u001b[0m\n\u001b[1;32m----> 3\u001b[1;33m \u001b[1;32mfor\u001b[0m \u001b[0midx\u001b[0m\u001b[1;33m,\u001b[0m \u001b[0mrow\u001b[0m \u001b[1;32min\u001b[0m \u001b[0mmoves_stats_df\u001b[0m\u001b[1;33m[\u001b[0m\u001b[1;33m[\u001b[0m\u001b[1;34m'pokemon'\u001b[0m\u001b[1;33m,\u001b[0m \u001b[1;34m'move_name'\u001b[0m\u001b[1;33m,\u001b[0m \u001b[1;34m'move_crit_rate'\u001b[0m\u001b[1;33m,\u001b[0m \u001b[1;34m'speed'\u001b[0m\u001b[1;33m]\u001b[0m\u001b[1;33m]\u001b[0m\u001b[1;33m.\u001b[0m\u001b[0miterrows\u001b[0m\u001b[1;33m(\u001b[0m\u001b[1;33m)\u001b[0m\u001b[1;33m:\u001b[0m\u001b[1;33m\u001b[0m\u001b[1;33m\u001b[0m\u001b[0m\n\u001b[0m\u001b[0;32m      4\u001b[0m     \u001b[0mcrits\u001b[0m \u001b[1;33m=\u001b[0m \u001b[1;36m0\u001b[0m\u001b[1;33m\u001b[0m\u001b[1;33m\u001b[0m\u001b[0m\n\u001b[0;32m      5\u001b[0m     \u001b[1;32mfor\u001b[0m \u001b[0m_\u001b[0m \u001b[1;32min\u001b[0m \u001b[0mrange\u001b[0m\u001b[1;33m(\u001b[0m\u001b[1;36m1000\u001b[0m\u001b[1;33m)\u001b[0m\u001b[1;33m:\u001b[0m\u001b[1;33m\u001b[0m\u001b[1;33m\u001b[0m\u001b[0m\n",
      "\u001b[1;31mNameError\u001b[0m: name 'moves_stats_df' is not defined"
     ]
    }
   ],
   "source": [
    "# Criar dataframe de crítico por movimento e pokémon\n",
    "crit_stats = []\n",
    "for idx, row in moves_stats_df[['pokemon', 'move_name', 'move_crit_rate', 'speed']].iterrows():\n",
    "    crits = 0\n",
    "    for _ in range(1000):\n",
    "        if is_critical_hit(row['speed'], row['move_crit_rate']):\n",
    "            crits += 1\n",
    "    crit_stats.append({\n",
    "        'pokemon': row['pokemon'],\n",
    "        'move': row['move_name'],\n",
    "        'move_crit_rate': row['move_crit_rate'],\n",
    "        'speed': row['speed'],\n",
    "        'crits': crits / 1000\n",
    "    })\n",
    "crit_stats_df = pd.DataFrame(crit_stats)"
   ]
  },
  {
   "cell_type": "code",
   "execution_count": 90,
   "metadata": {
    "slideshow": {
     "slide_type": "subslide"
    }
   },
   "outputs": [
    {
     "data": {
      "text/html": [
       "<div>\n",
       "<style scoped>\n",
       "    .dataframe tbody tr th:only-of-type {\n",
       "        vertical-align: middle;\n",
       "    }\n",
       "\n",
       "    .dataframe tbody tr th {\n",
       "        vertical-align: top;\n",
       "    }\n",
       "\n",
       "    .dataframe thead th {\n",
       "        text-align: right;\n",
       "    }\n",
       "</style>\n",
       "<table border=\"1\" class=\"dataframe\">\n",
       "  <thead>\n",
       "    <tr style=\"text-align: right;\">\n",
       "      <th></th>\n",
       "      <th>crits</th>\n",
       "      <th>move</th>\n",
       "      <th>move_crit_rate</th>\n",
       "      <th>pokemon</th>\n",
       "      <th>speed</th>\n",
       "    </tr>\n",
       "  </thead>\n",
       "  <tbody>\n",
       "    <tr>\n",
       "      <th>0</th>\n",
       "      <td>0.108</td>\n",
       "      <td>swords-dance</td>\n",
       "      <td>0</td>\n",
       "      <td>farfetchd</td>\n",
       "      <td>60</td>\n",
       "    </tr>\n",
       "    <tr>\n",
       "      <th>1</th>\n",
       "      <td>0.115</td>\n",
       "      <td>sand-attack</td>\n",
       "      <td>0</td>\n",
       "      <td>farfetchd</td>\n",
       "      <td>60</td>\n",
       "    </tr>\n",
       "    <tr>\n",
       "      <th>2</th>\n",
       "      <td>0.114</td>\n",
       "      <td>fury-attack</td>\n",
       "      <td>0</td>\n",
       "      <td>farfetchd</td>\n",
       "      <td>60</td>\n",
       "    </tr>\n",
       "    <tr>\n",
       "      <th>3</th>\n",
       "      <td>0.126</td>\n",
       "      <td>leer</td>\n",
       "      <td>0</td>\n",
       "      <td>farfetchd</td>\n",
       "      <td>60</td>\n",
       "    </tr>\n",
       "    <tr>\n",
       "      <th>4</th>\n",
       "      <td>0.101</td>\n",
       "      <td>peck</td>\n",
       "      <td>0</td>\n",
       "      <td>farfetchd</td>\n",
       "      <td>60</td>\n",
       "    </tr>\n",
       "  </tbody>\n",
       "</table>\n",
       "</div>"
      ],
      "text/plain": [
       "   crits          move  move_crit_rate    pokemon  speed\n",
       "0  0.108  swords-dance               0  farfetchd     60\n",
       "1  0.115   sand-attack               0  farfetchd     60\n",
       "2  0.114   fury-attack               0  farfetchd     60\n",
       "3  0.126          leer               0  farfetchd     60\n",
       "4  0.101          peck               0  farfetchd     60"
      ]
     },
     "execution_count": 90,
     "metadata": {},
     "output_type": "execute_result"
    }
   ],
   "source": [
    "crit_stats_df.head()"
   ]
  },
  {
   "cell_type": "markdown",
   "metadata": {
    "slideshow": {
     "slide_type": "slide"
    }
   },
   "source": [
    "### Tabela de Vantagem e Desvantagem por Tipo Pokémon\n",
    "<img src=\"table_modificador_tipo.png\" style=\"height:350px\">\n",
    "\n",
    "###### Site: https://www.math.miami.edu/~jam/azure/compendium/typechart.htm"
   ]
  },
  {
   "cell_type": "code",
   "execution_count": 11,
   "metadata": {
    "slideshow": {
     "slide_type": "subslide"
    }
   },
   "outputs": [],
   "source": [
    "tables = pd.read_html('https://www.math.miami.edu/~jam/azure/compendium/typechart.htm')\n",
    "special_attacks_df = tables[3].iloc[3:9]\n",
    "defenders = ['Fire', 'Water', 'Grass', 'Electric', 'Ice', 'Psychic', 'Normal', 'Fighting', 'Flying', 'Ground', 'Rock', 'Bug', 'Poison', 'Ghost', 'Dragon']\n",
    "attackers = special_attacks_df[0]\n",
    "\n",
    "special_attacks_df = pd.DataFrame(special_attacks_df.values[:, 1:], columns=defenders)\n",
    "special_attacks_df['attack_type'] = attackers.values\n",
    "special_attacks_df = special_attacks_df.set_index('attack_type')\n",
    "\n",
    "physical_attacks_df = tables[3].iloc[10:18]\n",
    "rename_to = {}\n",
    "for i, val in zip(np.arange(16), ['attack_type',] + defenders):\n",
    "    rename_to[i] = val\n",
    "physical_attacks_df = physical_attacks_df.rename(columns=rename_to).set_index('attack_type')\n",
    "type_modifiers = pd.concat([physical_attacks_df, special_attacks_df])\n",
    "pd.concat([physical_attacks_df, special_attacks_df]).to_csv(r'C:\\Users\\saorafro\\Desktop\\Pós Graduação\\Visualização de Dados\\data\\type_modifiers.csv')"
   ]
  },
  {
   "cell_type": "code",
   "execution_count": 12,
   "metadata": {
    "slideshow": {
     "slide_type": "subslide"
    }
   },
   "outputs": [
    {
     "data": {
      "text/html": [
       "<div>\n",
       "<style scoped>\n",
       "    .dataframe tbody tr th:only-of-type {\n",
       "        vertical-align: middle;\n",
       "    }\n",
       "\n",
       "    .dataframe tbody tr th {\n",
       "        vertical-align: top;\n",
       "    }\n",
       "\n",
       "    .dataframe thead th {\n",
       "        text-align: right;\n",
       "    }\n",
       "</style>\n",
       "<table border=\"1\" class=\"dataframe\">\n",
       "  <thead>\n",
       "    <tr style=\"text-align: right;\">\n",
       "      <th></th>\n",
       "      <th>Fire</th>\n",
       "      <th>Water</th>\n",
       "      <th>Grass</th>\n",
       "      <th>Electric</th>\n",
       "      <th>Ice</th>\n",
       "      <th>Psychic</th>\n",
       "      <th>Normal</th>\n",
       "      <th>Fighting</th>\n",
       "      <th>Flying</th>\n",
       "      <th>Ground</th>\n",
       "      <th>Rock</th>\n",
       "      <th>Bug</th>\n",
       "      <th>Poison</th>\n",
       "      <th>Ghost</th>\n",
       "      <th>Dragon</th>\n",
       "    </tr>\n",
       "    <tr>\n",
       "      <th>attack_type</th>\n",
       "      <th></th>\n",
       "      <th></th>\n",
       "      <th></th>\n",
       "      <th></th>\n",
       "      <th></th>\n",
       "      <th></th>\n",
       "      <th></th>\n",
       "      <th></th>\n",
       "      <th></th>\n",
       "      <th></th>\n",
       "      <th></th>\n",
       "      <th></th>\n",
       "      <th></th>\n",
       "      <th></th>\n",
       "      <th></th>\n",
       "    </tr>\n",
       "  </thead>\n",
       "  <tbody>\n",
       "    <tr>\n",
       "      <th>Normal</th>\n",
       "      <td>1</td>\n",
       "      <td>1</td>\n",
       "      <td>1</td>\n",
       "      <td>1</td>\n",
       "      <td>1</td>\n",
       "      <td>1</td>\n",
       "      <td>1</td>\n",
       "      <td>1</td>\n",
       "      <td>1</td>\n",
       "      <td>1</td>\n",
       "      <td>0.5</td>\n",
       "      <td>1</td>\n",
       "      <td>1</td>\n",
       "      <td>0</td>\n",
       "      <td>1</td>\n",
       "    </tr>\n",
       "    <tr>\n",
       "      <th>Fighting</th>\n",
       "      <td>1</td>\n",
       "      <td>1</td>\n",
       "      <td>1</td>\n",
       "      <td>1</td>\n",
       "      <td>2</td>\n",
       "      <td>0.5</td>\n",
       "      <td>2</td>\n",
       "      <td>1</td>\n",
       "      <td>0.5</td>\n",
       "      <td>1</td>\n",
       "      <td>2</td>\n",
       "      <td>0.5</td>\n",
       "      <td>0.5</td>\n",
       "      <td>0</td>\n",
       "      <td>1</td>\n",
       "    </tr>\n",
       "    <tr>\n",
       "      <th>Flying</th>\n",
       "      <td>1</td>\n",
       "      <td>1</td>\n",
       "      <td>2</td>\n",
       "      <td>0.5</td>\n",
       "      <td>1</td>\n",
       "      <td>1</td>\n",
       "      <td>1</td>\n",
       "      <td>2</td>\n",
       "      <td>1</td>\n",
       "      <td>1</td>\n",
       "      <td>0.5</td>\n",
       "      <td>2</td>\n",
       "      <td>1</td>\n",
       "      <td>1</td>\n",
       "      <td>1</td>\n",
       "    </tr>\n",
       "    <tr>\n",
       "      <th>Ground</th>\n",
       "      <td>2</td>\n",
       "      <td>1</td>\n",
       "      <td>0.5</td>\n",
       "      <td>2</td>\n",
       "      <td>1</td>\n",
       "      <td>1</td>\n",
       "      <td>1</td>\n",
       "      <td>1</td>\n",
       "      <td>0</td>\n",
       "      <td>1</td>\n",
       "      <td>2</td>\n",
       "      <td>0.5</td>\n",
       "      <td>2</td>\n",
       "      <td>1</td>\n",
       "      <td>1</td>\n",
       "    </tr>\n",
       "    <tr>\n",
       "      <th>Rock</th>\n",
       "      <td>2</td>\n",
       "      <td>1</td>\n",
       "      <td>1</td>\n",
       "      <td>1</td>\n",
       "      <td>2</td>\n",
       "      <td>1</td>\n",
       "      <td>1</td>\n",
       "      <td>0.5</td>\n",
       "      <td>2</td>\n",
       "      <td>0.5</td>\n",
       "      <td>1</td>\n",
       "      <td>2</td>\n",
       "      <td>1</td>\n",
       "      <td>1</td>\n",
       "      <td>1</td>\n",
       "    </tr>\n",
       "    <tr>\n",
       "      <th>Bug</th>\n",
       "      <td>0.5</td>\n",
       "      <td>1</td>\n",
       "      <td>2</td>\n",
       "      <td>1</td>\n",
       "      <td>1</td>\n",
       "      <td>2</td>\n",
       "      <td>1</td>\n",
       "      <td>0.5</td>\n",
       "      <td>0.5</td>\n",
       "      <td>1</td>\n",
       "      <td>1</td>\n",
       "      <td>1</td>\n",
       "      <td>2</td>\n",
       "      <td>1</td>\n",
       "      <td>1</td>\n",
       "    </tr>\n",
       "    <tr>\n",
       "      <th>Poison</th>\n",
       "      <td>1</td>\n",
       "      <td>1</td>\n",
       "      <td>2</td>\n",
       "      <td>1</td>\n",
       "      <td>1</td>\n",
       "      <td>1</td>\n",
       "      <td>1</td>\n",
       "      <td>1</td>\n",
       "      <td>1</td>\n",
       "      <td>0.5</td>\n",
       "      <td>0.5</td>\n",
       "      <td>2</td>\n",
       "      <td>0.5</td>\n",
       "      <td>0.5</td>\n",
       "      <td>1</td>\n",
       "    </tr>\n",
       "    <tr>\n",
       "      <th>Ghost</th>\n",
       "      <td>1</td>\n",
       "      <td>1</td>\n",
       "      <td>1</td>\n",
       "      <td>1</td>\n",
       "      <td>1</td>\n",
       "      <td>0</td>\n",
       "      <td>0</td>\n",
       "      <td>1</td>\n",
       "      <td>1</td>\n",
       "      <td>1</td>\n",
       "      <td>1</td>\n",
       "      <td>1</td>\n",
       "      <td>1</td>\n",
       "      <td>2</td>\n",
       "      <td>1</td>\n",
       "    </tr>\n",
       "    <tr>\n",
       "      <th>Fire</th>\n",
       "      <td>0.5</td>\n",
       "      <td>0.5</td>\n",
       "      <td>2</td>\n",
       "      <td>1</td>\n",
       "      <td>2</td>\n",
       "      <td>1</td>\n",
       "      <td>1</td>\n",
       "      <td>1</td>\n",
       "      <td>1</td>\n",
       "      <td>1</td>\n",
       "      <td>0.5</td>\n",
       "      <td>2</td>\n",
       "      <td>1</td>\n",
       "      <td>1</td>\n",
       "      <td>0.5</td>\n",
       "    </tr>\n",
       "    <tr>\n",
       "      <th>Water</th>\n",
       "      <td>2</td>\n",
       "      <td>0.5</td>\n",
       "      <td>0.5</td>\n",
       "      <td>1</td>\n",
       "      <td>1</td>\n",
       "      <td>1</td>\n",
       "      <td>1</td>\n",
       "      <td>1</td>\n",
       "      <td>1</td>\n",
       "      <td>2</td>\n",
       "      <td>2</td>\n",
       "      <td>1</td>\n",
       "      <td>1</td>\n",
       "      <td>1</td>\n",
       "      <td>0.5</td>\n",
       "    </tr>\n",
       "    <tr>\n",
       "      <th>Grass</th>\n",
       "      <td>0.5</td>\n",
       "      <td>2</td>\n",
       "      <td>0.5</td>\n",
       "      <td>1</td>\n",
       "      <td>1</td>\n",
       "      <td>1</td>\n",
       "      <td>1</td>\n",
       "      <td>1</td>\n",
       "      <td>0.5</td>\n",
       "      <td>2</td>\n",
       "      <td>2</td>\n",
       "      <td>0.5</td>\n",
       "      <td>0.5</td>\n",
       "      <td>1</td>\n",
       "      <td>0.5</td>\n",
       "    </tr>\n",
       "    <tr>\n",
       "      <th>Electric</th>\n",
       "      <td>1</td>\n",
       "      <td>2</td>\n",
       "      <td>0.5</td>\n",
       "      <td>0.5</td>\n",
       "      <td>1</td>\n",
       "      <td>1</td>\n",
       "      <td>1</td>\n",
       "      <td>1</td>\n",
       "      <td>2</td>\n",
       "      <td>0</td>\n",
       "      <td>1</td>\n",
       "      <td>1</td>\n",
       "      <td>1</td>\n",
       "      <td>1</td>\n",
       "      <td>0.5</td>\n",
       "    </tr>\n",
       "    <tr>\n",
       "      <th>Ice</th>\n",
       "      <td>1</td>\n",
       "      <td>0.5</td>\n",
       "      <td>2</td>\n",
       "      <td>1</td>\n",
       "      <td>0.5</td>\n",
       "      <td>1</td>\n",
       "      <td>1</td>\n",
       "      <td>1</td>\n",
       "      <td>2</td>\n",
       "      <td>2</td>\n",
       "      <td>1</td>\n",
       "      <td>1</td>\n",
       "      <td>1</td>\n",
       "      <td>1</td>\n",
       "      <td>2</td>\n",
       "    </tr>\n",
       "    <tr>\n",
       "      <th>Psychic</th>\n",
       "      <td>1</td>\n",
       "      <td>1</td>\n",
       "      <td>1</td>\n",
       "      <td>1</td>\n",
       "      <td>1</td>\n",
       "      <td>0.5</td>\n",
       "      <td>1</td>\n",
       "      <td>2</td>\n",
       "      <td>1</td>\n",
       "      <td>1</td>\n",
       "      <td>1</td>\n",
       "      <td>1</td>\n",
       "      <td>2</td>\n",
       "      <td>1</td>\n",
       "      <td>1</td>\n",
       "    </tr>\n",
       "  </tbody>\n",
       "</table>\n",
       "</div>"
      ],
      "text/plain": [
       "            Fire Water Grass Electric  Ice Psychic Normal Fighting Flying  \\\n",
       "attack_type                                                                 \n",
       "Normal         1     1     1        1    1       1      1        1      1   \n",
       "Fighting       1     1     1        1    2     0.5      2        1    0.5   \n",
       "Flying         1     1     2      0.5    1       1      1        2      1   \n",
       "Ground         2     1   0.5        2    1       1      1        1      0   \n",
       "Rock           2     1     1        1    2       1      1      0.5      2   \n",
       "Bug          0.5     1     2        1    1       2      1      0.5    0.5   \n",
       "Poison         1     1     2        1    1       1      1        1      1   \n",
       "Ghost          1     1     1        1    1       0      0        1      1   \n",
       "Fire         0.5   0.5     2        1    2       1      1        1      1   \n",
       "Water          2   0.5   0.5        1    1       1      1        1      1   \n",
       "Grass        0.5     2   0.5        1    1       1      1        1    0.5   \n",
       "Electric       1     2   0.5      0.5    1       1      1        1      2   \n",
       "Ice            1   0.5     2        1  0.5       1      1        1      2   \n",
       "Psychic        1     1     1        1    1     0.5      1        2      1   \n",
       "\n",
       "            Ground Rock  Bug Poison Ghost Dragon  \n",
       "attack_type                                       \n",
       "Normal           1  0.5    1      1     0      1  \n",
       "Fighting         1    2  0.5    0.5     0      1  \n",
       "Flying           1  0.5    2      1     1      1  \n",
       "Ground           1    2  0.5      2     1      1  \n",
       "Rock           0.5    1    2      1     1      1  \n",
       "Bug              1    1    1      2     1      1  \n",
       "Poison         0.5  0.5    2    0.5   0.5      1  \n",
       "Ghost            1    1    1      1     2      1  \n",
       "Fire             1  0.5    2      1     1    0.5  \n",
       "Water            2    2    1      1     1    0.5  \n",
       "Grass            2    2  0.5    0.5     1    0.5  \n",
       "Electric         0    1    1      1     1    0.5  \n",
       "Ice              2    1    1      1     1      2  \n",
       "Psychic          1    1    1      2     1      1  "
      ]
     },
     "execution_count": 12,
     "metadata": {},
     "output_type": "execute_result"
    }
   ],
   "source": [
    "type_modifiers"
   ]
  },
  {
   "cell_type": "code",
   "execution_count": 13,
   "metadata": {
    "slideshow": {
     "slide_type": "slide"
    }
   },
   "outputs": [],
   "source": [
    "#Função para escolher movimento a aleatóriamente do Pokémon\n",
    "def choose_move(pokemon):\n",
    "    iters = 0\n",
    "    move = None\n",
    "    while move is None and iters < 100:\n",
    "        move = np.random.choice(pokemon.moves)\n",
    "        if move.current_pp < 1:\n",
    "            move = None\n",
    "        iters += 1\n",
    "    return move"
   ]
  },
  {
   "cell_type": "code",
   "execution_count": 14,
   "metadata": {
    "slideshow": {
     "slide_type": "subslide"
    }
   },
   "outputs": [],
   "source": [
    "#Esta função aplica um movimento do pokémon atacante no pokémon defensor\n",
    "def apply_move(attacker, defender, move):\n",
    "    # Deternima se vai ser um movimento crítico\n",
    "    is_crit = is_critical_hit(attacker.speed, move.crit_rate)\n",
    "    # Determinar se a jogada aplicada é do mesmo tipo que o pokemon ou não\n",
    "    # quando é o mesmo, um bônus de 1,5x é aplicado\n",
    "    stab = 1\n",
    "    if move.type in attacker.types:\n",
    "        stab = 1.5\n",
    "    # Determine a classe de dano de movimento para descobrir as estatísticas de ataque / definição a serem usadas\n",
    "    attack = attacker.attack\n",
    "    defense = defender.defense\n",
    "    if move.damage_class == 'special':\n",
    "        attack = attacker.special_attack\n",
    "        defense = defender.special_defense\n",
    "    modifier = 1\n",
    "    try:\n",
    "        attack_type = move.type.title()\n",
    "        for dtype in defender.types:\n",
    "            modifier *= TYPE_MODS.loc[attack_type][dtype.title()]\n",
    "    except:\n",
    "        pass\n",
    "    level = 10\n",
    "    power = move.power\n",
    "    if power is None:\n",
    "        power = 1\n",
    "    damage = 1\n",
    "    if move.name == 'seismic-toss':\n",
    "        damage = level\n",
    "    else:\n",
    "        damage = calculate_damage(level, attack, power, defense, stab, modifier, is_crit)\n",
    "    # Calcula o número de vezes que se aplica o movimento\n",
    "    times_to_apply = 1\n",
    "    if move.min_hits and move.max_hits:\n",
    "        times_to_apply = np.random.choice(np.arange(move.min_hits, move.max_hits + 1))\n",
    "    damage *= times_to_apply\n",
    "    # Aplica o dano no pokémon\n",
    "    defender.current_hp -= damage\n",
    "    move.current_pp -= 1\n",
    "    if False:\n",
    "        print('{} causou {} com {} para {} hp'.format(\n",
    "            attacker.name,\n",
    "            defender.name,\n",
    "            move.name,\n",
    "            damage\n",
    "        ))\n",
    "        print('{} pp para {} é {}/{}'.format(attacker.name, move.name, move.current_pp, move.pp))\n",
    "        print('{} hp é {}/{}'.format(defender.name, defender.current_hp, defender.hp))\n",
    "    "
   ]
  },
  {
   "cell_type": "code",
   "execution_count": 15,
   "metadata": {
    "slideshow": {
     "slide_type": "subslide"
    }
   },
   "outputs": [],
   "source": [
    "def battle(pokemon, pokemon_b):\n",
    "    \"\"\"\n",
    "    Simula uma batalha entre dois pokémons.\n",
    "    A batalha termina quando um ou os dois pokémons ficam sem HP.\n",
    "    Se escolhe o movimento de cada pokémons de forma aleatória entre cada loop.\n",
    "    \"\"\"\n",
    "    stats = {\n",
    "        'pokemon': pokemon.name,\n",
    "        'pokemonb': pokemon_b.name,\n",
    "        'moves': 0,\n",
    "        'winner': None,\n",
    "        'first_attack': None\n",
    "    }\n",
    "    pokemon.reset()\n",
    "    pokemon_b.reset()\n",
    "    start = np.random.choice(['a', 'b'])\n",
    "    if start == 'a':\n",
    "        stats['first_attack'] = pokemon.name\n",
    "    else:\n",
    "        stats['first_attack'] = pokemon_b.name\n",
    "    while True:\n",
    "        moves_exhausted = False\n",
    "        if start == 'a':\n",
    "            attacker = pokemon\n",
    "            defender = pokemon_b\n",
    "        else:\n",
    "            attacker = pokemon_b\n",
    "            defender = pokemon        \n",
    "        stats['moves'] += 1\n",
    "        move = choose_move(attacker)\n",
    "        if move is not None:\n",
    "            apply_move(attacker, defender, move)\n",
    "        else:\n",
    "            moves_exhausted = True\n",
    "        if defender.current_hp <= 0:\n",
    "            stats['winner'] = attacker.name\n",
    "            break\n",
    "        if start == 'a':\n",
    "            attacker = pokemon_b\n",
    "            defender = pokemon\n",
    "        else:\n",
    "            attacker = pokemon\n",
    "            defender = pokemon_b\n",
    "        stats['moves'] += 1\n",
    "        move = choose_move(attacker)\n",
    "        if move is not None:\n",
    "            apply_move(attacker, defender, move)\n",
    "            moves_exhausted = False\n",
    "        else:\n",
    "            moves_exhausted = True\n",
    "        if defender.current_hp <= 0:\n",
    "            stats['winner'] = attacker.name\n",
    "            break\n",
    "        if moves_exhausted:\n",
    "            stats['winner'] = None\n",
    "            break\n",
    "    return stats"
   ]
  },
  {
   "cell_type": "code",
   "execution_count": 1,
   "metadata": {
    "slideshow": {
     "slide_type": "subslide"
    }
   },
   "outputs": [],
   "source": [
    "def battle_many(oponentes):\n",
    "    \"\"\"\n",
    "    Função para rodar a simulação de batalhas entre dois pokémons.\n",
    "    Os dois pokémons combatem entre si por 1000 vezes e as estatisticas são agregadas em um dataframe.\n",
    "    \"\"\"\n",
    "    stats = {\n",
    "        'pokemon': [],\n",
    "        'pokemonb': [],\n",
    "        'avg_moves': [],\n",
    "        'pokemon_wins': [],\n",
    "        'pokemonb_wins': [],\n",
    "        'ties': [],\n",
    "    }\n",
    "    pokemon = Pokemon(oponentes[0])\n",
    "    pokemon_b = Pokemon(oponentes[1])\n",
    "    print('{} vs {}'.format(pokemon.name.title(), pokemon_b.name.title()))\n",
    "    \n",
    "    battle_stats = {\n",
    "        'a_wins': 0,\n",
    "        'b_wins': 0,\n",
    "        'ties': 0,\n",
    "        'moves': [],\n",
    "    }\n",
    "\n",
    "    for _ in range(1000):\n",
    "        result = battle(pokemon, pokemon_b)\n",
    "        if result['winner'] == pokemon.name:\n",
    "            battle_stats['a_wins'] += 1\n",
    "        elif result['winner'] == pokemon_b.name:\n",
    "            battle_stats['b_wins'] += 1\n",
    "        else:\n",
    "            battle_stats['ties'] += 1\n",
    "        battle_stats['moves'].append(result['moves'])\n",
    "    \n",
    "    stats['pokemon'].append(pokemon.name)\n",
    "    stats['pokemonb'].append(pokemon_b.name)\n",
    "    stats['avg_moves'].append(np.array(battle_stats['moves']).mean())\n",
    "    stats['pokemon_wins'].append(battle_stats['a_wins'])\n",
    "    stats['pokemonb_wins'].append(battle_stats['b_wins'])\n",
    "    stats['ties'].append(battle_stats['ties'])\n",
    "    return pd.DataFrame(stats)\n"
   ]
  },
  {
   "cell_type": "code",
   "execution_count": 17,
   "metadata": {
    "slideshow": {
     "slide_type": "skip"
    }
   },
   "outputs": [
    {
     "name": "stdout",
     "output_type": "stream",
     "text": [
      "['Bulbasaur', 'Squirtle']\n",
      "Bulbasaur vs Squirtle\n"
     ]
    },
    {
     "data": {
      "text/html": [
       "<div>\n",
       "<style scoped>\n",
       "    .dataframe tbody tr th:only-of-type {\n",
       "        vertical-align: middle;\n",
       "    }\n",
       "\n",
       "    .dataframe tbody tr th {\n",
       "        vertical-align: top;\n",
       "    }\n",
       "\n",
       "    .dataframe thead th {\n",
       "        text-align: right;\n",
       "    }\n",
       "</style>\n",
       "<table border=\"1\" class=\"dataframe\">\n",
       "  <thead>\n",
       "    <tr style=\"text-align: right;\">\n",
       "      <th></th>\n",
       "      <th>pokemon</th>\n",
       "      <th>pokemonb</th>\n",
       "      <th>avg_moves</th>\n",
       "      <th>pokemon_wins</th>\n",
       "      <th>pokemonb_wins</th>\n",
       "      <th>ties</th>\n",
       "    </tr>\n",
       "  </thead>\n",
       "  <tbody>\n",
       "    <tr>\n",
       "      <th>0</th>\n",
       "      <td>bulbasaur</td>\n",
       "      <td>squirtle</td>\n",
       "      <td>4.633</td>\n",
       "      <td>978</td>\n",
       "      <td>22</td>\n",
       "      <td>0</td>\n",
       "    </tr>\n",
       "  </tbody>\n",
       "</table>\n",
       "</div>"
      ],
      "text/plain": [
       "     pokemon  pokemonb  avg_moves  pokemon_wins  pokemonb_wins  ties\n",
       "0  bulbasaur  squirtle      4.633           978             22     0"
      ]
     },
     "execution_count": 17,
     "metadata": {},
     "output_type": "execute_result"
    }
   ],
   "source": [
    "battle_many(['Bulbasaur', 'Squirtle'])"
   ]
  },
  {
   "cell_type": "code",
   "execution_count": 2,
   "metadata": {
    "slideshow": {
     "slide_type": "skip"
    }
   },
   "outputs": [
    {
     "ename": "NameError",
     "evalue": "name 'POKEMON_AVAIL' is not defined",
     "output_type": "error",
     "traceback": [
      "\u001b[1;31m---------------------------------------------------------------------------\u001b[0m",
      "\u001b[1;31mNameError\u001b[0m                                 Traceback (most recent call last)",
      "\u001b[1;32m<ipython-input-2-37fdb5e203d1>\u001b[0m in \u001b[0;36m<module>\u001b[1;34m\u001b[0m\n\u001b[0;32m      3\u001b[0m \u001b[1;31m# Procura se o pokemons tem movimentos que causan danos\u001b[0m\u001b[1;33m\u001b[0m\u001b[1;33m\u001b[0m\u001b[1;33m\u001b[0m\u001b[0m\n\u001b[0;32m      4\u001b[0m \u001b[0mvalid_pokemon\u001b[0m \u001b[1;33m=\u001b[0m \u001b[1;33m[\u001b[0m\u001b[1;33m]\u001b[0m\u001b[1;33m\u001b[0m\u001b[1;33m\u001b[0m\u001b[0m\n\u001b[1;32m----> 5\u001b[1;33m \u001b[1;32mfor\u001b[0m \u001b[0mpokemon\u001b[0m \u001b[1;32min\u001b[0m \u001b[0mPOKEMON_AVAIL\u001b[0m\u001b[1;33m:\u001b[0m\u001b[1;33m\u001b[0m\u001b[1;33m\u001b[0m\u001b[0m\n\u001b[0m\u001b[0;32m      6\u001b[0m     \u001b[0mp\u001b[0m \u001b[1;33m=\u001b[0m \u001b[0mPokemon\u001b[0m\u001b[1;33m(\u001b[0m\u001b[0mpokemon\u001b[0m\u001b[1;33m)\u001b[0m\u001b[1;33m\u001b[0m\u001b[1;33m\u001b[0m\u001b[0m\n\u001b[0;32m      7\u001b[0m     \u001b[1;32mif\u001b[0m \u001b[0mp\u001b[0m\u001b[1;33m.\u001b[0m\u001b[0mhas_moves\u001b[0m\u001b[1;33m:\u001b[0m\u001b[1;33m\u001b[0m\u001b[1;33m\u001b[0m\u001b[0m\n",
      "\u001b[1;31mNameError\u001b[0m: name 'POKEMON_AVAIL' is not defined"
     ]
    }
   ],
   "source": [
    "# Simulação de combate com todos os pokemons\n",
    "\n",
    "# Procura se o pokemons tem movimentos que causan danos\n",
    "valid_pokemon = []\n",
    "for pokemon in POKEMON_AVAIL:\n",
    "    p = Pokemon(pokemon)\n",
    "    if p.has_moves:\n",
    "        valid_pokemon.append(p.name)\n",
    "\n",
    "\n",
    "# controi a lista de combate estre os pokemons\n",
    "battles = {}\n",
    "for i in valid_pokemon:\n",
    "    for j in valid_pokemon:\n",
    "        if i == j:\n",
    "            continue\n",
    "        opponents = [i, j]\n",
    "        opponents.sort()\n",
    "        battle_key = ','.join(opponents)\n",
    "        battles[battle_key] = opponents\n",
    "\n",
    "matches = list(battles.values())\n",
    "\n",
    "# executar a simulação das batalhas em paralelo \n",
    "with Pool(cpu_count()) as pool:\n",
    "    stats = pool.map(battle_many, matches)\n",
    "\n",
    "# grava os resultados um um dataframe\n",
    "pd.concat(stats).to_csv(r'C:\\Users\\saorafro\\Desktop\\Pós Graduação\\Visualização de Dados\\data\\simulation_stats.csv', index=False)"
   ]
  },
  {
   "cell_type": "code",
   "execution_count": 62,
   "metadata": {
    "slideshow": {
     "slide_type": "skip"
    }
   },
   "outputs": [],
   "source": [
    "df = pd.read_csv(r'C:\\Users\\saorafro\\Desktop\\Pós Graduação\\Visualização de Dados\\data\\simulation_stats.csv')\n",
    "pokemon_stats_df = pd.read_csv(r'C:\\Users\\saorafro\\Desktop\\Pós Graduação\\Visualização de Dados\\data\\pokemon_stats.csv')\n",
    "pokemon_rank = pd.read_csv(r\"C:\\Users\\saorafro\\Desktop\\Pós Graduação\\Visualização de Dados\\data\\pokemon_ranks.csv\", index_col=0)"
   ]
  },
  {
   "cell_type": "code",
   "execution_count": 63,
   "metadata": {
    "slideshow": {
     "slide_type": "skip"
    }
   },
   "outputs": [
    {
     "data": {
      "text/html": [
       "<div>\n",
       "<style scoped>\n",
       "    .dataframe tbody tr th:only-of-type {\n",
       "        vertical-align: middle;\n",
       "    }\n",
       "\n",
       "    .dataframe tbody tr th {\n",
       "        vertical-align: top;\n",
       "    }\n",
       "\n",
       "    .dataframe thead th {\n",
       "        text-align: right;\n",
       "    }\n",
       "</style>\n",
       "<table border=\"1\" class=\"dataframe\">\n",
       "  <thead>\n",
       "    <tr style=\"text-align: right;\">\n",
       "      <th></th>\n",
       "      <th>pokemon</th>\n",
       "      <th>pokemonb</th>\n",
       "      <th>avg_moves</th>\n",
       "      <th>pokemon_wins</th>\n",
       "      <th>pokemonb_wins</th>\n",
       "      <th>ties</th>\n",
       "    </tr>\n",
       "  </thead>\n",
       "  <tbody>\n",
       "    <tr>\n",
       "      <th>3288</th>\n",
       "      <td>chansey</td>\n",
       "      <td>gastly</td>\n",
       "      <td>122.000</td>\n",
       "      <td>0</td>\n",
       "      <td>0</td>\n",
       "      <td>1000</td>\n",
       "    </tr>\n",
       "    <tr>\n",
       "      <th>3271</th>\n",
       "      <td>chansey</td>\n",
       "      <td>haunter</td>\n",
       "      <td>121.267</td>\n",
       "      <td>0</td>\n",
       "      <td>17</td>\n",
       "      <td>983</td>\n",
       "    </tr>\n",
       "    <tr>\n",
       "      <th>3332</th>\n",
       "      <td>chansey</td>\n",
       "      <td>gengar</td>\n",
       "      <td>107.986</td>\n",
       "      <td>0</td>\n",
       "      <td>362</td>\n",
       "      <td>638</td>\n",
       "    </tr>\n",
       "    <tr>\n",
       "      <th>2980</th>\n",
       "      <td>onix</td>\n",
       "      <td>wigglytuff</td>\n",
       "      <td>33.420</td>\n",
       "      <td>503</td>\n",
       "      <td>0</td>\n",
       "      <td>497</td>\n",
       "    </tr>\n",
       "    <tr>\n",
       "      <th>5879</th>\n",
       "      <td>clefable</td>\n",
       "      <td>onix</td>\n",
       "      <td>35.200</td>\n",
       "      <td>0</td>\n",
       "      <td>508</td>\n",
       "      <td>492</td>\n",
       "    </tr>\n",
       "    <tr>\n",
       "      <th>2919</th>\n",
       "      <td>gastly</td>\n",
       "      <td>wigglytuff</td>\n",
       "      <td>28.392</td>\n",
       "      <td>566</td>\n",
       "      <td>0</td>\n",
       "      <td>434</td>\n",
       "    </tr>\n",
       "    <tr>\n",
       "      <th>5818</th>\n",
       "      <td>clefable</td>\n",
       "      <td>gastly</td>\n",
       "      <td>26.252</td>\n",
       "      <td>0</td>\n",
       "      <td>588</td>\n",
       "      <td>412</td>\n",
       "    </tr>\n",
       "    <tr>\n",
       "      <th>5822</th>\n",
       "      <td>clefable</td>\n",
       "      <td>slowpoke</td>\n",
       "      <td>25.047</td>\n",
       "      <td>166</td>\n",
       "      <td>434</td>\n",
       "      <td>400</td>\n",
       "    </tr>\n",
       "    <tr>\n",
       "      <th>2902</th>\n",
       "      <td>haunter</td>\n",
       "      <td>wigglytuff</td>\n",
       "      <td>26.069</td>\n",
       "      <td>626</td>\n",
       "      <td>0</td>\n",
       "      <td>374</td>\n",
       "    </tr>\n",
       "    <tr>\n",
       "      <th>5875</th>\n",
       "      <td>clefable</td>\n",
       "      <td>muk</td>\n",
       "      <td>22.796</td>\n",
       "      <td>2</td>\n",
       "      <td>629</td>\n",
       "      <td>369</td>\n",
       "    </tr>\n",
       "  </tbody>\n",
       "</table>\n",
       "</div>"
      ],
      "text/plain": [
       "       pokemon    pokemonb  avg_moves  pokemon_wins  pokemonb_wins  ties\n",
       "3288   chansey      gastly    122.000             0              0  1000\n",
       "3271   chansey     haunter    121.267             0             17   983\n",
       "3332   chansey      gengar    107.986             0            362   638\n",
       "2980      onix  wigglytuff     33.420           503              0   497\n",
       "5879  clefable        onix     35.200             0            508   492\n",
       "2919    gastly  wigglytuff     28.392           566              0   434\n",
       "5818  clefable      gastly     26.252             0            588   412\n",
       "5822  clefable    slowpoke     25.047           166            434   400\n",
       "2902   haunter  wigglytuff     26.069           626              0   374\n",
       "5875  clefable         muk     22.796             2            629   369"
      ]
     },
     "execution_count": 63,
     "metadata": {},
     "output_type": "execute_result"
    }
   ],
   "source": [
    "df.sort_values('ties', ascending=False).head(10)"
   ]
  },
  {
   "cell_type": "code",
   "execution_count": 64,
   "metadata": {
    "slideshow": {
     "slide_type": "slide"
    }
   },
   "outputs": [],
   "source": [
    "# Função que cria o gráfico de pokémons que mais empataram\n",
    "def draw_battles():\n",
    "    df = pokemon_rank.sort_values('ties', ascending=False).head(10)\n",
    "    traceslist = df.columns.tolist()\n",
    "    def tracing(column):\n",
    "       trace = go.Bar(\n",
    "             x = df.index,\n",
    "             y = df[column],\n",
    "             name = column,\n",
    "             text=column,\n",
    "             textposition='auto',\n",
    "             hoverinfo=\"x+y\")\n",
    "       return trace\n",
    "    data = []\n",
    "    eachtrace = tracing('ties')\n",
    "    data.append(eachtrace)\n",
    "    layout = go.Layout(\n",
    "          title = \"Quantidade de Empates por Pokémon na Simulação de Combate\",\n",
    "          barmode=\"stack\",\n",
    "          #barmode=\"group\"\n",
    "          )\n",
    "    fig = go.Figure(data=data, layout=layout)\n",
    "    fig.show()"
   ]
  },
  {
   "cell_type": "code",
   "execution_count": null,
   "metadata": {
    "slideshow": {
     "slide_type": "subslide"
    }
   },
   "outputs": [],
   "source": [
    "draw_battles()"
   ]
  },
  {
   "cell_type": "code",
   "execution_count": null,
   "metadata": {
    "slideshow": {
     "slide_type": "slide"
    }
   },
   "outputs": [],
   "source": [
    "# Função para criar gráfico de porcentagem de vitórias por pokémon na simulação\n",
    "def win_rate_battles(top):\n",
    "    tit_txt = \"\"\n",
    "    if top:\n",
    "        df = pokemon_rank.head(10)\n",
    "        tit_txt = \"Porcentagem de Vitória por Pokémon (Melhores)\"\n",
    "    else:\n",
    "        df = pokemon_rank.tail(10)\n",
    "        tit_txt = \"Porcentagem de Vitória por Pokémon (Piores)\"\n",
    "    traceslist = df.columns.tolist()\n",
    "    def tracing(column):\n",
    "       trace = go.Bar(\n",
    "             x = df.index,\n",
    "             y = df[column],\n",
    "             name = column,\n",
    "             text=column,\n",
    "             textposition='auto',\n",
    "             hoverinfo=\"x+y\")\n",
    "       return trace\n",
    "    data = []\n",
    "    eachtrace = tracing('% win')\n",
    "    data.append(eachtrace)\n",
    "    eachtrace = tracing('% loss')\n",
    "    data.append(eachtrace)\n",
    "    layout = go.Layout(\n",
    "          title = tit_txt,\n",
    "          barmode=\"stack\",\n",
    "          #barmode=\"group\"\n",
    "          )\n",
    "    fig = go.Figure(data=data, layout=layout)\n",
    "    fig.show()"
   ]
  },
  {
   "cell_type": "code",
   "execution_count": null,
   "metadata": {
    "slideshow": {
     "slide_type": "subslide"
    }
   },
   "outputs": [],
   "source": [
    "win_rate_battles(False)"
   ]
  },
  {
   "cell_type": "code",
   "execution_count": null,
   "metadata": {
    "slideshow": {
     "slide_type": "subslide"
    }
   },
   "outputs": [],
   "source": [
    "win_rate_battles(True)"
   ]
  },
  {
   "cell_type": "markdown",
   "metadata": {
    "slideshow": {
     "slide_type": "slide"
    }
   },
   "source": [
    "<table border=\"0\">\n",
    "    <tr>\n",
    "        <td style=\"text-align:center;font-weight:bold;font-size:30px\">\n",
    "            FIM<br/>\n",
    "        </td>\n",
    "    </tr>\n",
    "    <tr>\n",
    "        <td>\n",
    "            <img src=\"poke_end.gif\">\n",
    "        </td>\n",
    "    </tr>\n",
    "</table>"
   ]
  },
  {
   "cell_type": "code",
   "execution_count": null,
   "metadata": {
    "slideshow": {
     "slide_type": "skip"
    }
   },
   "outputs": [],
   "source": []
  }
 ],
 "metadata": {
  "celltoolbar": "Slideshow",
  "kernelspec": {
   "display_name": "Python 3",
   "language": "python",
   "name": "python3"
  },
  "language_info": {
   "codemirror_mode": {
    "name": "ipython",
    "version": 3
   },
   "file_extension": ".py",
   "mimetype": "text/x-python",
   "name": "python",
   "nbconvert_exporter": "python",
   "pygments_lexer": "ipython3",
   "version": "3.7.3"
  }
 },
 "nbformat": 4,
 "nbformat_minor": 2
}
